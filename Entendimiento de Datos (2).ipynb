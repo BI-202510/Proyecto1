{
  "cells": [
    {
      "cell_type": "markdown",
      "metadata": {
        "id": "rjhw0nKOOLj2"
      },
      "source": [
        "# Entendimiento de Datos\n",
        "En este cuaderno revisaremos dos aspectos grandes del entendimiento de datos: el perfilamiento y la calidad de los datos. Adicionalmente, se dan una serie de funciones para facilitar la manipulación de los datos.\n",
        "* Inicio\n",
        "    * Carga\n",
        "    * Manipulación Básica\n",
        "\n",
        "* Perfilamiento de Datos\n",
        "    * Exploración\n",
        "    * Visualización\n",
        "\n",
        "* Calidad de Datos:\n",
        "  * Completitud\n",
        "  * Duplicados\n",
        "  * Estandarización\n",
        "\n",
        "* Resumenes automáticos para el entendimiento\n",
        "\n",
        "Para la limpieza de los datos utilizaremos la libreria de **Pandas** (https://pandas.pydata.org/) y para la visualización de los datos, usaremos: **Seaborn**(https://seaborn.pydata.org/) y **Matplotlib** (https://matplotlib.org/)."
      ]
    },
    {
      "cell_type": "markdown",
      "metadata": {
        "id": "8iTsmMi6OLj2"
      },
      "source": [
        "## Los Datos\n",
        "Trabajaremos con una base de datos de accidentes de BiciAlpes.\n",
        "\n",
        "La base de datos original, la pueden encontrar aquí: **"
      ]
    },
    {
      "cell_type": "markdown",
      "metadata": {
        "id": "4hPEVIUpOLj3"
      },
      "source": [
        "# 1. Inicio"
      ]
    },
    {
      "cell_type": "markdown",
      "metadata": {
        "id": "1WSrNfP8OLj3"
      },
      "source": [
        "## 1.1 Carga"
      ]
    },
    {
      "cell_type": "markdown",
      "metadata": {
        "id": "ny7sCADTOLj3"
      },
      "source": [
        "### 1.1.1 *Limpieza y lemantización*"
      ]
    },
    {
      "cell_type": "code",
      "execution_count": null,
      "metadata": {
        "colab": {
          "base_uri": "https://localhost:8080/"
        },
        "collapsed": true,
        "id": "4rxkcT2HOLj3",
        "outputId": "cbc8cd1a-c69d-4538-b098-3de799c86c15"
      },
      "outputs": [],
      "source": [
        "# Uninstall numba, pandas_profiling and visions to clear any existing installation\n",
        "!pip uninstall numba -y\n",
        "!pip uninstall pandas_profiling -y\n",
        "!pip uninstall visions -y\n",
        "\n",
        "# Install the necessary modules\n",
        "!pip install numba==0.58.1\n",
        "!pip install ydata-profiling\n",
        "# Librerias generales\n",
        "# Pandas\n",
        "import pandas as pd\n",
        "pd.set_option('display.max_columns', 25) # Número máximo de columnas a mostrar\n",
        "pd.set_option('display.max_rows', 50) # Número máximo de filas a mostar\n",
        "# Ranom seed\n",
        "import numpy as np\n",
        "np.random.seed(3301)\n",
        "\n",
        "# Seaborn\n",
        "import seaborn as sns\n",
        "\n",
        "# Matplolib\n",
        "%matplotlib inline\n",
        "import matplotlib.pyplot as plt\n",
        "\n",
        "# Plotly\n",
        "!pip install plotly\n",
        "import plotly.express as px\n",
        "\n",
        "#Limpieza de datos\n",
        "\n",
        "!pip install spacy\n",
        "!python -m spacy download es_core_news_sm\n",
        "%pip install nbformat\n",
        "\n",
        "!pip install nltk\n",
        "import nltk\n",
        "nltk.download('punkt')\n",
        "nltk.download('stopwords')\n",
        "\n",
        "from nltk.corpus import stopwords\n",
        "from nltk.tokenize import word_tokenize\n",
        "import spacy\n",
        "import re\n",
        "import unicodedata\n",
        "\n",
        "# Descargar e inicializar spaCy en español\n",
        "import os\n",
        "if not os.path.exists(spacy.util.get_package_path(\"es_core_news_sm\")):\n",
        "    spacy.cli.download(\"es_core_news_sm\")\n",
        "\n",
        "nlp = spacy.load(\"es_core_news_sm\", disable=[\"ner\", \"textcat\"])"
      ]
    },
    {
      "cell_type": "code",
      "execution_count": null,
      "metadata": {
        "id": "jOnWwkMTOLj3"
      },
      "outputs": [],
      "source": [
        "# Ubicación de la base de datos\n",
        "db_location = 'fake_news_spanish.csv'"
      ]
    },
    {
      "cell_type": "code",
      "execution_count": null,
      "metadata": {
        "id": "eoYKtPV_OLj4"
      },
      "outputs": [],
      "source": [
        "# Cargar los datos\n",
        "df = pd.read_csv(db_location, sep=';', encoding = \"utf-8\")"
      ]
    },
    {
      "cell_type": "code",
      "execution_count": null,
      "metadata": {
        "colab": {
          "base_uri": "https://localhost:8080/"
        },
        "id": "vBhtKty4OLj4",
        "outputId": "2a057895-dd77-4326-a8ef-9030091e8897"
      },
      "outputs": [],
      "source": [
        "# Dimensiones de los datos\n",
        "df.shape"
      ]
    },
    {
      "cell_type": "code",
      "execution_count": null,
      "metadata": {
        "colab": {
          "base_uri": "https://localhost:8080/",
          "height": 206
        },
        "id": "N1VFQNBbOLj4",
        "outputId": "0d8292b8-b7d9-40c8-fef0-9e57cc72bc1f"
      },
      "outputs": [],
      "source": [
        "# Ver los datos\n",
        "display(df.sample(5)) # Muestra\n",
        "#display(df_bicis.head(5)) # Primeras Filas\n",
        "#display(df_bicis.tail(5)) # Ultimas Filas"
      ]
    },
    {
      "cell_type": "markdown",
      "metadata": {
        "id": "8JvCEvqJOLj4"
      },
      "source": [
        "Eliminación de la columna ID porque todos las filas lo tenián con el valor 'ID'"
      ]
    },
    {
      "cell_type": "code",
      "execution_count": null,
      "metadata": {
        "id": "S8qFQx-wOLj4"
      },
      "outputs": [],
      "source": [
        "df1 = df.drop(\"ID\", axis = 1)"
      ]
    },
    {
      "cell_type": "markdown",
      "metadata": {
        "id": "27EULzu_OLj4"
      },
      "source": [
        "Revisamos cuantos valores nulos hay por columna"
      ]
    },
    {
      "cell_type": "code",
      "execution_count": null,
      "metadata": {
        "colab": {
          "base_uri": "https://localhost:8080/"
        },
        "id": "i1tBi0OiOLj4",
        "outputId": "1e9e41bd-c207-4ba5-a91f-986c7f22f8b0"
      },
      "outputs": [],
      "source": [
        "valores_nulos = df1.isnull().sum()\n",
        "print(valores_nulos)"
      ]
    },
    {
      "cell_type": "markdown",
      "metadata": {
        "id": "lPdn6GFpOLj4"
      },
      "source": [
        "Como en titulo hay 16 valores nulos, que es una cantida mínima comparado con la cantidad de elementos en el dataset. Los eliminamos"
      ]
    },
    {
      "cell_type": "code",
      "execution_count": null,
      "metadata": {
        "id": "yldx8BoDOLj4"
      },
      "outputs": [],
      "source": [
        "df2 = df1.dropna()"
      ]
    },
    {
      "cell_type": "markdown",
      "metadata": {
        "id": "I796BTOjOLj4"
      },
      "source": [
        "Vamos ahora a revisar si hay elementos duplicados en la columna titulo"
      ]
    },
    {
      "cell_type": "code",
      "execution_count": null,
      "metadata": {
        "colab": {
          "base_uri": "https://localhost:8080/"
        },
        "id": "wCnQ2thoOLj4",
        "outputId": "b7003e84-1cb0-4a5e-a422-07ae45d806a9"
      },
      "outputs": [],
      "source": [
        "duplicados_titulo = df2['Titulo'].duplicated().sum()\n",
        "print(f\"Duplicados según titulo: {duplicados_titulo}\")"
      ]
    },
    {
      "cell_type": "code",
      "execution_count": null,
      "metadata": {
        "colab": {
          "base_uri": "https://localhost:8080/"
        },
        "id": "2c_JMya5OLj4",
        "outputId": "eff915a3-ccb2-47f6-f53f-cd055add2bc0"
      },
      "outputs": [],
      "source": [
        "valores_duplicados = df2[df2.duplicated(keep=False)]\n",
        "valores_duplicados_ordenados = valores_duplicados.sort_values(by=df2.columns.tolist())\n",
        "print(valores_duplicados_ordenados)"
      ]
    },
    {
      "cell_type": "markdown",
      "metadata": {
        "id": "bfJa9iumOLj4"
      },
      "source": [
        "Después de analizar las filas repetidas y corroborar que el \"label\" es el mismo y que no se trataba de la misma noticia pero con una descripción diferente o algún diferenciador. Procedemos a eliminarlas"
      ]
    },
    {
      "cell_type": "code",
      "execution_count": null,
      "metadata": {
        "id": "xE-apXi2OLj5"
      },
      "outputs": [],
      "source": [
        "df3 = df2.drop_duplicates(subset = ['Titulo'])"
      ]
    },
    {
      "cell_type": "code",
      "execution_count": null,
      "metadata": {
        "colab": {
          "base_uri": "https://localhost:8080/"
        },
        "id": "UBhSjW6IOLj5",
        "outputId": "a3af5c18-d122-45d1-eabb-955042487476"
      },
      "outputs": [],
      "source": [
        "duplicados_titulo = df3['Titulo'].duplicated().sum()\n",
        "print(f\"Duplicados según titulo: {duplicados_titulo}\")"
      ]
    },
    {
      "cell_type": "markdown",
      "metadata": {
        "id": "ptmnjeJCOLj5"
      },
      "source": [
        "Ahora vamos procesar y limpíar el texto, para poder tener una mejor deteción de patrones"
      ]
    },
    {
      "cell_type": "code",
      "execution_count": null,
      "metadata": {
        "colab": {
          "base_uri": "https://localhost:8080/",
          "height": 484
        },
        "id": "mlL1hq1qW_8E",
        "outputId": "b5a62627-412d-46da-ad0b-27781310c0b3"
      },
      "outputs": [],
      "source": [
        "import nltk\n",
        "nltk.download('stopwords')\n",
        "nltk.download('punkt_tab')\n",
        "\n",
        "def limpiar_texto(texto):\n",
        "    texto = texto.lower()\n",
        "    tokens = word_tokenize(texto, language='spanish')\n",
        "\n",
        "    stop_words = set(stopwords.words('spanish'))\n",
        "    palabras_filtradas = [palabra for palabra in tokens if palabra not in stop_words]\n",
        "\n",
        "    texto_limpio = ' '.join(palabras_filtradas)\n",
        "    return texto_limpio\n",
        "\n",
        "\n",
        "df3['Titulo'] = df3[\"Titulo\"].apply(limpiar_texto)\n",
        "df3['Descripcion'] = df3[\"Descripcion\"].apply(limpiar_texto)\n",
        "\n",
        "display(df3.head(5)) # Primeras Filas\n"
      ]
    },
    {
      "cell_type": "code",
      "execution_count": null,
      "metadata": {
        "id": "zrxf0aE7VdaM"
      },
      "outputs": [],
      "source": [
        "def lematizar_sin_tildes(texts):\n",
        "    docs = nlp.pipe(texts, batch_size=500)\n",
        "    textos_lematizados = [\" \".join([token.lemma_ for token in doc if not token.is_punct])\n",
        "                         for doc in docs]\n",
        "    return [unicodedata.normalize('NFKD', texto).encode('ascii', 'ignore').decode('utf-8')\n",
        "            for texto in textos_lematizados]\n",
        "\n",
        "df4 = df3.copy()\n",
        "df4['Titulo'] = lematizar_sin_tildes(df4['Titulo'])\n",
        "df4['Descripcion'] = lematizar_sin_tildes(df4['Descripcion'])"
      ]
    },
    {
      "cell_type": "code",
      "execution_count": null,
      "metadata": {
        "colab": {
          "base_uri": "https://localhost:8080/",
          "height": 206
        },
        "id": "Z7VvI2RcXBND",
        "outputId": "80d84202-702c-4da4-ff79-eeabcbcf535d"
      },
      "outputs": [],
      "source": [
        "display(df4.head(5)) # Primeras Filas"
      ]
    },
    {
      "cell_type": "markdown",
      "metadata": {
        "id": "Ulz846O0OLj5"
      },
      "source": [
        "## 1.2 Manipulación Básica"
      ]
    },
    {
      "cell_type": "markdown",
      "metadata": {
        "id": "5TDU8GuvOLj5"
      },
      "source": [
        "En esta parte del Cuaderno la idea es que se familarice con algunos comandos que van a permitir manipular mejor los datos y avanzar en la comprensión de los mismos, muy de la mano del diccionario de datos."
      ]
    },
    {
      "cell_type": "code",
      "execution_count": null,
      "metadata": {
        "colab": {
          "base_uri": "https://localhost:8080/",
          "height": 210
        },
        "id": "zYDSM0frOLj5",
        "outputId": "88122ec0-2ac6-4816-a95a-36f53aeded45"
      },
      "outputs": [],
      "source": [
        "df4.dtypes"
      ]
    },
    {
      "cell_type": "code",
      "execution_count": null,
      "metadata": {
        "colab": {
          "base_uri": "https://localhost:8080/",
          "height": 335
        },
        "id": "ZP8xDutDOLj5",
        "outputId": "385e6983-bd3b-46a0-ee3c-200a572f4add"
      },
      "outputs": [],
      "source": [
        "# Resumen de las principales estadísticas de las variables numéricas\n",
        "df4['Label'].describe()"
      ]
    },
    {
      "cell_type": "markdown",
      "metadata": {
        "id": "4uYfsNkPOLj5"
      },
      "source": [
        "#### 1.2.1 Datos de Fechas"
      ]
    },
    {
      "cell_type": "code",
      "execution_count": null,
      "metadata": {
        "colab": {
          "base_uri": "https://localhost:8080/",
          "height": 398
        },
        "id": "3caE1eOqOLj5",
        "outputId": "d9001488-4d1a-440d-a087-3d1364ee1847"
      },
      "outputs": [],
      "source": [
        "# la columna Fecha deberia ser fecha pero es object\n",
        "df4.Fecha.tail(10)"
      ]
    },
    {
      "cell_type": "code",
      "execution_count": null,
      "metadata": {
        "colab": {
          "base_uri": "https://localhost:8080/",
          "height": 398
        },
        "id": "LqPoQv5uOLj6",
        "outputId": "de3afe0c-f41a-47cd-a0d9-8365e11c677f"
      },
      "outputs": [],
      "source": [
        "df5 = df4.copy()\n",
        "\n",
        "df5['Fecha'] = pd.to_datetime(df5.Fecha, dayfirst= True, errors = 'coerce')\n",
        "df5['Fecha'].tail(10)"
      ]
    },
    {
      "cell_type": "code",
      "execution_count": null,
      "metadata": {
        "colab": {
          "base_uri": "https://localhost:8080/"
        },
        "id": "sFPJoDr9OLj6",
        "outputId": "f561044b-35ab-4f41-dc1a-c56052e41eec"
      },
      "outputs": [],
      "source": [
        "print(df5[\"Fecha\"].isna().sum())"
      ]
    },
    {
      "cell_type": "markdown",
      "metadata": {
        "id": "2icqVWLsODQe"
      },
      "source": [
        "# 2. Vectorización del texto"
      ]
    },
    {
      "cell_type": "code",
      "execution_count": null,
      "metadata": {
        "colab": {
          "base_uri": "https://localhost:8080/"
        },
        "id": "dNYoVSrwyx1d",
        "outputId": "aabf61df-5115-4181-8de5-63af3417448c"
      },
      "outputs": [],
      "source": [
        "# Verificar si hay NaN en columnas de texto despues de la manipulacion de fechas\n",
        "print(\"NaN en Titulo:\", df5[\"Titulo\"].isna().sum())\n",
        "print(\"NaN en Descripcion:\", df5[\"Descripcion\"].isna().sum())\n",
        "\n",
        "# Eliminar las filas donde hay NaN en las columnas de texto\n",
        "df5 = df5.dropna(subset=[\"Titulo\", \"Descripcion\"])\n",
        "\n",
        "# Verificar que no haya mas NaN\n",
        "print(\"NaN en Titulo despues de eliminar:\", df5[\"Titulo\"].isna().sum())\n",
        "print(\"NaN en Descripcion despues de eliminar:\", df5[\"Descripcion\"].isna().sum())\n"
      ]
    },
    {
      "cell_type": "code",
      "execution_count": null,
      "metadata": {
        "colab": {
          "base_uri": "https://localhost:8080/"
        },
        "id": "z7Q_p1YIOUot",
        "outputId": "0c4b0320-05a4-46e0-8622-10400daa6845"
      },
      "outputs": [],
      "source": [
        "from sklearn.feature_extraction.text import TfidfVectorizer\n",
        "\n",
        "vectorizer = TfidfVectorizer(token_pattern=r\"(?u)\\b[a-zA-ZáéíóúüñÁÉÍÓÚÜÑ]{2,}\\b\", max_features=5000)\n",
        "X_tfidf = vectorizer.fit_transform(df5[\"Titulo\"] + \" \" + df5[\"Descripcion\"])\n",
        "\n",
        "# Convertir a DataFrame\n",
        "tfidf_df = pd.DataFrame(X_tfidf.toarray(), columns=vectorizer.get_feature_names_out())\n",
        "print(tfidf_df.head())"
      ]
    },
    {
      "cell_type": "markdown",
      "metadata": {
        "id": "7gR6aaFyOLj6"
      },
      "source": [
        "# 3. Visualización de los datos"
      ]
    },
    {
      "cell_type": "markdown",
      "metadata": {
        "id": "iRLDDocxOLj8"
      },
      "source": [
        "### 2.4.1 Diagramas de Temporales"
      ]
    },
    {
      "cell_type": "markdown",
      "metadata": {
        "id": "s7KOfZgHOLj8"
      },
      "source": [
        "Distribución de las noticias según si son verdaderas o falsas"
      ]
    },
    {
      "cell_type": "code",
      "execution_count": null,
      "metadata": {
        "colab": {
          "base_uri": "https://localhost:8080/",
          "height": 542
        },
        "id": "BYuFjWNVOLj8",
        "outputId": "34674616-e565-4d2e-f70e-c789ea9adb10"
      },
      "outputs": [],
      "source": [
        "conteo_clases = df5[\"Label\"].value_counts()\n",
        "\n",
        "mapeo_etiquetas = {0: \"Noticias Falsas\", 1: \"Noticias Verdaderas\"}\n",
        "fig = px.pie(names=conteo_clases.index.map(mapeo_etiquetas), values=conteo_clases.values,\n",
        "             title=f'Distribución de noticias falsas y verdaderas ({df.shape[0]} noticias)')\n",
        "\n",
        "fig"
      ]
    },
    {
      "cell_type": "markdown",
      "metadata": {
        "id": "bhkvbheAgsxW"
      },
      "source": [
        "Dado que la distribución entre noticias falsas y verdaderas es relativamente equilibrada, podemos trabajar con los datos sin necesidad de ajustar el balance de clases."
      ]
    },
    {
      "cell_type": "markdown",
      "metadata": {
        "id": "saCf-TA9tLwf"
      },
      "source": [
        "---\n",
        "Analisis para identificar si la fecha esta directamente relacionada con la veracidad de una noticia"
      ]
    },
    {
      "cell_type": "code",
      "execution_count": null,
      "metadata": {
        "colab": {
          "base_uri": "https://localhost:8080/",
          "height": 561
        },
        "id": "XaN2veAh7bT1",
        "outputId": "cbc85920-c09c-4471-b3af-2d372033eb6d"
      },
      "outputs": [],
      "source": [
        "print(\"Rango de fechas:\", df5[\"Fecha\"].min(), \"a\", df5[\"Fecha\"].max())\n",
        "\n",
        "\n",
        "# Distribución de noticias falsas vs. verdaderas por año\n",
        "plt.figure(figsize=(10,5))\n",
        "df5.groupby([df5[\"Fecha\"].dt.year, \"Label\"]).size().unstack().rename(columns={0: \"Falsas\", 1: \"Verdaderas\"}).plot(kind=\"bar\", stacked=True, figsize=(10,5))\n",
        "plt.title(\"Distribución de noticias falsas y verdaderas por año\")\n",
        "plt.xlabel(\"Año\")\n",
        "plt.ylabel(\"Cantidad de noticias\")\n",
        "plt.legend([\"Verdaderas (1)\", \"Falsas (0)\"])\n",
        "plt.show()\n",
        "\n",
        "# Análisis de correlación entre año y etiqueta de noticia\n",
        "correlacion = df5[\"Fecha\"].dt.year.corr(df[\"Label\"])\n",
        "print(\"Correlación entre año y etiqueta de noticia:\", correlacion)"
      ]
    },
    {
      "cell_type": "markdown",
      "metadata": {
        "id": "s6ngH5wROLj_"
      },
      "source": [
        "## 4. Reportes Automáticos para realizar el entendimiento de los datos\n",
        "\n",
        "Para los reportes automáticos, se puede usar al herramienta de pandas profiling.\n",
        "\n",
        "\n",
        "Para cada columna, genera las siguientes estadísticas, si son relevantes para el tipo de columna, se presentan en un informe HTML interactivo:\n",
        "\n",
        "1. Inferencia de tipo: detecta los tipos de columnas en un dataframe.\n",
        "2. Esenciales: tipo, valores únicos, valores faltantes.\n",
        "3. Estadísticas de cuantiles como valor mínimo, Q1, mediana, Q3, máximo, rango, rango intercuartílico. Esta opción es bastante útil para identificar datos atípicos.\n",
        "4. Estadísticas descriptivas como media, moda, desviación estándar, suma, desviación absoluta mediana, coeficiente de variación, curtosis, asimetría.\n",
        "5. Valores más frecuentes.\n",
        "6. Histogramas.\n",
        "7. Correlaciones destacando variables altamente correlacionadas, matrices de Spearman, Pearson y Kendall. Esto permite descubrir relaciones entre atributos.\n",
        "8. Matriz de valores faltantes, recuento, mapa de calor y dendrograma de valores faltantes\n",
        "\n",
        "Tomado de la librería oficial de pandas_profiling en [github](https://github.com/pandas-profiling/pandas-profiling)\n",
        "\n",
        "Lo más importante al utilizar esta librería es recordar que lo fundamental son los análisis que hagamos sobre estos reportes."
      ]
    },
    {
      "cell_type": "code",
      "execution_count": null,
      "metadata": {
        "colab": {
          "base_uri": "https://localhost:8080/",
          "height": 987,
          "referenced_widgets": [
            "f4269f5e8cde4e7a893ac67ae8e9e067",
            "ac84020d2e0e480ab07aa57c5a1ba012",
            "1223cb54975142cca68964a7c99989bc",
            "e331f3a71e6f46f081caa9b93ce925f3",
            "8fc131633b7543668d96af4e0f41e30f",
            "1926054536a34077984aa837c860f31c",
            "9a5a9da9a1e6441e9ab48770ddfa0d6a",
            "7521ad8978244a0393f94932d64fb119",
            "377d2f695d714b2fb55d5951748722e1",
            "2af093b729724cd68f02923078d61a30",
            "99f334f3604d4bdb86af851efd3543e2",
            "4981b98993a84dd0be5a23cc5897a9c6",
            "bb2c63b9cd844d4199c9047287a3128d",
            "83c7830e181e406d847635e885714e1a",
            "34778daa2c0e45ee877867ff86a52462",
            "d6dea72212704ca09fa7bc8e1c75a4d6",
            "f026598325244abc93ecc7d5760a0482",
            "4c9c5b28f9db4903b855a3a69dd99da1",
            "ada896a136f941989b0d76d8446b134d",
            "e785d1765d4849e997a2e53259d896d6",
            "ffb133cf18104dde9c526d70cf094a5c",
            "07d8397fd26147bd836af10885975b9b",
            "728a49ca88a2436cbd59cf96ab2dd897",
            "bd2e9e58301d4104b193ce65854b0d44",
            "6afd8b9f6d0b488f8ab3e2df45458901",
            "cb8125a0ec6a440094983c9ef8af715f",
            "73e438a1987c4200bedd2848629082df",
            "03dea2a0bf524e2b903d2d085457f77c",
            "a3a7fb8d86974d3ea0f169812786b506",
            "965ffe3503794dd9b6e68502e6677e46",
            "620eba0070ba40deb6bc693d5c4b6704",
            "e094b428d01f42e4b821e0ccc178c65f",
            "61c9ceb4da9e4f9d915c9494523e1b36"
          ]
        },
        "id": "sOJpZTlEOLj_",
        "outputId": "4eef1c7b-3570-4a02-ce62-c6cf3ce10a13"
      },
      "outputs": [],
      "source": [
        "import pandas_profiling\n",
        "\n",
        "profiling =pandas_profiling.ProfileReport(df5)\n",
        "profiling"
      ]
    },
    {
      "cell_type": "code",
      "execution_count": null,
      "metadata": {
        "colab": {
          "base_uri": "https://localhost:8080/",
          "height": 49,
          "referenced_widgets": [
            "02367734d60a41a68de9dbaa5eafcf06",
            "56c22cfa8772455c8eb637a3777e5852",
            "21cb6afcbc414b7096f2ff8481935f61",
            "e3c3a61108494e11a479f44f2a4c7a97",
            "07300cfb2b464db5aead5c8237d92c6c",
            "8b4c9234009249988cf6e400f9bf4f54",
            "277cce25cdf644f98d6857a3d858f5ce",
            "4ba746a88be349dcaeedffe3f5dceac1",
            "0a2d7a5d359f4b269382eff460092dad",
            "2623a4eb956642ffa36fda8abc447312",
            "a6dfc19fe4b242f88dd0d784e51b9f16"
          ]
        },
        "id": "NJl64nRNOLj_",
        "outputId": "fc4a923f-443e-49a4-c776-9d831d024641"
      },
      "outputs": [],
      "source": [
        "profiling.to_file(\"Proyecto1_db_profile.html\")"
      ]
    },
    {
      "cell_type": "markdown",
      "metadata": {},
      "source": [
        "# Modelos"
      ]
    },
    {
      "cell_type": "markdown",
      "metadata": {
        "id": "alMPLUTsOIcR"
      },
      "source": [
        "## Modelo basado en reglas (RIPPER)"
      ]
    },
    {
      "cell_type": "markdown",
      "metadata": {},
      "source": [
        "Para clasificar noticias falsas utilizando un modelo basado en reglas, se escogio el algoritmo RIPPER (Repeated Incremental Pruning to Produce Error Reduction), ya que es una opción eficiente y escalable para conjuntos de datos grandes, como el de 60,000 registros. \n",
        "\n",
        "Algunas de sus principales ventajas son:  \n",
        "\n",
        "- **Simplicidad y explicabilidad**: Genera reglas fácilmente interpretables, lo que permite comprender mejor los patrones asociados a las noticias falsas.  \n",
        "- **Eficiencia en grandes volúmenes de datos**: Está diseñado para procesar grandes cantidades de información sin riesgo de sobreajuste.  \n",
        "- **Manejo de datos desbalanceados**: Puede ajustar la cobertura de las reglas para reducir el sesgo hacia la clase mayoritaria, mejorando así la precisión en la clasificación."
      ]
    },
    {
      "cell_type": "markdown",
      "metadata": {},
      "source": [
        "### Imports"
      ]
    },
    {
      "cell_type": "code",
      "execution_count": null,
      "metadata": {},
      "outputs": [],
      "source": [
        "import pandas as pd\n",
        "import numpy as np\n",
        "from sklearn.model_selection import train_test_split\n",
        "from sklearn.decomposition import PCA\n",
        "from sklearn.metrics import classification_report, confusion_matrix\n",
        "import seaborn as sns\n",
        "import matplotlib.pyplot as plt\n",
        "\n",
        "%pip install wittgenstein\n",
        "import wittgenstein as lw"
      ]
    },
    {
      "cell_type": "markdown",
      "metadata": {},
      "source": [
        "### Modelo"
      ]
    },
    {
      "cell_type": "code",
      "execution_count": null,
      "metadata": {
        "colab": {
          "base_uri": "https://localhost:8080/",
          "height": 790
        },
        "collapsed": true,
        "id": "DM4WvfQb4R-_",
        "outputId": "deec8a00-dc08-4519-da37-eb02d065dff3"
      },
      "outputs": [],
      "source": [
        "\n",
        "pca = PCA(n_components=100, random_state=42)\n",
        "X_reduced = pca.fit_transform(tfidf_df)\n",
        "\n",
        "X_train, X_test, y_train, y_test = train_test_split(\n",
        "    X_reduced, df5['Label'], test_size=0.2, random_state=42)\n",
        "\n",
        "X_train_sample = X_train\n",
        "y_train_sample = y_train\n",
        "\n",
        "print(y_train_sample.value_counts())\n",
        "pos_class = 1 if y_train_sample.value_counts().idxmax() == 1 else 0\n",
        "\n",
        "# Entrenar modelo RIPPER\n",
        "ripper_classifier = lw.RIPPER()\n",
        "ripper_classifier.fit(X_train_sample, y_train_sample, pos_class=pos_class)\n",
        "\n",
        "# Hacer predicciones\n",
        "y_pred = ripper_classifier.predict(X_test)"
      ]
    },
    {
      "cell_type": "code",
      "execution_count": null,
      "metadata": {
        "id": "RS-8BT3trjWu"
      },
      "outputs": [],
      "source": [
        "# Matriz de confusión\n",
        "cm = confusion_matrix(y_test, y_pred)\n",
        "plt.figure(figsize=(8, 6))\n",
        "sns.heatmap(cm, annot=True, fmt='d', cmap='Blues',\n",
        "            xticklabels=['Predicted 0', 'Predicted 1'],\n",
        "            yticklabels=['Actual 0', 'Actual 1'])\n",
        "plt.title('Confusion Matrix')\n",
        "plt.xlabel('Predicted Label')\n",
        "plt.ylabel('True Label')\n",
        "plt.show()"
      ]
    },
    {
      "cell_type": "code",
      "execution_count": null,
      "metadata": {
        "id": "ofhgvZrcrcS-"
      },
      "outputs": [],
      "source": [
        "# Evaluar modelo\n",
        "print(classification_report(y_test, y_pred))"
      ]
    }
  ],
  "metadata": {
    "colab": {
      "provenance": []
    },
    "kernelspec": {
      "display_name": "Python 3",
      "language": "python",
      "name": "python3"
    },
    "language_info": {
      "codemirror_mode": {
        "name": "ipython",
        "version": 3
      },
      "file_extension": ".py",
      "mimetype": "text/x-python",
      "name": "python",
      "nbconvert_exporter": "python",
      "pygments_lexer": "ipython3",
      "version": "3.11.9"
    },
    "widgets": {
      "application/vnd.jupyter.widget-state+json": {
        "02367734d60a41a68de9dbaa5eafcf06": {
          "model_module": "@jupyter-widgets/controls",
          "model_module_version": "1.5.0",
          "model_name": "HBoxModel",
          "state": {
            "_dom_classes": [],
            "_model_module": "@jupyter-widgets/controls",
            "_model_module_version": "1.5.0",
            "_model_name": "HBoxModel",
            "_view_count": null,
            "_view_module": "@jupyter-widgets/controls",
            "_view_module_version": "1.5.0",
            "_view_name": "HBoxView",
            "box_style": "",
            "children": [
              "IPY_MODEL_56c22cfa8772455c8eb637a3777e5852",
              "IPY_MODEL_21cb6afcbc414b7096f2ff8481935f61",
              "IPY_MODEL_e3c3a61108494e11a479f44f2a4c7a97"
            ],
            "layout": "IPY_MODEL_07300cfb2b464db5aead5c8237d92c6c"
          }
        },
        "03dea2a0bf524e2b903d2d085457f77c": {
          "model_module": "@jupyter-widgets/base",
          "model_module_version": "1.2.0",
          "model_name": "LayoutModel",
          "state": {
            "_model_module": "@jupyter-widgets/base",
            "_model_module_version": "1.2.0",
            "_model_name": "LayoutModel",
            "_view_count": null,
            "_view_module": "@jupyter-widgets/base",
            "_view_module_version": "1.2.0",
            "_view_name": "LayoutView",
            "align_content": null,
            "align_items": null,
            "align_self": null,
            "border": null,
            "bottom": null,
            "display": null,
            "flex": null,
            "flex_flow": null,
            "grid_area": null,
            "grid_auto_columns": null,
            "grid_auto_flow": null,
            "grid_auto_rows": null,
            "grid_column": null,
            "grid_gap": null,
            "grid_row": null,
            "grid_template_areas": null,
            "grid_template_columns": null,
            "grid_template_rows": null,
            "height": null,
            "justify_content": null,
            "justify_items": null,
            "left": null,
            "margin": null,
            "max_height": null,
            "max_width": null,
            "min_height": null,
            "min_width": null,
            "object_fit": null,
            "object_position": null,
            "order": null,
            "overflow": null,
            "overflow_x": null,
            "overflow_y": null,
            "padding": null,
            "right": null,
            "top": null,
            "visibility": null,
            "width": null
          }
        },
        "07300cfb2b464db5aead5c8237d92c6c": {
          "model_module": "@jupyter-widgets/base",
          "model_module_version": "1.2.0",
          "model_name": "LayoutModel",
          "state": {
            "_model_module": "@jupyter-widgets/base",
            "_model_module_version": "1.2.0",
            "_model_name": "LayoutModel",
            "_view_count": null,
            "_view_module": "@jupyter-widgets/base",
            "_view_module_version": "1.2.0",
            "_view_name": "LayoutView",
            "align_content": null,
            "align_items": null,
            "align_self": null,
            "border": null,
            "bottom": null,
            "display": null,
            "flex": null,
            "flex_flow": null,
            "grid_area": null,
            "grid_auto_columns": null,
            "grid_auto_flow": null,
            "grid_auto_rows": null,
            "grid_column": null,
            "grid_gap": null,
            "grid_row": null,
            "grid_template_areas": null,
            "grid_template_columns": null,
            "grid_template_rows": null,
            "height": null,
            "justify_content": null,
            "justify_items": null,
            "left": null,
            "margin": null,
            "max_height": null,
            "max_width": null,
            "min_height": null,
            "min_width": null,
            "object_fit": null,
            "object_position": null,
            "order": null,
            "overflow": null,
            "overflow_x": null,
            "overflow_y": null,
            "padding": null,
            "right": null,
            "top": null,
            "visibility": null,
            "width": null
          }
        },
        "07d8397fd26147bd836af10885975b9b": {
          "model_module": "@jupyter-widgets/controls",
          "model_module_version": "1.5.0",
          "model_name": "DescriptionStyleModel",
          "state": {
            "_model_module": "@jupyter-widgets/controls",
            "_model_module_version": "1.5.0",
            "_model_name": "DescriptionStyleModel",
            "_view_count": null,
            "_view_module": "@jupyter-widgets/base",
            "_view_module_version": "1.2.0",
            "_view_name": "StyleView",
            "description_width": ""
          }
        },
        "0a2d7a5d359f4b269382eff460092dad": {
          "model_module": "@jupyter-widgets/controls",
          "model_module_version": "1.5.0",
          "model_name": "ProgressStyleModel",
          "state": {
            "_model_module": "@jupyter-widgets/controls",
            "_model_module_version": "1.5.0",
            "_model_name": "ProgressStyleModel",
            "_view_count": null,
            "_view_module": "@jupyter-widgets/base",
            "_view_module_version": "1.2.0",
            "_view_name": "StyleView",
            "bar_color": null,
            "description_width": ""
          }
        },
        "1223cb54975142cca68964a7c99989bc": {
          "model_module": "@jupyter-widgets/controls",
          "model_module_version": "1.5.0",
          "model_name": "FloatProgressModel",
          "state": {
            "_dom_classes": [],
            "_model_module": "@jupyter-widgets/controls",
            "_model_module_version": "1.5.0",
            "_model_name": "FloatProgressModel",
            "_view_count": null,
            "_view_module": "@jupyter-widgets/controls",
            "_view_module_version": "1.5.0",
            "_view_name": "ProgressView",
            "bar_style": "success",
            "description": "",
            "description_tooltip": null,
            "layout": "IPY_MODEL_7521ad8978244a0393f94932d64fb119",
            "max": 5,
            "min": 0,
            "orientation": "horizontal",
            "style": "IPY_MODEL_377d2f695d714b2fb55d5951748722e1",
            "value": 5
          }
        },
        "1926054536a34077984aa837c860f31c": {
          "model_module": "@jupyter-widgets/base",
          "model_module_version": "1.2.0",
          "model_name": "LayoutModel",
          "state": {
            "_model_module": "@jupyter-widgets/base",
            "_model_module_version": "1.2.0",
            "_model_name": "LayoutModel",
            "_view_count": null,
            "_view_module": "@jupyter-widgets/base",
            "_view_module_version": "1.2.0",
            "_view_name": "LayoutView",
            "align_content": null,
            "align_items": null,
            "align_self": null,
            "border": null,
            "bottom": null,
            "display": null,
            "flex": null,
            "flex_flow": null,
            "grid_area": null,
            "grid_auto_columns": null,
            "grid_auto_flow": null,
            "grid_auto_rows": null,
            "grid_column": null,
            "grid_gap": null,
            "grid_row": null,
            "grid_template_areas": null,
            "grid_template_columns": null,
            "grid_template_rows": null,
            "height": null,
            "justify_content": null,
            "justify_items": null,
            "left": null,
            "margin": null,
            "max_height": null,
            "max_width": null,
            "min_height": null,
            "min_width": null,
            "object_fit": null,
            "object_position": null,
            "order": null,
            "overflow": null,
            "overflow_x": null,
            "overflow_y": null,
            "padding": null,
            "right": null,
            "top": null,
            "visibility": null,
            "width": null
          }
        },
        "21cb6afcbc414b7096f2ff8481935f61": {
          "model_module": "@jupyter-widgets/controls",
          "model_module_version": "1.5.0",
          "model_name": "FloatProgressModel",
          "state": {
            "_dom_classes": [],
            "_model_module": "@jupyter-widgets/controls",
            "_model_module_version": "1.5.0",
            "_model_name": "FloatProgressModel",
            "_view_count": null,
            "_view_module": "@jupyter-widgets/controls",
            "_view_module_version": "1.5.0",
            "_view_name": "ProgressView",
            "bar_style": "success",
            "description": "",
            "description_tooltip": null,
            "layout": "IPY_MODEL_4ba746a88be349dcaeedffe3f5dceac1",
            "max": 1,
            "min": 0,
            "orientation": "horizontal",
            "style": "IPY_MODEL_0a2d7a5d359f4b269382eff460092dad",
            "value": 1
          }
        },
        "2623a4eb956642ffa36fda8abc447312": {
          "model_module": "@jupyter-widgets/base",
          "model_module_version": "1.2.0",
          "model_name": "LayoutModel",
          "state": {
            "_model_module": "@jupyter-widgets/base",
            "_model_module_version": "1.2.0",
            "_model_name": "LayoutModel",
            "_view_count": null,
            "_view_module": "@jupyter-widgets/base",
            "_view_module_version": "1.2.0",
            "_view_name": "LayoutView",
            "align_content": null,
            "align_items": null,
            "align_self": null,
            "border": null,
            "bottom": null,
            "display": null,
            "flex": null,
            "flex_flow": null,
            "grid_area": null,
            "grid_auto_columns": null,
            "grid_auto_flow": null,
            "grid_auto_rows": null,
            "grid_column": null,
            "grid_gap": null,
            "grid_row": null,
            "grid_template_areas": null,
            "grid_template_columns": null,
            "grid_template_rows": null,
            "height": null,
            "justify_content": null,
            "justify_items": null,
            "left": null,
            "margin": null,
            "max_height": null,
            "max_width": null,
            "min_height": null,
            "min_width": null,
            "object_fit": null,
            "object_position": null,
            "order": null,
            "overflow": null,
            "overflow_x": null,
            "overflow_y": null,
            "padding": null,
            "right": null,
            "top": null,
            "visibility": null,
            "width": null
          }
        },
        "277cce25cdf644f98d6857a3d858f5ce": {
          "model_module": "@jupyter-widgets/controls",
          "model_module_version": "1.5.0",
          "model_name": "DescriptionStyleModel",
          "state": {
            "_model_module": "@jupyter-widgets/controls",
            "_model_module_version": "1.5.0",
            "_model_name": "DescriptionStyleModel",
            "_view_count": null,
            "_view_module": "@jupyter-widgets/base",
            "_view_module_version": "1.2.0",
            "_view_name": "StyleView",
            "description_width": ""
          }
        },
        "2af093b729724cd68f02923078d61a30": {
          "model_module": "@jupyter-widgets/base",
          "model_module_version": "1.2.0",
          "model_name": "LayoutModel",
          "state": {
            "_model_module": "@jupyter-widgets/base",
            "_model_module_version": "1.2.0",
            "_model_name": "LayoutModel",
            "_view_count": null,
            "_view_module": "@jupyter-widgets/base",
            "_view_module_version": "1.2.0",
            "_view_name": "LayoutView",
            "align_content": null,
            "align_items": null,
            "align_self": null,
            "border": null,
            "bottom": null,
            "display": null,
            "flex": null,
            "flex_flow": null,
            "grid_area": null,
            "grid_auto_columns": null,
            "grid_auto_flow": null,
            "grid_auto_rows": null,
            "grid_column": null,
            "grid_gap": null,
            "grid_row": null,
            "grid_template_areas": null,
            "grid_template_columns": null,
            "grid_template_rows": null,
            "height": null,
            "justify_content": null,
            "justify_items": null,
            "left": null,
            "margin": null,
            "max_height": null,
            "max_width": null,
            "min_height": null,
            "min_width": null,
            "object_fit": null,
            "object_position": null,
            "order": null,
            "overflow": null,
            "overflow_x": null,
            "overflow_y": null,
            "padding": null,
            "right": null,
            "top": null,
            "visibility": null,
            "width": null
          }
        },
        "34778daa2c0e45ee877867ff86a52462": {
          "model_module": "@jupyter-widgets/controls",
          "model_module_version": "1.5.0",
          "model_name": "HTMLModel",
          "state": {
            "_dom_classes": [],
            "_model_module": "@jupyter-widgets/controls",
            "_model_module_version": "1.5.0",
            "_model_name": "HTMLModel",
            "_view_count": null,
            "_view_module": "@jupyter-widgets/controls",
            "_view_module_version": "1.5.0",
            "_view_name": "HTMLView",
            "description": "",
            "description_tooltip": null,
            "layout": "IPY_MODEL_ffb133cf18104dde9c526d70cf094a5c",
            "placeholder": "​",
            "style": "IPY_MODEL_07d8397fd26147bd836af10885975b9b",
            "value": " 1/1 [00:02&lt;00:00,  2.44s/it]"
          }
        },
        "377d2f695d714b2fb55d5951748722e1": {
          "model_module": "@jupyter-widgets/controls",
          "model_module_version": "1.5.0",
          "model_name": "ProgressStyleModel",
          "state": {
            "_model_module": "@jupyter-widgets/controls",
            "_model_module_version": "1.5.0",
            "_model_name": "ProgressStyleModel",
            "_view_count": null,
            "_view_module": "@jupyter-widgets/base",
            "_view_module_version": "1.2.0",
            "_view_name": "StyleView",
            "bar_color": null,
            "description_width": ""
          }
        },
        "4981b98993a84dd0be5a23cc5897a9c6": {
          "model_module": "@jupyter-widgets/controls",
          "model_module_version": "1.5.0",
          "model_name": "HBoxModel",
          "state": {
            "_dom_classes": [],
            "_model_module": "@jupyter-widgets/controls",
            "_model_module_version": "1.5.0",
            "_model_name": "HBoxModel",
            "_view_count": null,
            "_view_module": "@jupyter-widgets/controls",
            "_view_module_version": "1.5.0",
            "_view_name": "HBoxView",
            "box_style": "",
            "children": [
              "IPY_MODEL_bb2c63b9cd844d4199c9047287a3128d",
              "IPY_MODEL_83c7830e181e406d847635e885714e1a",
              "IPY_MODEL_34778daa2c0e45ee877867ff86a52462"
            ],
            "layout": "IPY_MODEL_d6dea72212704ca09fa7bc8e1c75a4d6"
          }
        },
        "4ba746a88be349dcaeedffe3f5dceac1": {
          "model_module": "@jupyter-widgets/base",
          "model_module_version": "1.2.0",
          "model_name": "LayoutModel",
          "state": {
            "_model_module": "@jupyter-widgets/base",
            "_model_module_version": "1.2.0",
            "_model_name": "LayoutModel",
            "_view_count": null,
            "_view_module": "@jupyter-widgets/base",
            "_view_module_version": "1.2.0",
            "_view_name": "LayoutView",
            "align_content": null,
            "align_items": null,
            "align_self": null,
            "border": null,
            "bottom": null,
            "display": null,
            "flex": null,
            "flex_flow": null,
            "grid_area": null,
            "grid_auto_columns": null,
            "grid_auto_flow": null,
            "grid_auto_rows": null,
            "grid_column": null,
            "grid_gap": null,
            "grid_row": null,
            "grid_template_areas": null,
            "grid_template_columns": null,
            "grid_template_rows": null,
            "height": null,
            "justify_content": null,
            "justify_items": null,
            "left": null,
            "margin": null,
            "max_height": null,
            "max_width": null,
            "min_height": null,
            "min_width": null,
            "object_fit": null,
            "object_position": null,
            "order": null,
            "overflow": null,
            "overflow_x": null,
            "overflow_y": null,
            "padding": null,
            "right": null,
            "top": null,
            "visibility": null,
            "width": null
          }
        },
        "4c9c5b28f9db4903b855a3a69dd99da1": {
          "model_module": "@jupyter-widgets/controls",
          "model_module_version": "1.5.0",
          "model_name": "DescriptionStyleModel",
          "state": {
            "_model_module": "@jupyter-widgets/controls",
            "_model_module_version": "1.5.0",
            "_model_name": "DescriptionStyleModel",
            "_view_count": null,
            "_view_module": "@jupyter-widgets/base",
            "_view_module_version": "1.2.0",
            "_view_name": "StyleView",
            "description_width": ""
          }
        },
        "56c22cfa8772455c8eb637a3777e5852": {
          "model_module": "@jupyter-widgets/controls",
          "model_module_version": "1.5.0",
          "model_name": "HTMLModel",
          "state": {
            "_dom_classes": [],
            "_model_module": "@jupyter-widgets/controls",
            "_model_module_version": "1.5.0",
            "_model_name": "HTMLModel",
            "_view_count": null,
            "_view_module": "@jupyter-widgets/controls",
            "_view_module_version": "1.5.0",
            "_view_name": "HTMLView",
            "description": "",
            "description_tooltip": null,
            "layout": "IPY_MODEL_8b4c9234009249988cf6e400f9bf4f54",
            "placeholder": "​",
            "style": "IPY_MODEL_277cce25cdf644f98d6857a3d858f5ce",
            "value": "Export report to file: 100%"
          }
        },
        "61c9ceb4da9e4f9d915c9494523e1b36": {
          "model_module": "@jupyter-widgets/controls",
          "model_module_version": "1.5.0",
          "model_name": "DescriptionStyleModel",
          "state": {
            "_model_module": "@jupyter-widgets/controls",
            "_model_module_version": "1.5.0",
            "_model_name": "DescriptionStyleModel",
            "_view_count": null,
            "_view_module": "@jupyter-widgets/base",
            "_view_module_version": "1.2.0",
            "_view_name": "StyleView",
            "description_width": ""
          }
        },
        "620eba0070ba40deb6bc693d5c4b6704": {
          "model_module": "@jupyter-widgets/controls",
          "model_module_version": "1.5.0",
          "model_name": "ProgressStyleModel",
          "state": {
            "_model_module": "@jupyter-widgets/controls",
            "_model_module_version": "1.5.0",
            "_model_name": "ProgressStyleModel",
            "_view_count": null,
            "_view_module": "@jupyter-widgets/base",
            "_view_module_version": "1.2.0",
            "_view_name": "StyleView",
            "bar_color": null,
            "description_width": ""
          }
        },
        "6afd8b9f6d0b488f8ab3e2df45458901": {
          "model_module": "@jupyter-widgets/controls",
          "model_module_version": "1.5.0",
          "model_name": "FloatProgressModel",
          "state": {
            "_dom_classes": [],
            "_model_module": "@jupyter-widgets/controls",
            "_model_module_version": "1.5.0",
            "_model_name": "FloatProgressModel",
            "_view_count": null,
            "_view_module": "@jupyter-widgets/controls",
            "_view_module_version": "1.5.0",
            "_view_name": "ProgressView",
            "bar_style": "success",
            "description": "",
            "description_tooltip": null,
            "layout": "IPY_MODEL_965ffe3503794dd9b6e68502e6677e46",
            "max": 1,
            "min": 0,
            "orientation": "horizontal",
            "style": "IPY_MODEL_620eba0070ba40deb6bc693d5c4b6704",
            "value": 1
          }
        },
        "728a49ca88a2436cbd59cf96ab2dd897": {
          "model_module": "@jupyter-widgets/controls",
          "model_module_version": "1.5.0",
          "model_name": "HBoxModel",
          "state": {
            "_dom_classes": [],
            "_model_module": "@jupyter-widgets/controls",
            "_model_module_version": "1.5.0",
            "_model_name": "HBoxModel",
            "_view_count": null,
            "_view_module": "@jupyter-widgets/controls",
            "_view_module_version": "1.5.0",
            "_view_name": "HBoxView",
            "box_style": "",
            "children": [
              "IPY_MODEL_bd2e9e58301d4104b193ce65854b0d44",
              "IPY_MODEL_6afd8b9f6d0b488f8ab3e2df45458901",
              "IPY_MODEL_cb8125a0ec6a440094983c9ef8af715f"
            ],
            "layout": "IPY_MODEL_73e438a1987c4200bedd2848629082df"
          }
        },
        "73e438a1987c4200bedd2848629082df": {
          "model_module": "@jupyter-widgets/base",
          "model_module_version": "1.2.0",
          "model_name": "LayoutModel",
          "state": {
            "_model_module": "@jupyter-widgets/base",
            "_model_module_version": "1.2.0",
            "_model_name": "LayoutModel",
            "_view_count": null,
            "_view_module": "@jupyter-widgets/base",
            "_view_module_version": "1.2.0",
            "_view_name": "LayoutView",
            "align_content": null,
            "align_items": null,
            "align_self": null,
            "border": null,
            "bottom": null,
            "display": null,
            "flex": null,
            "flex_flow": null,
            "grid_area": null,
            "grid_auto_columns": null,
            "grid_auto_flow": null,
            "grid_auto_rows": null,
            "grid_column": null,
            "grid_gap": null,
            "grid_row": null,
            "grid_template_areas": null,
            "grid_template_columns": null,
            "grid_template_rows": null,
            "height": null,
            "justify_content": null,
            "justify_items": null,
            "left": null,
            "margin": null,
            "max_height": null,
            "max_width": null,
            "min_height": null,
            "min_width": null,
            "object_fit": null,
            "object_position": null,
            "order": null,
            "overflow": null,
            "overflow_x": null,
            "overflow_y": null,
            "padding": null,
            "right": null,
            "top": null,
            "visibility": null,
            "width": null
          }
        },
        "7521ad8978244a0393f94932d64fb119": {
          "model_module": "@jupyter-widgets/base",
          "model_module_version": "1.2.0",
          "model_name": "LayoutModel",
          "state": {
            "_model_module": "@jupyter-widgets/base",
            "_model_module_version": "1.2.0",
            "_model_name": "LayoutModel",
            "_view_count": null,
            "_view_module": "@jupyter-widgets/base",
            "_view_module_version": "1.2.0",
            "_view_name": "LayoutView",
            "align_content": null,
            "align_items": null,
            "align_self": null,
            "border": null,
            "bottom": null,
            "display": null,
            "flex": null,
            "flex_flow": null,
            "grid_area": null,
            "grid_auto_columns": null,
            "grid_auto_flow": null,
            "grid_auto_rows": null,
            "grid_column": null,
            "grid_gap": null,
            "grid_row": null,
            "grid_template_areas": null,
            "grid_template_columns": null,
            "grid_template_rows": null,
            "height": null,
            "justify_content": null,
            "justify_items": null,
            "left": null,
            "margin": null,
            "max_height": null,
            "max_width": null,
            "min_height": null,
            "min_width": null,
            "object_fit": null,
            "object_position": null,
            "order": null,
            "overflow": null,
            "overflow_x": null,
            "overflow_y": null,
            "padding": null,
            "right": null,
            "top": null,
            "visibility": null,
            "width": null
          }
        },
        "83c7830e181e406d847635e885714e1a": {
          "model_module": "@jupyter-widgets/controls",
          "model_module_version": "1.5.0",
          "model_name": "FloatProgressModel",
          "state": {
            "_dom_classes": [],
            "_model_module": "@jupyter-widgets/controls",
            "_model_module_version": "1.5.0",
            "_model_name": "FloatProgressModel",
            "_view_count": null,
            "_view_module": "@jupyter-widgets/controls",
            "_view_module_version": "1.5.0",
            "_view_name": "ProgressView",
            "bar_style": "success",
            "description": "",
            "description_tooltip": null,
            "layout": "IPY_MODEL_ada896a136f941989b0d76d8446b134d",
            "max": 1,
            "min": 0,
            "orientation": "horizontal",
            "style": "IPY_MODEL_e785d1765d4849e997a2e53259d896d6",
            "value": 1
          }
        },
        "8b4c9234009249988cf6e400f9bf4f54": {
          "model_module": "@jupyter-widgets/base",
          "model_module_version": "1.2.0",
          "model_name": "LayoutModel",
          "state": {
            "_model_module": "@jupyter-widgets/base",
            "_model_module_version": "1.2.0",
            "_model_name": "LayoutModel",
            "_view_count": null,
            "_view_module": "@jupyter-widgets/base",
            "_view_module_version": "1.2.0",
            "_view_name": "LayoutView",
            "align_content": null,
            "align_items": null,
            "align_self": null,
            "border": null,
            "bottom": null,
            "display": null,
            "flex": null,
            "flex_flow": null,
            "grid_area": null,
            "grid_auto_columns": null,
            "grid_auto_flow": null,
            "grid_auto_rows": null,
            "grid_column": null,
            "grid_gap": null,
            "grid_row": null,
            "grid_template_areas": null,
            "grid_template_columns": null,
            "grid_template_rows": null,
            "height": null,
            "justify_content": null,
            "justify_items": null,
            "left": null,
            "margin": null,
            "max_height": null,
            "max_width": null,
            "min_height": null,
            "min_width": null,
            "object_fit": null,
            "object_position": null,
            "order": null,
            "overflow": null,
            "overflow_x": null,
            "overflow_y": null,
            "padding": null,
            "right": null,
            "top": null,
            "visibility": null,
            "width": null
          }
        },
        "8fc131633b7543668d96af4e0f41e30f": {
          "model_module": "@jupyter-widgets/base",
          "model_module_version": "1.2.0",
          "model_name": "LayoutModel",
          "state": {
            "_model_module": "@jupyter-widgets/base",
            "_model_module_version": "1.2.0",
            "_model_name": "LayoutModel",
            "_view_count": null,
            "_view_module": "@jupyter-widgets/base",
            "_view_module_version": "1.2.0",
            "_view_name": "LayoutView",
            "align_content": null,
            "align_items": null,
            "align_self": null,
            "border": null,
            "bottom": null,
            "display": null,
            "flex": null,
            "flex_flow": null,
            "grid_area": null,
            "grid_auto_columns": null,
            "grid_auto_flow": null,
            "grid_auto_rows": null,
            "grid_column": null,
            "grid_gap": null,
            "grid_row": null,
            "grid_template_areas": null,
            "grid_template_columns": null,
            "grid_template_rows": null,
            "height": null,
            "justify_content": null,
            "justify_items": null,
            "left": null,
            "margin": null,
            "max_height": null,
            "max_width": null,
            "min_height": null,
            "min_width": null,
            "object_fit": null,
            "object_position": null,
            "order": null,
            "overflow": null,
            "overflow_x": null,
            "overflow_y": null,
            "padding": null,
            "right": null,
            "top": null,
            "visibility": null,
            "width": null
          }
        },
        "965ffe3503794dd9b6e68502e6677e46": {
          "model_module": "@jupyter-widgets/base",
          "model_module_version": "1.2.0",
          "model_name": "LayoutModel",
          "state": {
            "_model_module": "@jupyter-widgets/base",
            "_model_module_version": "1.2.0",
            "_model_name": "LayoutModel",
            "_view_count": null,
            "_view_module": "@jupyter-widgets/base",
            "_view_module_version": "1.2.0",
            "_view_name": "LayoutView",
            "align_content": null,
            "align_items": null,
            "align_self": null,
            "border": null,
            "bottom": null,
            "display": null,
            "flex": null,
            "flex_flow": null,
            "grid_area": null,
            "grid_auto_columns": null,
            "grid_auto_flow": null,
            "grid_auto_rows": null,
            "grid_column": null,
            "grid_gap": null,
            "grid_row": null,
            "grid_template_areas": null,
            "grid_template_columns": null,
            "grid_template_rows": null,
            "height": null,
            "justify_content": null,
            "justify_items": null,
            "left": null,
            "margin": null,
            "max_height": null,
            "max_width": null,
            "min_height": null,
            "min_width": null,
            "object_fit": null,
            "object_position": null,
            "order": null,
            "overflow": null,
            "overflow_x": null,
            "overflow_y": null,
            "padding": null,
            "right": null,
            "top": null,
            "visibility": null,
            "width": null
          }
        },
        "99f334f3604d4bdb86af851efd3543e2": {
          "model_module": "@jupyter-widgets/controls",
          "model_module_version": "1.5.0",
          "model_name": "DescriptionStyleModel",
          "state": {
            "_model_module": "@jupyter-widgets/controls",
            "_model_module_version": "1.5.0",
            "_model_name": "DescriptionStyleModel",
            "_view_count": null,
            "_view_module": "@jupyter-widgets/base",
            "_view_module_version": "1.2.0",
            "_view_name": "StyleView",
            "description_width": ""
          }
        },
        "9a5a9da9a1e6441e9ab48770ddfa0d6a": {
          "model_module": "@jupyter-widgets/controls",
          "model_module_version": "1.5.0",
          "model_name": "DescriptionStyleModel",
          "state": {
            "_model_module": "@jupyter-widgets/controls",
            "_model_module_version": "1.5.0",
            "_model_name": "DescriptionStyleModel",
            "_view_count": null,
            "_view_module": "@jupyter-widgets/base",
            "_view_module_version": "1.2.0",
            "_view_name": "StyleView",
            "description_width": ""
          }
        },
        "a3a7fb8d86974d3ea0f169812786b506": {
          "model_module": "@jupyter-widgets/controls",
          "model_module_version": "1.5.0",
          "model_name": "DescriptionStyleModel",
          "state": {
            "_model_module": "@jupyter-widgets/controls",
            "_model_module_version": "1.5.0",
            "_model_name": "DescriptionStyleModel",
            "_view_count": null,
            "_view_module": "@jupyter-widgets/base",
            "_view_module_version": "1.2.0",
            "_view_name": "StyleView",
            "description_width": ""
          }
        },
        "a6dfc19fe4b242f88dd0d784e51b9f16": {
          "model_module": "@jupyter-widgets/controls",
          "model_module_version": "1.5.0",
          "model_name": "DescriptionStyleModel",
          "state": {
            "_model_module": "@jupyter-widgets/controls",
            "_model_module_version": "1.5.0",
            "_model_name": "DescriptionStyleModel",
            "_view_count": null,
            "_view_module": "@jupyter-widgets/base",
            "_view_module_version": "1.2.0",
            "_view_name": "StyleView",
            "description_width": ""
          }
        },
        "ac84020d2e0e480ab07aa57c5a1ba012": {
          "model_module": "@jupyter-widgets/controls",
          "model_module_version": "1.5.0",
          "model_name": "HTMLModel",
          "state": {
            "_dom_classes": [],
            "_model_module": "@jupyter-widgets/controls",
            "_model_module_version": "1.5.0",
            "_model_name": "HTMLModel",
            "_view_count": null,
            "_view_module": "@jupyter-widgets/controls",
            "_view_module_version": "1.5.0",
            "_view_name": "HTMLView",
            "description": "",
            "description_tooltip": null,
            "layout": "IPY_MODEL_1926054536a34077984aa837c860f31c",
            "placeholder": "​",
            "style": "IPY_MODEL_9a5a9da9a1e6441e9ab48770ddfa0d6a",
            "value": "Summarize dataset: 100%"
          }
        },
        "ada896a136f941989b0d76d8446b134d": {
          "model_module": "@jupyter-widgets/base",
          "model_module_version": "1.2.0",
          "model_name": "LayoutModel",
          "state": {
            "_model_module": "@jupyter-widgets/base",
            "_model_module_version": "1.2.0",
            "_model_name": "LayoutModel",
            "_view_count": null,
            "_view_module": "@jupyter-widgets/base",
            "_view_module_version": "1.2.0",
            "_view_name": "LayoutView",
            "align_content": null,
            "align_items": null,
            "align_self": null,
            "border": null,
            "bottom": null,
            "display": null,
            "flex": null,
            "flex_flow": null,
            "grid_area": null,
            "grid_auto_columns": null,
            "grid_auto_flow": null,
            "grid_auto_rows": null,
            "grid_column": null,
            "grid_gap": null,
            "grid_row": null,
            "grid_template_areas": null,
            "grid_template_columns": null,
            "grid_template_rows": null,
            "height": null,
            "justify_content": null,
            "justify_items": null,
            "left": null,
            "margin": null,
            "max_height": null,
            "max_width": null,
            "min_height": null,
            "min_width": null,
            "object_fit": null,
            "object_position": null,
            "order": null,
            "overflow": null,
            "overflow_x": null,
            "overflow_y": null,
            "padding": null,
            "right": null,
            "top": null,
            "visibility": null,
            "width": null
          }
        },
        "bb2c63b9cd844d4199c9047287a3128d": {
          "model_module": "@jupyter-widgets/controls",
          "model_module_version": "1.5.0",
          "model_name": "HTMLModel",
          "state": {
            "_dom_classes": [],
            "_model_module": "@jupyter-widgets/controls",
            "_model_module_version": "1.5.0",
            "_model_name": "HTMLModel",
            "_view_count": null,
            "_view_module": "@jupyter-widgets/controls",
            "_view_module_version": "1.5.0",
            "_view_name": "HTMLView",
            "description": "",
            "description_tooltip": null,
            "layout": "IPY_MODEL_f026598325244abc93ecc7d5760a0482",
            "placeholder": "​",
            "style": "IPY_MODEL_4c9c5b28f9db4903b855a3a69dd99da1",
            "value": "Generate report structure: 100%"
          }
        },
        "bd2e9e58301d4104b193ce65854b0d44": {
          "model_module": "@jupyter-widgets/controls",
          "model_module_version": "1.5.0",
          "model_name": "HTMLModel",
          "state": {
            "_dom_classes": [],
            "_model_module": "@jupyter-widgets/controls",
            "_model_module_version": "1.5.0",
            "_model_name": "HTMLModel",
            "_view_count": null,
            "_view_module": "@jupyter-widgets/controls",
            "_view_module_version": "1.5.0",
            "_view_name": "HTMLView",
            "description": "",
            "description_tooltip": null,
            "layout": "IPY_MODEL_03dea2a0bf524e2b903d2d085457f77c",
            "placeholder": "​",
            "style": "IPY_MODEL_a3a7fb8d86974d3ea0f169812786b506",
            "value": "Render HTML: 100%"
          }
        },
        "cb8125a0ec6a440094983c9ef8af715f": {
          "model_module": "@jupyter-widgets/controls",
          "model_module_version": "1.5.0",
          "model_name": "HTMLModel",
          "state": {
            "_dom_classes": [],
            "_model_module": "@jupyter-widgets/controls",
            "_model_module_version": "1.5.0",
            "_model_name": "HTMLModel",
            "_view_count": null,
            "_view_module": "@jupyter-widgets/controls",
            "_view_module_version": "1.5.0",
            "_view_name": "HTMLView",
            "description": "",
            "description_tooltip": null,
            "layout": "IPY_MODEL_e094b428d01f42e4b821e0ccc178c65f",
            "placeholder": "​",
            "style": "IPY_MODEL_61c9ceb4da9e4f9d915c9494523e1b36",
            "value": " 1/1 [00:00&lt;00:00,  1.45it/s]"
          }
        },
        "d6dea72212704ca09fa7bc8e1c75a4d6": {
          "model_module": "@jupyter-widgets/base",
          "model_module_version": "1.2.0",
          "model_name": "LayoutModel",
          "state": {
            "_model_module": "@jupyter-widgets/base",
            "_model_module_version": "1.2.0",
            "_model_name": "LayoutModel",
            "_view_count": null,
            "_view_module": "@jupyter-widgets/base",
            "_view_module_version": "1.2.0",
            "_view_name": "LayoutView",
            "align_content": null,
            "align_items": null,
            "align_self": null,
            "border": null,
            "bottom": null,
            "display": null,
            "flex": null,
            "flex_flow": null,
            "grid_area": null,
            "grid_auto_columns": null,
            "grid_auto_flow": null,
            "grid_auto_rows": null,
            "grid_column": null,
            "grid_gap": null,
            "grid_row": null,
            "grid_template_areas": null,
            "grid_template_columns": null,
            "grid_template_rows": null,
            "height": null,
            "justify_content": null,
            "justify_items": null,
            "left": null,
            "margin": null,
            "max_height": null,
            "max_width": null,
            "min_height": null,
            "min_width": null,
            "object_fit": null,
            "object_position": null,
            "order": null,
            "overflow": null,
            "overflow_x": null,
            "overflow_y": null,
            "padding": null,
            "right": null,
            "top": null,
            "visibility": null,
            "width": null
          }
        },
        "e094b428d01f42e4b821e0ccc178c65f": {
          "model_module": "@jupyter-widgets/base",
          "model_module_version": "1.2.0",
          "model_name": "LayoutModel",
          "state": {
            "_model_module": "@jupyter-widgets/base",
            "_model_module_version": "1.2.0",
            "_model_name": "LayoutModel",
            "_view_count": null,
            "_view_module": "@jupyter-widgets/base",
            "_view_module_version": "1.2.0",
            "_view_name": "LayoutView",
            "align_content": null,
            "align_items": null,
            "align_self": null,
            "border": null,
            "bottom": null,
            "display": null,
            "flex": null,
            "flex_flow": null,
            "grid_area": null,
            "grid_auto_columns": null,
            "grid_auto_flow": null,
            "grid_auto_rows": null,
            "grid_column": null,
            "grid_gap": null,
            "grid_row": null,
            "grid_template_areas": null,
            "grid_template_columns": null,
            "grid_template_rows": null,
            "height": null,
            "justify_content": null,
            "justify_items": null,
            "left": null,
            "margin": null,
            "max_height": null,
            "max_width": null,
            "min_height": null,
            "min_width": null,
            "object_fit": null,
            "object_position": null,
            "order": null,
            "overflow": null,
            "overflow_x": null,
            "overflow_y": null,
            "padding": null,
            "right": null,
            "top": null,
            "visibility": null,
            "width": null
          }
        },
        "e331f3a71e6f46f081caa9b93ce925f3": {
          "model_module": "@jupyter-widgets/controls",
          "model_module_version": "1.5.0",
          "model_name": "HTMLModel",
          "state": {
            "_dom_classes": [],
            "_model_module": "@jupyter-widgets/controls",
            "_model_module_version": "1.5.0",
            "_model_name": "HTMLModel",
            "_view_count": null,
            "_view_module": "@jupyter-widgets/controls",
            "_view_module_version": "1.5.0",
            "_view_name": "HTMLView",
            "description": "",
            "description_tooltip": null,
            "layout": "IPY_MODEL_2af093b729724cd68f02923078d61a30",
            "placeholder": "​",
            "style": "IPY_MODEL_99f334f3604d4bdb86af851efd3543e2",
            "value": " 13/13 [00:06&lt;00:00,  2.79it/s, Completed]"
          }
        },
        "e3c3a61108494e11a479f44f2a4c7a97": {
          "model_module": "@jupyter-widgets/controls",
          "model_module_version": "1.5.0",
          "model_name": "HTMLModel",
          "state": {
            "_dom_classes": [],
            "_model_module": "@jupyter-widgets/controls",
            "_model_module_version": "1.5.0",
            "_model_name": "HTMLModel",
            "_view_count": null,
            "_view_module": "@jupyter-widgets/controls",
            "_view_module_version": "1.5.0",
            "_view_name": "HTMLView",
            "description": "",
            "description_tooltip": null,
            "layout": "IPY_MODEL_2623a4eb956642ffa36fda8abc447312",
            "placeholder": "​",
            "style": "IPY_MODEL_a6dfc19fe4b242f88dd0d784e51b9f16",
            "value": " 1/1 [00:00&lt;00:00, 53.70it/s]"
          }
        },
        "e785d1765d4849e997a2e53259d896d6": {
          "model_module": "@jupyter-widgets/controls",
          "model_module_version": "1.5.0",
          "model_name": "ProgressStyleModel",
          "state": {
            "_model_module": "@jupyter-widgets/controls",
            "_model_module_version": "1.5.0",
            "_model_name": "ProgressStyleModel",
            "_view_count": null,
            "_view_module": "@jupyter-widgets/base",
            "_view_module_version": "1.2.0",
            "_view_name": "StyleView",
            "bar_color": null,
            "description_width": ""
          }
        },
        "f026598325244abc93ecc7d5760a0482": {
          "model_module": "@jupyter-widgets/base",
          "model_module_version": "1.2.0",
          "model_name": "LayoutModel",
          "state": {
            "_model_module": "@jupyter-widgets/base",
            "_model_module_version": "1.2.0",
            "_model_name": "LayoutModel",
            "_view_count": null,
            "_view_module": "@jupyter-widgets/base",
            "_view_module_version": "1.2.0",
            "_view_name": "LayoutView",
            "align_content": null,
            "align_items": null,
            "align_self": null,
            "border": null,
            "bottom": null,
            "display": null,
            "flex": null,
            "flex_flow": null,
            "grid_area": null,
            "grid_auto_columns": null,
            "grid_auto_flow": null,
            "grid_auto_rows": null,
            "grid_column": null,
            "grid_gap": null,
            "grid_row": null,
            "grid_template_areas": null,
            "grid_template_columns": null,
            "grid_template_rows": null,
            "height": null,
            "justify_content": null,
            "justify_items": null,
            "left": null,
            "margin": null,
            "max_height": null,
            "max_width": null,
            "min_height": null,
            "min_width": null,
            "object_fit": null,
            "object_position": null,
            "order": null,
            "overflow": null,
            "overflow_x": null,
            "overflow_y": null,
            "padding": null,
            "right": null,
            "top": null,
            "visibility": null,
            "width": null
          }
        },
        "f4269f5e8cde4e7a893ac67ae8e9e067": {
          "model_module": "@jupyter-widgets/controls",
          "model_module_version": "1.5.0",
          "model_name": "HBoxModel",
          "state": {
            "_dom_classes": [],
            "_model_module": "@jupyter-widgets/controls",
            "_model_module_version": "1.5.0",
            "_model_name": "HBoxModel",
            "_view_count": null,
            "_view_module": "@jupyter-widgets/controls",
            "_view_module_version": "1.5.0",
            "_view_name": "HBoxView",
            "box_style": "",
            "children": [
              "IPY_MODEL_ac84020d2e0e480ab07aa57c5a1ba012",
              "IPY_MODEL_1223cb54975142cca68964a7c99989bc",
              "IPY_MODEL_e331f3a71e6f46f081caa9b93ce925f3"
            ],
            "layout": "IPY_MODEL_8fc131633b7543668d96af4e0f41e30f"
          }
        },
        "ffb133cf18104dde9c526d70cf094a5c": {
          "model_module": "@jupyter-widgets/base",
          "model_module_version": "1.2.0",
          "model_name": "LayoutModel",
          "state": {
            "_model_module": "@jupyter-widgets/base",
            "_model_module_version": "1.2.0",
            "_model_name": "LayoutModel",
            "_view_count": null,
            "_view_module": "@jupyter-widgets/base",
            "_view_module_version": "1.2.0",
            "_view_name": "LayoutView",
            "align_content": null,
            "align_items": null,
            "align_self": null,
            "border": null,
            "bottom": null,
            "display": null,
            "flex": null,
            "flex_flow": null,
            "grid_area": null,
            "grid_auto_columns": null,
            "grid_auto_flow": null,
            "grid_auto_rows": null,
            "grid_column": null,
            "grid_gap": null,
            "grid_row": null,
            "grid_template_areas": null,
            "grid_template_columns": null,
            "grid_template_rows": null,
            "height": null,
            "justify_content": null,
            "justify_items": null,
            "left": null,
            "margin": null,
            "max_height": null,
            "max_width": null,
            "min_height": null,
            "min_width": null,
            "object_fit": null,
            "object_position": null,
            "order": null,
            "overflow": null,
            "overflow_x": null,
            "overflow_y": null,
            "padding": null,
            "right": null,
            "top": null,
            "visibility": null,
            "width": null
          }
        }
      }
    }
  },
  "nbformat": 4,
  "nbformat_minor": 0
}
