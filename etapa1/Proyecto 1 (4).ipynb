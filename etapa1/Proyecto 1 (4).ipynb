{
  "cells": [
    {
      "cell_type": "markdown",
      "metadata": {
        "id": "rjhw0nKOOLj2"
      },
      "source": [
        "# Proyecto 1: Clasificación de \"fake news\" con modelos de machine learning\n",
        "\n",
        "\n",
        "\n",
        "**Etapa 1**\n",
        "\n",
        "* Objetivos\n",
        "  * --\n",
        "\n",
        "* Entendimiento de los datos\n",
        "  * --\n",
        "\n",
        "* Preparación y preprocesamiento de los datos\n",
        "  * --\n",
        "\n",
        "* Modelamiento\n",
        "  * --\n",
        "\n",
        "\n",
        "\n",
        "**Grupo:** E1- 26"
      ]
    },
    {
      "cell_type": "markdown",
      "metadata": {
        "id": "4hPEVIUpOLj3"
      },
      "source": [
        "# 1. Objetivos"
      ]
    },
    {
      "cell_type": "markdown",
      "metadata": {
        "id": "UtfQojAF3PEB"
      },
      "source": [
        "# 2. Entendimiento de los datos"
      ]
    },
    {
      "cell_type": "markdown",
      "metadata": {
        "id": "DiiR9EMi3Wdb"
      },
      "source": [
        "## 2.1 Descripción de los datos"
      ]
    },
    {
      "cell_type": "markdown",
      "metadata": {
        "id": "Swruib7x3aVZ"
      },
      "source": [
        "## 2.2 Carga y manipulación basica"
      ]
    },
    {
      "cell_type": "markdown",
      "metadata": {
        "id": "1w9CN4933kFY"
      },
      "source": [
        "### 2.2.1 Importacion y carga de datos:"
      ]
    },
    {
      "cell_type": "code",
      "execution_count": 1,
      "metadata": {
        "colab": {
          "base_uri": "https://localhost:8080/"
        },
        "collapsed": true,
        "id": "4rxkcT2HOLj3",
        "outputId": "7d3b4ea0-ab0d-4ff9-cf46-d32fde516908"
      },
      "outputs": [
        {
          "name": "stdout",
          "output_type": "stream",
          "text": [
            "Found existing installation: numba 0.58.1\n",
            "Uninstalling numba-0.58.1:\n",
            "  Successfully uninstalled numba-0.58.1\n"
          ]
        },
        {
          "name": "stderr",
          "output_type": "stream",
          "text": [
            "WARNING: Failed to remove contents in a temporary directory 'C:\\Users\\juand\\AppData\\Local\\Packages\\PythonSoftwareFoundation.Python.3.11_qbz5n2kfra8p0\\LocalCache\\local-packages\\Python311\\site-packages\\~umba'.\n",
            "You can safely remove it manually.\n",
            "WARNING: Skipping pandas_profiling as it is not installed.\n"
          ]
        },
        {
          "name": "stdout",
          "output_type": "stream",
          "text": [
            "Found existing installation: visions 0.7.6\n",
            "Uninstalling visions-0.7.6:\n",
            "  Successfully uninstalled visions-0.7.6\n",
            "Collecting numba==0.58.1\n",
            "  Using cached numba-0.58.1-cp311-cp311-win_amd64.whl.metadata (2.8 kB)\n",
            "Requirement already satisfied: llvmlite<0.42,>=0.41.0dev0 in c:\\users\\juand\\appdata\\local\\packages\\pythonsoftwarefoundation.python.3.11_qbz5n2kfra8p0\\localcache\\local-packages\\python311\\site-packages (from numba==0.58.1) (0.41.1)\n",
            "Requirement already satisfied: numpy<1.27,>=1.22 in c:\\users\\juand\\appdata\\local\\packages\\pythonsoftwarefoundation.python.3.11_qbz5n2kfra8p0\\localcache\\local-packages\\python311\\site-packages (from numba==0.58.1) (1.26.4)\n",
            "Using cached numba-0.58.1-cp311-cp311-win_amd64.whl (2.6 MB)\n",
            "Installing collected packages: numba\n",
            "Successfully installed numba-0.58.1\n"
          ]
        },
        {
          "name": "stderr",
          "output_type": "stream",
          "text": [
            "\n",
            "[notice] A new release of pip is available: 24.0 -> 25.0.1\n",
            "[notice] To update, run: C:\\Users\\juand\\AppData\\Local\\Microsoft\\WindowsApps\\PythonSoftwareFoundation.Python.3.11_qbz5n2kfra8p0\\python.exe -m pip install --upgrade pip\n"
          ]
        },
        {
          "name": "stdout",
          "output_type": "stream",
          "text": [
            "Requirement already satisfied: ydata-profiling in c:\\users\\juand\\appdata\\local\\packages\\pythonsoftwarefoundation.python.3.11_qbz5n2kfra8p0\\localcache\\local-packages\\python311\\site-packages (4.12.2)\n",
            "Requirement already satisfied: scipy<1.16,>=1.4.1 in c:\\users\\juand\\appdata\\local\\packages\\pythonsoftwarefoundation.python.3.11_qbz5n2kfra8p0\\localcache\\local-packages\\python311\\site-packages (from ydata-profiling) (1.15.1)\n",
            "Requirement already satisfied: pandas!=1.4.0,<3,>1.1 in c:\\users\\juand\\appdata\\local\\packages\\pythonsoftwarefoundation.python.3.11_qbz5n2kfra8p0\\localcache\\local-packages\\python311\\site-packages (from ydata-profiling) (2.2.3)\n",
            "Requirement already satisfied: matplotlib>=3.5 in c:\\users\\juand\\appdata\\local\\packages\\pythonsoftwarefoundation.python.3.11_qbz5n2kfra8p0\\localcache\\local-packages\\python311\\site-packages (from ydata-profiling) (3.10.0)\n",
            "Requirement already satisfied: pydantic>=2 in c:\\users\\juand\\appdata\\local\\packages\\pythonsoftwarefoundation.python.3.11_qbz5n2kfra8p0\\localcache\\local-packages\\python311\\site-packages (from ydata-profiling) (2.10.6)\n",
            "Requirement already satisfied: PyYAML<6.1,>=5.0.0 in c:\\users\\juand\\appdata\\local\\packages\\pythonsoftwarefoundation.python.3.11_qbz5n2kfra8p0\\localcache\\local-packages\\python311\\site-packages (from ydata-profiling) (6.0.2)\n",
            "Requirement already satisfied: jinja2<3.2,>=2.11.1 in c:\\users\\juand\\appdata\\local\\packages\\pythonsoftwarefoundation.python.3.11_qbz5n2kfra8p0\\localcache\\local-packages\\python311\\site-packages (from ydata-profiling) (3.1.5)\n",
            "Collecting visions<0.8.0,>=0.7.5 (from visions[type_image_path]<0.8.0,>=0.7.5->ydata-profiling)\n",
            "  Using cached visions-0.7.6-py3-none-any.whl.metadata (11 kB)\n",
            "Requirement already satisfied: numpy<2.2,>=1.16.0 in c:\\users\\juand\\appdata\\local\\packages\\pythonsoftwarefoundation.python.3.11_qbz5n2kfra8p0\\localcache\\local-packages\\python311\\site-packages (from ydata-profiling) (1.26.4)\n",
            "Requirement already satisfied: htmlmin==0.1.12 in c:\\users\\juand\\appdata\\local\\packages\\pythonsoftwarefoundation.python.3.11_qbz5n2kfra8p0\\localcache\\local-packages\\python311\\site-packages (from ydata-profiling) (0.1.12)\n",
            "Requirement already satisfied: phik<0.13,>=0.11.1 in c:\\users\\juand\\appdata\\local\\packages\\pythonsoftwarefoundation.python.3.11_qbz5n2kfra8p0\\localcache\\local-packages\\python311\\site-packages (from ydata-profiling) (0.12.4)\n",
            "Requirement already satisfied: requests<3,>=2.24.0 in c:\\users\\juand\\appdata\\local\\packages\\pythonsoftwarefoundation.python.3.11_qbz5n2kfra8p0\\localcache\\local-packages\\python311\\site-packages (from ydata-profiling) (2.32.3)\n",
            "Requirement already satisfied: tqdm<5,>=4.48.2 in c:\\users\\juand\\appdata\\local\\packages\\pythonsoftwarefoundation.python.3.11_qbz5n2kfra8p0\\localcache\\local-packages\\python311\\site-packages (from ydata-profiling) (4.67.1)\n",
            "Requirement already satisfied: seaborn<0.14,>=0.10.1 in c:\\users\\juand\\appdata\\local\\packages\\pythonsoftwarefoundation.python.3.11_qbz5n2kfra8p0\\localcache\\local-packages\\python311\\site-packages (from ydata-profiling) (0.13.2)\n",
            "Requirement already satisfied: multimethod<2,>=1.4 in c:\\users\\juand\\appdata\\local\\packages\\pythonsoftwarefoundation.python.3.11_qbz5n2kfra8p0\\localcache\\local-packages\\python311\\site-packages (from ydata-profiling) (1.12)\n",
            "Requirement already satisfied: statsmodels<1,>=0.13.2 in c:\\users\\juand\\appdata\\local\\packages\\pythonsoftwarefoundation.python.3.11_qbz5n2kfra8p0\\localcache\\local-packages\\python311\\site-packages (from ydata-profiling) (0.14.4)\n",
            "Requirement already satisfied: typeguard<5,>=3 in c:\\users\\juand\\appdata\\local\\packages\\pythonsoftwarefoundation.python.3.11_qbz5n2kfra8p0\\localcache\\local-packages\\python311\\site-packages (from ydata-profiling) (4.4.2)\n",
            "Requirement already satisfied: imagehash==4.3.1 in c:\\users\\juand\\appdata\\local\\packages\\pythonsoftwarefoundation.python.3.11_qbz5n2kfra8p0\\localcache\\local-packages\\python311\\site-packages (from ydata-profiling) (4.3.1)\n",
            "Requirement already satisfied: wordcloud>=1.9.3 in c:\\users\\juand\\appdata\\local\\packages\\pythonsoftwarefoundation.python.3.11_qbz5n2kfra8p0\\localcache\\local-packages\\python311\\site-packages (from ydata-profiling) (1.9.4)\n",
            "Requirement already satisfied: dacite>=1.8 in c:\\users\\juand\\appdata\\local\\packages\\pythonsoftwarefoundation.python.3.11_qbz5n2kfra8p0\\localcache\\local-packages\\python311\\site-packages (from ydata-profiling) (1.9.2)\n",
            "Requirement already satisfied: PyWavelets in c:\\users\\juand\\appdata\\local\\packages\\pythonsoftwarefoundation.python.3.11_qbz5n2kfra8p0\\localcache\\local-packages\\python311\\site-packages (from imagehash==4.3.1->ydata-profiling) (1.8.0)\n",
            "Requirement already satisfied: pillow in c:\\users\\juand\\appdata\\local\\packages\\pythonsoftwarefoundation.python.3.11_qbz5n2kfra8p0\\localcache\\local-packages\\python311\\site-packages (from imagehash==4.3.1->ydata-profiling) (11.1.0)\n",
            "Requirement already satisfied: MarkupSafe>=2.0 in c:\\users\\juand\\appdata\\local\\packages\\pythonsoftwarefoundation.python.3.11_qbz5n2kfra8p0\\localcache\\local-packages\\python311\\site-packages (from jinja2<3.2,>=2.11.1->ydata-profiling) (3.0.2)\n",
            "Requirement already satisfied: contourpy>=1.0.1 in c:\\users\\juand\\appdata\\local\\packages\\pythonsoftwarefoundation.python.3.11_qbz5n2kfra8p0\\localcache\\local-packages\\python311\\site-packages (from matplotlib>=3.5->ydata-profiling) (1.3.1)\n",
            "Requirement already satisfied: cycler>=0.10 in c:\\users\\juand\\appdata\\local\\packages\\pythonsoftwarefoundation.python.3.11_qbz5n2kfra8p0\\localcache\\local-packages\\python311\\site-packages (from matplotlib>=3.5->ydata-profiling) (0.12.1)\n",
            "Requirement already satisfied: fonttools>=4.22.0 in c:\\users\\juand\\appdata\\local\\packages\\pythonsoftwarefoundation.python.3.11_qbz5n2kfra8p0\\localcache\\local-packages\\python311\\site-packages (from matplotlib>=3.5->ydata-profiling) (4.56.0)\n",
            "Requirement already satisfied: kiwisolver>=1.3.1 in c:\\users\\juand\\appdata\\local\\packages\\pythonsoftwarefoundation.python.3.11_qbz5n2kfra8p0\\localcache\\local-packages\\python311\\site-packages (from matplotlib>=3.5->ydata-profiling) (1.4.8)\n",
            "Requirement already satisfied: packaging>=20.0 in c:\\users\\juand\\appdata\\local\\packages\\pythonsoftwarefoundation.python.3.11_qbz5n2kfra8p0\\localcache\\local-packages\\python311\\site-packages (from matplotlib>=3.5->ydata-profiling) (24.2)\n",
            "Requirement already satisfied: pyparsing>=2.3.1 in c:\\users\\juand\\appdata\\local\\packages\\pythonsoftwarefoundation.python.3.11_qbz5n2kfra8p0\\localcache\\local-packages\\python311\\site-packages (from matplotlib>=3.5->ydata-profiling) (3.2.1)\n",
            "Requirement already satisfied: python-dateutil>=2.7 in c:\\users\\juand\\appdata\\local\\packages\\pythonsoftwarefoundation.python.3.11_qbz5n2kfra8p0\\localcache\\local-packages\\python311\\site-packages (from matplotlib>=3.5->ydata-profiling) (2.9.0.post0)\n",
            "Requirement already satisfied: pytz>=2020.1 in c:\\users\\juand\\appdata\\local\\packages\\pythonsoftwarefoundation.python.3.11_qbz5n2kfra8p0\\localcache\\local-packages\\python311\\site-packages (from pandas!=1.4.0,<3,>1.1->ydata-profiling) (2025.1)\n",
            "Requirement already satisfied: tzdata>=2022.7 in c:\\users\\juand\\appdata\\local\\packages\\pythonsoftwarefoundation.python.3.11_qbz5n2kfra8p0\\localcache\\local-packages\\python311\\site-packages (from pandas!=1.4.0,<3,>1.1->ydata-profiling) (2025.1)\n",
            "Requirement already satisfied: joblib>=0.14.1 in c:\\users\\juand\\appdata\\local\\packages\\pythonsoftwarefoundation.python.3.11_qbz5n2kfra8p0\\localcache\\local-packages\\python311\\site-packages (from phik<0.13,>=0.11.1->ydata-profiling) (1.4.2)\n",
            "Requirement already satisfied: annotated-types>=0.6.0 in c:\\users\\juand\\appdata\\local\\packages\\pythonsoftwarefoundation.python.3.11_qbz5n2kfra8p0\\localcache\\local-packages\\python311\\site-packages (from pydantic>=2->ydata-profiling) (0.7.0)\n",
            "Requirement already satisfied: pydantic-core==2.27.2 in c:\\users\\juand\\appdata\\local\\packages\\pythonsoftwarefoundation.python.3.11_qbz5n2kfra8p0\\localcache\\local-packages\\python311\\site-packages (from pydantic>=2->ydata-profiling) (2.27.2)\n",
            "Requirement already satisfied: typing-extensions>=4.12.2 in c:\\users\\juand\\appdata\\local\\packages\\pythonsoftwarefoundation.python.3.11_qbz5n2kfra8p0\\localcache\\local-packages\\python311\\site-packages (from pydantic>=2->ydata-profiling) (4.12.2)\n",
            "Requirement already satisfied: charset-normalizer<4,>=2 in c:\\users\\juand\\appdata\\local\\packages\\pythonsoftwarefoundation.python.3.11_qbz5n2kfra8p0\\localcache\\local-packages\\python311\\site-packages (from requests<3,>=2.24.0->ydata-profiling) (3.4.1)\n",
            "Requirement already satisfied: idna<4,>=2.5 in c:\\users\\juand\\appdata\\local\\packages\\pythonsoftwarefoundation.python.3.11_qbz5n2kfra8p0\\localcache\\local-packages\\python311\\site-packages (from requests<3,>=2.24.0->ydata-profiling) (3.10)\n",
            "Requirement already satisfied: urllib3<3,>=1.21.1 in c:\\users\\juand\\appdata\\local\\packages\\pythonsoftwarefoundation.python.3.11_qbz5n2kfra8p0\\localcache\\local-packages\\python311\\site-packages (from requests<3,>=2.24.0->ydata-profiling) (2.3.0)\n",
            "Requirement already satisfied: certifi>=2017.4.17 in c:\\users\\juand\\appdata\\local\\packages\\pythonsoftwarefoundation.python.3.11_qbz5n2kfra8p0\\localcache\\local-packages\\python311\\site-packages (from requests<3,>=2.24.0->ydata-profiling) (2025.1.31)\n",
            "Requirement already satisfied: patsy>=0.5.6 in c:\\users\\juand\\appdata\\local\\packages\\pythonsoftwarefoundation.python.3.11_qbz5n2kfra8p0\\localcache\\local-packages\\python311\\site-packages (from statsmodels<1,>=0.13.2->ydata-profiling) (1.0.1)\n",
            "Requirement already satisfied: colorama in c:\\users\\juand\\appdata\\local\\packages\\pythonsoftwarefoundation.python.3.11_qbz5n2kfra8p0\\localcache\\local-packages\\python311\\site-packages (from tqdm<5,>=4.48.2->ydata-profiling) (0.4.6)\n",
            "Requirement already satisfied: attrs>=19.3.0 in c:\\users\\juand\\appdata\\local\\packages\\pythonsoftwarefoundation.python.3.11_qbz5n2kfra8p0\\localcache\\local-packages\\python311\\site-packages (from visions<0.8.0,>=0.7.5->visions[type_image_path]<0.8.0,>=0.7.5->ydata-profiling) (25.1.0)\n",
            "Requirement already satisfied: networkx>=2.4 in c:\\users\\juand\\appdata\\local\\packages\\pythonsoftwarefoundation.python.3.11_qbz5n2kfra8p0\\localcache\\local-packages\\python311\\site-packages (from visions<0.8.0,>=0.7.5->visions[type_image_path]<0.8.0,>=0.7.5->ydata-profiling) (3.4.2)\n",
            "Requirement already satisfied: six>=1.5 in c:\\users\\juand\\appdata\\local\\packages\\pythonsoftwarefoundation.python.3.11_qbz5n2kfra8p0\\localcache\\local-packages\\python311\\site-packages (from python-dateutil>=2.7->matplotlib>=3.5->ydata-profiling) (1.17.0)\n",
            "Using cached visions-0.7.6-py3-none-any.whl (104 kB)\n",
            "Installing collected packages: visions\n",
            "Successfully installed visions-0.7.6\n"
          ]
        },
        {
          "name": "stderr",
          "output_type": "stream",
          "text": [
            "\n",
            "[notice] A new release of pip is available: 24.0 -> 25.0.1\n",
            "[notice] To update, run: C:\\Users\\juand\\AppData\\Local\\Microsoft\\WindowsApps\\PythonSoftwareFoundation.Python.3.11_qbz5n2kfra8p0\\python.exe -m pip install --upgrade pip\n"
          ]
        },
        {
          "name": "stdout",
          "output_type": "stream",
          "text": [
            "Requirement already satisfied: plotly in c:\\users\\juand\\appdata\\local\\packages\\pythonsoftwarefoundation.python.3.11_qbz5n2kfra8p0\\localcache\\local-packages\\python311\\site-packages (6.0.0)\n",
            "Requirement already satisfied: narwhals>=1.15.1 in c:\\users\\juand\\appdata\\local\\packages\\pythonsoftwarefoundation.python.3.11_qbz5n2kfra8p0\\localcache\\local-packages\\python311\\site-packages (from plotly) (1.27.1)\n",
            "Requirement already satisfied: packaging in c:\\users\\juand\\appdata\\local\\packages\\pythonsoftwarefoundation.python.3.11_qbz5n2kfra8p0\\localcache\\local-packages\\python311\\site-packages (from plotly) (24.2)\n"
          ]
        },
        {
          "name": "stderr",
          "output_type": "stream",
          "text": [
            "\n",
            "[notice] A new release of pip is available: 24.0 -> 25.0.1\n",
            "[notice] To update, run: C:\\Users\\juand\\AppData\\Local\\Microsoft\\WindowsApps\\PythonSoftwareFoundation.Python.3.11_qbz5n2kfra8p0\\python.exe -m pip install --upgrade pip\n"
          ]
        },
        {
          "name": "stdout",
          "output_type": "stream",
          "text": [
            "Requirement already satisfied: spacy in c:\\users\\juand\\appdata\\local\\packages\\pythonsoftwarefoundation.python.3.11_qbz5n2kfra8p0\\localcache\\local-packages\\python311\\site-packages (3.8.4)\n",
            "Requirement already satisfied: spacy-legacy<3.1.0,>=3.0.11 in c:\\users\\juand\\appdata\\local\\packages\\pythonsoftwarefoundation.python.3.11_qbz5n2kfra8p0\\localcache\\local-packages\\python311\\site-packages (from spacy) (3.0.12)\n",
            "Requirement already satisfied: spacy-loggers<2.0.0,>=1.0.0 in c:\\users\\juand\\appdata\\local\\packages\\pythonsoftwarefoundation.python.3.11_qbz5n2kfra8p0\\localcache\\local-packages\\python311\\site-packages (from spacy) (1.0.5)\n",
            "Requirement already satisfied: murmurhash<1.1.0,>=0.28.0 in c:\\users\\juand\\appdata\\local\\packages\\pythonsoftwarefoundation.python.3.11_qbz5n2kfra8p0\\localcache\\local-packages\\python311\\site-packages (from spacy) (1.0.12)\n",
            "Requirement already satisfied: cymem<2.1.0,>=2.0.2 in c:\\users\\juand\\appdata\\local\\packages\\pythonsoftwarefoundation.python.3.11_qbz5n2kfra8p0\\localcache\\local-packages\\python311\\site-packages (from spacy) (2.0.11)\n",
            "Requirement already satisfied: preshed<3.1.0,>=3.0.2 in c:\\users\\juand\\appdata\\local\\packages\\pythonsoftwarefoundation.python.3.11_qbz5n2kfra8p0\\localcache\\local-packages\\python311\\site-packages (from spacy) (3.0.9)\n",
            "Requirement already satisfied: thinc<8.4.0,>=8.3.4 in c:\\users\\juand\\appdata\\local\\packages\\pythonsoftwarefoundation.python.3.11_qbz5n2kfra8p0\\localcache\\local-packages\\python311\\site-packages (from spacy) (8.3.4)\n",
            "Requirement already satisfied: wasabi<1.2.0,>=0.9.1 in c:\\users\\juand\\appdata\\local\\packages\\pythonsoftwarefoundation.python.3.11_qbz5n2kfra8p0\\localcache\\local-packages\\python311\\site-packages (from spacy) (1.1.3)\n",
            "Requirement already satisfied: srsly<3.0.0,>=2.4.3 in c:\\users\\juand\\appdata\\local\\packages\\pythonsoftwarefoundation.python.3.11_qbz5n2kfra8p0\\localcache\\local-packages\\python311\\site-packages (from spacy) (2.5.1)\n",
            "Requirement already satisfied: catalogue<2.1.0,>=2.0.6 in c:\\users\\juand\\appdata\\local\\packages\\pythonsoftwarefoundation.python.3.11_qbz5n2kfra8p0\\localcache\\local-packages\\python311\\site-packages (from spacy) (2.0.10)\n",
            "Requirement already satisfied: weasel<0.5.0,>=0.1.0 in c:\\users\\juand\\appdata\\local\\packages\\pythonsoftwarefoundation.python.3.11_qbz5n2kfra8p0\\localcache\\local-packages\\python311\\site-packages (from spacy) (0.4.1)\n",
            "Requirement already satisfied: typer<1.0.0,>=0.3.0 in c:\\users\\juand\\appdata\\local\\packages\\pythonsoftwarefoundation.python.3.11_qbz5n2kfra8p0\\localcache\\local-packages\\python311\\site-packages (from spacy) (0.15.1)\n",
            "Requirement already satisfied: tqdm<5.0.0,>=4.38.0 in c:\\users\\juand\\appdata\\local\\packages\\pythonsoftwarefoundation.python.3.11_qbz5n2kfra8p0\\localcache\\local-packages\\python311\\site-packages (from spacy) (4.67.1)\n",
            "Requirement already satisfied: numpy>=1.19.0 in c:\\users\\juand\\appdata\\local\\packages\\pythonsoftwarefoundation.python.3.11_qbz5n2kfra8p0\\localcache\\local-packages\\python311\\site-packages (from spacy) (1.26.4)\n",
            "Requirement already satisfied: requests<3.0.0,>=2.13.0 in c:\\users\\juand\\appdata\\local\\packages\\pythonsoftwarefoundation.python.3.11_qbz5n2kfra8p0\\localcache\\local-packages\\python311\\site-packages (from spacy) (2.32.3)\n",
            "Requirement already satisfied: pydantic!=1.8,!=1.8.1,<3.0.0,>=1.7.4 in c:\\users\\juand\\appdata\\local\\packages\\pythonsoftwarefoundation.python.3.11_qbz5n2kfra8p0\\localcache\\local-packages\\python311\\site-packages (from spacy) (2.10.6)\n",
            "Requirement already satisfied: jinja2 in c:\\users\\juand\\appdata\\local\\packages\\pythonsoftwarefoundation.python.3.11_qbz5n2kfra8p0\\localcache\\local-packages\\python311\\site-packages (from spacy) (3.1.5)\n",
            "Requirement already satisfied: setuptools in c:\\program files\\windowsapps\\pythonsoftwarefoundation.python.3.11_3.11.2544.0_x64__qbz5n2kfra8p0\\lib\\site-packages (from spacy) (65.5.0)\n",
            "Requirement already satisfied: packaging>=20.0 in c:\\users\\juand\\appdata\\local\\packages\\pythonsoftwarefoundation.python.3.11_qbz5n2kfra8p0\\localcache\\local-packages\\python311\\site-packages (from spacy) (24.2)\n",
            "Requirement already satisfied: langcodes<4.0.0,>=3.2.0 in c:\\users\\juand\\appdata\\local\\packages\\pythonsoftwarefoundation.python.3.11_qbz5n2kfra8p0\\localcache\\local-packages\\python311\\site-packages (from spacy) (3.5.0)\n",
            "Requirement already satisfied: language-data>=1.2 in c:\\users\\juand\\appdata\\local\\packages\\pythonsoftwarefoundation.python.3.11_qbz5n2kfra8p0\\localcache\\local-packages\\python311\\site-packages (from langcodes<4.0.0,>=3.2.0->spacy) (1.3.0)\n",
            "Requirement already satisfied: annotated-types>=0.6.0 in c:\\users\\juand\\appdata\\local\\packages\\pythonsoftwarefoundation.python.3.11_qbz5n2kfra8p0\\localcache\\local-packages\\python311\\site-packages (from pydantic!=1.8,!=1.8.1,<3.0.0,>=1.7.4->spacy) (0.7.0)\n",
            "Requirement already satisfied: pydantic-core==2.27.2 in c:\\users\\juand\\appdata\\local\\packages\\pythonsoftwarefoundation.python.3.11_qbz5n2kfra8p0\\localcache\\local-packages\\python311\\site-packages (from pydantic!=1.8,!=1.8.1,<3.0.0,>=1.7.4->spacy) (2.27.2)\n",
            "Requirement already satisfied: typing-extensions>=4.12.2 in c:\\users\\juand\\appdata\\local\\packages\\pythonsoftwarefoundation.python.3.11_qbz5n2kfra8p0\\localcache\\local-packages\\python311\\site-packages (from pydantic!=1.8,!=1.8.1,<3.0.0,>=1.7.4->spacy) (4.12.2)\n",
            "Requirement already satisfied: charset-normalizer<4,>=2 in c:\\users\\juand\\appdata\\local\\packages\\pythonsoftwarefoundation.python.3.11_qbz5n2kfra8p0\\localcache\\local-packages\\python311\\site-packages (from requests<3.0.0,>=2.13.0->spacy) (3.4.1)\n",
            "Requirement already satisfied: idna<4,>=2.5 in c:\\users\\juand\\appdata\\local\\packages\\pythonsoftwarefoundation.python.3.11_qbz5n2kfra8p0\\localcache\\local-packages\\python311\\site-packages (from requests<3.0.0,>=2.13.0->spacy) (3.10)\n",
            "Requirement already satisfied: urllib3<3,>=1.21.1 in c:\\users\\juand\\appdata\\local\\packages\\pythonsoftwarefoundation.python.3.11_qbz5n2kfra8p0\\localcache\\local-packages\\python311\\site-packages (from requests<3.0.0,>=2.13.0->spacy) (2.3.0)\n",
            "Requirement already satisfied: certifi>=2017.4.17 in c:\\users\\juand\\appdata\\local\\packages\\pythonsoftwarefoundation.python.3.11_qbz5n2kfra8p0\\localcache\\local-packages\\python311\\site-packages (from requests<3.0.0,>=2.13.0->spacy) (2025.1.31)\n",
            "Requirement already satisfied: blis<1.3.0,>=1.2.0 in c:\\users\\juand\\appdata\\local\\packages\\pythonsoftwarefoundation.python.3.11_qbz5n2kfra8p0\\localcache\\local-packages\\python311\\site-packages (from thinc<8.4.0,>=8.3.4->spacy) (1.2.0)\n",
            "Requirement already satisfied: confection<1.0.0,>=0.0.1 in c:\\users\\juand\\appdata\\local\\packages\\pythonsoftwarefoundation.python.3.11_qbz5n2kfra8p0\\localcache\\local-packages\\python311\\site-packages (from thinc<8.4.0,>=8.3.4->spacy) (0.1.5)\n",
            "Requirement already satisfied: colorama in c:\\users\\juand\\appdata\\local\\packages\\pythonsoftwarefoundation.python.3.11_qbz5n2kfra8p0\\localcache\\local-packages\\python311\\site-packages (from tqdm<5.0.0,>=4.38.0->spacy) (0.4.6)\n",
            "Requirement already satisfied: click>=8.0.0 in c:\\users\\juand\\appdata\\local\\packages\\pythonsoftwarefoundation.python.3.11_qbz5n2kfra8p0\\localcache\\local-packages\\python311\\site-packages (from typer<1.0.0,>=0.3.0->spacy) (8.1.8)\n",
            "Requirement already satisfied: shellingham>=1.3.0 in c:\\users\\juand\\appdata\\local\\packages\\pythonsoftwarefoundation.python.3.11_qbz5n2kfra8p0\\localcache\\local-packages\\python311\\site-packages (from typer<1.0.0,>=0.3.0->spacy) (1.5.4)\n",
            "Requirement already satisfied: rich>=10.11.0 in c:\\users\\juand\\appdata\\local\\packages\\pythonsoftwarefoundation.python.3.11_qbz5n2kfra8p0\\localcache\\local-packages\\python311\\site-packages (from typer<1.0.0,>=0.3.0->spacy) (13.9.4)\n",
            "Requirement already satisfied: cloudpathlib<1.0.0,>=0.7.0 in c:\\users\\juand\\appdata\\local\\packages\\pythonsoftwarefoundation.python.3.11_qbz5n2kfra8p0\\localcache\\local-packages\\python311\\site-packages (from weasel<0.5.0,>=0.1.0->spacy) (0.20.0)\n",
            "Requirement already satisfied: smart-open<8.0.0,>=5.2.1 in c:\\users\\juand\\appdata\\local\\packages\\pythonsoftwarefoundation.python.3.11_qbz5n2kfra8p0\\localcache\\local-packages\\python311\\site-packages (from weasel<0.5.0,>=0.1.0->spacy) (7.1.0)\n",
            "Requirement already satisfied: MarkupSafe>=2.0 in c:\\users\\juand\\appdata\\local\\packages\\pythonsoftwarefoundation.python.3.11_qbz5n2kfra8p0\\localcache\\local-packages\\python311\\site-packages (from jinja2->spacy) (3.0.2)\n",
            "Requirement already satisfied: marisa-trie>=1.1.0 in c:\\users\\juand\\appdata\\local\\packages\\pythonsoftwarefoundation.python.3.11_qbz5n2kfra8p0\\localcache\\local-packages\\python311\\site-packages (from language-data>=1.2->langcodes<4.0.0,>=3.2.0->spacy) (1.2.1)\n",
            "Requirement already satisfied: markdown-it-py>=2.2.0 in c:\\users\\juand\\appdata\\local\\packages\\pythonsoftwarefoundation.python.3.11_qbz5n2kfra8p0\\localcache\\local-packages\\python311\\site-packages (from rich>=10.11.0->typer<1.0.0,>=0.3.0->spacy) (3.0.0)\n",
            "Requirement already satisfied: pygments<3.0.0,>=2.13.0 in c:\\users\\juand\\appdata\\local\\packages\\pythonsoftwarefoundation.python.3.11_qbz5n2kfra8p0\\localcache\\local-packages\\python311\\site-packages (from rich>=10.11.0->typer<1.0.0,>=0.3.0->spacy) (2.19.1)\n",
            "Requirement already satisfied: wrapt in c:\\users\\juand\\appdata\\local\\packages\\pythonsoftwarefoundation.python.3.11_qbz5n2kfra8p0\\localcache\\local-packages\\python311\\site-packages (from smart-open<8.0.0,>=5.2.1->weasel<0.5.0,>=0.1.0->spacy) (1.17.2)\n",
            "Requirement already satisfied: mdurl~=0.1 in c:\\users\\juand\\appdata\\local\\packages\\pythonsoftwarefoundation.python.3.11_qbz5n2kfra8p0\\localcache\\local-packages\\python311\\site-packages (from markdown-it-py>=2.2.0->rich>=10.11.0->typer<1.0.0,>=0.3.0->spacy) (0.1.2)\n"
          ]
        },
        {
          "name": "stderr",
          "output_type": "stream",
          "text": [
            "\n",
            "[notice] A new release of pip is available: 24.0 -> 25.0.1\n",
            "[notice] To update, run: C:\\Users\\juand\\AppData\\Local\\Microsoft\\WindowsApps\\PythonSoftwareFoundation.Python.3.11_qbz5n2kfra8p0\\python.exe -m pip install --upgrade pip\n"
          ]
        },
        {
          "name": "stdout",
          "output_type": "stream",
          "text": [
            "Collecting es-core-news-sm==3.8.0\n",
            "  Downloading https://github.com/explosion/spacy-models/releases/download/es_core_news_sm-3.8.0/es_core_news_sm-3.8.0-py3-none-any.whl (12.9 MB)\n",
            "     ---------------------------------------- 0.0/12.9 MB ? eta -:--:--\n",
            "     --------------------------------------- 0.0/12.9 MB 320.0 kB/s eta 0:00:41\n",
            "     --------------------------------------- 0.1/12.9 MB 656.4 kB/s eta 0:00:20\n",
            "     - -------------------------------------- 0.6/12.9 MB 4.3 MB/s eta 0:00:03\n",
            "     --------- ------------------------------ 3.1/12.9 MB 17.7 MB/s eta 0:00:01\n",
            "     ------------------- -------------------- 6.2/12.9 MB 28.1 MB/s eta 0:00:01\n",
            "     ----------------------------- ---------- 9.5/12.9 MB 35.6 MB/s eta 0:00:01\n",
            "     ------------------------------------ -- 12.2/12.9 MB 65.6 MB/s eta 0:00:01\n",
            "     --------------------------------------  12.9/12.9 MB 72.6 MB/s eta 0:00:01\n",
            "     --------------------------------------- 12.9/12.9 MB 54.4 MB/s eta 0:00:00\n",
            "\u001b[38;5;2m✔ Download and installation successful\u001b[0m\n",
            "You can now load the package via spacy.load('es_core_news_sm')\n"
          ]
        },
        {
          "name": "stderr",
          "output_type": "stream",
          "text": [
            "\n",
            "[notice] A new release of pip is available: 24.0 -> 25.0.1\n",
            "[notice] To update, run: C:\\Users\\juand\\AppData\\Local\\Microsoft\\WindowsApps\\PythonSoftwareFoundation.Python.3.11_qbz5n2kfra8p0\\python.exe -m pip install --upgrade pip\n"
          ]
        },
        {
          "name": "stdout",
          "output_type": "stream",
          "text": [
            "Requirement already satisfied: nbformat in c:\\users\\juand\\appdata\\local\\packages\\pythonsoftwarefoundation.python.3.11_qbz5n2kfra8p0\\localcache\\local-packages\\python311\\site-packages (5.10.4)\n",
            "Requirement already satisfied: fastjsonschema>=2.15 in c:\\users\\juand\\appdata\\local\\packages\\pythonsoftwarefoundation.python.3.11_qbz5n2kfra8p0\\localcache\\local-packages\\python311\\site-packages (from nbformat) (2.21.1)\n",
            "Requirement already satisfied: jsonschema>=2.6 in c:\\users\\juand\\appdata\\local\\packages\\pythonsoftwarefoundation.python.3.11_qbz5n2kfra8p0\\localcache\\local-packages\\python311\\site-packages (from nbformat) (4.23.0)\n",
            "Requirement already satisfied: jupyter-core!=5.0.*,>=4.12 in c:\\users\\juand\\appdata\\local\\packages\\pythonsoftwarefoundation.python.3.11_qbz5n2kfra8p0\\localcache\\local-packages\\python311\\site-packages (from nbformat) (5.7.2)\n",
            "Requirement already satisfied: traitlets>=5.1 in c:\\users\\juand\\appdata\\local\\packages\\pythonsoftwarefoundation.python.3.11_qbz5n2kfra8p0\\localcache\\local-packages\\python311\\site-packages (from nbformat) (5.14.3)\n",
            "Requirement already satisfied: attrs>=22.2.0 in c:\\users\\juand\\appdata\\local\\packages\\pythonsoftwarefoundation.python.3.11_qbz5n2kfra8p0\\localcache\\local-packages\\python311\\site-packages (from jsonschema>=2.6->nbformat) (25.1.0)\n",
            "Requirement already satisfied: jsonschema-specifications>=2023.03.6 in c:\\users\\juand\\appdata\\local\\packages\\pythonsoftwarefoundation.python.3.11_qbz5n2kfra8p0\\localcache\\local-packages\\python311\\site-packages (from jsonschema>=2.6->nbformat) (2024.10.1)\n",
            "Requirement already satisfied: referencing>=0.28.4 in c:\\users\\juand\\appdata\\local\\packages\\pythonsoftwarefoundation.python.3.11_qbz5n2kfra8p0\\localcache\\local-packages\\python311\\site-packages (from jsonschema>=2.6->nbformat) (0.36.2)\n",
            "Requirement already satisfied: rpds-py>=0.7.1 in c:\\users\\juand\\appdata\\local\\packages\\pythonsoftwarefoundation.python.3.11_qbz5n2kfra8p0\\localcache\\local-packages\\python311\\site-packages (from jsonschema>=2.6->nbformat) (0.23.1)\n",
            "Requirement already satisfied: platformdirs>=2.5 in c:\\users\\juand\\appdata\\local\\packages\\pythonsoftwarefoundation.python.3.11_qbz5n2kfra8p0\\localcache\\local-packages\\python311\\site-packages (from jupyter-core!=5.0.*,>=4.12->nbformat) (4.3.6)\n",
            "Requirement already satisfied: pywin32>=300 in c:\\users\\juand\\appdata\\local\\packages\\pythonsoftwarefoundation.python.3.11_qbz5n2kfra8p0\\localcache\\local-packages\\python311\\site-packages (from jupyter-core!=5.0.*,>=4.12->nbformat) (308)\n",
            "Requirement already satisfied: typing-extensions>=4.4.0 in c:\\users\\juand\\appdata\\local\\packages\\pythonsoftwarefoundation.python.3.11_qbz5n2kfra8p0\\localcache\\local-packages\\python311\\site-packages (from referencing>=0.28.4->jsonschema>=2.6->nbformat) (4.12.2)\n",
            "Note: you may need to restart the kernel to use updated packages.\n"
          ]
        },
        {
          "name": "stderr",
          "output_type": "stream",
          "text": [
            "\n",
            "[notice] A new release of pip is available: 24.0 -> 25.0.1\n",
            "[notice] To update, run: C:\\Users\\juand\\AppData\\Local\\Microsoft\\WindowsApps\\PythonSoftwareFoundation.Python.3.11_qbz5n2kfra8p0\\python.exe -m pip install --upgrade pip\n"
          ]
        },
        {
          "name": "stdout",
          "output_type": "stream",
          "text": [
            "Requirement already satisfied: nltk in c:\\users\\juand\\appdata\\local\\packages\\pythonsoftwarefoundation.python.3.11_qbz5n2kfra8p0\\localcache\\local-packages\\python311\\site-packages (3.9.1)\n",
            "Requirement already satisfied: click in c:\\users\\juand\\appdata\\local\\packages\\pythonsoftwarefoundation.python.3.11_qbz5n2kfra8p0\\localcache\\local-packages\\python311\\site-packages (from nltk) (8.1.8)\n",
            "Requirement already satisfied: joblib in c:\\users\\juand\\appdata\\local\\packages\\pythonsoftwarefoundation.python.3.11_qbz5n2kfra8p0\\localcache\\local-packages\\python311\\site-packages (from nltk) (1.4.2)\n",
            "Requirement already satisfied: regex>=2021.8.3 in c:\\users\\juand\\appdata\\local\\packages\\pythonsoftwarefoundation.python.3.11_qbz5n2kfra8p0\\localcache\\local-packages\\python311\\site-packages (from nltk) (2024.11.6)\n",
            "Requirement already satisfied: tqdm in c:\\users\\juand\\appdata\\local\\packages\\pythonsoftwarefoundation.python.3.11_qbz5n2kfra8p0\\localcache\\local-packages\\python311\\site-packages (from nltk) (4.67.1)\n",
            "Requirement already satisfied: colorama in c:\\users\\juand\\appdata\\local\\packages\\pythonsoftwarefoundation.python.3.11_qbz5n2kfra8p0\\localcache\\local-packages\\python311\\site-packages (from click->nltk) (0.4.6)\n"
          ]
        },
        {
          "name": "stderr",
          "output_type": "stream",
          "text": [
            "\n",
            "[notice] A new release of pip is available: 24.0 -> 25.0.1\n",
            "[notice] To update, run: C:\\Users\\juand\\AppData\\Local\\Microsoft\\WindowsApps\\PythonSoftwareFoundation.Python.3.11_qbz5n2kfra8p0\\python.exe -m pip install --upgrade pip\n",
            "[nltk_data] Downloading package punkt to\n",
            "[nltk_data]     C:\\Users\\juand\\AppData\\Roaming\\nltk_data...\n",
            "[nltk_data]   Package punkt is already up-to-date!\n",
            "[nltk_data] Downloading package punkt_tab to\n",
            "[nltk_data]     C:\\Users\\juand\\AppData\\Roaming\\nltk_data...\n",
            "[nltk_data]   Package punkt_tab is already up-to-date!\n",
            "[nltk_data] Downloading package stopwords to\n",
            "[nltk_data]     C:\\Users\\juand\\AppData\\Roaming\\nltk_data...\n",
            "[nltk_data]   Package stopwords is already up-to-date!\n"
          ]
        }
      ],
      "source": [
        "# Uninstall numba, pandas_profiling and visions to clear any existing installation\n",
        "!pip uninstall numba -y\n",
        "!pip uninstall pandas_profiling -y\n",
        "!pip uninstall visions -y\n",
        "\n",
        "# Install the necessary modules\n",
        "!pip install numba==0.58.1\n",
        "!pip install ydata-profiling\n",
        "# Librerias generales\n",
        "# Pandas\n",
        "import pandas as pd\n",
        "pd.set_option('display.max_columns', 25) # Número máximo de columnas a mostrar\n",
        "pd.set_option('display.max_rows', 50) # Número máximo de filas a mostar\n",
        "# Ranom seed\n",
        "import numpy as np\n",
        "np.random.seed(3301)\n",
        "\n",
        "# Seaborn\n",
        "import seaborn as sns\n",
        "\n",
        "# Matplolib\n",
        "%matplotlib inline\n",
        "import matplotlib.pyplot as plt\n",
        "\n",
        "# Plotly\n",
        "!pip install plotly\n",
        "import plotly.express as px\n",
        "\n",
        "#Limpieza de datos\n",
        "\n",
        "!pip install spacy\n",
        "!python -m spacy download es_core_news_sm\n",
        "%pip install nbformat\n",
        "\n",
        "!pip install nltk\n",
        "import nltk\n",
        "nltk.download('punkt')\n",
        "nltk.download('punkt_tab')\n",
        "nltk.download('stopwords')\n",
        "\n",
        "from nltk.corpus import stopwords\n",
        "from nltk.tokenize import word_tokenize\n",
        "import spacy\n",
        "import re\n",
        "import unicodedata\n",
        "\n",
        "# Descargar e inicializar spaCy en español\n",
        "import os\n",
        "if not os.path.exists(spacy.util.get_package_path(\"es_core_news_sm\")):\n",
        "    spacy.cli.download(\"es_core_news_sm\")\n",
        "\n",
        "nlp = spacy.load(\"es_core_news_sm\", disable=[\"ner\", \"textcat\"])"
      ]
    },
    {
      "cell_type": "code",
      "execution_count": 4,
      "metadata": {
        "id": "jOnWwkMTOLj3"
      },
      "outputs": [],
      "source": [
        "# Ubicación de la base de datos\n",
        "db_location = 'fake_news_spanish.csv'"
      ]
    },
    {
      "cell_type": "code",
      "execution_count": 5,
      "metadata": {
        "id": "eoYKtPV_OLj4"
      },
      "outputs": [],
      "source": [
        "# Cargar los datos\n",
        "df = pd.read_csv(db_location, sep=';', encoding = \"utf-8\")"
      ]
    },
    {
      "cell_type": "markdown",
      "metadata": {
        "id": "DJGfPbKk3sSo"
      },
      "source": [
        "### 2.2.2 Limpieza"
      ]
    },
    {
      "cell_type": "code",
      "execution_count": 7,
      "metadata": {
        "colab": {
          "base_uri": "https://localhost:8080/",
          "height": 583
        },
        "id": "vBhtKty4OLj4",
        "outputId": "6c1588d4-1cb2-47ce-ec2d-6397e00073c1"
      },
      "outputs": [
        {
          "data": {
            "text/html": [
              "<div>\n",
              "<style scoped>\n",
              "    .dataframe tbody tr th:only-of-type {\n",
              "        vertical-align: middle;\n",
              "    }\n",
              "\n",
              "    .dataframe tbody tr th {\n",
              "        vertical-align: top;\n",
              "    }\n",
              "\n",
              "    .dataframe thead th {\n",
              "        text-align: right;\n",
              "    }\n",
              "</style>\n",
              "<table border=\"1\" class=\"dataframe\">\n",
              "  <thead>\n",
              "    <tr style=\"text-align: right;\">\n",
              "      <th></th>\n",
              "      <th>ID</th>\n",
              "      <th>Label</th>\n",
              "      <th>Titulo</th>\n",
              "      <th>Descripcion</th>\n",
              "      <th>Fecha</th>\n",
              "    </tr>\n",
              "  </thead>\n",
              "  <tbody>\n",
              "    <tr>\n",
              "      <th>15685</th>\n",
              "      <td>ID</td>\n",
              "      <td>1</td>\n",
              "      <td>Bárcenas y Rosalía Iglesias no coincidirán en ...</td>\n",
              "      <td>El extesorero del PP había solicitado su trasl...</td>\n",
              "      <td>26/11/2020</td>\n",
              "    </tr>\n",
              "    <tr>\n",
              "      <th>51335</th>\n",
              "      <td>ID</td>\n",
              "      <td>1</td>\n",
              "      <td>La Atención Primaria catalana atiende la covid...</td>\n",
              "      <td>Los sindicatos denuncian que no hay suficiente...</td>\n",
              "      <td>13/09/2020</td>\n",
              "    </tr>\n",
              "    <tr>\n",
              "      <th>48201</th>\n",
              "      <td>ID</td>\n",
              "      <td>1</td>\n",
              "      <td>La sombra de la corrupción del PP de Almería p...</td>\n",
              "      <td>Un juzgado llama a declarar a Carmen Crespo co...</td>\n",
              "      <td>03/01/2022</td>\n",
              "    </tr>\n",
              "    <tr>\n",
              "      <th>32151</th>\n",
              "      <td>ID</td>\n",
              "      <td>1</td>\n",
              "      <td>Gobierno y PP cierran la renovación del Consti...</td>\n",
              "      <td>El Ejecutivo y la oposición pactan la renovaci...</td>\n",
              "      <td>21/10/2021</td>\n",
              "    </tr>\n",
              "    <tr>\n",
              "      <th>48626</th>\n",
              "      <td>ID</td>\n",
              "      <td>1</td>\n",
              "      <td>El Barómetro de València pregunta por primera ...</td>\n",
              "      <td>El Ayuntamiento defiende que es un tema que es...</td>\n",
              "      <td>16/10/2020</td>\n",
              "    </tr>\n",
              "  </tbody>\n",
              "</table>\n",
              "</div>"
            ],
            "text/plain": [
              "       ID  Label                                             Titulo  \\\n",
              "15685  ID      1  Bárcenas y Rosalía Iglesias no coincidirán en ...   \n",
              "51335  ID      1  La Atención Primaria catalana atiende la covid...   \n",
              "48201  ID      1  La sombra de la corrupción del PP de Almería p...   \n",
              "32151  ID      1  Gobierno y PP cierran la renovación del Consti...   \n",
              "48626  ID      1  El Barómetro de València pregunta por primera ...   \n",
              "\n",
              "                                             Descripcion       Fecha  \n",
              "15685  El extesorero del PP había solicitado su trasl...  26/11/2020  \n",
              "51335  Los sindicatos denuncian que no hay suficiente...  13/09/2020  \n",
              "48201  Un juzgado llama a declarar a Carmen Crespo co...  03/01/2022  \n",
              "32151  El Ejecutivo y la oposición pactan la renovaci...  21/10/2021  \n",
              "48626  El Ayuntamiento defiende que es un tema que es...  16/10/2020  "
            ]
          },
          "metadata": {},
          "output_type": "display_data"
        },
        {
          "data": {
            "text/html": [
              "<div>\n",
              "<style scoped>\n",
              "    .dataframe tbody tr th:only-of-type {\n",
              "        vertical-align: middle;\n",
              "    }\n",
              "\n",
              "    .dataframe tbody tr th {\n",
              "        vertical-align: top;\n",
              "    }\n",
              "\n",
              "    .dataframe thead th {\n",
              "        text-align: right;\n",
              "    }\n",
              "</style>\n",
              "<table border=\"1\" class=\"dataframe\">\n",
              "  <thead>\n",
              "    <tr style=\"text-align: right;\">\n",
              "      <th></th>\n",
              "      <th>ID</th>\n",
              "      <th>Label</th>\n",
              "      <th>Titulo</th>\n",
              "      <th>Descripcion</th>\n",
              "      <th>Fecha</th>\n",
              "    </tr>\n",
              "  </thead>\n",
              "  <tbody>\n",
              "    <tr>\n",
              "      <th>0</th>\n",
              "      <td>ID</td>\n",
              "      <td>1</td>\n",
              "      <td>'The Guardian' va con Sánchez: 'Europa necesit...</td>\n",
              "      <td>El diario británico publicó este pasado jueves...</td>\n",
              "      <td>02/06/2023</td>\n",
              "    </tr>\n",
              "    <tr>\n",
              "      <th>1</th>\n",
              "      <td>ID</td>\n",
              "      <td>0</td>\n",
              "      <td>REVELAN QUE EL GOBIERNO NEGOCIO LA LIBERACIÓN ...</td>\n",
              "      <td>REVELAN QUE EL GOBIERNO NEGOCIO LA LIBERACIÓN ...</td>\n",
              "      <td>01/10/2023</td>\n",
              "    </tr>\n",
              "    <tr>\n",
              "      <th>2</th>\n",
              "      <td>ID</td>\n",
              "      <td>1</td>\n",
              "      <td>El 'Ahora o nunca' de Joan Fuster sobre el est...</td>\n",
              "      <td>El valencianismo convoca en Castelló su fiesta...</td>\n",
              "      <td>25/04/2022</td>\n",
              "    </tr>\n",
              "    <tr>\n",
              "      <th>3</th>\n",
              "      <td>ID</td>\n",
              "      <td>1</td>\n",
              "      <td>Iglesias alienta a Yolanda Díaz, ERC y EH Bild...</td>\n",
              "      <td>En política, igual que hay que negociar con lo...</td>\n",
              "      <td>03/01/2022</td>\n",
              "    </tr>\n",
              "    <tr>\n",
              "      <th>4</th>\n",
              "      <td>ID</td>\n",
              "      <td>0</td>\n",
              "      <td>Puigdemont: 'No sería ninguna tragedia una rep...</td>\n",
              "      <td>En una entrevista en El Punt Avui, el líder de...</td>\n",
              "      <td>09/03/2018</td>\n",
              "    </tr>\n",
              "  </tbody>\n",
              "</table>\n",
              "</div>"
            ],
            "text/plain": [
              "   ID  Label                                             Titulo  \\\n",
              "0  ID      1  'The Guardian' va con Sánchez: 'Europa necesit...   \n",
              "1  ID      0  REVELAN QUE EL GOBIERNO NEGOCIO LA LIBERACIÓN ...   \n",
              "2  ID      1  El 'Ahora o nunca' de Joan Fuster sobre el est...   \n",
              "3  ID      1  Iglesias alienta a Yolanda Díaz, ERC y EH Bild...   \n",
              "4  ID      0  Puigdemont: 'No sería ninguna tragedia una rep...   \n",
              "\n",
              "                                         Descripcion       Fecha  \n",
              "0  El diario británico publicó este pasado jueves...  02/06/2023  \n",
              "1  REVELAN QUE EL GOBIERNO NEGOCIO LA LIBERACIÓN ...  01/10/2023  \n",
              "2  El valencianismo convoca en Castelló su fiesta...  25/04/2022  \n",
              "3  En política, igual que hay que negociar con lo...  03/01/2022  \n",
              "4  En una entrevista en El Punt Avui, el líder de...  09/03/2018  "
            ]
          },
          "metadata": {},
          "output_type": "display_data"
        },
        {
          "data": {
            "text/html": [
              "<div>\n",
              "<style scoped>\n",
              "    .dataframe tbody tr th:only-of-type {\n",
              "        vertical-align: middle;\n",
              "    }\n",
              "\n",
              "    .dataframe tbody tr th {\n",
              "        vertical-align: top;\n",
              "    }\n",
              "\n",
              "    .dataframe thead th {\n",
              "        text-align: right;\n",
              "    }\n",
              "</style>\n",
              "<table border=\"1\" class=\"dataframe\">\n",
              "  <thead>\n",
              "    <tr style=\"text-align: right;\">\n",
              "      <th></th>\n",
              "      <th>ID</th>\n",
              "      <th>Label</th>\n",
              "      <th>Titulo</th>\n",
              "      <th>Descripcion</th>\n",
              "      <th>Fecha</th>\n",
              "    </tr>\n",
              "  </thead>\n",
              "  <tbody>\n",
              "    <tr>\n",
              "      <th>57058</th>\n",
              "      <td>ID</td>\n",
              "      <td>1</td>\n",
              "      <td>El Defensor del Pueblo reclama a la Comunidad ...</td>\n",
              "      <td>El gobierno regional han indicado que la atenc...</td>\n",
              "      <td>08/06/2021</td>\n",
              "    </tr>\n",
              "    <tr>\n",
              "      <th>57059</th>\n",
              "      <td>ID</td>\n",
              "      <td>0</td>\n",
              "      <td>El EQUO plantea ceder la presidencia de la Com...</td>\n",
              "      <td>Si la higiene democrática nos lleva a esa exig...</td>\n",
              "      <td>08/09/2020</td>\n",
              "    </tr>\n",
              "    <tr>\n",
              "      <th>57060</th>\n",
              "      <td>ID</td>\n",
              "      <td>1</td>\n",
              "      <td>Alberto Garzón: 'Que los Borbones son unos lad...</td>\n",
              "      <td>El coordinador federal de IU asegura que la mo...</td>\n",
              "      <td>12/07/2018</td>\n",
              "    </tr>\n",
              "    <tr>\n",
              "      <th>57061</th>\n",
              "      <td>ID</td>\n",
              "      <td>1</td>\n",
              "      <td>Vox exige entrar en el Gobierno de Castilla y ...</td>\n",
              "      <td>Santiago Abascal: Vox tiene el derecho y el de...</td>\n",
              "      <td>13/02/2022</td>\n",
              "    </tr>\n",
              "    <tr>\n",
              "      <th>57062</th>\n",
              "      <td>ID</td>\n",
              "      <td>1</td>\n",
              "      <td>Unas 300 personas protestan contra la visita d...</td>\n",
              "      <td>Los Mossos dEsquadra han blindado los alrededo...</td>\n",
              "      <td>09/10/2020</td>\n",
              "    </tr>\n",
              "  </tbody>\n",
              "</table>\n",
              "</div>"
            ],
            "text/plain": [
              "       ID  Label                                             Titulo  \\\n",
              "57058  ID      1  El Defensor del Pueblo reclama a la Comunidad ...   \n",
              "57059  ID      0  El EQUO plantea ceder la presidencia de la Com...   \n",
              "57060  ID      1  Alberto Garzón: 'Que los Borbones son unos lad...   \n",
              "57061  ID      1  Vox exige entrar en el Gobierno de Castilla y ...   \n",
              "57062  ID      1  Unas 300 personas protestan contra la visita d...   \n",
              "\n",
              "                                             Descripcion       Fecha  \n",
              "57058  El gobierno regional han indicado que la atenc...  08/06/2021  \n",
              "57059  Si la higiene democrática nos lleva a esa exig...  08/09/2020  \n",
              "57060  El coordinador federal de IU asegura que la mo...  12/07/2018  \n",
              "57061  Santiago Abascal: Vox tiene el derecho y el de...  13/02/2022  \n",
              "57062  Los Mossos dEsquadra han blindado los alrededo...  09/10/2020  "
            ]
          },
          "metadata": {},
          "output_type": "display_data"
        }
      ],
      "source": [
        "# Dimensiones de los datos y vizualización de los datos\n",
        "display(df.sample(5))\n",
        "display(df.head(5))\n",
        "display(df.tail(5))"
      ]
    },
    {
      "cell_type": "code",
      "execution_count": 8,
      "metadata": {
        "colab": {
          "base_uri": "https://localhost:8080/"
        },
        "id": "UfZ-LHFJCadO",
        "outputId": "a66bd66c-f156-4507-b2bc-0b680b5791a5"
      },
      "outputs": [
        {
          "data": {
            "text/plain": [
              "(57063, 5)"
            ]
          },
          "execution_count": 8,
          "metadata": {},
          "output_type": "execute_result"
        }
      ],
      "source": [
        "df.shape"
      ]
    },
    {
      "cell_type": "markdown",
      "metadata": {
        "id": "8JvCEvqJOLj4"
      },
      "source": [
        "- Como podemos ver en el df de los datos, la colmuna ID no aporta ningún valor, entonces decidimos eliminarla,"
      ]
    },
    {
      "cell_type": "code",
      "execution_count": 9,
      "metadata": {
        "id": "S8qFQx-wOLj4"
      },
      "outputs": [],
      "source": [
        "df1 = df.drop(\"ID\", axis = 1)"
      ]
    },
    {
      "cell_type": "markdown",
      "metadata": {
        "id": "27EULzu_OLj4"
      },
      "source": [
        "- Ahora vamos a revisamos cuantos valores nulos hay por columna"
      ]
    },
    {
      "cell_type": "code",
      "execution_count": 10,
      "metadata": {
        "colab": {
          "base_uri": "https://localhost:8080/"
        },
        "collapsed": true,
        "id": "i1tBi0OiOLj4",
        "outputId": "157f2197-11a2-4617-fb27-ce78bf3ef1b9"
      },
      "outputs": [
        {
          "name": "stdout",
          "output_type": "stream",
          "text": [
            "Label           0\n",
            "Titulo         16\n",
            "Descripcion     0\n",
            "Fecha           0\n",
            "dtype: int64\n"
          ]
        }
      ],
      "source": [
        "valores_nulos = df1.isnull().sum()\n",
        "print(valores_nulos)"
      ]
    },
    {
      "cell_type": "markdown",
      "metadata": {
        "id": "lPdn6GFpOLj4"
      },
      "source": [
        "Como podemos observar, en la columna 'Título' hay 16 filas con valores nulos. Esto es mínimo en comparación con la cantidad total de filas en el dataset, por lo que decidimos eliminarlos."
      ]
    },
    {
      "cell_type": "code",
      "execution_count": 11,
      "metadata": {
        "id": "yldx8BoDOLj4"
      },
      "outputs": [],
      "source": [
        "df2 = df1.dropna()"
      ]
    },
    {
      "cell_type": "markdown",
      "metadata": {
        "id": "I796BTOjOLj4"
      },
      "source": [
        "- Revisemos ahora si existen elementos duplicados en la columna 'Título'."
      ]
    },
    {
      "cell_type": "code",
      "execution_count": 12,
      "metadata": {
        "colab": {
          "base_uri": "https://localhost:8080/"
        },
        "id": "wCnQ2thoOLj4",
        "outputId": "7c1244fb-997d-4d5d-c774-96f634fda796"
      },
      "outputs": [
        {
          "name": "stdout",
          "output_type": "stream",
          "text": [
            "Duplicados según titulo: 5443\n"
          ]
        }
      ],
      "source": [
        "duplicados_titulo = df2['Titulo'].duplicated().sum()\n",
        "print(f\"Duplicados según titulo: {duplicados_titulo}\")"
      ]
    },
    {
      "cell_type": "code",
      "execution_count": 13,
      "metadata": {
        "colab": {
          "base_uri": "https://localhost:8080/"
        },
        "id": "2c_JMya5OLj4",
        "outputId": "81da165b-547c-4a46-c6eb-449f1ceb3c40"
      },
      "outputs": [
        {
          "name": "stdout",
          "output_type": "stream",
          "text": [
            "       Label                                             Titulo  \\\n",
            "24343      0  El Nueva Canarias cierra filas con Rita Maestr...   \n",
            "29842      0  El Nueva Canarias cierra filas con Rita Maestr...   \n",
            "1743       0  Escándalo de corrupción salpica a líderes sind...   \n",
            "2981       0  Escándalo de corrupción salpica a líderes sind...   \n",
            "18253      0  Escándalo de corrupción salpica a líderes sind...   \n",
            "...      ...                                                ...   \n",
            "9206       1  ¿Por qué las energías verdes están causando un...   \n",
            "28272      1  ¿Qué son las políticas activas de empleo y por...   \n",
            "37769      1  ¿Qué son las políticas activas de empleo y por...   \n",
            "29781      1  Àngels Barceló: 'Los demócratas somos muchos más'   \n",
            "35301      1  Àngels Barceló: 'Los demócratas somos muchos más'   \n",
            "\n",
            "                                             Descripcion       Fecha  \n",
            "24343  El Comité Federal termina con una votación uná...  10/06/2023  \n",
            "29842  El Comité Federal termina con una votación uná...  10/06/2023  \n",
            "1743   Un escándalo de corrupción ha salpicado a líde...  06/05/2023  \n",
            "2981   Un escándalo de corrupción ha salpicado a líde...  06/05/2023  \n",
            "18253  Un escándalo de corrupción ha salpicado a líde...  06/05/2023  \n",
            "...                                                  ...         ...  \n",
            "9206   El decreto 16/2019 liberaliza la implantación ...  12/04/2021  \n",
            "28272  Las políticas activas de empleo fueron una de ...  12/04/2021  \n",
            "37769  Las políticas activas de empleo fueron una de ...  12/04/2021  \n",
            "29781  La periodista de la Cadena Ser se ha visto obl...  23/04/2021  \n",
            "35301  La periodista de la Cadena Ser se ha visto obl...  23/04/2021  \n",
            "\n",
            "[875 rows x 4 columns]\n"
          ]
        }
      ],
      "source": [
        "valores_duplicados = df2[df2.duplicated(keep=False)]\n",
        "valores_duplicados_ordenados = valores_duplicados.sort_values(by=df2.columns.tolist())\n",
        "print(valores_duplicados_ordenados)"
      ]
    },
    {
      "cell_type": "markdown",
      "metadata": {
        "id": "bfJa9iumOLj4"
      },
      "source": [
        "Después de analizar las filas repetidas y corroborar que la columna 'Label' es la mismo, y que no se trata de la misma noticia con una descripción diferente u otro diferenciador, procedemos a eliminarlas."
      ]
    },
    {
      "cell_type": "code",
      "execution_count": 14,
      "metadata": {
        "id": "xE-apXi2OLj5"
      },
      "outputs": [],
      "source": [
        "df3 = df2.drop_duplicates(subset = ['Titulo'])"
      ]
    },
    {
      "cell_type": "code",
      "execution_count": 15,
      "metadata": {
        "colab": {
          "base_uri": "https://localhost:8080/"
        },
        "id": "UBhSjW6IOLj5",
        "outputId": "a034c2db-ba85-47fd-edcd-8e6c115e6bd0"
      },
      "outputs": [
        {
          "name": "stdout",
          "output_type": "stream",
          "text": [
            "Duplicados según titulo: 0\n"
          ]
        }
      ],
      "source": [
        "# Verificamos que haya sido exitoso\n",
        "print(f\"Duplicados según titulo: {df3['Titulo'].duplicated().sum()}\")"
      ]
    },
    {
      "cell_type": "markdown",
      "metadata": {
        "id": "MZV54RZW5uLF"
      },
      "source": [
        "### 2.2.3 Transformaciones\n"
      ]
    },
    {
      "cell_type": "markdown",
      "metadata": {
        "id": "iu9nwYqk6pok"
      },
      "source": [
        "- Para poder manipular los datos debemos asegurarnos de que tengan el tipo correcto"
      ]
    },
    {
      "cell_type": "code",
      "execution_count": 16,
      "metadata": {
        "colab": {
          "base_uri": "https://localhost:8080/",
          "height": 209
        },
        "id": "zYDSM0frOLj5",
        "outputId": "d3ca1a84-3c48-4535-cbd9-440670deb55f"
      },
      "outputs": [
        {
          "data": {
            "text/plain": [
              "Label           int64\n",
              "Titulo         object\n",
              "Descripcion    object\n",
              "Fecha          object\n",
              "dtype: object"
            ]
          },
          "execution_count": 16,
          "metadata": {},
          "output_type": "execute_result"
        }
      ],
      "source": [
        "df3.dtypes"
      ]
    },
    {
      "cell_type": "markdown",
      "metadata": {
        "id": "vS0ceqc36_Ed"
      },
      "source": [
        "- Al observar los resultados, encontramos que la columna 'Fecha' debería ser de tipo datetime, pero actualmente es de tipo object. Por ello, realizamos el respectivo casting."
      ]
    },
    {
      "cell_type": "code",
      "execution_count": 17,
      "metadata": {
        "colab": {
          "base_uri": "https://localhost:8080/",
          "height": 397
        },
        "id": "3caE1eOqOLj5",
        "outputId": "f2db755b-5dd1-445a-fe67-fe1f83281166"
      },
      "outputs": [
        {
          "data": {
            "text/plain": [
              "57050    17/01/2020\n",
              "57051    19/01/2019\n",
              "57053    07/05/2018\n",
              "57055    12/03/2023\n",
              "57056    21/10/2018\n",
              "57057    23/12/2021\n",
              "57058    08/06/2021\n",
              "57059    08/09/2020\n",
              "57060    12/07/2018\n",
              "57061    13/02/2022\n",
              "Name: Fecha, dtype: object"
            ]
          },
          "execution_count": 17,
          "metadata": {},
          "output_type": "execute_result"
        }
      ],
      "source": [
        "df3.Fecha.tail(10)"
      ]
    },
    {
      "cell_type": "code",
      "execution_count": 18,
      "metadata": {
        "colab": {
          "base_uri": "https://localhost:8080/",
          "height": 397
        },
        "id": "LqPoQv5uOLj6",
        "outputId": "f49ac832-e831-4d31-e4e7-a50f0ab56ec4"
      },
      "outputs": [
        {
          "data": {
            "text/plain": [
              "57050   2020-01-17\n",
              "57051   2019-01-19\n",
              "57053   2018-05-07\n",
              "57055   2023-03-12\n",
              "57056   2018-10-21\n",
              "57057   2021-12-23\n",
              "57058   2021-06-08\n",
              "57059   2020-09-08\n",
              "57060   2018-07-12\n",
              "57061   2022-02-13\n",
              "Name: Fecha, dtype: datetime64[ns]"
            ]
          },
          "execution_count": 18,
          "metadata": {},
          "output_type": "execute_result"
        }
      ],
      "source": [
        "df4 = df3.copy()\n",
        "\n",
        "df4['Fecha'] = pd.to_datetime(df4.Fecha, dayfirst= True, errors = 'coerce')\n",
        "df4['Fecha'].tail(10)"
      ]
    },
    {
      "cell_type": "markdown",
      "metadata": {
        "id": "ne60JaFoDGL6"
      },
      "source": [
        "- Verificamos que la conversión de tipo se haya realizado con éxito."
      ]
    },
    {
      "cell_type": "code",
      "execution_count": 19,
      "metadata": {
        "colab": {
          "base_uri": "https://localhost:8080/"
        },
        "id": "sFPJoDr9OLj6",
        "outputId": "c83ff453-4e16-482f-9a82-2ef92dfdfd0a"
      },
      "outputs": [
        {
          "name": "stdout",
          "output_type": "stream",
          "text": [
            "0\n"
          ]
        }
      ],
      "source": [
        "print(df4[\"Fecha\"].isna().sum())"
      ]
    },
    {
      "cell_type": "markdown",
      "metadata": {
        "id": "saCf-TA9tLwf"
      },
      "source": [
        "- Con esta transformación, podemos analizar e identificar si la fecha está directamente relacionada con la veracidad de una noticia."
      ]
    },
    {
      "cell_type": "markdown",
      "metadata": {
        "id": "wv4xQmk3DiY1"
      },
      "source": [
        "Primero revisemos el rango de fechas:"
      ]
    },
    {
      "cell_type": "code",
      "execution_count": 20,
      "metadata": {
        "colab": {
          "base_uri": "https://localhost:8080/"
        },
        "id": "5EFQZxSSDhtV",
        "outputId": "991dfffc-2f82-4227-c24b-f5ed93f5594f"
      },
      "outputs": [
        {
          "name": "stdout",
          "output_type": "stream",
          "text": [
            "Rango de fechas: 2016-01-02 00:00:00 a 2024-12-28 00:00:00\n"
          ]
        }
      ],
      "source": [
        "print(\"Rango de fechas:\", df4[\"Fecha\"].min(), \"a\", df4[\"Fecha\"].max())"
      ]
    },
    {
      "cell_type": "markdown",
      "metadata": {
        "id": "aHeSbttZDplf"
      },
      "source": [
        "Ahora si verifiquemos la correlación"
      ]
    },
    {
      "cell_type": "code",
      "execution_count": 21,
      "metadata": {
        "colab": {
          "base_uri": "https://localhost:8080/"
        },
        "id": "cIGIhLmkD8dU",
        "outputId": "aecb7dda-1a81-4049-b04a-5f5c3bcde6b2"
      },
      "outputs": [
        {
          "name": "stdout",
          "output_type": "stream",
          "text": [
            "Correlación entre año y etiqueta de noticia: -0.023015782359151468\n"
          ]
        }
      ],
      "source": [
        "correlacion = df4[\"Fecha\"].dt.year.corr(df[\"Label\"])\n",
        "print(\"Correlación entre año y etiqueta de noticia:\", correlacion)"
      ]
    },
    {
      "cell_type": "markdown",
      "metadata": {
        "id": "izXA1gXBD_Op"
      },
      "source": [
        "Para visualizarlo y entenderlo mejor, graficamos la distribución."
      ]
    },
    {
      "cell_type": "code",
      "execution_count": 22,
      "metadata": {
        "colab": {
          "base_uri": "https://localhost:8080/",
          "height": 526
        },
        "id": "XaN2veAh7bT1",
        "outputId": "21e688df-bd22-4122-c852-2d8f6ee456af"
      },
      "outputs": [
        {
          "data": {
            "text/plain": [
              "<Figure size 1000x500 with 0 Axes>"
            ]
          },
          "metadata": {},
          "output_type": "display_data"
        },
        {
          "data": {
            "image/png": "[encoded data removed]",
            "text/plain": [
              "<Figure size 1000x500 with 1 Axes>"
            ]
          },
          "metadata": {},
          "output_type": "display_data"
        }
      ],
      "source": [
        "plt.figure(figsize=(10,5))\n",
        "df4.groupby([df4[\"Fecha\"].dt.year, \"Label\"]).size().unstack().rename(columns={0: \"Falsas\", 1: \"Verdaderas\"}).plot(kind=\"bar\", stacked=True, figsize=(10,5))\n",
        "plt.title(\"Distribución de noticias falsas y verdaderas por año\")\n",
        "plt.xlabel(\"Año\")\n",
        "plt.ylabel(\"Cantidad de noticias\")\n",
        "plt.legend([\"Verdaderas (1)\", \"Falsas (0)\"])\n",
        "plt.show()"
      ]
    },
    {
      "cell_type": "markdown",
      "metadata": {
        "id": "s7KOfZgHOLj8"
      },
      "source": [
        "---\n",
        "- Por último, verificamos el balance en la distribución de noticias según si son verdaderas o falsas."
      ]
    },
    {
      "cell_type": "markdown",
      "metadata": {
        "id": "WaKKJsEZ8Gis"
      },
      "source": [
        "Primero, usamos .describe() para obtener un resumen rápido de las estadísticas de las variables numéricas. Además, utilizamos un diagrama de torta para visualizar mejor los resultados."
      ]
    },
    {
      "cell_type": "code",
      "execution_count": 23,
      "metadata": {
        "colab": {
          "base_uri": "https://localhost:8080/",
          "height": 334
        },
        "id": "ZP8xDutDOLj5",
        "outputId": "e5517d3f-0544-47b3-b3db-b594d601bb91"
      },
      "outputs": [
        {
          "data": {
            "text/plain": [
              "count    51604.000000\n",
              "mean         0.587571\n",
              "std          0.492276\n",
              "min          0.000000\n",
              "25%          0.000000\n",
              "50%          1.000000\n",
              "75%          1.000000\n",
              "max          1.000000\n",
              "Name: Label, dtype: float64"
            ]
          },
          "execution_count": 23,
          "metadata": {},
          "output_type": "execute_result"
        }
      ],
      "source": [
        "df4['Label'].describe()"
      ]
    },
    {
      "cell_type": "code",
      "execution_count": 24,
      "metadata": {
        "colab": {
          "base_uri": "https://localhost:8080/",
          "height": 542
        },
        "id": "BYuFjWNVOLj8",
        "outputId": "8ea6ba04-7148-4424-f5ec-be9cdea3fb6a"
      },
      "outputs": [
        {
          "data": {
            "application/vnd.plotly.v1+json": {
              "config": {
                "plotlyServerURL": "https://plot.ly"
              },
              "data": [
                {
                  "domain": {
                    "x": [
                      0,
                      1
                    ],
                    "y": [
                      0,
                      1
                    ]
                  },
                  "hovertemplate": "label=%{label}<br>value=%{value}<extra></extra>",
                  "labels": [
                    "Noticias Verdaderas",
                    "Noticias Falsas"
                  ],
                  "legendgroup": "",
                  "name": "",
                  "showlegend": true,
                  "type": "pie",
                  "values": {
                    "bdata": "cXYjUw==",
                    "dtype": "i2"
                  }
                }
              ],
              "layout": {
                "legend": {
                  "tracegroupgap": 0
                },
                "template": {
                  "data": {
                    "bar": [
                      {
                        "error_x": {
                          "color": "#2a3f5f"
                        },
                        "error_y": {
                          "color": "#2a3f5f"
                        },
                        "marker": {
                          "line": {
                            "color": "#E5ECF6",
                            "width": 0.5
                          },
                          "pattern": {
                            "fillmode": "overlay",
                            "size": 10,
                            "solidity": 0.2
                          }
                        },
                        "type": "bar"
                      }
                    ],
                    "barpolar": [
                      {
                        "marker": {
                          "line": {
                            "color": "#E5ECF6",
                            "width": 0.5
                          },
                          "pattern": {
                            "fillmode": "overlay",
                            "size": 10,
                            "solidity": 0.2
                          }
                        },
                        "type": "barpolar"
                      }
                    ],
                    "carpet": [
                      {
                        "aaxis": {
                          "endlinecolor": "#2a3f5f",
                          "gridcolor": "white",
                          "linecolor": "white",
                          "minorgridcolor": "white",
                          "startlinecolor": "#2a3f5f"
                        },
                        "baxis": {
                          "endlinecolor": "#2a3f5f",
                          "gridcolor": "white",
                          "linecolor": "white",
                          "minorgridcolor": "white",
                          "startlinecolor": "#2a3f5f"
                        },
                        "type": "carpet"
                      }
                    ],
                    "choropleth": [
                      {
                        "colorbar": {
                          "outlinewidth": 0,
                          "ticks": ""
                        },
                        "type": "choropleth"
                      }
                    ],
                    "contour": [
                      {
                        "colorbar": {
                          "outlinewidth": 0,
                          "ticks": ""
                        },
                        "colorscale": [
                          [
                            0,
                            "#0d0887"
                          ],
                          [
                            0.1111111111111111,
                            "#46039f"
                          ],
                          [
                            0.2222222222222222,
                            "#7201a8"
                          ],
                          [
                            0.3333333333333333,
                            "#9c179e"
                          ],
                          [
                            0.4444444444444444,
                            "#bd3786"
                          ],
                          [
                            0.5555555555555556,
                            "#d8576b"
                          ],
                          [
                            0.6666666666666666,
                            "#ed7953"
                          ],
                          [
                            0.7777777777777778,
                            "#fb9f3a"
                          ],
                          [
                            0.8888888888888888,
                            "#fdca26"
                          ],
                          [
                            1,
                            "#f0f921"
                          ]
                        ],
                        "type": "contour"
                      }
                    ],
                    "contourcarpet": [
                      {
                        "colorbar": {
                          "outlinewidth": 0,
                          "ticks": ""
                        },
                        "type": "contourcarpet"
                      }
                    ],
                    "heatmap": [
                      {
                        "colorbar": {
                          "outlinewidth": 0,
                          "ticks": ""
                        },
                        "colorscale": [
                          [
                            0,
                            "#0d0887"
                          ],
                          [
                            0.1111111111111111,
                            "#46039f"
                          ],
                          [
                            0.2222222222222222,
                            "#7201a8"
                          ],
                          [
                            0.3333333333333333,
                            "#9c179e"
                          ],
                          [
                            0.4444444444444444,
                            "#bd3786"
                          ],
                          [
                            0.5555555555555556,
                            "#d8576b"
                          ],
                          [
                            0.6666666666666666,
                            "#ed7953"
                          ],
                          [
                            0.7777777777777778,
                            "#fb9f3a"
                          ],
                          [
                            0.8888888888888888,
                            "#fdca26"
                          ],
                          [
                            1,
                            "#f0f921"
                          ]
                        ],
                        "type": "heatmap"
                      }
                    ],
                    "histogram": [
                      {
                        "marker": {
                          "pattern": {
                            "fillmode": "overlay",
                            "size": 10,
                            "solidity": 0.2
                          }
                        },
                        "type": "histogram"
                      }
                    ],
                    "histogram2d": [
                      {
                        "colorbar": {
                          "outlinewidth": 0,
                          "ticks": ""
                        },
                        "colorscale": [
                          [
                            0,
                            "#0d0887"
                          ],
                          [
                            0.1111111111111111,
                            "#46039f"
                          ],
                          [
                            0.2222222222222222,
                            "#7201a8"
                          ],
                          [
                            0.3333333333333333,
                            "#9c179e"
                          ],
                          [
                            0.4444444444444444,
                            "#bd3786"
                          ],
                          [
                            0.5555555555555556,
                            "#d8576b"
                          ],
                          [
                            0.6666666666666666,
                            "#ed7953"
                          ],
                          [
                            0.7777777777777778,
                            "#fb9f3a"
                          ],
                          [
                            0.8888888888888888,
                            "#fdca26"
                          ],
                          [
                            1,
                            "#f0f921"
                          ]
                        ],
                        "type": "histogram2d"
                      }
                    ],
                    "histogram2dcontour": [
                      {
                        "colorbar": {
                          "outlinewidth": 0,
                          "ticks": ""
                        },
                        "colorscale": [
                          [
                            0,
                            "#0d0887"
                          ],
                          [
                            0.1111111111111111,
                            "#46039f"
                          ],
                          [
                            0.2222222222222222,
                            "#7201a8"
                          ],
                          [
                            0.3333333333333333,
                            "#9c179e"
                          ],
                          [
                            0.4444444444444444,
                            "#bd3786"
                          ],
                          [
                            0.5555555555555556,
                            "#d8576b"
                          ],
                          [
                            0.6666666666666666,
                            "#ed7953"
                          ],
                          [
                            0.7777777777777778,
                            "#fb9f3a"
                          ],
                          [
                            0.8888888888888888,
                            "#fdca26"
                          ],
                          [
                            1,
                            "#f0f921"
                          ]
                        ],
                        "type": "histogram2dcontour"
                      }
                    ],
                    "mesh3d": [
                      {
                        "colorbar": {
                          "outlinewidth": 0,
                          "ticks": ""
                        },
                        "type": "mesh3d"
                      }
                    ],
                    "parcoords": [
                      {
                        "line": {
                          "colorbar": {
                            "outlinewidth": 0,
                            "ticks": ""
                          }
                        },
                        "type": "parcoords"
                      }
                    ],
                    "pie": [
                      {
                        "automargin": true,
                        "type": "pie"
                      }
                    ],
                    "scatter": [
                      {
                        "fillpattern": {
                          "fillmode": "overlay",
                          "size": 10,
                          "solidity": 0.2
                        },
                        "type": "scatter"
                      }
                    ],
                    "scatter3d": [
                      {
                        "line": {
                          "colorbar": {
                            "outlinewidth": 0,
                            "ticks": ""
                          }
                        },
                        "marker": {
                          "colorbar": {
                            "outlinewidth": 0,
                            "ticks": ""
                          }
                        },
                        "type": "scatter3d"
                      }
                    ],
                    "scattercarpet": [
                      {
                        "marker": {
                          "colorbar": {
                            "outlinewidth": 0,
                            "ticks": ""
                          }
                        },
                        "type": "scattercarpet"
                      }
                    ],
                    "scattergeo": [
                      {
                        "marker": {
                          "colorbar": {
                            "outlinewidth": 0,
                            "ticks": ""
                          }
                        },
                        "type": "scattergeo"
                      }
                    ],
                    "scattergl": [
                      {
                        "marker": {
                          "colorbar": {
                            "outlinewidth": 0,
                            "ticks": ""
                          }
                        },
                        "type": "scattergl"
                      }
                    ],
                    "scattermap": [
                      {
                        "marker": {
                          "colorbar": {
                            "outlinewidth": 0,
                            "ticks": ""
                          }
                        },
                        "type": "scattermap"
                      }
                    ],
                    "scattermapbox": [
                      {
                        "marker": {
                          "colorbar": {
                            "outlinewidth": 0,
                            "ticks": ""
                          }
                        },
                        "type": "scattermapbox"
                      }
                    ],
                    "scatterpolar": [
                      {
                        "marker": {
                          "colorbar": {
                            "outlinewidth": 0,
                            "ticks": ""
                          }
                        },
                        "type": "scatterpolar"
                      }
                    ],
                    "scatterpolargl": [
                      {
                        "marker": {
                          "colorbar": {
                            "outlinewidth": 0,
                            "ticks": ""
                          }
                        },
                        "type": "scatterpolargl"
                      }
                    ],
                    "scatterternary": [
                      {
                        "marker": {
                          "colorbar": {
                            "outlinewidth": 0,
                            "ticks": ""
                          }
                        },
                        "type": "scatterternary"
                      }
                    ],
                    "surface": [
                      {
                        "colorbar": {
                          "outlinewidth": 0,
                          "ticks": ""
                        },
                        "colorscale": [
                          [
                            0,
                            "#0d0887"
                          ],
                          [
                            0.1111111111111111,
                            "#46039f"
                          ],
                          [
                            0.2222222222222222,
                            "#7201a8"
                          ],
                          [
                            0.3333333333333333,
                            "#9c179e"
                          ],
                          [
                            0.4444444444444444,
                            "#bd3786"
                          ],
                          [
                            0.5555555555555556,
                            "#d8576b"
                          ],
                          [
                            0.6666666666666666,
                            "#ed7953"
                          ],
                          [
                            0.7777777777777778,
                            "#fb9f3a"
                          ],
                          [
                            0.8888888888888888,
                            "#fdca26"
                          ],
                          [
                            1,
                            "#f0f921"
                          ]
                        ],
                        "type": "surface"
                      }
                    ],
                    "table": [
                      {
                        "cells": {
                          "fill": {
                            "color": "#EBF0F8"
                          },
                          "line": {
                            "color": "white"
                          }
                        },
                        "header": {
                          "fill": {
                            "color": "#C8D4E3"
                          },
                          "line": {
                            "color": "white"
                          }
                        },
                        "type": "table"
                      }
                    ]
                  },
                  "layout": {
                    "annotationdefaults": {
                      "arrowcolor": "#2a3f5f",
                      "arrowhead": 0,
                      "arrowwidth": 1
                    },
                    "autotypenumbers": "strict",
                    "coloraxis": {
                      "colorbar": {
                        "outlinewidth": 0,
                        "ticks": ""
                      }
                    },
                    "colorscale": {
                      "diverging": [
                        [
                          0,
                          "#8e0152"
                        ],
                        [
                          0.1,
                          "#c51b7d"
                        ],
                        [
                          0.2,
                          "#de77ae"
                        ],
                        [
                          0.3,
                          "#f1b6da"
                        ],
                        [
                          0.4,
                          "#fde0ef"
                        ],
                        [
                          0.5,
                          "#f7f7f7"
                        ],
                        [
                          0.6,
                          "#e6f5d0"
                        ],
                        [
                          0.7,
                          "#b8e186"
                        ],
                        [
                          0.8,
                          "#7fbc41"
                        ],
                        [
                          0.9,
                          "#4d9221"
                        ],
                        [
                          1,
                          "#276419"
                        ]
                      ],
                      "sequential": [
                        [
                          0,
                          "#0d0887"
                        ],
                        [
                          0.1111111111111111,
                          "#46039f"
                        ],
                        [
                          0.2222222222222222,
                          "#7201a8"
                        ],
                        [
                          0.3333333333333333,
                          "#9c179e"
                        ],
                        [
                          0.4444444444444444,
                          "#bd3786"
                        ],
                        [
                          0.5555555555555556,
                          "#d8576b"
                        ],
                        [
                          0.6666666666666666,
                          "#ed7953"
                        ],
                        [
                          0.7777777777777778,
                          "#fb9f3a"
                        ],
                        [
                          0.8888888888888888,
                          "#fdca26"
                        ],
                        [
                          1,
                          "#f0f921"
                        ]
                      ],
                      "sequentialminus": [
                        [
                          0,
                          "#0d0887"
                        ],
                        [
                          0.1111111111111111,
                          "#46039f"
                        ],
                        [
                          0.2222222222222222,
                          "#7201a8"
                        ],
                        [
                          0.3333333333333333,
                          "#9c179e"
                        ],
                        [
                          0.4444444444444444,
                          "#bd3786"
                        ],
                        [
                          0.5555555555555556,
                          "#d8576b"
                        ],
                        [
                          0.6666666666666666,
                          "#ed7953"
                        ],
                        [
                          0.7777777777777778,
                          "#fb9f3a"
                        ],
                        [
                          0.8888888888888888,
                          "#fdca26"
                        ],
                        [
                          1,
                          "#f0f921"
                        ]
                      ]
                    },
                    "colorway": [
                      "#636efa",
                      "#EF553B",
                      "#00cc96",
                      "#ab63fa",
                      "#FFA15A",
                      "#19d3f3",
                      "#FF6692",
                      "#B6E880",
                      "#FF97FF",
                      "#FECB52"
                    ],
                    "font": {
                      "color": "#2a3f5f"
                    },
                    "geo": {
                      "bgcolor": "white",
                      "lakecolor": "white",
                      "landcolor": "#E5ECF6",
                      "showlakes": true,
                      "showland": true,
                      "subunitcolor": "white"
                    },
                    "hoverlabel": {
                      "align": "left"
                    },
                    "hovermode": "closest",
                    "mapbox": {
                      "style": "light"
                    },
                    "paper_bgcolor": "white",
                    "plot_bgcolor": "#E5ECF6",
                    "polar": {
                      "angularaxis": {
                        "gridcolor": "white",
                        "linecolor": "white",
                        "ticks": ""
                      },
                      "bgcolor": "#E5ECF6",
                      "radialaxis": {
                        "gridcolor": "white",
                        "linecolor": "white",
                        "ticks": ""
                      }
                    },
                    "scene": {
                      "xaxis": {
                        "backgroundcolor": "#E5ECF6",
                        "gridcolor": "white",
                        "gridwidth": 2,
                        "linecolor": "white",
                        "showbackground": true,
                        "ticks": "",
                        "zerolinecolor": "white"
                      },
                      "yaxis": {
                        "backgroundcolor": "#E5ECF6",
                        "gridcolor": "white",
                        "gridwidth": 2,
                        "linecolor": "white",
                        "showbackground": true,
                        "ticks": "",
                        "zerolinecolor": "white"
                      },
                      "zaxis": {
                        "backgroundcolor": "#E5ECF6",
                        "gridcolor": "white",
                        "gridwidth": 2,
                        "linecolor": "white",
                        "showbackground": true,
                        "ticks": "",
                        "zerolinecolor": "white"
                      }
                    },
                    "shapedefaults": {
                      "line": {
                        "color": "#2a3f5f"
                      }
                    },
                    "ternary": {
                      "aaxis": {
                        "gridcolor": "white",
                        "linecolor": "white",
                        "ticks": ""
                      },
                      "baxis": {
                        "gridcolor": "white",
                        "linecolor": "white",
                        "ticks": ""
                      },
                      "bgcolor": "#E5ECF6",
                      "caxis": {
                        "gridcolor": "white",
                        "linecolor": "white",
                        "ticks": ""
                      }
                    },
                    "title": {
                      "x": 0.05
                    },
                    "xaxis": {
                      "automargin": true,
                      "gridcolor": "white",
                      "linecolor": "white",
                      "ticks": "",
                      "title": {
                        "standoff": 15
                      },
                      "zerolinecolor": "white",
                      "zerolinewidth": 2
                    },
                    "yaxis": {
                      "automargin": true,
                      "gridcolor": "white",
                      "linecolor": "white",
                      "ticks": "",
                      "title": {
                        "standoff": 15
                      },
                      "zerolinecolor": "white",
                      "zerolinewidth": 2
                    }
                  }
                },
                "title": {
                  "text": "Distribución de noticias falsas y verdaderas (57063 noticias)"
                }
              }
            }
          },
          "metadata": {},
          "output_type": "display_data"
        }
      ],
      "source": [
        "conteo_clases = df4[\"Label\"].value_counts()\n",
        "\n",
        "mapeo_etiquetas = {0: \"Noticias Falsas\", 1: \"Noticias Verdaderas\"}\n",
        "fig = px.pie(names=conteo_clases.index.map(mapeo_etiquetas), values=conteo_clases.values,\n",
        "             title=f'Distribución de noticias falsas y verdaderas ({df.shape[0]} noticias)')\n",
        "\n",
        "fig"
      ]
    },
    {
      "cell_type": "markdown",
      "metadata": {
        "id": "bhkvbheAgsxW"
      },
      "source": [
        "**Dado que la distribución entre noticias falsas y verdaderas es relativamente equilibrada, podemos trabajar con los datos sin necesidad de ajustar el balance de clases.**\n"
      ]
    },
    {
      "cell_type": "markdown",
      "metadata": {
        "id": "2icqVWLsODQe"
      },
      "source": [
        "# 3. Preparación y preprocesamiento de los datos"
      ]
    },
    {
      "cell_type": "markdown",
      "metadata": {
        "id": "aMub8UpZ_AHc"
      },
      "source": [
        "## 3.1 Lematización"
      ]
    },
    {
      "cell_type": "markdown",
      "metadata": {
        "id": "ptmnjeJCOLj5"
      },
      "source": [
        "- En este apartado vamos a implementar un código que procesa y limpia el texto de las columnas \"Título\" y \"Descripción\" para mejorar la detección de patrones. Primero, convierte el texto a minúsculas, tokeniza las palabras y elimina las stopwords en español. Luego, aplica lematización para reducir las palabras a su forma base, eliminando signos de puntuación y normalizando caracteres al remover tildes."
      ]
    },
    {
      "cell_type": "code",
      "execution_count": 25,
      "metadata": {
        "colab": {
          "base_uri": "https://localhost:8080/",
          "height": 292
        },
        "id": "mlL1hq1qW_8E",
        "outputId": "8835c248-786c-40d8-905b-4dd70ab262a3"
      },
      "outputs": [
        {
          "data": {
            "text/html": [
              "<div>\n",
              "<style scoped>\n",
              "    .dataframe tbody tr th:only-of-type {\n",
              "        vertical-align: middle;\n",
              "    }\n",
              "\n",
              "    .dataframe tbody tr th {\n",
              "        vertical-align: top;\n",
              "    }\n",
              "\n",
              "    .dataframe thead th {\n",
              "        text-align: right;\n",
              "    }\n",
              "</style>\n",
              "<table border=\"1\" class=\"dataframe\">\n",
              "  <thead>\n",
              "    <tr style=\"text-align: right;\">\n",
              "      <th></th>\n",
              "      <th>Label</th>\n",
              "      <th>Titulo</th>\n",
              "      <th>Descripcion</th>\n",
              "      <th>Fecha</th>\n",
              "    </tr>\n",
              "  </thead>\n",
              "  <tbody>\n",
              "    <tr>\n",
              "      <th>0</th>\n",
              "      <td>1</td>\n",
              "      <td>'the guardian ' va sánchez : 'europa necesita ...</td>\n",
              "      <td>diario británico publicó pasado jueves editori...</td>\n",
              "      <td>2023-06-02</td>\n",
              "    </tr>\n",
              "    <tr>\n",
              "      <th>1</th>\n",
              "      <td>0</td>\n",
              "      <td>revelan gobierno negocio liberación mireles ca...</td>\n",
              "      <td>revelan gobierno negocio liberación mireles ca...</td>\n",
              "      <td>2023-10-01</td>\n",
              "    </tr>\n",
              "    <tr>\n",
              "      <th>2</th>\n",
              "      <td>1</td>\n",
              "      <td>'ahora nunca ' joan fuster estatuto valenciano...</td>\n",
              "      <td>valencianismo convoca castelló fiesta grande c...</td>\n",
              "      <td>2022-04-25</td>\n",
              "    </tr>\n",
              "    <tr>\n",
              "      <th>3</th>\n",
              "      <td>1</td>\n",
              "      <td>iglesias alienta yolanda díaz , erc eh bildu n...</td>\n",
              "      <td>política , igual negociar empresarios , negoci...</td>\n",
              "      <td>2022-01-03</td>\n",
              "    </tr>\n",
              "    <tr>\n",
              "      <th>4</th>\n",
              "      <td>0</td>\n",
              "      <td>puigdemont : 'no ninguna tragedia repetición e...</td>\n",
              "      <td>entrevista punt avui , líder jxcat desdramatiz...</td>\n",
              "      <td>2018-03-09</td>\n",
              "    </tr>\n",
              "  </tbody>\n",
              "</table>\n",
              "</div>"
            ],
            "text/plain": [
              "   Label                                             Titulo  \\\n",
              "0      1  'the guardian ' va sánchez : 'europa necesita ...   \n",
              "1      0  revelan gobierno negocio liberación mireles ca...   \n",
              "2      1  'ahora nunca ' joan fuster estatuto valenciano...   \n",
              "3      1  iglesias alienta yolanda díaz , erc eh bildu n...   \n",
              "4      0  puigdemont : 'no ninguna tragedia repetición e...   \n",
              "\n",
              "                                         Descripcion      Fecha  \n",
              "0  diario británico publicó pasado jueves editori... 2023-06-02  \n",
              "1  revelan gobierno negocio liberación mireles ca... 2023-10-01  \n",
              "2  valencianismo convoca castelló fiesta grande c... 2022-04-25  \n",
              "3  política , igual negociar empresarios , negoci... 2022-01-03  \n",
              "4  entrevista punt avui , líder jxcat desdramatiz... 2018-03-09  "
            ]
          },
          "metadata": {},
          "output_type": "display_data"
        }
      ],
      "source": [
        "def limpiar_texto(texto):\n",
        "    texto = texto.lower()\n",
        "    tokens = word_tokenize(texto, language='spanish')\n",
        "\n",
        "    stop_words = set(stopwords.words('spanish'))\n",
        "    palabras_filtradas = [palabra for palabra in tokens if palabra not in stop_words]\n",
        "\n",
        "    texto_limpio = ' '.join(palabras_filtradas)\n",
        "    return texto_limpio\n",
        "\n",
        "\n",
        "df4['Titulo'] = df4[\"Titulo\"].apply(limpiar_texto)\n",
        "df4['Descripcion'] = df4[\"Descripcion\"].apply(limpiar_texto)\n",
        "\n",
        "display(df4.head(5))"
      ]
    },
    {
      "cell_type": "markdown",
      "metadata": {
        "id": "K3GYLtCC_sb4"
      },
      "source": [
        "- Despúes de lo anterior, vamos a implementar la lematización de texto, con eso mejoramos la normalización del lenguaje en el análisis de datos. Utilizamos spaCy para procesar en lotes y extraer la forma base de cada palabra, luego eliminamos signos de puntuación y caracteres acentuados, ya que los requeriamos para un correcto funcionamiento de spaCy."
      ]
    },
    {
      "cell_type": "code",
      "execution_count": 26,
      "metadata": {
        "colab": {
          "base_uri": "https://localhost:8080/",
          "height": 292
        },
        "id": "zrxf0aE7VdaM",
        "outputId": "15a18c5c-62e6-4951-c647-83bdb9026d36"
      },
      "outputs": [
        {
          "data": {
            "text/html": [
              "<div>\n",
              "<style scoped>\n",
              "    .dataframe tbody tr th:only-of-type {\n",
              "        vertical-align: middle;\n",
              "    }\n",
              "\n",
              "    .dataframe tbody tr th {\n",
              "        vertical-align: top;\n",
              "    }\n",
              "\n",
              "    .dataframe thead th {\n",
              "        text-align: right;\n",
              "    }\n",
              "</style>\n",
              "<table border=\"1\" class=\"dataframe\">\n",
              "  <thead>\n",
              "    <tr style=\"text-align: right;\">\n",
              "      <th></th>\n",
              "      <th>Label</th>\n",
              "      <th>Titulo</th>\n",
              "      <th>Descripcion</th>\n",
              "      <th>Fecha</th>\n",
              "    </tr>\n",
              "  </thead>\n",
              "  <tbody>\n",
              "    <tr>\n",
              "      <th>0</th>\n",
              "      <td>1</td>\n",
              "      <td>the guardian ir sanchez europa necesitar apues...</td>\n",
              "      <td>diario britanico publicar pasado jueves editor...</td>\n",
              "      <td>2023-06-02</td>\n",
              "    </tr>\n",
              "    <tr>\n",
              "      <th>1</th>\n",
              "      <td>0</td>\n",
              "      <td>revelar gobierno negocio liberacion mirel camb...</td>\n",
              "      <td>revelar gobierno negocio liberacion mirel camb...</td>\n",
              "      <td>2023-10-01</td>\n",
              "    </tr>\n",
              "    <tr>\n",
              "      <th>2</th>\n",
              "      <td>1</td>\n",
              "      <td>ahora nunca joan fuster estatuto valenciano cu...</td>\n",
              "      <td>valencianismo convoca castellar fiesta grande ...</td>\n",
              "      <td>2022-04-25</td>\n",
              "    </tr>\n",
              "    <tr>\n",
              "      <th>3</th>\n",
              "      <td>1</td>\n",
              "      <td>iglesia alentar yolanda diaz erc eh bildu nego...</td>\n",
              "      <td>politica igual negociar empresario negociar gr...</td>\n",
              "      <td>2022-01-03</td>\n",
              "    </tr>\n",
              "    <tr>\n",
              "      <th>4</th>\n",
              "      <td>0</td>\n",
              "      <td>puigdemont no ninguno tragedia repeticion elec...</td>\n",
              "      <td>entrevista punt avui lider jxcat desdramatizad...</td>\n",
              "      <td>2018-03-09</td>\n",
              "    </tr>\n",
              "  </tbody>\n",
              "</table>\n",
              "</div>"
            ],
            "text/plain": [
              "   Label                                             Titulo  \\\n",
              "0      1  the guardian ir sanchez europa necesitar apues...   \n",
              "1      0  revelar gobierno negocio liberacion mirel camb...   \n",
              "2      1  ahora nunca joan fuster estatuto valenciano cu...   \n",
              "3      1  iglesia alentar yolanda diaz erc eh bildu nego...   \n",
              "4      0  puigdemont no ninguno tragedia repeticion elec...   \n",
              "\n",
              "                                         Descripcion      Fecha  \n",
              "0  diario britanico publicar pasado jueves editor... 2023-06-02  \n",
              "1  revelar gobierno negocio liberacion mirel camb... 2023-10-01  \n",
              "2  valencianismo convoca castellar fiesta grande ... 2022-04-25  \n",
              "3  politica igual negociar empresario negociar gr... 2022-01-03  \n",
              "4  entrevista punt avui lider jxcat desdramatizad... 2018-03-09  "
            ]
          },
          "metadata": {},
          "output_type": "display_data"
        }
      ],
      "source": [
        "def lematizar(texts):\n",
        "    docs = nlp.pipe(texts, batch_size=500)\n",
        "    textos_lematizados = [\" \".join([token.lemma_ for token in doc if not token.is_punct])\n",
        "                         for doc in docs]\n",
        "    return [unicodedata.normalize('NFKD', texto).encode('ascii', 'ignore').decode('utf-8')\n",
        "            for texto in textos_lematizados]\n",
        "\n",
        "df5 = df4.copy()\n",
        "df5['Titulo'] = lematizar(df5['Titulo'])\n",
        "df5['Descripcion'] = lematizar(df5['Descripcion'])\n",
        "\n",
        "display(df5.head(5))"
      ]
    },
    {
      "cell_type": "markdown",
      "metadata": {
        "id": "olLqI8D5-5wa"
      },
      "source": [
        "## 3.2 Vectorización"
      ]
    },
    {
      "cell_type": "code",
      "execution_count": 27,
      "metadata": {
        "colab": {
          "base_uri": "https://localhost:8080/"
        },
        "id": "z7Q_p1YIOUot",
        "outputId": "012bcf20-bf7d-43ab-e7c6-60d7ebfb2c66"
      },
      "outputs": [
        {
          "name": "stdout",
          "output_type": "stream",
          "text": [
            "   aba  abajo  abalo  abandona  abandonado  abandonar  abandono  abascal  abc  \\\n",
            "0  0.0    0.0    0.0       0.0         0.0        0.0       0.0      0.0  0.0   \n",
            "1  0.0    0.0    0.0       0.0         0.0        0.0       0.0      0.0  0.0   \n",
            "2  0.0    0.0    0.0       0.0         0.0        0.0       0.0      0.0  0.0   \n",
            "3  0.0    0.0    0.0       0.0         0.0        0.0       0.0      0.0  0.0   \n",
            "4  0.0    0.0    0.0       0.0         0.0        0.0       0.0      0.0  0.0   \n",
            "\n",
            "   abdicacion  abertzale  abiertamente  ...  zapatero  zaplan  zaplana  \\\n",
            "0         0.0        0.0           0.0  ...       0.0     0.0      0.0   \n",
            "1         0.0        0.0           0.0  ...       0.0     0.0      0.0   \n",
            "2         0.0        0.0           0.0  ...       0.0     0.0      0.0   \n",
            "3         0.0        0.0           0.0  ...       0.0     0.0      0.0   \n",
            "4         0.0        0.0           0.0  ...       0.0     0.0      0.0   \n",
            "\n",
            "   zaragoza  zaragozar  zarzalejos  zarzuela  zavala  zendal  zerolo  zoido  \\\n",
            "0       0.0        0.0         0.0       0.0     0.0     0.0     0.0    0.0   \n",
            "1       0.0        0.0         0.0       0.0     0.0     0.0     0.0    0.0   \n",
            "2       0.0        0.0         0.0       0.0     0.0     0.0     0.0    0.0   \n",
            "3       0.0        0.0         0.0       0.0     0.0     0.0     0.0    0.0   \n",
            "4       0.0        0.0         0.0       0.0     0.0     0.0     0.0    0.0   \n",
            "\n",
            "   zona  \n",
            "0   0.0  \n",
            "1   0.0  \n",
            "2   0.0  \n",
            "3   0.0  \n",
            "4   0.0  \n",
            "\n",
            "[5 rows x 5000 columns]\n"
          ]
        }
      ],
      "source": [
        "from sklearn.feature_extraction.text import TfidfVectorizer\n",
        "\n",
        "vectorizer = TfidfVectorizer(token_pattern=r\"(?u)\\b[a-zA-ZáéíóúüñÁÉÍÓÚÜÑ]{2,}\\b\", max_features=5000)\n",
        "X_tfidf = vectorizer.fit_transform(df5[\"Titulo\"] + \" \" + df5[\"Descripcion\"])\n",
        "\n",
        "# Convertir a DataFrame\n",
        "tfidf_df = pd.DataFrame(X_tfidf.toarray(), columns=vectorizer.get_feature_names_out())\n",
        "print(tfidf_df.head())"
      ]
    },
    {
      "cell_type": "markdown",
      "metadata": {
        "id": "s6ngH5wROLj_"
      },
      "source": [
        "## 4. Reportes Automáticos para realizar el entendimiento de los datos\n",
        "\n",
        "Para los reportes automáticos, se puede usar al herramienta de pandas profiling.\n",
        "\n",
        "\n",
        "Para cada columna, genera las siguientes estadísticas, si son relevantes para el tipo de columna, se presentan en un informe HTML interactivo:\n",
        "\n",
        "1. Inferencia de tipo: detecta los tipos de columnas en un dataframe.\n",
        "2. Esenciales: tipo, valores únicos, valores faltantes.\n",
        "3. Estadísticas de cuantiles como valor mínimo, Q1, mediana, Q3, máximo, rango, rango intercuartílico. Esta opción es bastante útil para identificar datos atípicos.\n",
        "4. Estadísticas descriptivas como media, moda, desviación estándar, suma, desviación absoluta mediana, coeficiente de variación, curtosis, asimetría.\n",
        "5. Valores más frecuentes.\n",
        "6. Histogramas.\n",
        "7. Correlaciones destacando variables altamente correlacionadas, matrices de Spearman, Pearson y Kendall. Esto permite descubrir relaciones entre atributos.\n",
        "8. Matriz de valores faltantes, recuento, mapa de calor y dendrograma de valores faltantes\n",
        "\n",
        "Tomado de la librería oficial de pandas_profiling en [github](https://github.com/pandas-profiling/pandas-profiling)\n",
        "\n",
        "Lo más importante al utilizar esta librería es recordar que lo fundamental son los análisis que hagamos sobre estos reportes."
      ]
    },
    {
      "cell_type": "code",
      "execution_count": 28,
      "metadata": {
        "id": "sOJpZTlEOLj_"
      },
      "outputs": [
        {
          "name": "stderr",
          "output_type": "stream",
          "text": [
            "C:\\Users\\juand\\AppData\\Local\\Packages\\PythonSoftwareFoundation.Python.3.11_qbz5n2kfra8p0\\LocalCache\\local-packages\\Python311\\site-packages\\tqdm\\auto.py:21: TqdmWarning:\n",
            "\n",
            "IProgress not found. Please update jupyter and ipywidgets. See https://ipywidgets.readthedocs.io/en/stable/user_install.html\n",
            "\n",
            "C:\\Users\\juand\\AppData\\Local\\Temp\\ipykernel_24812\\289313527.py:1: DeprecationWarning:\n",
            "\n",
            "`import pandas_profiling` is going to be deprecated by April 1st. Please use `import ydata_profiling` instead.\n",
            "\n"
          ]
        },
        {
          "ename": "ModuleNotFoundError",
          "evalue": "No module named 'ipywidgets'",
          "output_type": "error",
          "traceback": [
            "\u001b[1;31m---------------------------------------------------------------------------\u001b[0m",
            "\u001b[1;31mModuleNotFoundError\u001b[0m                       Traceback (most recent call last)",
            "File \u001b[1;32m~\\AppData\\Local\\Packages\\PythonSoftwareFoundation.Python.3.11_qbz5n2kfra8p0\\LocalCache\\local-packages\\Python311\\site-packages\\IPython\\core\\formatters.py:406\u001b[0m, in \u001b[0;36mBaseFormatter.__call__\u001b[1;34m(self, obj)\u001b[0m\n\u001b[0;32m    404\u001b[0m     method \u001b[38;5;241m=\u001b[39m get_real_method(obj, \u001b[38;5;28mself\u001b[39m\u001b[38;5;241m.\u001b[39mprint_method)\n\u001b[0;32m    405\u001b[0m     \u001b[38;5;28;01mif\u001b[39;00m method \u001b[38;5;129;01mis\u001b[39;00m \u001b[38;5;129;01mnot\u001b[39;00m \u001b[38;5;28;01mNone\u001b[39;00m:\n\u001b[1;32m--> 406\u001b[0m         \u001b[38;5;28;01mreturn\u001b[39;00m \u001b[43mmethod\u001b[49m\u001b[43m(\u001b[49m\u001b[43m)\u001b[49m\n\u001b[0;32m    407\u001b[0m     \u001b[38;5;28;01mreturn\u001b[39;00m \u001b[38;5;28;01mNone\u001b[39;00m\n\u001b[0;32m    408\u001b[0m \u001b[38;5;28;01melse\u001b[39;00m:\n",
            "File \u001b[1;32m~\\AppData\\Local\\Packages\\PythonSoftwareFoundation.Python.3.11_qbz5n2kfra8p0\\LocalCache\\local-packages\\Python311\\site-packages\\ydata_profiling\\profile_report.py:541\u001b[0m, in \u001b[0;36mProfileReport._repr_html_\u001b[1;34m(self)\u001b[0m\n\u001b[0;32m    539\u001b[0m \u001b[38;5;28;01mdef\u001b[39;00m\u001b[38;5;250m \u001b[39m\u001b[38;5;21m_repr_html_\u001b[39m(\u001b[38;5;28mself\u001b[39m) \u001b[38;5;241m-\u001b[39m\u001b[38;5;241m>\u001b[39m \u001b[38;5;28;01mNone\u001b[39;00m:\n\u001b[0;32m    540\u001b[0m \u001b[38;5;250m    \u001b[39m\u001b[38;5;124;03m\"\"\"The ipython notebook widgets user interface gets called by the jupyter notebook.\"\"\"\u001b[39;00m\n\u001b[1;32m--> 541\u001b[0m     \u001b[38;5;28;43mself\u001b[39;49m\u001b[38;5;241;43m.\u001b[39;49m\u001b[43mto_notebook_iframe\u001b[49m\u001b[43m(\u001b[49m\u001b[43m)\u001b[49m\n",
            "File \u001b[1;32m~\\AppData\\Local\\Packages\\PythonSoftwareFoundation.Python.3.11_qbz5n2kfra8p0\\LocalCache\\local-packages\\Python311\\site-packages\\ydata_profiling\\profile_report.py:514\u001b[0m, in \u001b[0;36mProfileReport.to_notebook_iframe\u001b[1;34m(self)\u001b[0m\n\u001b[0;32m    503\u001b[0m \u001b[38;5;250m\u001b[39m\u001b[38;5;124;03m\"\"\"Used to output the HTML representation to a Jupyter notebook.\u001b[39;00m\n\u001b[0;32m    504\u001b[0m \u001b[38;5;124;03mWhen config.notebook.iframe.attribute is \"src\", this function creates a temporary HTML file\u001b[39;00m\n\u001b[0;32m    505\u001b[0m \u001b[38;5;124;03min `./tmp/profile_[hash].html` and returns an Iframe pointing to that contents.\u001b[39;00m\n\u001b[1;32m   (...)\u001b[0m\n\u001b[0;32m    510\u001b[0m \u001b[38;5;124;03m    This constructions solves problems with conflicting stylesheets and navigation links.\u001b[39;00m\n\u001b[0;32m    511\u001b[0m \u001b[38;5;124;03m\"\"\"\u001b[39;00m\n\u001b[0;32m    512\u001b[0m \u001b[38;5;28;01mfrom\u001b[39;00m\u001b[38;5;250m \u001b[39m\u001b[38;5;21;01mIPython\u001b[39;00m\u001b[38;5;21;01m.\u001b[39;00m\u001b[38;5;21;01mcore\u001b[39;00m\u001b[38;5;21;01m.\u001b[39;00m\u001b[38;5;21;01mdisplay\u001b[39;00m\u001b[38;5;250m \u001b[39m\u001b[38;5;28;01mimport\u001b[39;00m display\n\u001b[1;32m--> 514\u001b[0m \u001b[38;5;28;01mfrom\u001b[39;00m\u001b[38;5;250m \u001b[39m\u001b[38;5;21;01mydata_profiling\u001b[39;00m\u001b[38;5;21;01m.\u001b[39;00m\u001b[38;5;21;01mreport\u001b[39;00m\u001b[38;5;21;01m.\u001b[39;00m\u001b[38;5;21;01mpresentation\u001b[39;00m\u001b[38;5;21;01m.\u001b[39;00m\u001b[38;5;21;01mflavours\u001b[39;00m\u001b[38;5;21;01m.\u001b[39;00m\u001b[38;5;21;01mwidget\u001b[39;00m\u001b[38;5;21;01m.\u001b[39;00m\u001b[38;5;21;01mnotebook\u001b[39;00m\u001b[38;5;250m \u001b[39m\u001b[38;5;28;01mimport\u001b[39;00m (\n\u001b[0;32m    515\u001b[0m     get_notebook_iframe,\n\u001b[0;32m    516\u001b[0m )\n\u001b[0;32m    518\u001b[0m \u001b[38;5;66;03m# Ignore warning: https://github.com/ipython/ipython/pull/11350/files\u001b[39;00m\n\u001b[0;32m    519\u001b[0m \u001b[38;5;28;01mwith\u001b[39;00m warnings\u001b[38;5;241m.\u001b[39mcatch_warnings():\n",
            "File \u001b[1;32m~\\AppData\\Local\\Packages\\PythonSoftwareFoundation.Python.3.11_qbz5n2kfra8p0\\LocalCache\\local-packages\\Python311\\site-packages\\ydata_profiling\\report\\presentation\\flavours\\widget\\__init__.py:1\u001b[0m\n\u001b[1;32m----> 1\u001b[0m \u001b[38;5;28;01mfrom\u001b[39;00m\u001b[38;5;250m \u001b[39m\u001b[38;5;21;01mydata_profiling\u001b[39;00m\u001b[38;5;21;01m.\u001b[39;00m\u001b[38;5;21;01mreport\u001b[39;00m\u001b[38;5;21;01m.\u001b[39;00m\u001b[38;5;21;01mpresentation\u001b[39;00m\u001b[38;5;21;01m.\u001b[39;00m\u001b[38;5;21;01mflavours\u001b[39;00m\u001b[38;5;21;01m.\u001b[39;00m\u001b[38;5;21;01mwidget\u001b[39;00m\u001b[38;5;21;01m.\u001b[39;00m\u001b[38;5;21;01malerts\u001b[39;00m\u001b[38;5;250m \u001b[39m\u001b[38;5;28;01mimport\u001b[39;00m WidgetAlerts\n\u001b[0;32m      2\u001b[0m \u001b[38;5;28;01mfrom\u001b[39;00m\u001b[38;5;250m \u001b[39m\u001b[38;5;21;01mydata_profiling\u001b[39;00m\u001b[38;5;21;01m.\u001b[39;00m\u001b[38;5;21;01mreport\u001b[39;00m\u001b[38;5;21;01m.\u001b[39;00m\u001b[38;5;21;01mpresentation\u001b[39;00m\u001b[38;5;21;01m.\u001b[39;00m\u001b[38;5;21;01mflavours\u001b[39;00m\u001b[38;5;21;01m.\u001b[39;00m\u001b[38;5;21;01mwidget\u001b[39;00m\u001b[38;5;21;01m.\u001b[39;00m\u001b[38;5;21;01mcollapse\u001b[39;00m\u001b[38;5;250m \u001b[39m\u001b[38;5;28;01mimport\u001b[39;00m WidgetCollapse\n\u001b[0;32m      3\u001b[0m \u001b[38;5;28;01mfrom\u001b[39;00m\u001b[38;5;250m \u001b[39m\u001b[38;5;21;01mydata_profiling\u001b[39;00m\u001b[38;5;21;01m.\u001b[39;00m\u001b[38;5;21;01mreport\u001b[39;00m\u001b[38;5;21;01m.\u001b[39;00m\u001b[38;5;21;01mpresentation\u001b[39;00m\u001b[38;5;21;01m.\u001b[39;00m\u001b[38;5;21;01mflavours\u001b[39;00m\u001b[38;5;21;01m.\u001b[39;00m\u001b[38;5;21;01mwidget\u001b[39;00m\u001b[38;5;21;01m.\u001b[39;00m\u001b[38;5;21;01mcontainer\u001b[39;00m\u001b[38;5;250m \u001b[39m\u001b[38;5;28;01mimport\u001b[39;00m (\n\u001b[0;32m      4\u001b[0m     WidgetContainer,\n\u001b[0;32m      5\u001b[0m )\n",
            "File \u001b[1;32m~\\AppData\\Local\\Packages\\PythonSoftwareFoundation.Python.3.11_qbz5n2kfra8p0\\LocalCache\\local-packages\\Python311\\site-packages\\ydata_profiling\\report\\presentation\\flavours\\widget\\alerts.py:3\u001b[0m\n\u001b[0;32m      1\u001b[0m \u001b[38;5;28;01mfrom\u001b[39;00m\u001b[38;5;250m \u001b[39m\u001b[38;5;21;01mtyping\u001b[39;00m\u001b[38;5;250m \u001b[39m\u001b[38;5;28;01mimport\u001b[39;00m List\n\u001b[1;32m----> 3\u001b[0m \u001b[38;5;28;01mfrom\u001b[39;00m\u001b[38;5;250m \u001b[39m\u001b[38;5;21;01mipywidgets\u001b[39;00m\u001b[38;5;250m \u001b[39m\u001b[38;5;28;01mimport\u001b[39;00m HTML, Button, widgets\n\u001b[0;32m      5\u001b[0m \u001b[38;5;28;01mfrom\u001b[39;00m\u001b[38;5;250m \u001b[39m\u001b[38;5;21;01mydata_profiling\u001b[39;00m\u001b[38;5;21;01m.\u001b[39;00m\u001b[38;5;21;01mreport\u001b[39;00m\u001b[38;5;21;01m.\u001b[39;00m\u001b[38;5;21;01mpresentation\u001b[39;00m\u001b[38;5;21;01m.\u001b[39;00m\u001b[38;5;21;01mcore\u001b[39;00m\u001b[38;5;250m \u001b[39m\u001b[38;5;28;01mimport\u001b[39;00m Alerts\n\u001b[0;32m      6\u001b[0m \u001b[38;5;28;01mfrom\u001b[39;00m\u001b[38;5;250m \u001b[39m\u001b[38;5;21;01mydata_profiling\u001b[39;00m\u001b[38;5;21;01m.\u001b[39;00m\u001b[38;5;21;01mreport\u001b[39;00m\u001b[38;5;21;01m.\u001b[39;00m\u001b[38;5;21;01mpresentation\u001b[39;00m\u001b[38;5;21;01m.\u001b[39;00m\u001b[38;5;21;01mflavours\u001b[39;00m\u001b[38;5;21;01m.\u001b[39;00m\u001b[38;5;21;01mhtml\u001b[39;00m\u001b[38;5;250m \u001b[39m\u001b[38;5;28;01mimport\u001b[39;00m templates\n",
            "\u001b[1;31mModuleNotFoundError\u001b[0m: No module named 'ipywidgets'"
          ]
        },
        {
          "data": {
            "text/plain": []
          },
          "execution_count": 28,
          "metadata": {},
          "output_type": "execute_result"
        }
      ],
      "source": [
        "import pandas_profiling\n",
        "\n",
        "profiling =pandas_profiling.ProfileReport(df5)\n",
        "profiling"
      ]
    },
    {
      "cell_type": "code",
      "execution_count": 29,
      "metadata": {
        "id": "NJl64nRNOLj_"
      },
      "outputs": [
        {
          "name": "stderr",
          "output_type": "stream",
          "text": [
            "Summarize dataset: 100%|██████████| 13/13 [00:02<00:00,  5.28it/s, Completed]                  \n",
            "Generate report structure: 100%|██████████| 1/1 [00:01<00:00,  1.17s/it]\n",
            "Render HTML: 100%|██████████| 1/1 [00:00<00:00,  4.89it/s]\n",
            "Export report to file: 100%|██████████| 1/1 [00:00<?, ?it/s]\n"
          ]
        }
      ],
      "source": [
        "profiling.to_file(\"Proyecto1_db_profile.html\")"
      ]
    },
    {
      "cell_type": "markdown",
      "metadata": {
        "id": "4PRtm9l13GDA"
      },
      "source": [
        "# 4. Modelamiento"
      ]
    },
    {
      "cell_type": "markdown",
      "metadata": {
        "id": "alMPLUTsOIcR"
      },
      "source": [
        "## 4.1 Modelo basado en reglas (RIPPER)"
      ]
    },
    {
      "cell_type": "markdown",
      "metadata": {
        "id": "CJ24p4dz3GDA"
      },
      "source": [
        "Para clasificar noticias falsas utilizando un modelo basado en reglas, se escogio el algoritmo RIPPER (Repeated Incremental Pruning to Produce Error Reduction), ya que es una opción eficiente y escalable para conjuntos de datos grandes, como el de 60,000 registros.\n",
        "\n",
        "Algunas de sus principales ventajas son:  \n",
        "\n",
        "- **Simplicidad y explicabilidad**: Genera reglas fácilmente interpretables, lo que permite comprender mejor los patrones asociados a las noticias falsas.  \n",
        "- **Eficiencia en grandes volúmenes de datos**: Está diseñado para procesar grandes cantidades de información sin riesgo de sobreajuste.  \n",
        "- **Manejo de datos desbalanceados**: Puede ajustar la cobertura de las reglas para reducir el sesgo hacia la clase mayoritaria, mejorando así la precisión en la clasificación."
      ]
    },
    {
      "cell_type": "markdown",
      "metadata": {
        "id": "YxyiG2tB3GDA"
      },
      "source": [
        "### Imports"
      ]
    },
    {
      "cell_type": "code",
      "execution_count": 30,
      "metadata": {
        "id": "ldYxMON93GDA"
      },
      "outputs": [
        {
          "name": "stdout",
          "output_type": "stream",
          "text": [
            "Requirement already satisfied: wittgenstein in c:\\users\\juand\\appdata\\local\\packages\\pythonsoftwarefoundation.python.3.11_qbz5n2kfra8p0\\localcache\\local-packages\\python311\\site-packages (0.3.4)\n",
            "Requirement already satisfied: pandas in c:\\users\\juand\\appdata\\local\\packages\\pythonsoftwarefoundation.python.3.11_qbz5n2kfra8p0\\localcache\\local-packages\\python311\\site-packages (from wittgenstein) (2.2.3)\n",
            "Requirement already satisfied: numpy in c:\\users\\juand\\appdata\\local\\packages\\pythonsoftwarefoundation.python.3.11_qbz5n2kfra8p0\\localcache\\local-packages\\python311\\site-packages (from wittgenstein) (1.26.4)\n",
            "Requirement already satisfied: python-dateutil>=2.8.2 in c:\\users\\juand\\appdata\\local\\packages\\pythonsoftwarefoundation.python.3.11_qbz5n2kfra8p0\\localcache\\local-packages\\python311\\site-packages (from pandas->wittgenstein) (2.9.0.post0)\n",
            "Requirement already satisfied: pytz>=2020.1 in c:\\users\\juand\\appdata\\local\\packages\\pythonsoftwarefoundation.python.3.11_qbz5n2kfra8p0\\localcache\\local-packages\\python311\\site-packages (from pandas->wittgenstein) (2025.1)\n",
            "Requirement already satisfied: tzdata>=2022.7 in c:\\users\\juand\\appdata\\local\\packages\\pythonsoftwarefoundation.python.3.11_qbz5n2kfra8p0\\localcache\\local-packages\\python311\\site-packages (from pandas->wittgenstein) (2025.1)\n",
            "Requirement already satisfied: six>=1.5 in c:\\users\\juand\\appdata\\local\\packages\\pythonsoftwarefoundation.python.3.11_qbz5n2kfra8p0\\localcache\\local-packages\\python311\\site-packages (from python-dateutil>=2.8.2->pandas->wittgenstein) (1.17.0)\n",
            "Note: you may need to restart the kernel to use updated packages.\n"
          ]
        },
        {
          "name": "stderr",
          "output_type": "stream",
          "text": [
            "\n",
            "[notice] A new release of pip is available: 24.0 -> 25.0.1\n",
            "[notice] To update, run: C:\\Users\\juand\\AppData\\Local\\Microsoft\\WindowsApps\\PythonSoftwareFoundation.Python.3.11_qbz5n2kfra8p0\\python.exe -m pip install --upgrade pip\n"
          ]
        }
      ],
      "source": [
        "import pandas as pd\n",
        "import numpy as np\n",
        "from sklearn.model_selection import train_test_split\n",
        "from sklearn.decomposition import PCA\n",
        "from sklearn.metrics import classification_report, confusion_matrix\n",
        "import seaborn as sns\n",
        "import matplotlib.pyplot as plt\n",
        "\n",
        "%pip install wittgenstein\n",
        "import wittgenstein as lw"
      ]
    },
    {
      "cell_type": "markdown",
      "metadata": {
        "id": "AmHOJzmo3GDB"
      },
      "source": [
        "### Modelo"
      ]
    },
    {
      "cell_type": "code",
      "execution_count": 31,
      "metadata": {
        "collapsed": true,
        "id": "DM4WvfQb4R-_"
      },
      "outputs": [
        {
          "name": "stdout",
          "output_type": "stream",
          "text": [
            "Label\n",
            "1    24137\n",
            "0    17146\n",
            "Name: count, dtype: int64\n"
          ]
        }
      ],
      "source": [
        "\n",
        "pca = PCA(n_components=100, random_state=42)\n",
        "X_reduced = pca.fit_transform(tfidf_df)\n",
        "\n",
        "X_train, X_test, y_train, y_test = train_test_split(\n",
        "    X_reduced, df5['Label'], test_size=0.2, random_state=42)\n",
        "\n",
        "X_train_sample = X_train\n",
        "y_train_sample = y_train\n",
        "\n",
        "print(y_train_sample.value_counts())\n",
        "pos_class = 1 if y_train_sample.value_counts().idxmax() == 1 else 0\n",
        "\n",
        "# Entrenar modelo RIPPER\n",
        "ripper_classifier = lw.RIPPER()\n",
        "ripper_classifier.fit(X_train_sample, y_train_sample, pos_class=pos_class)\n",
        "\n",
        "# Hacer predicciones\n",
        "y_pred = ripper_classifier.predict(X_test)"
      ]
    },
    {
      "cell_type": "code",
      "execution_count": 32,
      "metadata": {
        "id": "RS-8BT3trjWu"
      },
      "outputs": [
        {
          "data": {
            "image/png": "[encoded data removed]",
            "text/plain": [
              "<Figure size 800x600 with 2 Axes>"
            ]
          },
          "metadata": {},
          "output_type": "display_data"
        }
      ],
      "source": [
        "# Matriz de confusión\n",
        "cm = confusion_matrix(y_test, y_pred)\n",
        "plt.figure(figsize=(8, 6))\n",
        "sns.heatmap(cm, annot=True, fmt='d', cmap='Blues',\n",
        "            xticklabels=['Predicted 0', 'Predicted 1'],\n",
        "            yticklabels=['Actual 0', 'Actual 1'])\n",
        "plt.title('Confusion Matrix')\n",
        "plt.xlabel('Predicted Label')\n",
        "plt.ylabel('True Label')\n",
        "plt.show()"
      ]
    },
    {
      "cell_type": "code",
      "execution_count": 33,
      "metadata": {
        "id": "ofhgvZrcrcS-"
      },
      "outputs": [
        {
          "name": "stdout",
          "output_type": "stream",
          "text": [
            "              precision    recall  f1-score   support\n",
            "\n",
            "           0       0.43      0.97      0.59      4137\n",
            "           1       0.88      0.13      0.23      6184\n",
            "\n",
            "    accuracy                           0.47     10321\n",
            "   macro avg       0.65      0.55      0.41     10321\n",
            "weighted avg       0.70      0.47      0.37     10321\n",
            "\n"
          ]
        }
      ],
      "source": [
        "# Evaluar modelo\n",
        "print(classification_report(y_test, y_pred))"
      ]
    },
    {
      "cell_type": "markdown",
      "metadata": {
        "id": "ixiNSgqUJa6w"
      },
      "source": [
        "## 4.2 Modelo Basado en Arboles de Decisión (XGBoost)"
      ]
    },
    {
      "cell_type": "code",
      "execution_count": 34,
      "metadata": {
        "id": "OjHdH1adJcIv"
      },
      "outputs": [
        {
          "name": "stderr",
          "output_type": "stream",
          "text": [
            "\n",
            "[notice] A new release of pip is available: 24.0 -> 25.0.1\n",
            "[notice] To update, run: C:\\Users\\juand\\AppData\\Local\\Microsoft\\WindowsApps\\PythonSoftwareFoundation.Python.3.11_qbz5n2kfra8p0\\python.exe -m pip install --upgrade pip\n"
          ]
        },
        {
          "name": "stdout",
          "output_type": "stream",
          "text": [
            "Collecting xgboost\n",
            "  Downloading xgboost-2.1.4-py3-none-win_amd64.whl.metadata (2.1 kB)\n",
            "Requirement already satisfied: numpy in c:\\users\\juand\\appdata\\local\\packages\\pythonsoftwarefoundation.python.3.11_qbz5n2kfra8p0\\localcache\\local-packages\\python311\\site-packages (from xgboost) (1.26.4)\n",
            "Requirement already satisfied: scipy in c:\\users\\juand\\appdata\\local\\packages\\pythonsoftwarefoundation.python.3.11_qbz5n2kfra8p0\\localcache\\local-packages\\python311\\site-packages (from xgboost) (1.15.1)\n",
            "Downloading xgboost-2.1.4-py3-none-win_amd64.whl (124.9 MB)\n",
            "   ---------------------------------------- 0.0/124.9 MB ? eta -:--:--\n",
            "   ---------------------------------------- 0.0/124.9 MB 330.3 kB/s eta 0:06:19\n",
            "   ---------------------------------------- 0.1/124.9 MB 656.4 kB/s eta 0:03:11\n",
            "   ---------------------------------------- 0.3/124.9 MB 2.6 MB/s eta 0:00:48\n",
            "   ---------------------------------------- 1.5/124.9 MB 8.9 MB/s eta 0:00:14\n",
            "   - -------------------------------------- 4.7/124.9 MB 21.5 MB/s eta 0:00:06\n",
            "   -- ------------------------------------- 8.1/124.9 MB 32.3 MB/s eta 0:00:04\n",
            "   --- ------------------------------------ 10.8/124.9 MB 65.6 MB/s eta 0:00:02\n",
            "   ---- ----------------------------------- 13.3/124.9 MB 65.6 MB/s eta 0:00:02\n",
            "   ----- ---------------------------------- 16.7/124.9 MB 65.2 MB/s eta 0:00:02\n",
            "   ------ --------------------------------- 19.6/124.9 MB 72.6 MB/s eta 0:00:02\n",
            "   ------- -------------------------------- 22.0/124.9 MB 65.6 MB/s eta 0:00:02\n",
            "   ------- -------------------------------- 24.9/124.9 MB 65.2 MB/s eta 0:00:02\n",
            "   --------- ------------------------------ 28.1/124.9 MB 65.2 MB/s eta 0:00:02\n",
            "   --------- ------------------------------ 31.0/124.9 MB 72.6 MB/s eta 0:00:02\n",
            "   ---------- ----------------------------- 33.5/124.9 MB 65.2 MB/s eta 0:00:02\n",
            "   ----------- ---------------------------- 36.4/124.9 MB 72.6 MB/s eta 0:00:02\n",
            "   ------------ --------------------------- 38.9/124.9 MB 65.6 MB/s eta 0:00:02\n",
            "   ------------- -------------------------- 41.8/124.9 MB 72.6 MB/s eta 0:00:02\n",
            "   -------------- ------------------------- 44.8/124.9 MB 65.6 MB/s eta 0:00:02\n",
            "   --------------- ------------------------ 47.3/124.9 MB 73.1 MB/s eta 0:00:02\n",
            "   --------------- ------------------------ 49.8/124.9 MB 73.1 MB/s eta 0:00:02\n",
            "   ---------------- ----------------------- 53.0/124.9 MB 65.6 MB/s eta 0:00:02\n",
            "   ------------------ --------------------- 56.2/124.9 MB 73.1 MB/s eta 0:00:01\n",
            "   ------------------ --------------------- 58.9/124.9 MB 72.6 MB/s eta 0:00:01\n",
            "   ------------------- -------------------- 61.3/124.9 MB 65.6 MB/s eta 0:00:01\n",
            "   -------------------- ------------------- 63.7/124.9 MB 65.6 MB/s eta 0:00:01\n",
            "   --------------------- ------------------ 66.2/124.9 MB 65.6 MB/s eta 0:00:01\n",
            "   ---------------------- ----------------- 69.1/124.9 MB 65.6 MB/s eta 0:00:01\n",
            "   ---------------------- ----------------- 71.6/124.9 MB 72.6 MB/s eta 0:00:01\n",
            "   ----------------------- ---------------- 74.2/124.9 MB 65.6 MB/s eta 0:00:01\n",
            "   ------------------------ --------------- 76.7/124.9 MB 65.2 MB/s eta 0:00:01\n",
            "   ------------------------- -------------- 79.2/124.9 MB 72.6 MB/s eta 0:00:01\n",
            "   -------------------------- ------------- 81.7/124.9 MB 65.6 MB/s eta 0:00:01\n",
            "   -------------------------- ------------- 84.2/124.9 MB 65.6 MB/s eta 0:00:01\n",
            "   --------------------------- ------------ 86.9/124.9 MB 65.6 MB/s eta 0:00:01\n",
            "   ---------------------------- ----------- 89.5/124.9 MB 65.6 MB/s eta 0:00:01\n",
            "   ----------------------------- ---------- 92.0/124.9 MB 73.1 MB/s eta 0:00:01\n",
            "   ------------------------------ --------- 94.4/124.9 MB 65.6 MB/s eta 0:00:01\n",
            "   ------------------------------- -------- 97.0/124.9 MB 65.2 MB/s eta 0:00:01\n",
            "   ------------------------------- -------- 99.5/124.9 MB 65.6 MB/s eta 0:00:01\n",
            "   ------------------------------- ------- 102.0/124.9 MB 65.2 MB/s eta 0:00:01\n",
            "   -------------------------------- ------ 104.7/124.9 MB 72.6 MB/s eta 0:00:01\n",
            "   --------------------------------- ----- 107.4/124.9 MB 65.6 MB/s eta 0:00:01\n",
            "   ---------------------------------- ---- 109.8/124.9 MB 65.6 MB/s eta 0:00:01\n",
            "   ----------------------------------- --- 112.9/124.9 MB 65.6 MB/s eta 0:00:01\n",
            "   ------------------------------------ -- 115.4/124.9 MB 73.1 MB/s eta 0:00:01\n",
            "   ------------------------------------ -- 117.9/124.9 MB 65.6 MB/s eta 0:00:01\n",
            "   ------------------------------------- - 120.7/124.9 MB 73.1 MB/s eta 0:00:01\n",
            "   --------------------------------------  123.3/124.9 MB 65.6 MB/s eta 0:00:01\n",
            "   --------------------------------------  124.9/124.9 MB 72.6 MB/s eta 0:00:01\n",
            "   --------------------------------------  124.9/124.9 MB 72.6 MB/s eta 0:00:01\n",
            "   --------------------------------------  124.9/124.9 MB 72.6 MB/s eta 0:00:01\n",
            "   --------------------------------------  124.9/124.9 MB 72.6 MB/s eta 0:00:01\n",
            "   --------------------------------------  124.9/124.9 MB 72.6 MB/s eta 0:00:01\n",
            "   --------------------------------------  124.9/124.9 MB 72.6 MB/s eta 0:00:01\n",
            "   --------------------------------------  124.9/124.9 MB 72.6 MB/s eta 0:00:01\n",
            "   --------------------------------------  124.9/124.9 MB 72.6 MB/s eta 0:00:01\n",
            "   --------------------------------------  124.9/124.9 MB 72.6 MB/s eta 0:00:01\n",
            "   --------------------------------------  124.9/124.9 MB 72.6 MB/s eta 0:00:01\n",
            "   --------------------------------------  124.9/124.9 MB 72.6 MB/s eta 0:00:01\n",
            "   --------------------------------------  124.9/124.9 MB 72.6 MB/s eta 0:00:01\n",
            "   --------------------------------------  124.9/124.9 MB 72.6 MB/s eta 0:00:01\n",
            "   --------------------------------------  124.9/124.9 MB 72.6 MB/s eta 0:00:01\n",
            "   --------------------------------------  124.9/124.9 MB 72.6 MB/s eta 0:00:01\n",
            "   --------------------------------------- 124.9/124.9 MB 13.6 MB/s eta 0:00:00\n",
            "Installing collected packages: xgboost\n",
            "Successfully installed xgboost-2.1.4\n",
            "Note: you may need to restart the kernel to use updated packages.\n",
            "              precision    recall  f1-score   support\n",
            "\n",
            "           0       0.98      0.77      0.86      4137\n",
            "           1       0.87      0.99      0.92      6184\n",
            "\n",
            "    accuracy                           0.90     10321\n",
            "   macro avg       0.92      0.88      0.89     10321\n",
            "weighted avg       0.91      0.90      0.90     10321\n",
            "\n"
          ]
        },
        {
          "data": {
            "image/png": "[encoded data removed]",
            "text/plain": [
              "<Figure size 800x600 with 2 Axes>"
            ]
          },
          "metadata": {},
          "output_type": "display_data"
        }
      ],
      "source": [
        "%pip install xgboost\n",
        "import xgboost as xgb\n",
        "from sklearn.model_selection import train_test_split\n",
        "from sklearn.metrics import accuracy_score, classification_report, confusion_matrix\n",
        "import matplotlib.pyplot as plt\n",
        "import seaborn as sns\n",
        "\n",
        "# Dividir el conjunto de datos en entrenamiento y prueba\n",
        "X_train, X_test, y_train, y_test = train_test_split(\n",
        "    tfidf_df, df5['Label'], test_size=0.2, random_state=42)\n",
        "\n",
        "# Crear el modelo XGBoost\n",
        "xgb_model = xgb.XGBClassifier(\n",
        "    n_estimators=100,\n",
        "    learning_rate=0.1,\n",
        "    max_depth=6,\n",
        "    random_state=42\n",
        ")\n",
        "\n",
        "\n",
        "# Entrenar el modelo\n",
        "xgb_model.fit(X_train, y_train)\n",
        "\n",
        "# Hacer predicciones\n",
        "y_pred = xgb_model.predict(X_test)\n",
        "\n",
        "\n",
        "# Matriz de confusión\n",
        "cm = confusion_matrix(y_test, y_pred)\n",
        "plt.figure(figsize=(8, 6))\n",
        "sns.heatmap(cm, annot=True, fmt='d', cmap='Blues',\n",
        "            xticklabels=['Predicted 0', 'Predicted 1'],\n",
        "            yticklabels=['Actual 0', 'Actual 1'])\n",
        "\n",
        "\n",
        "# Evaluar el modelo\n",
        "print(classification_report(y_test, y_pred))"
      ]
    },
    {
      "cell_type": "markdown",
      "metadata": {
        "id": "7Ng4jFzXJg_3"
      },
      "source": [
        "## 4.3 Regresión logística - Andres Felipe Garcia"
      ]
    },
    {
      "cell_type": "markdown",
      "metadata": {
        "id": "xQl8o5IlJuYo"
      },
      "source": [
        "### 4.3.1 Descripción"
      ]
    },
    {
      "cell_type": "markdown",
      "metadata": {
        "id": "4ICGKBy8M1sh"
      },
      "source": [
        "Elegimos Regresión Logística para la clasificación de noticias porque es un modelo lineal eficiente y adecuado para tareas de clasificación binaria o multiclase, especialmente cuando el conjunto de datos es grande y tiene representaciones de texto vectorizadas como TF-IDF.\n",
        "\n",
        "Este algoritmo estima la probabilidad de que una noticia pertenezca a una categoría específica aplicando la función sigmoide a una combinación lineal de características. Su principal ventaja es la interpretabilidad y su capacidad para manejar conjuntos de datos de alta dimensión sin requerir grandes recursos computacionales.\n",
        "\n",
        "Además, en combinación con regularización L1 y L2, la regresión logística puede manejar problemas de sobreajuste al reducir la influencia de características irrelevantes. Su compatibilidad con técnicas de validación cruzada y búsqueda de hiperparámetros permite optimizar su rendimiento en la clasificación de noticias."
      ]
    },
    {
      "cell_type": "markdown",
      "metadata": {
        "id": "NVKJdPbIJ4HR"
      },
      "source": [
        "### 4.3.2 Modelo"
      ]
    },
    {
      "cell_type": "code",
      "execution_count": 35,
      "metadata": {
        "id": "o8tsDTMdKz7I"
      },
      "outputs": [],
      "source": [
        "from sklearn import preprocessing\n",
        "from sklearn.model_selection import train_test_split\n",
        "from sklearn.linear_model import LogisticRegression\n",
        "from sklearn.metrics import classification_report\n",
        "from sklearn.model_selection import GridSearchCV"
      ]
    },
    {
      "cell_type": "code",
      "execution_count": 36,
      "metadata": {
        "colab": {
          "base_uri": "https://localhost:8080/"
        },
        "id": "WJXYt_qAKIbP",
        "outputId": "c16f9c75-7409-4540-95e7-609ec8ad16d2"
      },
      "outputs": [
        {
          "name": "stdout",
          "output_type": "stream",
          "text": [
            "              precision    recall  f1-score   support\n",
            "\n",
            "           0       0.94      0.81      0.87      4137\n",
            "           1       0.88      0.97      0.92      6184\n",
            "\n",
            "    accuracy                           0.90     10321\n",
            "   macro avg       0.91      0.89      0.90     10321\n",
            "weighted avg       0.91      0.90      0.90     10321\n",
            "\n"
          ]
        }
      ],
      "source": [
        "X = tfidf_df\n",
        "y = df5['Label']\n",
        "\n",
        "X_train, X_test, y_train, y_test = train_test_split(X, y, test_size=0.2, random_state=42)\n",
        "\n",
        "# Modelo\n",
        "model_R = LogisticRegression()\n",
        "model_R.fit(X_train, y_train)\n",
        "predictions_R = model_R.predict(X_test)\n",
        "\n",
        "# Evaluación del modelo\n",
        "cr1 = classification_report(y_test, predictions_R)\n",
        "print(cr1)\n"
      ]
    },
    {
      "cell_type": "markdown",
      "metadata": {
        "id": "mwll-jL1J8i2"
      },
      "source": [
        "### 4.3.3 Validación cruzada"
      ]
    },
    {
      "cell_type": "markdown",
      "metadata": {
        "id": "uaflym64LQlP"
      },
      "source": [
        "- En este apartado, se implementa un modelo de regresión logística utilizando búsqueda en malla (GridSearchCV) para optimizar sus hiperparámetros. Se define una cuadrícula con distintos valores de la penalización\n",
        "𝐶\n",
        "C y tipos de regularización (\n",
        "𝐿\n",
        "1\n",
        "L1 y\n",
        "𝐿\n",
        "2\n",
        "L2), permitiendo encontrar la mejor combinación mediante validación cruzada con cinco particiones. El modelo utiliza el solver \"liblinear\" para garantizar compatibilidad con ambas penalizaciones y se entrena con un máximo de 1000 iteraciones. Finalmente, se muestran los mejores hiperparámetros y la precisión obtenida."
      ]
    },
    {
      "cell_type": "code",
      "execution_count": 37,
      "metadata": {
        "colab": {
          "base_uri": "https://localhost:8080/"
        },
        "id": "RZupfdFcKI6A",
        "outputId": "65bbb043-0a19-42a1-ae93-7855996380d2"
      },
      "outputs": [
        {
          "name": "stdout",
          "output_type": "stream",
          "text": [
            "Fitting 5 folds for each of 10 candidates, totalling 50 fits\n",
            "Mejores parámetros: {'C': 1.0, 'penalty': 'l1'}\n",
            "Mejor precisión: 0.9134752941596185\n"
          ]
        }
      ],
      "source": [
        "grid = {\"C\": np.logspace(-3, 3, 5), \"penalty\": [\"l1\", \"l2\"]}\n",
        "model = LogisticRegression(solver=\"liblinear\", max_iter=1000)\n",
        "grid_search_lr = GridSearchCV(model, grid, scoring=\"accuracy\", cv=5, verbose=1)\n",
        "grid_search_lr.fit(X_train, y_train)\n",
        "\n",
        "print(\"Mejores parámetros:\", grid_search_lr.best_params_)\n",
        "print(\"Mejor precisión:\", grid_search_lr.best_score_)"
      ]
    },
    {
      "cell_type": "markdown",
      "metadata": {
        "id": "yxugk0czLZCo"
      },
      "source": [
        "- En este apartado, se reentrena el modelo de regresión logística utilizando los mejores hiperparámetros encontrados en la búsqueda en malla. Luego, se evalúa su desempeño con el conjunto de prueba y se generan predicciones. Finalmente, se imprime el reporte de clasificación, que proporciona métricas clave como precisión, recall y F1-score para analizar el rendimiento del modelo."
      ]
    },
    {
      "cell_type": "code",
      "execution_count": 38,
      "metadata": {
        "colab": {
          "base_uri": "https://localhost:8080/"
        },
        "id": "RBi5T2k6LrGm",
        "outputId": "33f5b48c-22f9-487e-f8cf-4611e57dc7cb"
      },
      "outputs": [
        {
          "name": "stdout",
          "output_type": "stream",
          "text": [
            "              precision    recall  f1-score   support\n",
            "\n",
            "           0       0.94      0.85      0.89      4137\n",
            "           1       0.90      0.96      0.93      6184\n",
            "\n",
            "    accuracy                           0.92     10321\n",
            "   macro avg       0.92      0.90      0.91     10321\n",
            "weighted avg       0.92      0.92      0.91     10321\n",
            "\n"
          ]
        }
      ],
      "source": [
        "from sklearn.metrics import classification_report\n",
        "\n",
        "best_params = grid_search_lr.best_params_\n",
        "best_model = LogisticRegression(C=best_params[\"C\"], penalty=best_params[\"penalty\"], solver=\"liblinear\", max_iter=1000)\n",
        "best_model.fit(X_train, y_train)\n",
        "\n",
        "predictions_best = best_model.predict(X_test)\n",
        "\n",
        "print(classification_report(y_test, predictions_best))\n"
      ]
    },
    {
      "cell_type": "markdown",
      "metadata": {
        "id": "UGmORfJZKB-A"
      },
      "source": [
        "### 4.3.4 Matriz de confusión"
      ]
    },
    {
      "cell_type": "code",
      "execution_count": 39,
      "metadata": {
        "colab": {
          "base_uri": "https://localhost:8080/",
          "height": 410
        },
        "id": "2KmxaLITJnqn",
        "outputId": "d03ea4d2-a4a9-46ee-92de-d56703739288"
      },
      "outputs": [
        {
          "data": {
            "image/png": "[encoded data removed]",
            "text/plain": [
              "<Figure size 600x400 with 2 Axes>"
            ]
          },
          "metadata": {},
          "output_type": "display_data"
        }
      ],
      "source": [
        "from sklearn.metrics import confusion_matrix\n",
        "\n",
        "cm = confusion_matrix(y_test, predictions_best)\n",
        "\n",
        "# Visualizar la matriz de confusión\n",
        "plt.figure(figsize=(6, 4))\n",
        "sns.heatmap(cm, annot=True, fmt=\"d\", cmap=\"Blues\", xticklabels=np.unique(y_test), yticklabels=np.unique(y_test))\n",
        "plt.xlabel(\"Predicciones\")\n",
        "plt.ylabel(\"Valores Reales\")\n",
        "plt.title(\"Matriz de Confusión\")\n",
        "plt.show()\n"
      ]
    },
    {
      "cell_type": "markdown",
      "metadata": {
        "id": "TnSG7QiYQPz4"
      },
      "source": [
        "# 5. Escoger un modelo con base en el desempeño y etiquetar"
      ]
    },
    {
      "cell_type": "markdown",
      "metadata": {
        "id": "6Xux6WSpQav5"
      },
      "source": [
        "Después de realizar la validación cruzada, el modelo de Regresión Logística obtuvo un F1-score de 0.91, lo que indica un buen equilibrio entre precisión y exhaustividad en la clasificación de noticias.\n",
        "\n",
        "Comparado con los modelos RIPPER (modelo basado en reglas) y XGBoost (árboles de decisión), la elección del modelo se basó en el desempeño medido con esta métrica. La regresión logística demostró ser eficiente, interpretable y con un rendimiento sobresaliente, por lo que fue seleccionada como el mejor modelo para la tarea."
      ]
    },
    {
      "cell_type": "code",
      "execution_count": 40,
      "metadata": {
        "id": "x7iVZNxZQVGy"
      },
      "outputs": [
        {
          "name": "stderr",
          "output_type": "stream",
          "text": [
            "C:\\Users\\juand\\AppData\\Local\\Packages\\PythonSoftwareFoundation.Python.3.11_qbz5n2kfra8p0\\LocalCache\\local-packages\\Python311\\site-packages\\sklearn\\utils\\validation.py:2739: UserWarning:\n",
            "\n",
            "X does not have valid feature names, but LogisticRegression was fitted with feature names\n",
            "\n"
          ]
        },
        {
          "name": "stdout",
          "output_type": "stream",
          "text": [
            "Archivo guardado como df_etiquetado.csv\n"
          ]
        }
      ],
      "source": [
        "# Suponiendo que ya tienes el DataFrame df y las predicciones del modelo\n",
        "df5[\"Label\"] = best_model.predict(X_tfidf)\n",
        "\n",
        "# Guardar el DataFrame con la nueva columna en un CSV\n",
        "df.to_csv(\"df_etiquetado.csv\", index=False, encoding=\"utf-8\")\n",
        "\n",
        "print(\"Archivo guardado como df_etiquetado.csv\")"
      ]
    }
  ],
  "metadata": {
    "colab": {
      "collapsed_sections": [
        "UtfQojAF3PEB",
        "s6ngH5wROLj_",
        "alMPLUTsOIcR",
        "ixiNSgqUJa6w"
      ],
      "provenance": []
    },
    "kernelspec": {
      "display_name": "Python 3",
      "language": "python",
      "name": "python3"
    },
    "language_info": {
      "codemirror_mode": {
        "name": "ipython",
        "version": 3
      },
      "file_extension": ".py",
      "mimetype": "text/x-python",
      "name": "python",
      "nbconvert_exporter": "python",
      "pygments_lexer": "ipython3",
      "version": "3.11.9"
    }
  },
  "nbformat": 4,
  "nbformat_minor": 0
}
