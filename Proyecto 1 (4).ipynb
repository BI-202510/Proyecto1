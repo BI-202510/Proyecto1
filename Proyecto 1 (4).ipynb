{
  "cells": [
    {
      "cell_type": "markdown",
      "metadata": {
        "id": "rjhw0nKOOLj2"
      },
      "source": [
        "# Proyecto 1: Clasificación de \"fake news\" con modelos de machine learning\n",
        "\n",
        "\n",
        "\n",
        "**Etapa 1**\n",
        "\n",
        "* Objetivos\n",
        "  * --\n",
        "\n",
        "* Entendimiento de los datos\n",
        "  * --\n",
        "\n",
        "* Preparación y preprocesamiento de los datos\n",
        "  * --\n",
        "\n",
        "* Modelamiento\n",
        "  * --\n",
        "\n",
        "\n",
        "\n",
        "**Grupo:** E1- 26"
      ]
    },
    {
      "cell_type": "markdown",
      "metadata": {
        "id": "4hPEVIUpOLj3"
      },
      "source": [
        "# 1. Objetivos"
      ]
    },
    {
      "cell_type": "markdown",
      "metadata": {
        "id": "UtfQojAF3PEB"
      },
      "source": [
        "# 2. Entendimiento de los datos"
      ]
    },
    {
      "cell_type": "markdown",
      "metadata": {
        "id": "DiiR9EMi3Wdb"
      },
      "source": [
        "## 2.1 Descripción de los datos"
      ]
    },
    {
      "cell_type": "markdown",
      "metadata": {
        "id": "Swruib7x3aVZ"
      },
      "source": [
        "## 2.2 Carga y manipulación basica"
      ]
    },
    {
      "cell_type": "markdown",
      "metadata": {
        "id": "1w9CN4933kFY"
      },
      "source": [
        "### 2.2.1 Importacion y carga de datos:"
      ]
    },
    {
      "cell_type": "code",
      "execution_count": null,
      "metadata": {
        "colab": {
          "base_uri": "https://localhost:8080/"
        },
        "collapsed": true,
        "id": "4rxkcT2HOLj3",
        "outputId": "7d3b4ea0-ab0d-4ff9-cf46-d32fde516908"
      },
      "outputs": [
        {
          "name": "stdout",
          "output_type": "stream",
          "text": [
            "Found existing installation: numba 0.58.1\n",
            "Uninstalling numba-0.58.1:\n",
            "  Successfully uninstalled numba-0.58.1\n",
            "\u001b[33mWARNING: Skipping pandas_profiling as it is not installed.\u001b[0m\u001b[33m\n",
            "\u001b[0mFound existing installation: visions 0.7.6\n",
            "Uninstalling visions-0.7.6:\n",
            "  Successfully uninstalled visions-0.7.6\n",
            "Collecting numba==0.58.1\n",
            "  Using cached numba-0.58.1-cp311-cp311-manylinux2014_x86_64.manylinux_2_17_x86_64.whl.metadata (2.7 kB)\n",
            "Requirement already satisfied: llvmlite<0.42,>=0.41.0dev0 in /usr/local/lib/python3.11/dist-packages (from numba==0.58.1) (0.41.1)\n",
            "Requirement already satisfied: numpy<1.27,>=1.22 in /usr/local/lib/python3.11/dist-packages (from numba==0.58.1) (1.26.4)\n",
            "Using cached numba-0.58.1-cp311-cp311-manylinux2014_x86_64.manylinux_2_17_x86_64.whl (3.6 MB)\n",
            "Installing collected packages: numba\n",
            "\u001b[31mERROR: pip's dependency resolver does not currently take into account all the packages that are installed. This behaviour is the source of the following dependency conflicts.\n",
            "numba-cuda 0.0.17.1 requires numba>=0.59.1, but you have numba 0.58.1 which is incompatible.\u001b[0m\u001b[31m\n",
            "\u001b[0mSuccessfully installed numba-0.58.1\n",
            "Requirement already satisfied: ydata-profiling in /usr/local/lib/python3.11/dist-packages (4.12.2)\n",
            "Requirement already satisfied: scipy<1.16,>=1.4.1 in /usr/local/lib/python3.11/dist-packages (from ydata-profiling) (1.13.1)\n",
            "Requirement already satisfied: pandas!=1.4.0,<3,>1.1 in /usr/local/lib/python3.11/dist-packages (from ydata-profiling) (2.2.2)\n",
            "Requirement already satisfied: matplotlib>=3.5 in /usr/local/lib/python3.11/dist-packages (from ydata-profiling) (3.10.0)\n",
            "Requirement already satisfied: pydantic>=2 in /usr/local/lib/python3.11/dist-packages (from ydata-profiling) (2.10.6)\n",
            "Requirement already satisfied: PyYAML<6.1,>=5.0.0 in /usr/local/lib/python3.11/dist-packages (from ydata-profiling) (6.0.2)\n",
            "Requirement already satisfied: jinja2<3.2,>=2.11.1 in /usr/local/lib/python3.11/dist-packages (from ydata-profiling) (3.1.5)\n",
            "Collecting visions<0.8.0,>=0.7.5 (from visions[type_image_path]<0.8.0,>=0.7.5->ydata-profiling)\n",
            "  Using cached visions-0.7.6-py3-none-any.whl.metadata (11 kB)\n",
            "Requirement already satisfied: numpy<2.2,>=1.16.0 in /usr/local/lib/python3.11/dist-packages (from ydata-profiling) (1.26.4)\n",
            "Requirement already satisfied: htmlmin==0.1.12 in /usr/local/lib/python3.11/dist-packages (from ydata-profiling) (0.1.12)\n",
            "Requirement already satisfied: phik<0.13,>=0.11.1 in /usr/local/lib/python3.11/dist-packages (from ydata-profiling) (0.12.4)\n",
            "Requirement already satisfied: requests<3,>=2.24.0 in /usr/local/lib/python3.11/dist-packages (from ydata-profiling) (2.32.3)\n",
            "Requirement already satisfied: tqdm<5,>=4.48.2 in /usr/local/lib/python3.11/dist-packages (from ydata-profiling) (4.67.1)\n",
            "Requirement already satisfied: seaborn<0.14,>=0.10.1 in /usr/local/lib/python3.11/dist-packages (from ydata-profiling) (0.13.2)\n",
            "Requirement already satisfied: multimethod<2,>=1.4 in /usr/local/lib/python3.11/dist-packages (from ydata-profiling) (1.12)\n",
            "Requirement already satisfied: statsmodels<1,>=0.13.2 in /usr/local/lib/python3.11/dist-packages (from ydata-profiling) (0.14.4)\n",
            "Requirement already satisfied: typeguard<5,>=3 in /usr/local/lib/python3.11/dist-packages (from ydata-profiling) (4.4.2)\n",
            "Requirement already satisfied: imagehash==4.3.1 in /usr/local/lib/python3.11/dist-packages (from ydata-profiling) (4.3.1)\n",
            "Requirement already satisfied: wordcloud>=1.9.3 in /usr/local/lib/python3.11/dist-packages (from ydata-profiling) (1.9.4)\n",
            "Requirement already satisfied: dacite>=1.8 in /usr/local/lib/python3.11/dist-packages (from ydata-profiling) (1.9.2)\n",
            "Requirement already satisfied: PyWavelets in /usr/local/lib/python3.11/dist-packages (from imagehash==4.3.1->ydata-profiling) (1.8.0)\n",
            "Requirement already satisfied: pillow in /usr/local/lib/python3.11/dist-packages (from imagehash==4.3.1->ydata-profiling) (11.1.0)\n",
            "Requirement already satisfied: MarkupSafe>=2.0 in /usr/local/lib/python3.11/dist-packages (from jinja2<3.2,>=2.11.1->ydata-profiling) (3.0.2)\n",
            "Requirement already satisfied: contourpy>=1.0.1 in /usr/local/lib/python3.11/dist-packages (from matplotlib>=3.5->ydata-profiling) (1.3.1)\n",
            "Requirement already satisfied: cycler>=0.10 in /usr/local/lib/python3.11/dist-packages (from matplotlib>=3.5->ydata-profiling) (0.12.1)\n",
            "Requirement already satisfied: fonttools>=4.22.0 in /usr/local/lib/python3.11/dist-packages (from matplotlib>=3.5->ydata-profiling) (4.56.0)\n",
            "Requirement already satisfied: kiwisolver>=1.3.1 in /usr/local/lib/python3.11/dist-packages (from matplotlib>=3.5->ydata-profiling) (1.4.8)\n",
            "Requirement already satisfied: packaging>=20.0 in /usr/local/lib/python3.11/dist-packages (from matplotlib>=3.5->ydata-profiling) (24.2)\n",
            "Requirement already satisfied: pyparsing>=2.3.1 in /usr/local/lib/python3.11/dist-packages (from matplotlib>=3.5->ydata-profiling) (3.2.1)\n",
            "Requirement already satisfied: python-dateutil>=2.7 in /usr/local/lib/python3.11/dist-packages (from matplotlib>=3.5->ydata-profiling) (2.8.2)\n",
            "Requirement already satisfied: pytz>=2020.1 in /usr/local/lib/python3.11/dist-packages (from pandas!=1.4.0,<3,>1.1->ydata-profiling) (2025.1)\n",
            "Requirement already satisfied: tzdata>=2022.7 in /usr/local/lib/python3.11/dist-packages (from pandas!=1.4.0,<3,>1.1->ydata-profiling) (2025.1)\n",
            "Requirement already satisfied: joblib>=0.14.1 in /usr/local/lib/python3.11/dist-packages (from phik<0.13,>=0.11.1->ydata-profiling) (1.4.2)\n",
            "Requirement already satisfied: annotated-types>=0.6.0 in /usr/local/lib/python3.11/dist-packages (from pydantic>=2->ydata-profiling) (0.7.0)\n",
            "Requirement already satisfied: pydantic-core==2.27.2 in /usr/local/lib/python3.11/dist-packages (from pydantic>=2->ydata-profiling) (2.27.2)\n",
            "Requirement already satisfied: typing-extensions>=4.12.2 in /usr/local/lib/python3.11/dist-packages (from pydantic>=2->ydata-profiling) (4.12.2)\n",
            "Requirement already satisfied: charset-normalizer<4,>=2 in /usr/local/lib/python3.11/dist-packages (from requests<3,>=2.24.0->ydata-profiling) (3.4.1)\n",
            "Requirement already satisfied: idna<4,>=2.5 in /usr/local/lib/python3.11/dist-packages (from requests<3,>=2.24.0->ydata-profiling) (3.10)\n",
            "Requirement already satisfied: urllib3<3,>=1.21.1 in /usr/local/lib/python3.11/dist-packages (from requests<3,>=2.24.0->ydata-profiling) (2.3.0)\n",
            "Requirement already satisfied: certifi>=2017.4.17 in /usr/local/lib/python3.11/dist-packages (from requests<3,>=2.24.0->ydata-profiling) (2025.1.31)\n",
            "Requirement already satisfied: patsy>=0.5.6 in /usr/local/lib/python3.11/dist-packages (from statsmodels<1,>=0.13.2->ydata-profiling) (1.0.1)\n",
            "Requirement already satisfied: attrs>=19.3.0 in /usr/local/lib/python3.11/dist-packages (from visions<0.8.0,>=0.7.5->visions[type_image_path]<0.8.0,>=0.7.5->ydata-profiling) (25.1.0)\n",
            "Requirement already satisfied: networkx>=2.4 in /usr/local/lib/python3.11/dist-packages (from visions<0.8.0,>=0.7.5->visions[type_image_path]<0.8.0,>=0.7.5->ydata-profiling) (3.4.2)\n",
            "Requirement already satisfied: six>=1.5 in /usr/local/lib/python3.11/dist-packages (from python-dateutil>=2.7->matplotlib>=3.5->ydata-profiling) (1.17.0)\n",
            "Using cached visions-0.7.6-py3-none-any.whl (104 kB)\n",
            "Installing collected packages: visions\n",
            "Successfully installed visions-0.7.6\n",
            "Requirement already satisfied: plotly in /usr/local/lib/python3.11/dist-packages (5.24.1)\n",
            "Requirement already satisfied: tenacity>=6.2.0 in /usr/local/lib/python3.11/dist-packages (from plotly) (9.0.0)\n",
            "Requirement already satisfied: packaging in /usr/local/lib/python3.11/dist-packages (from plotly) (24.2)\n",
            "Requirement already satisfied: spacy in /usr/local/lib/python3.11/dist-packages (3.7.5)\n",
            "Requirement already satisfied: spacy-legacy<3.1.0,>=3.0.11 in /usr/local/lib/python3.11/dist-packages (from spacy) (3.0.12)\n",
            "Requirement already satisfied: spacy-loggers<2.0.0,>=1.0.0 in /usr/local/lib/python3.11/dist-packages (from spacy) (1.0.5)\n",
            "Requirement already satisfied: murmurhash<1.1.0,>=0.28.0 in /usr/local/lib/python3.11/dist-packages (from spacy) (1.0.12)\n",
            "Requirement already satisfied: cymem<2.1.0,>=2.0.2 in /usr/local/lib/python3.11/dist-packages (from spacy) (2.0.11)\n",
            "Requirement already satisfied: preshed<3.1.0,>=3.0.2 in /usr/local/lib/python3.11/dist-packages (from spacy) (3.0.9)\n",
            "Requirement already satisfied: thinc<8.3.0,>=8.2.2 in /usr/local/lib/python3.11/dist-packages (from spacy) (8.2.5)\n",
            "Requirement already satisfied: wasabi<1.2.0,>=0.9.1 in /usr/local/lib/python3.11/dist-packages (from spacy) (1.1.3)\n",
            "Requirement already satisfied: srsly<3.0.0,>=2.4.3 in /usr/local/lib/python3.11/dist-packages (from spacy) (2.5.1)\n",
            "Requirement already satisfied: catalogue<2.1.0,>=2.0.6 in /usr/local/lib/python3.11/dist-packages (from spacy) (2.0.10)\n",
            "Requirement already satisfied: weasel<0.5.0,>=0.1.0 in /usr/local/lib/python3.11/dist-packages (from spacy) (0.4.1)\n",
            "Requirement already satisfied: typer<1.0.0,>=0.3.0 in /usr/local/lib/python3.11/dist-packages (from spacy) (0.15.1)\n",
            "Requirement already satisfied: tqdm<5.0.0,>=4.38.0 in /usr/local/lib/python3.11/dist-packages (from spacy) (4.67.1)\n",
            "Requirement already satisfied: requests<3.0.0,>=2.13.0 in /usr/local/lib/python3.11/dist-packages (from spacy) (2.32.3)\n",
            "Requirement already satisfied: pydantic!=1.8,!=1.8.1,<3.0.0,>=1.7.4 in /usr/local/lib/python3.11/dist-packages (from spacy) (2.10.6)\n",
            "Requirement already satisfied: jinja2 in /usr/local/lib/python3.11/dist-packages (from spacy) (3.1.5)\n",
            "Requirement already satisfied: setuptools in /usr/local/lib/python3.11/dist-packages (from spacy) (75.1.0)\n",
            "Requirement already satisfied: packaging>=20.0 in /usr/local/lib/python3.11/dist-packages (from spacy) (24.2)\n",
            "Requirement already satisfied: langcodes<4.0.0,>=3.2.0 in /usr/local/lib/python3.11/dist-packages (from spacy) (3.5.0)\n",
            "Requirement already satisfied: numpy>=1.19.0 in /usr/local/lib/python3.11/dist-packages (from spacy) (1.26.4)\n",
            "Requirement already satisfied: language-data>=1.2 in /usr/local/lib/python3.11/dist-packages (from langcodes<4.0.0,>=3.2.0->spacy) (1.3.0)\n",
            "Requirement already satisfied: annotated-types>=0.6.0 in /usr/local/lib/python3.11/dist-packages (from pydantic!=1.8,!=1.8.1,<3.0.0,>=1.7.4->spacy) (0.7.0)\n",
            "Requirement already satisfied: pydantic-core==2.27.2 in /usr/local/lib/python3.11/dist-packages (from pydantic!=1.8,!=1.8.1,<3.0.0,>=1.7.4->spacy) (2.27.2)\n",
            "Requirement already satisfied: typing-extensions>=4.12.2 in /usr/local/lib/python3.11/dist-packages (from pydantic!=1.8,!=1.8.1,<3.0.0,>=1.7.4->spacy) (4.12.2)\n",
            "Requirement already satisfied: charset-normalizer<4,>=2 in /usr/local/lib/python3.11/dist-packages (from requests<3.0.0,>=2.13.0->spacy) (3.4.1)\n",
            "Requirement already satisfied: idna<4,>=2.5 in /usr/local/lib/python3.11/dist-packages (from requests<3.0.0,>=2.13.0->spacy) (3.10)\n",
            "Requirement already satisfied: urllib3<3,>=1.21.1 in /usr/local/lib/python3.11/dist-packages (from requests<3.0.0,>=2.13.0->spacy) (2.3.0)\n",
            "Requirement already satisfied: certifi>=2017.4.17 in /usr/local/lib/python3.11/dist-packages (from requests<3.0.0,>=2.13.0->spacy) (2025.1.31)\n",
            "Requirement already satisfied: blis<0.8.0,>=0.7.8 in /usr/local/lib/python3.11/dist-packages (from thinc<8.3.0,>=8.2.2->spacy) (0.7.11)\n",
            "Requirement already satisfied: confection<1.0.0,>=0.0.1 in /usr/local/lib/python3.11/dist-packages (from thinc<8.3.0,>=8.2.2->spacy) (0.1.5)\n",
            "Requirement already satisfied: click>=8.0.0 in /usr/local/lib/python3.11/dist-packages (from typer<1.0.0,>=0.3.0->spacy) (8.1.8)\n",
            "Requirement already satisfied: shellingham>=1.3.0 in /usr/local/lib/python3.11/dist-packages (from typer<1.0.0,>=0.3.0->spacy) (1.5.4)\n",
            "Requirement already satisfied: rich>=10.11.0 in /usr/local/lib/python3.11/dist-packages (from typer<1.0.0,>=0.3.0->spacy) (13.9.4)\n",
            "Requirement already satisfied: cloudpathlib<1.0.0,>=0.7.0 in /usr/local/lib/python3.11/dist-packages (from weasel<0.5.0,>=0.1.0->spacy) (0.20.0)\n",
            "Requirement already satisfied: smart-open<8.0.0,>=5.2.1 in /usr/local/lib/python3.11/dist-packages (from weasel<0.5.0,>=0.1.0->spacy) (7.1.0)\n",
            "Requirement already satisfied: MarkupSafe>=2.0 in /usr/local/lib/python3.11/dist-packages (from jinja2->spacy) (3.0.2)\n",
            "Requirement already satisfied: marisa-trie>=1.1.0 in /usr/local/lib/python3.11/dist-packages (from language-data>=1.2->langcodes<4.0.0,>=3.2.0->spacy) (1.2.1)\n",
            "Requirement already satisfied: markdown-it-py>=2.2.0 in /usr/local/lib/python3.11/dist-packages (from rich>=10.11.0->typer<1.0.0,>=0.3.0->spacy) (3.0.0)\n",
            "Requirement already satisfied: pygments<3.0.0,>=2.13.0 in /usr/local/lib/python3.11/dist-packages (from rich>=10.11.0->typer<1.0.0,>=0.3.0->spacy) (2.18.0)\n",
            "Requirement already satisfied: wrapt in /usr/local/lib/python3.11/dist-packages (from smart-open<8.0.0,>=5.2.1->weasel<0.5.0,>=0.1.0->spacy) (1.17.2)\n",
            "Requirement already satisfied: mdurl~=0.1 in /usr/local/lib/python3.11/dist-packages (from markdown-it-py>=2.2.0->rich>=10.11.0->typer<1.0.0,>=0.3.0->spacy) (0.1.2)\n",
            "Collecting es-core-news-sm==3.7.0\n",
            "  Downloading https://github.com/explosion/spacy-models/releases/download/es_core_news_sm-3.7.0/es_core_news_sm-3.7.0-py3-none-any.whl (12.9 MB)\n",
            "\u001b[2K     \u001b[90m━━━━━━━━━━━━━━━━━━━━━━━━━━━━━━━━━━━━━━━━\u001b[0m \u001b[32m12.9/12.9 MB\u001b[0m \u001b[31m42.7 MB/s\u001b[0m eta \u001b[36m0:00:00\u001b[0m\n",
            "\u001b[?25hRequirement already satisfied: spacy<3.8.0,>=3.7.0 in /usr/local/lib/python3.11/dist-packages (from es-core-news-sm==3.7.0) (3.7.5)\n",
            "Requirement already satisfied: spacy-legacy<3.1.0,>=3.0.11 in /usr/local/lib/python3.11/dist-packages (from spacy<3.8.0,>=3.7.0->es-core-news-sm==3.7.0) (3.0.12)\n",
            "Requirement already satisfied: spacy-loggers<2.0.0,>=1.0.0 in /usr/local/lib/python3.11/dist-packages (from spacy<3.8.0,>=3.7.0->es-core-news-sm==3.7.0) (1.0.5)\n",
            "Requirement already satisfied: murmurhash<1.1.0,>=0.28.0 in /usr/local/lib/python3.11/dist-packages (from spacy<3.8.0,>=3.7.0->es-core-news-sm==3.7.0) (1.0.12)\n",
            "Requirement already satisfied: cymem<2.1.0,>=2.0.2 in /usr/local/lib/python3.11/dist-packages (from spacy<3.8.0,>=3.7.0->es-core-news-sm==3.7.0) (2.0.11)\n",
            "Requirement already satisfied: preshed<3.1.0,>=3.0.2 in /usr/local/lib/python3.11/dist-packages (from spacy<3.8.0,>=3.7.0->es-core-news-sm==3.7.0) (3.0.9)\n",
            "Requirement already satisfied: thinc<8.3.0,>=8.2.2 in /usr/local/lib/python3.11/dist-packages (from spacy<3.8.0,>=3.7.0->es-core-news-sm==3.7.0) (8.2.5)\n",
            "Requirement already satisfied: wasabi<1.2.0,>=0.9.1 in /usr/local/lib/python3.11/dist-packages (from spacy<3.8.0,>=3.7.0->es-core-news-sm==3.7.0) (1.1.3)\n",
            "Requirement already satisfied: srsly<3.0.0,>=2.4.3 in /usr/local/lib/python3.11/dist-packages (from spacy<3.8.0,>=3.7.0->es-core-news-sm==3.7.0) (2.5.1)\n",
            "Requirement already satisfied: catalogue<2.1.0,>=2.0.6 in /usr/local/lib/python3.11/dist-packages (from spacy<3.8.0,>=3.7.0->es-core-news-sm==3.7.0) (2.0.10)\n",
            "Requirement already satisfied: weasel<0.5.0,>=0.1.0 in /usr/local/lib/python3.11/dist-packages (from spacy<3.8.0,>=3.7.0->es-core-news-sm==3.7.0) (0.4.1)\n",
            "Requirement already satisfied: typer<1.0.0,>=0.3.0 in /usr/local/lib/python3.11/dist-packages (from spacy<3.8.0,>=3.7.0->es-core-news-sm==3.7.0) (0.15.1)\n",
            "Requirement already satisfied: tqdm<5.0.0,>=4.38.0 in /usr/local/lib/python3.11/dist-packages (from spacy<3.8.0,>=3.7.0->es-core-news-sm==3.7.0) (4.67.1)\n",
            "Requirement already satisfied: requests<3.0.0,>=2.13.0 in /usr/local/lib/python3.11/dist-packages (from spacy<3.8.0,>=3.7.0->es-core-news-sm==3.7.0) (2.32.3)\n",
            "Requirement already satisfied: pydantic!=1.8,!=1.8.1,<3.0.0,>=1.7.4 in /usr/local/lib/python3.11/dist-packages (from spacy<3.8.0,>=3.7.0->es-core-news-sm==3.7.0) (2.10.6)\n",
            "Requirement already satisfied: jinja2 in /usr/local/lib/python3.11/dist-packages (from spacy<3.8.0,>=3.7.0->es-core-news-sm==3.7.0) (3.1.5)\n",
            "Requirement already satisfied: setuptools in /usr/local/lib/python3.11/dist-packages (from spacy<3.8.0,>=3.7.0->es-core-news-sm==3.7.0) (75.1.0)\n",
            "Requirement already satisfied: packaging>=20.0 in /usr/local/lib/python3.11/dist-packages (from spacy<3.8.0,>=3.7.0->es-core-news-sm==3.7.0) (24.2)\n",
            "Requirement already satisfied: langcodes<4.0.0,>=3.2.0 in /usr/local/lib/python3.11/dist-packages (from spacy<3.8.0,>=3.7.0->es-core-news-sm==3.7.0) (3.5.0)\n",
            "Requirement already satisfied: numpy>=1.19.0 in /usr/local/lib/python3.11/dist-packages (from spacy<3.8.0,>=3.7.0->es-core-news-sm==3.7.0) (1.26.4)\n",
            "Requirement already satisfied: language-data>=1.2 in /usr/local/lib/python3.11/dist-packages (from langcodes<4.0.0,>=3.2.0->spacy<3.8.0,>=3.7.0->es-core-news-sm==3.7.0) (1.3.0)\n",
            "Requirement already satisfied: annotated-types>=0.6.0 in /usr/local/lib/python3.11/dist-packages (from pydantic!=1.8,!=1.8.1,<3.0.0,>=1.7.4->spacy<3.8.0,>=3.7.0->es-core-news-sm==3.7.0) (0.7.0)\n",
            "Requirement already satisfied: pydantic-core==2.27.2 in /usr/local/lib/python3.11/dist-packages (from pydantic!=1.8,!=1.8.1,<3.0.0,>=1.7.4->spacy<3.8.0,>=3.7.0->es-core-news-sm==3.7.0) (2.27.2)\n",
            "Requirement already satisfied: typing-extensions>=4.12.2 in /usr/local/lib/python3.11/dist-packages (from pydantic!=1.8,!=1.8.1,<3.0.0,>=1.7.4->spacy<3.8.0,>=3.7.0->es-core-news-sm==3.7.0) (4.12.2)\n",
            "Requirement already satisfied: charset-normalizer<4,>=2 in /usr/local/lib/python3.11/dist-packages (from requests<3.0.0,>=2.13.0->spacy<3.8.0,>=3.7.0->es-core-news-sm==3.7.0) (3.4.1)\n",
            "Requirement already satisfied: idna<4,>=2.5 in /usr/local/lib/python3.11/dist-packages (from requests<3.0.0,>=2.13.0->spacy<3.8.0,>=3.7.0->es-core-news-sm==3.7.0) (3.10)\n",
            "Requirement already satisfied: urllib3<3,>=1.21.1 in /usr/local/lib/python3.11/dist-packages (from requests<3.0.0,>=2.13.0->spacy<3.8.0,>=3.7.0->es-core-news-sm==3.7.0) (2.3.0)\n",
            "Requirement already satisfied: certifi>=2017.4.17 in /usr/local/lib/python3.11/dist-packages (from requests<3.0.0,>=2.13.0->spacy<3.8.0,>=3.7.0->es-core-news-sm==3.7.0) (2025.1.31)\n",
            "Requirement already satisfied: blis<0.8.0,>=0.7.8 in /usr/local/lib/python3.11/dist-packages (from thinc<8.3.0,>=8.2.2->spacy<3.8.0,>=3.7.0->es-core-news-sm==3.7.0) (0.7.11)\n",
            "Requirement already satisfied: confection<1.0.0,>=0.0.1 in /usr/local/lib/python3.11/dist-packages (from thinc<8.3.0,>=8.2.2->spacy<3.8.0,>=3.7.0->es-core-news-sm==3.7.0) (0.1.5)\n",
            "Requirement already satisfied: click>=8.0.0 in /usr/local/lib/python3.11/dist-packages (from typer<1.0.0,>=0.3.0->spacy<3.8.0,>=3.7.0->es-core-news-sm==3.7.0) (8.1.8)\n",
            "Requirement already satisfied: shellingham>=1.3.0 in /usr/local/lib/python3.11/dist-packages (from typer<1.0.0,>=0.3.0->spacy<3.8.0,>=3.7.0->es-core-news-sm==3.7.0) (1.5.4)\n",
            "Requirement already satisfied: rich>=10.11.0 in /usr/local/lib/python3.11/dist-packages (from typer<1.0.0,>=0.3.0->spacy<3.8.0,>=3.7.0->es-core-news-sm==3.7.0) (13.9.4)\n",
            "Requirement already satisfied: cloudpathlib<1.0.0,>=0.7.0 in /usr/local/lib/python3.11/dist-packages (from weasel<0.5.0,>=0.1.0->spacy<3.8.0,>=3.7.0->es-core-news-sm==3.7.0) (0.20.0)\n",
            "Requirement already satisfied: smart-open<8.0.0,>=5.2.1 in /usr/local/lib/python3.11/dist-packages (from weasel<0.5.0,>=0.1.0->spacy<3.8.0,>=3.7.0->es-core-news-sm==3.7.0) (7.1.0)\n",
            "Requirement already satisfied: MarkupSafe>=2.0 in /usr/local/lib/python3.11/dist-packages (from jinja2->spacy<3.8.0,>=3.7.0->es-core-news-sm==3.7.0) (3.0.2)\n",
            "Requirement already satisfied: marisa-trie>=1.1.0 in /usr/local/lib/python3.11/dist-packages (from language-data>=1.2->langcodes<4.0.0,>=3.2.0->spacy<3.8.0,>=3.7.0->es-core-news-sm==3.7.0) (1.2.1)\n",
            "Requirement already satisfied: markdown-it-py>=2.2.0 in /usr/local/lib/python3.11/dist-packages (from rich>=10.11.0->typer<1.0.0,>=0.3.0->spacy<3.8.0,>=3.7.0->es-core-news-sm==3.7.0) (3.0.0)\n",
            "Requirement already satisfied: pygments<3.0.0,>=2.13.0 in /usr/local/lib/python3.11/dist-packages (from rich>=10.11.0->typer<1.0.0,>=0.3.0->spacy<3.8.0,>=3.7.0->es-core-news-sm==3.7.0) (2.18.0)\n",
            "Requirement already satisfied: wrapt in /usr/local/lib/python3.11/dist-packages (from smart-open<8.0.0,>=5.2.1->weasel<0.5.0,>=0.1.0->spacy<3.8.0,>=3.7.0->es-core-news-sm==3.7.0) (1.17.2)\n",
            "Requirement already satisfied: mdurl~=0.1 in /usr/local/lib/python3.11/dist-packages (from markdown-it-py>=2.2.0->rich>=10.11.0->typer<1.0.0,>=0.3.0->spacy<3.8.0,>=3.7.0->es-core-news-sm==3.7.0) (0.1.2)\n",
            "\u001b[38;5;2m✔ Download and installation successful\u001b[0m\n",
            "You can now load the package via spacy.load('es_core_news_sm')\n",
            "\u001b[38;5;3m⚠ Restart to reload dependencies\u001b[0m\n",
            "If you are in a Jupyter or Colab notebook, you may need to restart Python in\n",
            "order to load all the package's dependencies. You can do this by selecting the\n",
            "'Restart kernel' or 'Restart runtime' option.\n",
            "Requirement already satisfied: nbformat in /usr/local/lib/python3.11/dist-packages (5.10.4)\n",
            "Requirement already satisfied: fastjsonschema>=2.15 in /usr/local/lib/python3.11/dist-packages (from nbformat) (2.21.1)\n",
            "Requirement already satisfied: jsonschema>=2.6 in /usr/local/lib/python3.11/dist-packages (from nbformat) (4.23.0)\n",
            "Requirement already satisfied: jupyter-core!=5.0.*,>=4.12 in /usr/local/lib/python3.11/dist-packages (from nbformat) (5.7.2)\n",
            "Requirement already satisfied: traitlets>=5.1 in /usr/local/lib/python3.11/dist-packages (from nbformat) (5.7.1)\n",
            "Requirement already satisfied: attrs>=22.2.0 in /usr/local/lib/python3.11/dist-packages (from jsonschema>=2.6->nbformat) (25.1.0)\n",
            "Requirement already satisfied: jsonschema-specifications>=2023.03.6 in /usr/local/lib/python3.11/dist-packages (from jsonschema>=2.6->nbformat) (2024.10.1)\n",
            "Requirement already satisfied: referencing>=0.28.4 in /usr/local/lib/python3.11/dist-packages (from jsonschema>=2.6->nbformat) (0.36.2)\n",
            "Requirement already satisfied: rpds-py>=0.7.1 in /usr/local/lib/python3.11/dist-packages (from jsonschema>=2.6->nbformat) (0.22.3)\n",
            "Requirement already satisfied: platformdirs>=2.5 in /usr/local/lib/python3.11/dist-packages (from jupyter-core!=5.0.*,>=4.12->nbformat) (4.3.6)\n",
            "Requirement already satisfied: typing-extensions>=4.4.0 in /usr/local/lib/python3.11/dist-packages (from referencing>=0.28.4->jsonschema>=2.6->nbformat) (4.12.2)\n",
            "Requirement already satisfied: nltk in /usr/local/lib/python3.11/dist-packages (3.9.1)\n",
            "Requirement already satisfied: click in /usr/local/lib/python3.11/dist-packages (from nltk) (8.1.8)\n",
            "Requirement already satisfied: joblib in /usr/local/lib/python3.11/dist-packages (from nltk) (1.4.2)\n",
            "Requirement already satisfied: regex>=2021.8.3 in /usr/local/lib/python3.11/dist-packages (from nltk) (2024.11.6)\n",
            "Requirement already satisfied: tqdm in /usr/local/lib/python3.11/dist-packages (from nltk) (4.67.1)\n"
          ]
        },
        {
          "name": "stderr",
          "output_type": "stream",
          "text": [
            "[nltk_data] Downloading package punkt to /root/nltk_data...\n",
            "[nltk_data]   Package punkt is already up-to-date!\n",
            "[nltk_data] Downloading package stopwords to /root/nltk_data...\n",
            "[nltk_data]   Package stopwords is already up-to-date!\n"
          ]
        }
      ],
      "source": [
        "# Uninstall numba, pandas_profiling and visions to clear any existing installation\n",
        "!pip uninstall numba -y\n",
        "!pip uninstall pandas_profiling -y\n",
        "!pip uninstall visions -y\n",
        "\n",
        "# Install the necessary modules\n",
        "!pip install numba==0.58.1\n",
        "!pip install ydata-profiling\n",
        "# Librerias generales\n",
        "# Pandas\n",
        "import pandas as pd\n",
        "pd.set_option('display.max_columns', 25) # Número máximo de columnas a mostrar\n",
        "pd.set_option('display.max_rows', 50) # Número máximo de filas a mostar\n",
        "# Ranom seed\n",
        "import numpy as np\n",
        "np.random.seed(3301)\n",
        "\n",
        "# Seaborn\n",
        "import seaborn as sns\n",
        "\n",
        "# Matplolib\n",
        "%matplotlib inline\n",
        "import matplotlib.pyplot as plt\n",
        "\n",
        "# Plotly\n",
        "!pip install plotly\n",
        "import plotly.express as px\n",
        "\n",
        "#Limpieza de datos\n",
        "\n",
        "!pip install spacy\n",
        "!python -m spacy download es_core_news_sm\n",
        "%pip install nbformat\n",
        "\n",
        "!pip install nltk\n",
        "import nltk\n",
        "nltk.download('punkt')\n",
        "nltk.download('punkt_tab')\n",
        "nltk.download('stopwords')\n",
        "\n",
        "from nltk.corpus import stopwords\n",
        "from nltk.tokenize import word_tokenize\n",
        "import spacy\n",
        "import re\n",
        "import unicodedata\n",
        "\n",
        "# Descargar e inicializar spaCy en español\n",
        "import os\n",
        "if not os.path.exists(spacy.util.get_package_path(\"es_core_news_sm\")):\n",
        "    spacy.cli.download(\"es_core_news_sm\")\n",
        "\n",
        "nlp = spacy.load(\"es_core_news_sm\", disable=[\"ner\", \"textcat\"])"
      ]
    },
    {
      "cell_type": "code",
      "execution_count": null,
      "metadata": {
        "id": "jOnWwkMTOLj3"
      },
      "outputs": [],
      "source": [
        "# Ubicación de la base de datos\n",
        "db_location = '/content/fake_news_spanish.csv'"
      ]
    },
    {
      "cell_type": "code",
      "execution_count": null,
      "metadata": {
        "id": "eoYKtPV_OLj4"
      },
      "outputs": [],
      "source": [
        "# Cargar los datos\n",
        "df = pd.read_csv(db_location, sep=';', encoding = \"utf-8\")"
      ]
    },
    {
      "cell_type": "markdown",
      "metadata": {
        "id": "DJGfPbKk3sSo"
      },
      "source": [
        "### 2.2.2 Limpieza"
      ]
    },
    {
      "cell_type": "code",
      "execution_count": null,
      "metadata": {
        "colab": {
          "base_uri": "https://localhost:8080/",
          "height": 583
        },
        "id": "vBhtKty4OLj4",
        "outputId": "6c1588d4-1cb2-47ce-ec2d-6397e00073c1"
      },
      "outputs": [
        {
          "data": {
            "application/vnd.google.colaboratory.intrinsic+json": {
              "summary": "{\n  \"name\": \"display(df\",\n  \"rows\": 5,\n  \"fields\": [\n    {\n      \"column\": \"ID\",\n      \"properties\": {\n        \"dtype\": \"category\",\n        \"num_unique_values\": 1,\n        \"samples\": [\n          \"ID\"\n        ],\n        \"semantic_type\": \"\",\n        \"description\": \"\"\n      }\n    },\n    {\n      \"column\": \"Label\",\n      \"properties\": {\n        \"dtype\": \"number\",\n        \"std\": 0,\n        \"min\": 0,\n        \"max\": 1,\n        \"num_unique_values\": 2,\n        \"samples\": [\n          1\n        ],\n        \"semantic_type\": \"\",\n        \"description\": \"\"\n      }\n    },\n    {\n      \"column\": \"Titulo\",\n      \"properties\": {\n        \"dtype\": \"string\",\n        \"num_unique_values\": 5,\n        \"samples\": [\n          \"Esperanza Aguirre niega que ordenara espiar a cargos del PP rivales suyos\"\n        ],\n        \"semantic_type\": \"\",\n        \"description\": \"\"\n      }\n    },\n    {\n      \"column\": \"Descripcion\",\n      \"properties\": {\n        \"dtype\": \"string\",\n        \"num_unique_values\": 5,\n        \"samples\": [\n          \"La Audiencia Provincial de Madrid ha reanudado el juicio de otros cargos de la comunidad por espionaje a pol\\u00edticos.\"\n        ],\n        \"semantic_type\": \"\",\n        \"description\": \"\"\n      }\n    },\n    {\n      \"column\": \"Fecha\",\n      \"properties\": {\n        \"dtype\": \"string\",\n        \"num_unique_values\": 5,\n        \"samples\": [\n          \"11/02/2019\"\n        ],\n        \"semantic_type\": \"\",\n        \"description\": \"\"\n      }\n    }\n  ]\n}",
              "type": "dataframe"
            },
            "text/html": [
              "\n",
              "  <div id=\"df-86f6e435-fdd7-49a0-bc17-49e0d6e00581\" class=\"colab-df-container\">\n",
              "    <div>\n",
              "<style scoped>\n",
              "    .dataframe tbody tr th:only-of-type {\n",
              "        vertical-align: middle;\n",
              "    }\n",
              "\n",
              "    .dataframe tbody tr th {\n",
              "        vertical-align: top;\n",
              "    }\n",
              "\n",
              "    .dataframe thead th {\n",
              "        text-align: right;\n",
              "    }\n",
              "</style>\n",
              "<table border=\"1\" class=\"dataframe\">\n",
              "  <thead>\n",
              "    <tr style=\"text-align: right;\">\n",
              "      <th></th>\n",
              "      <th>ID</th>\n",
              "      <th>Label</th>\n",
              "      <th>Titulo</th>\n",
              "      <th>Descripcion</th>\n",
              "      <th>Fecha</th>\n",
              "    </tr>\n",
              "  </thead>\n",
              "  <tbody>\n",
              "    <tr>\n",
              "      <th>40153</th>\n",
              "      <td>ID</td>\n",
              "      <td>0</td>\n",
              "      <td>Torra se querella contra Martina Velarde por a...</td>\n",
              "      <td>Torra y compañía dicen que tenemos un gen meno...</td>\n",
              "      <td>04/12/2018</td>\n",
              "    </tr>\n",
              "    <tr>\n",
              "      <th>38869</th>\n",
              "      <td>ID</td>\n",
              "      <td>1</td>\n",
              "      <td>Esperanza Aguirre niega que ordenara espiar a ...</td>\n",
              "      <td>La Audiencia Provincial de Madrid ha reanudado...</td>\n",
              "      <td>11/02/2019</td>\n",
              "    </tr>\n",
              "    <tr>\n",
              "      <th>52222</th>\n",
              "      <td>ID</td>\n",
              "      <td>0</td>\n",
              "      <td>Tres mujeres dan la sorpresa en la jornada ele...</td>\n",
              "      <td>Cuca Gamarra (UPN), Maddalen Iriarte (Izquierd...</td>\n",
              "      <td>13/07/2020</td>\n",
              "    </tr>\n",
              "    <tr>\n",
              "      <th>8542</th>\n",
              "      <td>ID</td>\n",
              "      <td>1</td>\n",
              "      <td>ERC, molesto con el PSOE por dar por hecho ya ...</td>\n",
              "      <td>Sánchez aseguró que el pacto va a estar siempr...</td>\n",
              "      <td>05/12/2019</td>\n",
              "    </tr>\n",
              "    <tr>\n",
              "      <th>9977</th>\n",
              "      <td>ID</td>\n",
              "      <td>1</td>\n",
              "      <td>Del 'Pablo, tenemos 12 días para ganar' de Gab...</td>\n",
              "      <td>Repasamos algunos de los momentos más sonados ...</td>\n",
              "      <td>22/04/2021</td>\n",
              "    </tr>\n",
              "  </tbody>\n",
              "</table>\n",
              "</div>\n",
              "    <div class=\"colab-df-buttons\">\n",
              "\n",
              "  <div class=\"colab-df-container\">\n",
              "    <button class=\"colab-df-convert\" onclick=\"convertToInteractive('df-86f6e435-fdd7-49a0-bc17-49e0d6e00581')\"\n",
              "            title=\"Convert this dataframe to an interactive table.\"\n",
              "            style=\"display:none;\">\n",
              "\n",
              "  <svg xmlns=\"http://www.w3.org/2000/svg\" height=\"24px\" viewBox=\"0 -960 960 960\">\n",
              "    <path d=\"M120-120v-720h720v720H120Zm60-500h600v-160H180v160Zm220 220h160v-160H400v160Zm0 220h160v-160H400v160ZM180-400h160v-160H180v160Zm440 0h160v-160H620v160ZM180-180h160v-160H180v160Zm440 0h160v-160H620v160Z\"/>\n",
              "  </svg>\n",
              "    </button>\n",
              "\n",
              "  <style>\n",
              "    .colab-df-container {\n",
              "      display:flex;\n",
              "      gap: 12px;\n",
              "    }\n",
              "\n",
              "    .colab-df-convert {\n",
              "      background-color: #E8F0FE;\n",
              "      border: none;\n",
              "      border-radius: 50%;\n",
              "      cursor: pointer;\n",
              "      display: none;\n",
              "      fill: #1967D2;\n",
              "      height: 32px;\n",
              "      padding: 0 0 0 0;\n",
              "      width: 32px;\n",
              "    }\n",
              "\n",
              "    .colab-df-convert:hover {\n",
              "      background-color: #E2EBFA;\n",
              "      box-shadow: 0px 1px 2px rgba(60, 64, 67, 0.3), 0px 1px 3px 1px rgba(60, 64, 67, 0.15);\n",
              "      fill: #174EA6;\n",
              "    }\n",
              "\n",
              "    .colab-df-buttons div {\n",
              "      margin-bottom: 4px;\n",
              "    }\n",
              "\n",
              "    [theme=dark] .colab-df-convert {\n",
              "      background-color: #3B4455;\n",
              "      fill: #D2E3FC;\n",
              "    }\n",
              "\n",
              "    [theme=dark] .colab-df-convert:hover {\n",
              "      background-color: #434B5C;\n",
              "      box-shadow: 0px 1px 3px 1px rgba(0, 0, 0, 0.15);\n",
              "      filter: drop-shadow(0px 1px 2px rgba(0, 0, 0, 0.3));\n",
              "      fill: #FFFFFF;\n",
              "    }\n",
              "  </style>\n",
              "\n",
              "    <script>\n",
              "      const buttonEl =\n",
              "        document.querySelector('#df-86f6e435-fdd7-49a0-bc17-49e0d6e00581 button.colab-df-convert');\n",
              "      buttonEl.style.display =\n",
              "        google.colab.kernel.accessAllowed ? 'block' : 'none';\n",
              "\n",
              "      async function convertToInteractive(key) {\n",
              "        const element = document.querySelector('#df-86f6e435-fdd7-49a0-bc17-49e0d6e00581');\n",
              "        const dataTable =\n",
              "          await google.colab.kernel.invokeFunction('convertToInteractive',\n",
              "                                                    [key], {});\n",
              "        if (!dataTable) return;\n",
              "\n",
              "        const docLinkHtml = 'Like what you see? Visit the ' +\n",
              "          '<a target=\"_blank\" href=https://colab.research.google.com/notebooks/data_table.ipynb>data table notebook</a>'\n",
              "          + ' to learn more about interactive tables.';\n",
              "        element.innerHTML = '';\n",
              "        dataTable['output_type'] = 'display_data';\n",
              "        await google.colab.output.renderOutput(dataTable, element);\n",
              "        const docLink = document.createElement('div');\n",
              "        docLink.innerHTML = docLinkHtml;\n",
              "        element.appendChild(docLink);\n",
              "      }\n",
              "    </script>\n",
              "  </div>\n",
              "\n",
              "\n",
              "<div id=\"df-59d8d774-b196-43c7-b524-38f1f277d717\">\n",
              "  <button class=\"colab-df-quickchart\" onclick=\"quickchart('df-59d8d774-b196-43c7-b524-38f1f277d717')\"\n",
              "            title=\"Suggest charts\"\n",
              "            style=\"display:none;\">\n",
              "\n",
              "<svg xmlns=\"http://www.w3.org/2000/svg\" height=\"24px\"viewBox=\"0 0 24 24\"\n",
              "     width=\"24px\">\n",
              "    <g>\n",
              "        <path d=\"M19 3H5c-1.1 0-2 .9-2 2v14c0 1.1.9 2 2 2h14c1.1 0 2-.9 2-2V5c0-1.1-.9-2-2-2zM9 17H7v-7h2v7zm4 0h-2V7h2v10zm4 0h-2v-4h2v4z\"/>\n",
              "    </g>\n",
              "</svg>\n",
              "  </button>\n",
              "\n",
              "<style>\n",
              "  .colab-df-quickchart {\n",
              "      --bg-color: #E8F0FE;\n",
              "      --fill-color: #1967D2;\n",
              "      --hover-bg-color: #E2EBFA;\n",
              "      --hover-fill-color: #174EA6;\n",
              "      --disabled-fill-color: #AAA;\n",
              "      --disabled-bg-color: #DDD;\n",
              "  }\n",
              "\n",
              "  [theme=dark] .colab-df-quickchart {\n",
              "      --bg-color: #3B4455;\n",
              "      --fill-color: #D2E3FC;\n",
              "      --hover-bg-color: #434B5C;\n",
              "      --hover-fill-color: #FFFFFF;\n",
              "      --disabled-bg-color: #3B4455;\n",
              "      --disabled-fill-color: #666;\n",
              "  }\n",
              "\n",
              "  .colab-df-quickchart {\n",
              "    background-color: var(--bg-color);\n",
              "    border: none;\n",
              "    border-radius: 50%;\n",
              "    cursor: pointer;\n",
              "    display: none;\n",
              "    fill: var(--fill-color);\n",
              "    height: 32px;\n",
              "    padding: 0;\n",
              "    width: 32px;\n",
              "  }\n",
              "\n",
              "  .colab-df-quickchart:hover {\n",
              "    background-color: var(--hover-bg-color);\n",
              "    box-shadow: 0 1px 2px rgba(60, 64, 67, 0.3), 0 1px 3px 1px rgba(60, 64, 67, 0.15);\n",
              "    fill: var(--button-hover-fill-color);\n",
              "  }\n",
              "\n",
              "  .colab-df-quickchart-complete:disabled,\n",
              "  .colab-df-quickchart-complete:disabled:hover {\n",
              "    background-color: var(--disabled-bg-color);\n",
              "    fill: var(--disabled-fill-color);\n",
              "    box-shadow: none;\n",
              "  }\n",
              "\n",
              "  .colab-df-spinner {\n",
              "    border: 2px solid var(--fill-color);\n",
              "    border-color: transparent;\n",
              "    border-bottom-color: var(--fill-color);\n",
              "    animation:\n",
              "      spin 1s steps(1) infinite;\n",
              "  }\n",
              "\n",
              "  @keyframes spin {\n",
              "    0% {\n",
              "      border-color: transparent;\n",
              "      border-bottom-color: var(--fill-color);\n",
              "      border-left-color: var(--fill-color);\n",
              "    }\n",
              "    20% {\n",
              "      border-color: transparent;\n",
              "      border-left-color: var(--fill-color);\n",
              "      border-top-color: var(--fill-color);\n",
              "    }\n",
              "    30% {\n",
              "      border-color: transparent;\n",
              "      border-left-color: var(--fill-color);\n",
              "      border-top-color: var(--fill-color);\n",
              "      border-right-color: var(--fill-color);\n",
              "    }\n",
              "    40% {\n",
              "      border-color: transparent;\n",
              "      border-right-color: var(--fill-color);\n",
              "      border-top-color: var(--fill-color);\n",
              "    }\n",
              "    60% {\n",
              "      border-color: transparent;\n",
              "      border-right-color: var(--fill-color);\n",
              "    }\n",
              "    80% {\n",
              "      border-color: transparent;\n",
              "      border-right-color: var(--fill-color);\n",
              "      border-bottom-color: var(--fill-color);\n",
              "    }\n",
              "    90% {\n",
              "      border-color: transparent;\n",
              "      border-bottom-color: var(--fill-color);\n",
              "    }\n",
              "  }\n",
              "</style>\n",
              "\n",
              "  <script>\n",
              "    async function quickchart(key) {\n",
              "      const quickchartButtonEl =\n",
              "        document.querySelector('#' + key + ' button');\n",
              "      quickchartButtonEl.disabled = true;  // To prevent multiple clicks.\n",
              "      quickchartButtonEl.classList.add('colab-df-spinner');\n",
              "      try {\n",
              "        const charts = await google.colab.kernel.invokeFunction(\n",
              "            'suggestCharts', [key], {});\n",
              "      } catch (error) {\n",
              "        console.error('Error during call to suggestCharts:', error);\n",
              "      }\n",
              "      quickchartButtonEl.classList.remove('colab-df-spinner');\n",
              "      quickchartButtonEl.classList.add('colab-df-quickchart-complete');\n",
              "    }\n",
              "    (() => {\n",
              "      let quickchartButtonEl =\n",
              "        document.querySelector('#df-59d8d774-b196-43c7-b524-38f1f277d717 button');\n",
              "      quickchartButtonEl.style.display =\n",
              "        google.colab.kernel.accessAllowed ? 'block' : 'none';\n",
              "    })();\n",
              "  </script>\n",
              "</div>\n",
              "\n",
              "    </div>\n",
              "  </div>\n"
            ],
            "text/plain": [
              "       ID  Label                                             Titulo  \\\n",
              "40153  ID      0  Torra se querella contra Martina Velarde por a...   \n",
              "38869  ID      1  Esperanza Aguirre niega que ordenara espiar a ...   \n",
              "52222  ID      0  Tres mujeres dan la sorpresa en la jornada ele...   \n",
              "8542   ID      1  ERC, molesto con el PSOE por dar por hecho ya ...   \n",
              "9977   ID      1  Del 'Pablo, tenemos 12 días para ganar' de Gab...   \n",
              "\n",
              "                                             Descripcion       Fecha  \n",
              "40153  Torra y compañía dicen que tenemos un gen meno...  04/12/2018  \n",
              "38869  La Audiencia Provincial de Madrid ha reanudado...  11/02/2019  \n",
              "52222  Cuca Gamarra (UPN), Maddalen Iriarte (Izquierd...  13/07/2020  \n",
              "8542   Sánchez aseguró que el pacto va a estar siempr...  05/12/2019  \n",
              "9977   Repasamos algunos de los momentos más sonados ...  22/04/2021  "
            ]
          },
          "metadata": {},
          "output_type": "display_data"
        },
        {
          "data": {
            "application/vnd.google.colaboratory.intrinsic+json": {
              "summary": "{\n  \"name\": \"display(df\",\n  \"rows\": 5,\n  \"fields\": [\n    {\n      \"column\": \"ID\",\n      \"properties\": {\n        \"dtype\": \"category\",\n        \"num_unique_values\": 1,\n        \"samples\": [\n          \"ID\"\n        ],\n        \"semantic_type\": \"\",\n        \"description\": \"\"\n      }\n    },\n    {\n      \"column\": \"Label\",\n      \"properties\": {\n        \"dtype\": \"number\",\n        \"std\": 0,\n        \"min\": 0,\n        \"max\": 1,\n        \"num_unique_values\": 2,\n        \"samples\": [\n          0\n        ],\n        \"semantic_type\": \"\",\n        \"description\": \"\"\n      }\n    },\n    {\n      \"column\": \"Titulo\",\n      \"properties\": {\n        \"dtype\": \"string\",\n        \"num_unique_values\": 5,\n        \"samples\": [\n          \"REVELAN QUE EL GOBIERNO NEGOCIO LA LIBERACI\\u00d3N DE MIRELES A CAMBIO DE OTORGARLE EL PERD\\u00d3N A JAVIER DUARTE\"\n        ],\n        \"semantic_type\": \"\",\n        \"description\": \"\"\n      }\n    },\n    {\n      \"column\": \"Descripcion\",\n      \"properties\": {\n        \"dtype\": \"string\",\n        \"num_unique_values\": 5,\n        \"samples\": [\n          \"REVELAN QUE EL GOBIERNO NEGOCIO LA LIBERACI\\u00d3N DE MIRELES A CAMBIO DE OTORGARLE EL PERD\\u00d3N A JAVIER DUARTE\\nM\\u00e9xico.- Gran pol\\u00e9mica y asombro est\\u00e1 causando en la redes sociales la noticia lanzada por una revista de pol\\u00edtica que asegura que la liberaci\\u00f3n del Doctor Jos\\u00e9 Manuel Mireles Valverde, que en el *NUMBER* fue encarcelado por poseer armamento exclusivo del gobierno y crear un grupo de autodefensa, en realidad se trata de una estrategia creada por el gobierno para otorgarle el perd\\u00f3n a Javier Duarte, ya que su idea es dejar en libertad al ex gobernador de Veracruz argumentando que si Mireles pudo salir de prisi\\u00f3n Duarte tambi\\u00e9n tendr\\u00e1 derecho a recuperar su libertad como cualquier ciudadano inocente.\\nLos periodistas aseguran que fue el propio presidente de la rep\\u00fablica, Enrique Pe\\u00f1a Nieto, quien orden\\u00f3 que Mireles recuperara su libertad \\\"como estrategia para otorgarle el perd\\u00f3n a Javier\\\", se\\u00f1alando que cuando el pueblo comience a reclamar que declararon inocente al ex gobernador de Veracruz, pondr\\u00e1 de ejemplo la liberaci\\u00f3n de Jos\\u00e9 Manuel para \\\"apaciguar a la gente\\\":\\n\\\"El caso de Mireles es puesto de ejemplo como una de las mayores injusticias de la actualidad. A la gente siempre le pareci\\u00f3 inconcebible que alguien que cre\\u00f3 un grupo de autodefensa para protegerse del crimen organizado haya sido encarcelado como si fuera un peligroso delincuente, y adem\\u00e1s nadie crey\\u00f3 la versi\\u00f3n de que traficaba droga y pose\\u00eda armamento militar, asegurando que solo eran argumentos del ej\\u00e9rcito para poder encarcelarlo.\\nEPN siente mucha presi\\u00f3n por la captura de Javier ya que \\u00e9l conoce muchos secretos turbios del PRI, y sabe que en cualquier momento podr\\u00eda revelarlos si el gobierno no hace algo para dejarlo en libertad.\\nEnrique est\\u00e1 haciendo lo posible por liberarlo sin que el pueblo amenace con hacer una revoluci\\u00f3n. Su idea es dejar pasar un par de semanas para que las personas se olviden del caso Duarte, liberarlo, y cuando comiencen a quejarse poner de ejemplo que as\\u00ed como liberaron a Mireles, tambi\\u00e9n Javier se gan\\u00f3 su libertad ya que a \\u00e9l tampoco se le comprobaron sus delitos\\\", relataron.\\nLos investigadores mencionan que incluso Valverde sabe de esta estrategia, sin embargo decidi\\u00f3 callar para poder salir de la c\\u00e1rcel: \\\"el Doctor ha declarado que no le guarda rencor a nadie y se muestra feliz de estar liberado, eso es porque desde hace semanas comenzaron a darle trato preferencial en el penal hasta que finalmente le revelaron los verdaderos planes.\\nNo sabemos si Mireles es inocente o no, lo que s\\u00ed sabemos es que cualquier persona despu\\u00e9s de estar *NUMBER* a\\u00f1os encerrado (por m\\u00e1s recto que sea) aceptar\\u00eda a ser liberado a cambio de ser usado como cortina de humo.\\nEn la c\\u00e1rcel no se vive nada bien, hasta el hombre m\\u00e1s honesto dar\\u00eda lo que fuera por recuperar su libertad. Mireles fue advertido que si revelaba algo volver\\u00eda a ser encarcelado y su reputaci\\u00f3n quedar\\u00eda por los suelos por prestarse al enga\\u00f1o del gobierno, por lo que al final fue orillado a aceptar el trato.\\nLo cierto es que en unas semanas Duarte ser\\u00e1 extraditado a M\\u00e9xico, y en menos de *NUMBER* meses un juez ordenar\\u00e1 su liberaci\\u00f3n y comenzar\\u00e1 el plan del gobierno de usar el caso de Mireles para justificar porque fue declarado inocente\\\", puntualizaron.\"\n        ],\n        \"semantic_type\": \"\",\n        \"description\": \"\"\n      }\n    },\n    {\n      \"column\": \"Fecha\",\n      \"properties\": {\n        \"dtype\": \"string\",\n        \"num_unique_values\": 5,\n        \"samples\": [\n          \"01/10/2023\"\n        ],\n        \"semantic_type\": \"\",\n        \"description\": \"\"\n      }\n    }\n  ]\n}",
              "type": "dataframe"
            },
            "text/html": [
              "\n",
              "  <div id=\"df-ef7003d3-b40b-4f25-a63b-972073056727\" class=\"colab-df-container\">\n",
              "    <div>\n",
              "<style scoped>\n",
              "    .dataframe tbody tr th:only-of-type {\n",
              "        vertical-align: middle;\n",
              "    }\n",
              "\n",
              "    .dataframe tbody tr th {\n",
              "        vertical-align: top;\n",
              "    }\n",
              "\n",
              "    .dataframe thead th {\n",
              "        text-align: right;\n",
              "    }\n",
              "</style>\n",
              "<table border=\"1\" class=\"dataframe\">\n",
              "  <thead>\n",
              "    <tr style=\"text-align: right;\">\n",
              "      <th></th>\n",
              "      <th>ID</th>\n",
              "      <th>Label</th>\n",
              "      <th>Titulo</th>\n",
              "      <th>Descripcion</th>\n",
              "      <th>Fecha</th>\n",
              "    </tr>\n",
              "  </thead>\n",
              "  <tbody>\n",
              "    <tr>\n",
              "      <th>0</th>\n",
              "      <td>ID</td>\n",
              "      <td>1</td>\n",
              "      <td>'The Guardian' va con Sánchez: 'Europa necesit...</td>\n",
              "      <td>El diario británico publicó este pasado jueves...</td>\n",
              "      <td>02/06/2023</td>\n",
              "    </tr>\n",
              "    <tr>\n",
              "      <th>1</th>\n",
              "      <td>ID</td>\n",
              "      <td>0</td>\n",
              "      <td>REVELAN QUE EL GOBIERNO NEGOCIO LA LIBERACIÓN ...</td>\n",
              "      <td>REVELAN QUE EL GOBIERNO NEGOCIO LA LIBERACIÓN ...</td>\n",
              "      <td>01/10/2023</td>\n",
              "    </tr>\n",
              "    <tr>\n",
              "      <th>2</th>\n",
              "      <td>ID</td>\n",
              "      <td>1</td>\n",
              "      <td>El 'Ahora o nunca' de Joan Fuster sobre el est...</td>\n",
              "      <td>El valencianismo convoca en Castelló su fiesta...</td>\n",
              "      <td>25/04/2022</td>\n",
              "    </tr>\n",
              "    <tr>\n",
              "      <th>3</th>\n",
              "      <td>ID</td>\n",
              "      <td>1</td>\n",
              "      <td>Iglesias alienta a Yolanda Díaz, ERC y EH Bild...</td>\n",
              "      <td>En política, igual que hay que negociar con lo...</td>\n",
              "      <td>03/01/2022</td>\n",
              "    </tr>\n",
              "    <tr>\n",
              "      <th>4</th>\n",
              "      <td>ID</td>\n",
              "      <td>0</td>\n",
              "      <td>Puigdemont: 'No sería ninguna tragedia una rep...</td>\n",
              "      <td>En una entrevista en El Punt Avui, el líder de...</td>\n",
              "      <td>09/03/2018</td>\n",
              "    </tr>\n",
              "  </tbody>\n",
              "</table>\n",
              "</div>\n",
              "    <div class=\"colab-df-buttons\">\n",
              "\n",
              "  <div class=\"colab-df-container\">\n",
              "    <button class=\"colab-df-convert\" onclick=\"convertToInteractive('df-ef7003d3-b40b-4f25-a63b-972073056727')\"\n",
              "            title=\"Convert this dataframe to an interactive table.\"\n",
              "            style=\"display:none;\">\n",
              "\n",
              "  <svg xmlns=\"http://www.w3.org/2000/svg\" height=\"24px\" viewBox=\"0 -960 960 960\">\n",
              "    <path d=\"M120-120v-720h720v720H120Zm60-500h600v-160H180v160Zm220 220h160v-160H400v160Zm0 220h160v-160H400v160ZM180-400h160v-160H180v160Zm440 0h160v-160H620v160ZM180-180h160v-160H180v160Zm440 0h160v-160H620v160Z\"/>\n",
              "  </svg>\n",
              "    </button>\n",
              "\n",
              "  <style>\n",
              "    .colab-df-container {\n",
              "      display:flex;\n",
              "      gap: 12px;\n",
              "    }\n",
              "\n",
              "    .colab-df-convert {\n",
              "      background-color: #E8F0FE;\n",
              "      border: none;\n",
              "      border-radius: 50%;\n",
              "      cursor: pointer;\n",
              "      display: none;\n",
              "      fill: #1967D2;\n",
              "      height: 32px;\n",
              "      padding: 0 0 0 0;\n",
              "      width: 32px;\n",
              "    }\n",
              "\n",
              "    .colab-df-convert:hover {\n",
              "      background-color: #E2EBFA;\n",
              "      box-shadow: 0px 1px 2px rgba(60, 64, 67, 0.3), 0px 1px 3px 1px rgba(60, 64, 67, 0.15);\n",
              "      fill: #174EA6;\n",
              "    }\n",
              "\n",
              "    .colab-df-buttons div {\n",
              "      margin-bottom: 4px;\n",
              "    }\n",
              "\n",
              "    [theme=dark] .colab-df-convert {\n",
              "      background-color: #3B4455;\n",
              "      fill: #D2E3FC;\n",
              "    }\n",
              "\n",
              "    [theme=dark] .colab-df-convert:hover {\n",
              "      background-color: #434B5C;\n",
              "      box-shadow: 0px 1px 3px 1px rgba(0, 0, 0, 0.15);\n",
              "      filter: drop-shadow(0px 1px 2px rgba(0, 0, 0, 0.3));\n",
              "      fill: #FFFFFF;\n",
              "    }\n",
              "  </style>\n",
              "\n",
              "    <script>\n",
              "      const buttonEl =\n",
              "        document.querySelector('#df-ef7003d3-b40b-4f25-a63b-972073056727 button.colab-df-convert');\n",
              "      buttonEl.style.display =\n",
              "        google.colab.kernel.accessAllowed ? 'block' : 'none';\n",
              "\n",
              "      async function convertToInteractive(key) {\n",
              "        const element = document.querySelector('#df-ef7003d3-b40b-4f25-a63b-972073056727');\n",
              "        const dataTable =\n",
              "          await google.colab.kernel.invokeFunction('convertToInteractive',\n",
              "                                                    [key], {});\n",
              "        if (!dataTable) return;\n",
              "\n",
              "        const docLinkHtml = 'Like what you see? Visit the ' +\n",
              "          '<a target=\"_blank\" href=https://colab.research.google.com/notebooks/data_table.ipynb>data table notebook</a>'\n",
              "          + ' to learn more about interactive tables.';\n",
              "        element.innerHTML = '';\n",
              "        dataTable['output_type'] = 'display_data';\n",
              "        await google.colab.output.renderOutput(dataTable, element);\n",
              "        const docLink = document.createElement('div');\n",
              "        docLink.innerHTML = docLinkHtml;\n",
              "        element.appendChild(docLink);\n",
              "      }\n",
              "    </script>\n",
              "  </div>\n",
              "\n",
              "\n",
              "<div id=\"df-5d025e7b-d00b-46bd-8d0c-a29c8660c924\">\n",
              "  <button class=\"colab-df-quickchart\" onclick=\"quickchart('df-5d025e7b-d00b-46bd-8d0c-a29c8660c924')\"\n",
              "            title=\"Suggest charts\"\n",
              "            style=\"display:none;\">\n",
              "\n",
              "<svg xmlns=\"http://www.w3.org/2000/svg\" height=\"24px\"viewBox=\"0 0 24 24\"\n",
              "     width=\"24px\">\n",
              "    <g>\n",
              "        <path d=\"M19 3H5c-1.1 0-2 .9-2 2v14c0 1.1.9 2 2 2h14c1.1 0 2-.9 2-2V5c0-1.1-.9-2-2-2zM9 17H7v-7h2v7zm4 0h-2V7h2v10zm4 0h-2v-4h2v4z\"/>\n",
              "    </g>\n",
              "</svg>\n",
              "  </button>\n",
              "\n",
              "<style>\n",
              "  .colab-df-quickchart {\n",
              "      --bg-color: #E8F0FE;\n",
              "      --fill-color: #1967D2;\n",
              "      --hover-bg-color: #E2EBFA;\n",
              "      --hover-fill-color: #174EA6;\n",
              "      --disabled-fill-color: #AAA;\n",
              "      --disabled-bg-color: #DDD;\n",
              "  }\n",
              "\n",
              "  [theme=dark] .colab-df-quickchart {\n",
              "      --bg-color: #3B4455;\n",
              "      --fill-color: #D2E3FC;\n",
              "      --hover-bg-color: #434B5C;\n",
              "      --hover-fill-color: #FFFFFF;\n",
              "      --disabled-bg-color: #3B4455;\n",
              "      --disabled-fill-color: #666;\n",
              "  }\n",
              "\n",
              "  .colab-df-quickchart {\n",
              "    background-color: var(--bg-color);\n",
              "    border: none;\n",
              "    border-radius: 50%;\n",
              "    cursor: pointer;\n",
              "    display: none;\n",
              "    fill: var(--fill-color);\n",
              "    height: 32px;\n",
              "    padding: 0;\n",
              "    width: 32px;\n",
              "  }\n",
              "\n",
              "  .colab-df-quickchart:hover {\n",
              "    background-color: var(--hover-bg-color);\n",
              "    box-shadow: 0 1px 2px rgba(60, 64, 67, 0.3), 0 1px 3px 1px rgba(60, 64, 67, 0.15);\n",
              "    fill: var(--button-hover-fill-color);\n",
              "  }\n",
              "\n",
              "  .colab-df-quickchart-complete:disabled,\n",
              "  .colab-df-quickchart-complete:disabled:hover {\n",
              "    background-color: var(--disabled-bg-color);\n",
              "    fill: var(--disabled-fill-color);\n",
              "    box-shadow: none;\n",
              "  }\n",
              "\n",
              "  .colab-df-spinner {\n",
              "    border: 2px solid var(--fill-color);\n",
              "    border-color: transparent;\n",
              "    border-bottom-color: var(--fill-color);\n",
              "    animation:\n",
              "      spin 1s steps(1) infinite;\n",
              "  }\n",
              "\n",
              "  @keyframes spin {\n",
              "    0% {\n",
              "      border-color: transparent;\n",
              "      border-bottom-color: var(--fill-color);\n",
              "      border-left-color: var(--fill-color);\n",
              "    }\n",
              "    20% {\n",
              "      border-color: transparent;\n",
              "      border-left-color: var(--fill-color);\n",
              "      border-top-color: var(--fill-color);\n",
              "    }\n",
              "    30% {\n",
              "      border-color: transparent;\n",
              "      border-left-color: var(--fill-color);\n",
              "      border-top-color: var(--fill-color);\n",
              "      border-right-color: var(--fill-color);\n",
              "    }\n",
              "    40% {\n",
              "      border-color: transparent;\n",
              "      border-right-color: var(--fill-color);\n",
              "      border-top-color: var(--fill-color);\n",
              "    }\n",
              "    60% {\n",
              "      border-color: transparent;\n",
              "      border-right-color: var(--fill-color);\n",
              "    }\n",
              "    80% {\n",
              "      border-color: transparent;\n",
              "      border-right-color: var(--fill-color);\n",
              "      border-bottom-color: var(--fill-color);\n",
              "    }\n",
              "    90% {\n",
              "      border-color: transparent;\n",
              "      border-bottom-color: var(--fill-color);\n",
              "    }\n",
              "  }\n",
              "</style>\n",
              "\n",
              "  <script>\n",
              "    async function quickchart(key) {\n",
              "      const quickchartButtonEl =\n",
              "        document.querySelector('#' + key + ' button');\n",
              "      quickchartButtonEl.disabled = true;  // To prevent multiple clicks.\n",
              "      quickchartButtonEl.classList.add('colab-df-spinner');\n",
              "      try {\n",
              "        const charts = await google.colab.kernel.invokeFunction(\n",
              "            'suggestCharts', [key], {});\n",
              "      } catch (error) {\n",
              "        console.error('Error during call to suggestCharts:', error);\n",
              "      }\n",
              "      quickchartButtonEl.classList.remove('colab-df-spinner');\n",
              "      quickchartButtonEl.classList.add('colab-df-quickchart-complete');\n",
              "    }\n",
              "    (() => {\n",
              "      let quickchartButtonEl =\n",
              "        document.querySelector('#df-5d025e7b-d00b-46bd-8d0c-a29c8660c924 button');\n",
              "      quickchartButtonEl.style.display =\n",
              "        google.colab.kernel.accessAllowed ? 'block' : 'none';\n",
              "    })();\n",
              "  </script>\n",
              "</div>\n",
              "\n",
              "    </div>\n",
              "  </div>\n"
            ],
            "text/plain": [
              "   ID  Label                                             Titulo  \\\n",
              "0  ID      1  'The Guardian' va con Sánchez: 'Europa necesit...   \n",
              "1  ID      0  REVELAN QUE EL GOBIERNO NEGOCIO LA LIBERACIÓN ...   \n",
              "2  ID      1  El 'Ahora o nunca' de Joan Fuster sobre el est...   \n",
              "3  ID      1  Iglesias alienta a Yolanda Díaz, ERC y EH Bild...   \n",
              "4  ID      0  Puigdemont: 'No sería ninguna tragedia una rep...   \n",
              "\n",
              "                                         Descripcion       Fecha  \n",
              "0  El diario británico publicó este pasado jueves...  02/06/2023  \n",
              "1  REVELAN QUE EL GOBIERNO NEGOCIO LA LIBERACIÓN ...  01/10/2023  \n",
              "2  El valencianismo convoca en Castelló su fiesta...  25/04/2022  \n",
              "3  En política, igual que hay que negociar con lo...  03/01/2022  \n",
              "4  En una entrevista en El Punt Avui, el líder de...  09/03/2018  "
            ]
          },
          "metadata": {},
          "output_type": "display_data"
        },
        {
          "data": {
            "application/vnd.google.colaboratory.intrinsic+json": {
              "summary": "{\n  \"name\": \"display(df\",\n  \"rows\": 5,\n  \"fields\": [\n    {\n      \"column\": \"ID\",\n      \"properties\": {\n        \"dtype\": \"category\",\n        \"num_unique_values\": 1,\n        \"samples\": [\n          \"ID\"\n        ],\n        \"semantic_type\": \"\",\n        \"description\": \"\"\n      }\n    },\n    {\n      \"column\": \"Label\",\n      \"properties\": {\n        \"dtype\": \"number\",\n        \"std\": 0,\n        \"min\": 0,\n        \"max\": 1,\n        \"num_unique_values\": 2,\n        \"samples\": [\n          0\n        ],\n        \"semantic_type\": \"\",\n        \"description\": \"\"\n      }\n    },\n    {\n      \"column\": \"Titulo\",\n      \"properties\": {\n        \"dtype\": \"string\",\n        \"num_unique_values\": 5,\n        \"samples\": [\n          \"El EQUO plantea ceder la presidencia de la Comunidad de Madrid a Cs con tal de echar a Carlos Prieto\"\n        ],\n        \"semantic_type\": \"\",\n        \"description\": \"\"\n      }\n    },\n    {\n      \"column\": \"Descripcion\",\n      \"properties\": {\n        \"dtype\": \"string\",\n        \"num_unique_values\": 5,\n        \"samples\": [\n          \"Si la higiene democr\\u00e1tica nos lleva a esa exigencia de tener que pasar por que una persona no socialista presida la Comunidad y eso nos conlleva una mejor gesti\\u00f3n y un cambio pol\\u00edtico en Madrid, estar\\u00edamos dispuestos a estudiarlo, afirma Jos\\u00e9 Manuel Jordi Sevilla, secretario general de los socialistas madrile\\u00f1os.\"\n        ],\n        \"semantic_type\": \"\",\n        \"description\": \"\"\n      }\n    },\n    {\n      \"column\": \"Fecha\",\n      \"properties\": {\n        \"dtype\": \"string\",\n        \"num_unique_values\": 5,\n        \"samples\": [\n          \"08/09/2020\"\n        ],\n        \"semantic_type\": \"\",\n        \"description\": \"\"\n      }\n    }\n  ]\n}",
              "type": "dataframe"
            },
            "text/html": [
              "\n",
              "  <div id=\"df-1900a001-7ac6-4478-b844-eec42a90bb96\" class=\"colab-df-container\">\n",
              "    <div>\n",
              "<style scoped>\n",
              "    .dataframe tbody tr th:only-of-type {\n",
              "        vertical-align: middle;\n",
              "    }\n",
              "\n",
              "    .dataframe tbody tr th {\n",
              "        vertical-align: top;\n",
              "    }\n",
              "\n",
              "    .dataframe thead th {\n",
              "        text-align: right;\n",
              "    }\n",
              "</style>\n",
              "<table border=\"1\" class=\"dataframe\">\n",
              "  <thead>\n",
              "    <tr style=\"text-align: right;\">\n",
              "      <th></th>\n",
              "      <th>ID</th>\n",
              "      <th>Label</th>\n",
              "      <th>Titulo</th>\n",
              "      <th>Descripcion</th>\n",
              "      <th>Fecha</th>\n",
              "    </tr>\n",
              "  </thead>\n",
              "  <tbody>\n",
              "    <tr>\n",
              "      <th>57058</th>\n",
              "      <td>ID</td>\n",
              "      <td>1</td>\n",
              "      <td>El Defensor del Pueblo reclama a la Comunidad ...</td>\n",
              "      <td>El gobierno regional han indicado que la atenc...</td>\n",
              "      <td>08/06/2021</td>\n",
              "    </tr>\n",
              "    <tr>\n",
              "      <th>57059</th>\n",
              "      <td>ID</td>\n",
              "      <td>0</td>\n",
              "      <td>El EQUO plantea ceder la presidencia de la Com...</td>\n",
              "      <td>Si la higiene democrática nos lleva a esa exig...</td>\n",
              "      <td>08/09/2020</td>\n",
              "    </tr>\n",
              "    <tr>\n",
              "      <th>57060</th>\n",
              "      <td>ID</td>\n",
              "      <td>1</td>\n",
              "      <td>Alberto Garzón: 'Que los Borbones son unos lad...</td>\n",
              "      <td>El coordinador federal de IU asegura que la mo...</td>\n",
              "      <td>12/07/2018</td>\n",
              "    </tr>\n",
              "    <tr>\n",
              "      <th>57061</th>\n",
              "      <td>ID</td>\n",
              "      <td>1</td>\n",
              "      <td>Vox exige entrar en el Gobierno de Castilla y ...</td>\n",
              "      <td>Santiago Abascal: Vox tiene el derecho y el de...</td>\n",
              "      <td>13/02/2022</td>\n",
              "    </tr>\n",
              "    <tr>\n",
              "      <th>57062</th>\n",
              "      <td>ID</td>\n",
              "      <td>1</td>\n",
              "      <td>Unas 300 personas protestan contra la visita d...</td>\n",
              "      <td>Los Mossos dEsquadra han blindado los alrededo...</td>\n",
              "      <td>09/10/2020</td>\n",
              "    </tr>\n",
              "  </tbody>\n",
              "</table>\n",
              "</div>\n",
              "    <div class=\"colab-df-buttons\">\n",
              "\n",
              "  <div class=\"colab-df-container\">\n",
              "    <button class=\"colab-df-convert\" onclick=\"convertToInteractive('df-1900a001-7ac6-4478-b844-eec42a90bb96')\"\n",
              "            title=\"Convert this dataframe to an interactive table.\"\n",
              "            style=\"display:none;\">\n",
              "\n",
              "  <svg xmlns=\"http://www.w3.org/2000/svg\" height=\"24px\" viewBox=\"0 -960 960 960\">\n",
              "    <path d=\"M120-120v-720h720v720H120Zm60-500h600v-160H180v160Zm220 220h160v-160H400v160Zm0 220h160v-160H400v160ZM180-400h160v-160H180v160Zm440 0h160v-160H620v160ZM180-180h160v-160H180v160Zm440 0h160v-160H620v160Z\"/>\n",
              "  </svg>\n",
              "    </button>\n",
              "\n",
              "  <style>\n",
              "    .colab-df-container {\n",
              "      display:flex;\n",
              "      gap: 12px;\n",
              "    }\n",
              "\n",
              "    .colab-df-convert {\n",
              "      background-color: #E8F0FE;\n",
              "      border: none;\n",
              "      border-radius: 50%;\n",
              "      cursor: pointer;\n",
              "      display: none;\n",
              "      fill: #1967D2;\n",
              "      height: 32px;\n",
              "      padding: 0 0 0 0;\n",
              "      width: 32px;\n",
              "    }\n",
              "\n",
              "    .colab-df-convert:hover {\n",
              "      background-color: #E2EBFA;\n",
              "      box-shadow: 0px 1px 2px rgba(60, 64, 67, 0.3), 0px 1px 3px 1px rgba(60, 64, 67, 0.15);\n",
              "      fill: #174EA6;\n",
              "    }\n",
              "\n",
              "    .colab-df-buttons div {\n",
              "      margin-bottom: 4px;\n",
              "    }\n",
              "\n",
              "    [theme=dark] .colab-df-convert {\n",
              "      background-color: #3B4455;\n",
              "      fill: #D2E3FC;\n",
              "    }\n",
              "\n",
              "    [theme=dark] .colab-df-convert:hover {\n",
              "      background-color: #434B5C;\n",
              "      box-shadow: 0px 1px 3px 1px rgba(0, 0, 0, 0.15);\n",
              "      filter: drop-shadow(0px 1px 2px rgba(0, 0, 0, 0.3));\n",
              "      fill: #FFFFFF;\n",
              "    }\n",
              "  </style>\n",
              "\n",
              "    <script>\n",
              "      const buttonEl =\n",
              "        document.querySelector('#df-1900a001-7ac6-4478-b844-eec42a90bb96 button.colab-df-convert');\n",
              "      buttonEl.style.display =\n",
              "        google.colab.kernel.accessAllowed ? 'block' : 'none';\n",
              "\n",
              "      async function convertToInteractive(key) {\n",
              "        const element = document.querySelector('#df-1900a001-7ac6-4478-b844-eec42a90bb96');\n",
              "        const dataTable =\n",
              "          await google.colab.kernel.invokeFunction('convertToInteractive',\n",
              "                                                    [key], {});\n",
              "        if (!dataTable) return;\n",
              "\n",
              "        const docLinkHtml = 'Like what you see? Visit the ' +\n",
              "          '<a target=\"_blank\" href=https://colab.research.google.com/notebooks/data_table.ipynb>data table notebook</a>'\n",
              "          + ' to learn more about interactive tables.';\n",
              "        element.innerHTML = '';\n",
              "        dataTable['output_type'] = 'display_data';\n",
              "        await google.colab.output.renderOutput(dataTable, element);\n",
              "        const docLink = document.createElement('div');\n",
              "        docLink.innerHTML = docLinkHtml;\n",
              "        element.appendChild(docLink);\n",
              "      }\n",
              "    </script>\n",
              "  </div>\n",
              "\n",
              "\n",
              "<div id=\"df-bfdc72ac-a9b9-48f1-a1bb-a3fac7b41f81\">\n",
              "  <button class=\"colab-df-quickchart\" onclick=\"quickchart('df-bfdc72ac-a9b9-48f1-a1bb-a3fac7b41f81')\"\n",
              "            title=\"Suggest charts\"\n",
              "            style=\"display:none;\">\n",
              "\n",
              "<svg xmlns=\"http://www.w3.org/2000/svg\" height=\"24px\"viewBox=\"0 0 24 24\"\n",
              "     width=\"24px\">\n",
              "    <g>\n",
              "        <path d=\"M19 3H5c-1.1 0-2 .9-2 2v14c0 1.1.9 2 2 2h14c1.1 0 2-.9 2-2V5c0-1.1-.9-2-2-2zM9 17H7v-7h2v7zm4 0h-2V7h2v10zm4 0h-2v-4h2v4z\"/>\n",
              "    </g>\n",
              "</svg>\n",
              "  </button>\n",
              "\n",
              "<style>\n",
              "  .colab-df-quickchart {\n",
              "      --bg-color: #E8F0FE;\n",
              "      --fill-color: #1967D2;\n",
              "      --hover-bg-color: #E2EBFA;\n",
              "      --hover-fill-color: #174EA6;\n",
              "      --disabled-fill-color: #AAA;\n",
              "      --disabled-bg-color: #DDD;\n",
              "  }\n",
              "\n",
              "  [theme=dark] .colab-df-quickchart {\n",
              "      --bg-color: #3B4455;\n",
              "      --fill-color: #D2E3FC;\n",
              "      --hover-bg-color: #434B5C;\n",
              "      --hover-fill-color: #FFFFFF;\n",
              "      --disabled-bg-color: #3B4455;\n",
              "      --disabled-fill-color: #666;\n",
              "  }\n",
              "\n",
              "  .colab-df-quickchart {\n",
              "    background-color: var(--bg-color);\n",
              "    border: none;\n",
              "    border-radius: 50%;\n",
              "    cursor: pointer;\n",
              "    display: none;\n",
              "    fill: var(--fill-color);\n",
              "    height: 32px;\n",
              "    padding: 0;\n",
              "    width: 32px;\n",
              "  }\n",
              "\n",
              "  .colab-df-quickchart:hover {\n",
              "    background-color: var(--hover-bg-color);\n",
              "    box-shadow: 0 1px 2px rgba(60, 64, 67, 0.3), 0 1px 3px 1px rgba(60, 64, 67, 0.15);\n",
              "    fill: var(--button-hover-fill-color);\n",
              "  }\n",
              "\n",
              "  .colab-df-quickchart-complete:disabled,\n",
              "  .colab-df-quickchart-complete:disabled:hover {\n",
              "    background-color: var(--disabled-bg-color);\n",
              "    fill: var(--disabled-fill-color);\n",
              "    box-shadow: none;\n",
              "  }\n",
              "\n",
              "  .colab-df-spinner {\n",
              "    border: 2px solid var(--fill-color);\n",
              "    border-color: transparent;\n",
              "    border-bottom-color: var(--fill-color);\n",
              "    animation:\n",
              "      spin 1s steps(1) infinite;\n",
              "  }\n",
              "\n",
              "  @keyframes spin {\n",
              "    0% {\n",
              "      border-color: transparent;\n",
              "      border-bottom-color: var(--fill-color);\n",
              "      border-left-color: var(--fill-color);\n",
              "    }\n",
              "    20% {\n",
              "      border-color: transparent;\n",
              "      border-left-color: var(--fill-color);\n",
              "      border-top-color: var(--fill-color);\n",
              "    }\n",
              "    30% {\n",
              "      border-color: transparent;\n",
              "      border-left-color: var(--fill-color);\n",
              "      border-top-color: var(--fill-color);\n",
              "      border-right-color: var(--fill-color);\n",
              "    }\n",
              "    40% {\n",
              "      border-color: transparent;\n",
              "      border-right-color: var(--fill-color);\n",
              "      border-top-color: var(--fill-color);\n",
              "    }\n",
              "    60% {\n",
              "      border-color: transparent;\n",
              "      border-right-color: var(--fill-color);\n",
              "    }\n",
              "    80% {\n",
              "      border-color: transparent;\n",
              "      border-right-color: var(--fill-color);\n",
              "      border-bottom-color: var(--fill-color);\n",
              "    }\n",
              "    90% {\n",
              "      border-color: transparent;\n",
              "      border-bottom-color: var(--fill-color);\n",
              "    }\n",
              "  }\n",
              "</style>\n",
              "\n",
              "  <script>\n",
              "    async function quickchart(key) {\n",
              "      const quickchartButtonEl =\n",
              "        document.querySelector('#' + key + ' button');\n",
              "      quickchartButtonEl.disabled = true;  // To prevent multiple clicks.\n",
              "      quickchartButtonEl.classList.add('colab-df-spinner');\n",
              "      try {\n",
              "        const charts = await google.colab.kernel.invokeFunction(\n",
              "            'suggestCharts', [key], {});\n",
              "      } catch (error) {\n",
              "        console.error('Error during call to suggestCharts:', error);\n",
              "      }\n",
              "      quickchartButtonEl.classList.remove('colab-df-spinner');\n",
              "      quickchartButtonEl.classList.add('colab-df-quickchart-complete');\n",
              "    }\n",
              "    (() => {\n",
              "      let quickchartButtonEl =\n",
              "        document.querySelector('#df-bfdc72ac-a9b9-48f1-a1bb-a3fac7b41f81 button');\n",
              "      quickchartButtonEl.style.display =\n",
              "        google.colab.kernel.accessAllowed ? 'block' : 'none';\n",
              "    })();\n",
              "  </script>\n",
              "</div>\n",
              "\n",
              "    </div>\n",
              "  </div>\n"
            ],
            "text/plain": [
              "       ID  Label                                             Titulo  \\\n",
              "57058  ID      1  El Defensor del Pueblo reclama a la Comunidad ...   \n",
              "57059  ID      0  El EQUO plantea ceder la presidencia de la Com...   \n",
              "57060  ID      1  Alberto Garzón: 'Que los Borbones son unos lad...   \n",
              "57061  ID      1  Vox exige entrar en el Gobierno de Castilla y ...   \n",
              "57062  ID      1  Unas 300 personas protestan contra la visita d...   \n",
              "\n",
              "                                             Descripcion       Fecha  \n",
              "57058  El gobierno regional han indicado que la atenc...  08/06/2021  \n",
              "57059  Si la higiene democrática nos lleva a esa exig...  08/09/2020  \n",
              "57060  El coordinador federal de IU asegura que la mo...  12/07/2018  \n",
              "57061  Santiago Abascal: Vox tiene el derecho y el de...  13/02/2022  \n",
              "57062  Los Mossos dEsquadra han blindado los alrededo...  09/10/2020  "
            ]
          },
          "metadata": {},
          "output_type": "display_data"
        }
      ],
      "source": [
        "# Dimensiones de los datos y vizualización de los datos\n",
        "display(df.sample(5))\n",
        "display(df.head(5))\n",
        "display(df.tail(5))"
      ]
    },
    {
      "cell_type": "code",
      "execution_count": null,
      "metadata": {
        "colab": {
          "base_uri": "https://localhost:8080/"
        },
        "id": "UfZ-LHFJCadO",
        "outputId": "a66bd66c-f156-4507-b2bc-0b680b5791a5"
      },
      "outputs": [
        {
          "data": {
            "text/plain": [
              "(57063, 5)"
            ]
          },
          "execution_count": 29,
          "metadata": {},
          "output_type": "execute_result"
        }
      ],
      "source": [
        "df.shape"
      ]
    },
    {
      "cell_type": "markdown",
      "metadata": {
        "id": "8JvCEvqJOLj4"
      },
      "source": [
        "- Como podemos ver en el df de los datos, la colmuna ID no aporta ningún valor, entonces decidimos eliminarla,"
      ]
    },
    {
      "cell_type": "code",
      "execution_count": null,
      "metadata": {
        "id": "S8qFQx-wOLj4"
      },
      "outputs": [],
      "source": [
        "df1 = df.drop(\"ID\", axis = 1)"
      ]
    },
    {
      "cell_type": "markdown",
      "metadata": {
        "id": "27EULzu_OLj4"
      },
      "source": [
        "- Ahora vamos a revisamos cuantos valores nulos hay por columna"
      ]
    },
    {
      "cell_type": "code",
      "execution_count": null,
      "metadata": {
        "colab": {
          "base_uri": "https://localhost:8080/"
        },
        "collapsed": true,
        "id": "i1tBi0OiOLj4",
        "outputId": "157f2197-11a2-4617-fb27-ce78bf3ef1b9"
      },
      "outputs": [
        {
          "name": "stdout",
          "output_type": "stream",
          "text": [
            "Label           0\n",
            "Titulo         16\n",
            "Descripcion     0\n",
            "Fecha           0\n",
            "dtype: int64\n"
          ]
        }
      ],
      "source": [
        "valores_nulos = df1.isnull().sum()\n",
        "print(valores_nulos)"
      ]
    },
    {
      "cell_type": "markdown",
      "metadata": {
        "id": "lPdn6GFpOLj4"
      },
      "source": [
        "Como podemos observar, en la columna 'Título' hay 16 filas con valores nulos. Esto es mínimo en comparación con la cantidad total de filas en el dataset, por lo que decidimos eliminarlos."
      ]
    },
    {
      "cell_type": "code",
      "execution_count": null,
      "metadata": {
        "id": "yldx8BoDOLj4"
      },
      "outputs": [],
      "source": [
        "df2 = df1.dropna()"
      ]
    },
    {
      "cell_type": "markdown",
      "metadata": {
        "id": "I796BTOjOLj4"
      },
      "source": [
        "- Revisemos ahora si existen elementos duplicados en la columna 'Título'."
      ]
    },
    {
      "cell_type": "code",
      "execution_count": null,
      "metadata": {
        "colab": {
          "base_uri": "https://localhost:8080/"
        },
        "id": "wCnQ2thoOLj4",
        "outputId": "7c1244fb-997d-4d5d-c774-96f634fda796"
      },
      "outputs": [
        {
          "name": "stdout",
          "output_type": "stream",
          "text": [
            "Duplicados según titulo: 5443\n"
          ]
        }
      ],
      "source": [
        "duplicados_titulo = df2['Titulo'].duplicated().sum()\n",
        "print(f\"Duplicados según titulo: {duplicados_titulo}\")"
      ]
    },
    {
      "cell_type": "code",
      "execution_count": null,
      "metadata": {
        "colab": {
          "base_uri": "https://localhost:8080/"
        },
        "id": "2c_JMya5OLj4",
        "outputId": "81da165b-547c-4a46-c6eb-449f1ceb3c40"
      },
      "outputs": [
        {
          "name": "stdout",
          "output_type": "stream",
          "text": [
            "       Label                                             Titulo  \\\n",
            "24343      0  El Nueva Canarias cierra filas con Rita Maestr...   \n",
            "29842      0  El Nueva Canarias cierra filas con Rita Maestr...   \n",
            "1743       0  Escándalo de corrupción salpica a líderes sind...   \n",
            "2981       0  Escándalo de corrupción salpica a líderes sind...   \n",
            "18253      0  Escándalo de corrupción salpica a líderes sind...   \n",
            "...      ...                                                ...   \n",
            "9206       1  ¿Por qué las energías verdes están causando un...   \n",
            "28272      1  ¿Qué son las políticas activas de empleo y por...   \n",
            "37769      1  ¿Qué son las políticas activas de empleo y por...   \n",
            "29781      1  Àngels Barceló: 'Los demócratas somos muchos más'   \n",
            "35301      1  Àngels Barceló: 'Los demócratas somos muchos más'   \n",
            "\n",
            "                                             Descripcion       Fecha  \n",
            "24343  El Comité Federal termina con una votación uná...  10/06/2023  \n",
            "29842  El Comité Federal termina con una votación uná...  10/06/2023  \n",
            "1743   Un escándalo de corrupción ha salpicado a líde...  06/05/2023  \n",
            "2981   Un escándalo de corrupción ha salpicado a líde...  06/05/2023  \n",
            "18253  Un escándalo de corrupción ha salpicado a líde...  06/05/2023  \n",
            "...                                                  ...         ...  \n",
            "9206   El decreto 16/2019 liberaliza la implantación ...  12/04/2021  \n",
            "28272  Las políticas activas de empleo fueron una de ...  12/04/2021  \n",
            "37769  Las políticas activas de empleo fueron una de ...  12/04/2021  \n",
            "29781  La periodista de la Cadena Ser se ha visto obl...  23/04/2021  \n",
            "35301  La periodista de la Cadena Ser se ha visto obl...  23/04/2021  \n",
            "\n",
            "[875 rows x 4 columns]\n"
          ]
        }
      ],
      "source": [
        "valores_duplicados = df2[df2.duplicated(keep=False)]\n",
        "valores_duplicados_ordenados = valores_duplicados.sort_values(by=df2.columns.tolist())\n",
        "print(valores_duplicados_ordenados)"
      ]
    },
    {
      "cell_type": "markdown",
      "metadata": {
        "id": "bfJa9iumOLj4"
      },
      "source": [
        "Después de analizar las filas repetidas y corroborar que la columna 'Label' es la mismo, y que no se trata de la misma noticia con una descripción diferente u otro diferenciador, procedemos a eliminarlas."
      ]
    },
    {
      "cell_type": "code",
      "execution_count": null,
      "metadata": {
        "id": "xE-apXi2OLj5"
      },
      "outputs": [],
      "source": [
        "df3 = df2.drop_duplicates(subset = ['Titulo'])"
      ]
    },
    {
      "cell_type": "code",
      "execution_count": null,
      "metadata": {
        "colab": {
          "base_uri": "https://localhost:8080/"
        },
        "id": "UBhSjW6IOLj5",
        "outputId": "a034c2db-ba85-47fd-edcd-8e6c115e6bd0"
      },
      "outputs": [
        {
          "name": "stdout",
          "output_type": "stream",
          "text": [
            "Duplicados según titulo: 0\n"
          ]
        }
      ],
      "source": [
        "# Verificamos que haya sido exitoso\n",
        "print(f\"Duplicados según titulo: {df3['Titulo'].duplicated().sum()}\")"
      ]
    },
    {
      "cell_type": "markdown",
      "metadata": {
        "id": "MZV54RZW5uLF"
      },
      "source": [
        "### 2.2.3 Transformaciones\n"
      ]
    },
    {
      "cell_type": "markdown",
      "metadata": {
        "id": "iu9nwYqk6pok"
      },
      "source": [
        "- Para poder manipular los datos debemos asegurarnos de que tengan el tipo correcto"
      ]
    },
    {
      "cell_type": "code",
      "execution_count": null,
      "metadata": {
        "colab": {
          "base_uri": "https://localhost:8080/",
          "height": 209
        },
        "id": "zYDSM0frOLj5",
        "outputId": "d3ca1a84-3c48-4535-cbd9-440670deb55f"
      },
      "outputs": [
        {
          "data": {
            "text/html": [
              "<div>\n",
              "<style scoped>\n",
              "    .dataframe tbody tr th:only-of-type {\n",
              "        vertical-align: middle;\n",
              "    }\n",
              "\n",
              "    .dataframe tbody tr th {\n",
              "        vertical-align: top;\n",
              "    }\n",
              "\n",
              "    .dataframe thead th {\n",
              "        text-align: right;\n",
              "    }\n",
              "</style>\n",
              "<table border=\"1\" class=\"dataframe\">\n",
              "  <thead>\n",
              "    <tr style=\"text-align: right;\">\n",
              "      <th></th>\n",
              "      <th>0</th>\n",
              "    </tr>\n",
              "  </thead>\n",
              "  <tbody>\n",
              "    <tr>\n",
              "      <th>Label</th>\n",
              "      <td>int64</td>\n",
              "    </tr>\n",
              "    <tr>\n",
              "      <th>Titulo</th>\n",
              "      <td>object</td>\n",
              "    </tr>\n",
              "    <tr>\n",
              "      <th>Descripcion</th>\n",
              "      <td>object</td>\n",
              "    </tr>\n",
              "    <tr>\n",
              "      <th>Fecha</th>\n",
              "      <td>object</td>\n",
              "    </tr>\n",
              "  </tbody>\n",
              "</table>\n",
              "</div><br><label><b>dtype:</b> object</label>"
            ],
            "text/plain": [
              "Label           int64\n",
              "Titulo         object\n",
              "Descripcion    object\n",
              "Fecha          object\n",
              "dtype: object"
            ]
          },
          "execution_count": 37,
          "metadata": {},
          "output_type": "execute_result"
        }
      ],
      "source": [
        "df3.dtypes"
      ]
    },
    {
      "cell_type": "markdown",
      "metadata": {
        "id": "vS0ceqc36_Ed"
      },
      "source": [
        "- Al observar los resultados, encontramos que la columna 'Fecha' debería ser de tipo datetime, pero actualmente es de tipo object. Por ello, realizamos el respectivo casting."
      ]
    },
    {
      "cell_type": "code",
      "execution_count": null,
      "metadata": {
        "colab": {
          "base_uri": "https://localhost:8080/",
          "height": 397
        },
        "id": "3caE1eOqOLj5",
        "outputId": "f2db755b-5dd1-445a-fe67-fe1f83281166"
      },
      "outputs": [
        {
          "data": {
            "text/html": [
              "<div>\n",
              "<style scoped>\n",
              "    .dataframe tbody tr th:only-of-type {\n",
              "        vertical-align: middle;\n",
              "    }\n",
              "\n",
              "    .dataframe tbody tr th {\n",
              "        vertical-align: top;\n",
              "    }\n",
              "\n",
              "    .dataframe thead th {\n",
              "        text-align: right;\n",
              "    }\n",
              "</style>\n",
              "<table border=\"1\" class=\"dataframe\">\n",
              "  <thead>\n",
              "    <tr style=\"text-align: right;\">\n",
              "      <th></th>\n",
              "      <th>Fecha</th>\n",
              "    </tr>\n",
              "  </thead>\n",
              "  <tbody>\n",
              "    <tr>\n",
              "      <th>57050</th>\n",
              "      <td>17/01/2020</td>\n",
              "    </tr>\n",
              "    <tr>\n",
              "      <th>57051</th>\n",
              "      <td>19/01/2019</td>\n",
              "    </tr>\n",
              "    <tr>\n",
              "      <th>57053</th>\n",
              "      <td>07/05/2018</td>\n",
              "    </tr>\n",
              "    <tr>\n",
              "      <th>57055</th>\n",
              "      <td>12/03/2023</td>\n",
              "    </tr>\n",
              "    <tr>\n",
              "      <th>57056</th>\n",
              "      <td>21/10/2018</td>\n",
              "    </tr>\n",
              "    <tr>\n",
              "      <th>57057</th>\n",
              "      <td>23/12/2021</td>\n",
              "    </tr>\n",
              "    <tr>\n",
              "      <th>57058</th>\n",
              "      <td>08/06/2021</td>\n",
              "    </tr>\n",
              "    <tr>\n",
              "      <th>57059</th>\n",
              "      <td>08/09/2020</td>\n",
              "    </tr>\n",
              "    <tr>\n",
              "      <th>57060</th>\n",
              "      <td>12/07/2018</td>\n",
              "    </tr>\n",
              "    <tr>\n",
              "      <th>57061</th>\n",
              "      <td>13/02/2022</td>\n",
              "    </tr>\n",
              "  </tbody>\n",
              "</table>\n",
              "</div><br><label><b>dtype:</b> object</label>"
            ],
            "text/plain": [
              "57050    17/01/2020\n",
              "57051    19/01/2019\n",
              "57053    07/05/2018\n",
              "57055    12/03/2023\n",
              "57056    21/10/2018\n",
              "57057    23/12/2021\n",
              "57058    08/06/2021\n",
              "57059    08/09/2020\n",
              "57060    12/07/2018\n",
              "57061    13/02/2022\n",
              "Name: Fecha, dtype: object"
            ]
          },
          "execution_count": 38,
          "metadata": {},
          "output_type": "execute_result"
        }
      ],
      "source": [
        "df3.Fecha.tail(10)"
      ]
    },
    {
      "cell_type": "code",
      "execution_count": null,
      "metadata": {
        "colab": {
          "base_uri": "https://localhost:8080/",
          "height": 397
        },
        "id": "LqPoQv5uOLj6",
        "outputId": "f49ac832-e831-4d31-e4e7-a50f0ab56ec4"
      },
      "outputs": [
        {
          "data": {
            "text/html": [
              "<div>\n",
              "<style scoped>\n",
              "    .dataframe tbody tr th:only-of-type {\n",
              "        vertical-align: middle;\n",
              "    }\n",
              "\n",
              "    .dataframe tbody tr th {\n",
              "        vertical-align: top;\n",
              "    }\n",
              "\n",
              "    .dataframe thead th {\n",
              "        text-align: right;\n",
              "    }\n",
              "</style>\n",
              "<table border=\"1\" class=\"dataframe\">\n",
              "  <thead>\n",
              "    <tr style=\"text-align: right;\">\n",
              "      <th></th>\n",
              "      <th>Fecha</th>\n",
              "    </tr>\n",
              "  </thead>\n",
              "  <tbody>\n",
              "    <tr>\n",
              "      <th>57050</th>\n",
              "      <td>2020-01-17</td>\n",
              "    </tr>\n",
              "    <tr>\n",
              "      <th>57051</th>\n",
              "      <td>2019-01-19</td>\n",
              "    </tr>\n",
              "    <tr>\n",
              "      <th>57053</th>\n",
              "      <td>2018-05-07</td>\n",
              "    </tr>\n",
              "    <tr>\n",
              "      <th>57055</th>\n",
              "      <td>2023-03-12</td>\n",
              "    </tr>\n",
              "    <tr>\n",
              "      <th>57056</th>\n",
              "      <td>2018-10-21</td>\n",
              "    </tr>\n",
              "    <tr>\n",
              "      <th>57057</th>\n",
              "      <td>2021-12-23</td>\n",
              "    </tr>\n",
              "    <tr>\n",
              "      <th>57058</th>\n",
              "      <td>2021-06-08</td>\n",
              "    </tr>\n",
              "    <tr>\n",
              "      <th>57059</th>\n",
              "      <td>2020-09-08</td>\n",
              "    </tr>\n",
              "    <tr>\n",
              "      <th>57060</th>\n",
              "      <td>2018-07-12</td>\n",
              "    </tr>\n",
              "    <tr>\n",
              "      <th>57061</th>\n",
              "      <td>2022-02-13</td>\n",
              "    </tr>\n",
              "  </tbody>\n",
              "</table>\n",
              "</div><br><label><b>dtype:</b> datetime64[ns]</label>"
            ],
            "text/plain": [
              "57050   2020-01-17\n",
              "57051   2019-01-19\n",
              "57053   2018-05-07\n",
              "57055   2023-03-12\n",
              "57056   2018-10-21\n",
              "57057   2021-12-23\n",
              "57058   2021-06-08\n",
              "57059   2020-09-08\n",
              "57060   2018-07-12\n",
              "57061   2022-02-13\n",
              "Name: Fecha, dtype: datetime64[ns]"
            ]
          },
          "execution_count": 39,
          "metadata": {},
          "output_type": "execute_result"
        }
      ],
      "source": [
        "df4 = df3.copy()\n",
        "\n",
        "df4['Fecha'] = pd.to_datetime(df4.Fecha, dayfirst= True, errors = 'coerce')\n",
        "df4['Fecha'].tail(10)"
      ]
    },
    {
      "cell_type": "markdown",
      "metadata": {
        "id": "ne60JaFoDGL6"
      },
      "source": [
        "- Verificamos que la conversión de tipo se haya realizado con éxito."
      ]
    },
    {
      "cell_type": "code",
      "execution_count": null,
      "metadata": {
        "colab": {
          "base_uri": "https://localhost:8080/"
        },
        "id": "sFPJoDr9OLj6",
        "outputId": "c83ff453-4e16-482f-9a82-2ef92dfdfd0a"
      },
      "outputs": [
        {
          "name": "stdout",
          "output_type": "stream",
          "text": [
            "0\n"
          ]
        }
      ],
      "source": [
        "print(df4[\"Fecha\"].isna().sum())"
      ]
    },
    {
      "cell_type": "markdown",
      "metadata": {
        "id": "saCf-TA9tLwf"
      },
      "source": [
        "- Con esta transformación, podemos analizar e identificar si la fecha está directamente relacionada con la veracidad de una noticia."
      ]
    },
    {
      "cell_type": "markdown",
      "metadata": {
        "id": "wv4xQmk3DiY1"
      },
      "source": [
        "Primero revisemos el rango de fechas:"
      ]
    },
    {
      "cell_type": "code",
      "execution_count": null,
      "metadata": {
        "colab": {
          "base_uri": "https://localhost:8080/"
        },
        "id": "5EFQZxSSDhtV",
        "outputId": "991dfffc-2f82-4227-c24b-f5ed93f5594f"
      },
      "outputs": [
        {
          "name": "stdout",
          "output_type": "stream",
          "text": [
            "Rango de fechas: 2016-01-02 00:00:00 a 2024-12-28 00:00:00\n"
          ]
        }
      ],
      "source": [
        "print(\"Rango de fechas:\", df4[\"Fecha\"].min(), \"a\", df4[\"Fecha\"].max())"
      ]
    },
    {
      "cell_type": "markdown",
      "metadata": {
        "id": "aHeSbttZDplf"
      },
      "source": [
        "Ahora si verifiquemos la correlación"
      ]
    },
    {
      "cell_type": "code",
      "execution_count": null,
      "metadata": {
        "colab": {
          "base_uri": "https://localhost:8080/"
        },
        "id": "cIGIhLmkD8dU",
        "outputId": "aecb7dda-1a81-4049-b04a-5f5c3bcde6b2"
      },
      "outputs": [
        {
          "name": "stdout",
          "output_type": "stream",
          "text": [
            "Correlación entre año y etiqueta de noticia: -0.02301578235915149\n"
          ]
        }
      ],
      "source": [
        "correlacion = df4[\"Fecha\"].dt.year.corr(df[\"Label\"])\n",
        "print(\"Correlación entre año y etiqueta de noticia:\", correlacion)"
      ]
    },
    {
      "cell_type": "markdown",
      "metadata": {
        "id": "izXA1gXBD_Op"
      },
      "source": [
        "Para visualizarlo y entenderlo mejor, graficamos la distribución."
      ]
    },
    {
      "cell_type": "code",
      "execution_count": null,
      "metadata": {
        "colab": {
          "base_uri": "https://localhost:8080/",
          "height": 526
        },
        "id": "XaN2veAh7bT1",
        "outputId": "21e688df-bd22-4122-c852-2d8f6ee456af"
      },
      "outputs": [
        {
          "data": {
            "text/plain": [
              "<Figure size 1000x500 with 0 Axes>"
            ]
          },
          "metadata": {},
          "output_type": "display_data"
        },
        {
          "data": {
            "image/png": "[encoded data removed]",
            "text/plain": [
              "<Figure size 1000x500 with 1 Axes>"
            ]
          },
          "metadata": {},
          "output_type": "display_data"
        }
      ],
      "source": [
        "plt.figure(figsize=(10,5))\n",
        "df4.groupby([df4[\"Fecha\"].dt.year, \"Label\"]).size().unstack().rename(columns={0: \"Falsas\", 1: \"Verdaderas\"}).plot(kind=\"bar\", stacked=True, figsize=(10,5))\n",
        "plt.title(\"Distribución de noticias falsas y verdaderas por año\")\n",
        "plt.xlabel(\"Año\")\n",
        "plt.ylabel(\"Cantidad de noticias\")\n",
        "plt.legend([\"Verdaderas (1)\", \"Falsas (0)\"])\n",
        "plt.show()"
      ]
    },
    {
      "cell_type": "markdown",
      "metadata": {
        "id": "s7KOfZgHOLj8"
      },
      "source": [
        "---\n",
        "- Por último, verificamos el balance en la distribución de noticias según si son verdaderas o falsas."
      ]
    },
    {
      "cell_type": "markdown",
      "metadata": {
        "id": "WaKKJsEZ8Gis"
      },
      "source": [
        "Primero, usamos .describe() para obtener un resumen rápido de las estadísticas de las variables numéricas. Además, utilizamos un diagrama de torta para visualizar mejor los resultados."
      ]
    },
    {
      "cell_type": "code",
      "execution_count": null,
      "metadata": {
        "colab": {
          "base_uri": "https://localhost:8080/",
          "height": 334
        },
        "id": "ZP8xDutDOLj5",
        "outputId": "e5517d3f-0544-47b3-b3db-b594d601bb91"
      },
      "outputs": [
        {
          "data": {
            "text/html": [
              "<div>\n",
              "<style scoped>\n",
              "    .dataframe tbody tr th:only-of-type {\n",
              "        vertical-align: middle;\n",
              "    }\n",
              "\n",
              "    .dataframe tbody tr th {\n",
              "        vertical-align: top;\n",
              "    }\n",
              "\n",
              "    .dataframe thead th {\n",
              "        text-align: right;\n",
              "    }\n",
              "</style>\n",
              "<table border=\"1\" class=\"dataframe\">\n",
              "  <thead>\n",
              "    <tr style=\"text-align: right;\">\n",
              "      <th></th>\n",
              "      <th>Label</th>\n",
              "    </tr>\n",
              "  </thead>\n",
              "  <tbody>\n",
              "    <tr>\n",
              "      <th>count</th>\n",
              "      <td>51604.000000</td>\n",
              "    </tr>\n",
              "    <tr>\n",
              "      <th>mean</th>\n",
              "      <td>0.587571</td>\n",
              "    </tr>\n",
              "    <tr>\n",
              "      <th>std</th>\n",
              "      <td>0.492276</td>\n",
              "    </tr>\n",
              "    <tr>\n",
              "      <th>min</th>\n",
              "      <td>0.000000</td>\n",
              "    </tr>\n",
              "    <tr>\n",
              "      <th>25%</th>\n",
              "      <td>0.000000</td>\n",
              "    </tr>\n",
              "    <tr>\n",
              "      <th>50%</th>\n",
              "      <td>1.000000</td>\n",
              "    </tr>\n",
              "    <tr>\n",
              "      <th>75%</th>\n",
              "      <td>1.000000</td>\n",
              "    </tr>\n",
              "    <tr>\n",
              "      <th>max</th>\n",
              "      <td>1.000000</td>\n",
              "    </tr>\n",
              "  </tbody>\n",
              "</table>\n",
              "</div><br><label><b>dtype:</b> float64</label>"
            ],
            "text/plain": [
              "count    51604.000000\n",
              "mean         0.587571\n",
              "std          0.492276\n",
              "min          0.000000\n",
              "25%          0.000000\n",
              "50%          1.000000\n",
              "75%          1.000000\n",
              "max          1.000000\n",
              "Name: Label, dtype: float64"
            ]
          },
          "execution_count": 44,
          "metadata": {},
          "output_type": "execute_result"
        }
      ],
      "source": [
        "df4['Label'].describe()"
      ]
    },
    {
      "cell_type": "code",
      "execution_count": null,
      "metadata": {
        "colab": {
          "base_uri": "https://localhost:8080/",
          "height": 542
        },
        "id": "BYuFjWNVOLj8",
        "outputId": "8ea6ba04-7148-4424-f5ec-be9cdea3fb6a"
      },
      "outputs": [
        {
          "data": {
            "text/html": [
              "<html>\n",
              "<head><meta charset=\"utf-8\" /></head>\n",
              "<body>\n",
              "    <div>            <script src=\"https://cdnjs.cloudflare.com/ajax/libs/mathjax/2.7.5/MathJax.js?config=TeX-AMS-MML_SVG\"></script><script type=\"text/javascript\">if (window.MathJax && window.MathJax.Hub && window.MathJax.Hub.Config) {window.MathJax.Hub.Config({SVG: {font: \"STIX-Web\"}});}</script>                <script type=\"text/javascript\">window.PlotlyConfig = {MathJaxConfig: 'local'};</script>\n",
              "        <script charset=\"utf-8\" src=\"https://cdn.plot.ly/plotly-2.35.2.min.js\"></script>                <div id=\"8f14f584-4fff-403d-9a92-416a0e1b1a78\" class=\"plotly-graph-div\" style=\"height:525px; width:100%;\"></div>            <script type=\"text/javascript\">                                    window.PLOTLYENV=window.PLOTLYENV || {};                                    if (document.getElementById(\"8f14f584-4fff-403d-9a92-416a0e1b1a78\")) {                    Plotly.newPlot(                        \"8f14f584-4fff-403d-9a92-416a0e1b1a78\",                        [{\"domain\":{\"x\":[0.0,1.0],\"y\":[0.0,1.0]},\"hovertemplate\":\"label=%{label}\\u003cbr\\u003evalue=%{value}\\u003cextra\\u003e\\u003c\\u002fextra\\u003e\",\"labels\":[\"Noticias Verdaderas\",\"Noticias Falsas\"],\"legendgroup\":\"\",\"name\":\"\",\"showlegend\":true,\"values\":[30321,21283],\"type\":\"pie\"}],                        {\"template\":{\"data\":{\"histogram2dcontour\":[{\"type\":\"histogram2dcontour\",\"colorbar\":{\"outlinewidth\":0,\"ticks\":\"\"},\"colorscale\":[[0.0,\"#0d0887\"],[0.1111111111111111,\"#46039f\"],[0.2222222222222222,\"#7201a8\"],[0.3333333333333333,\"#9c179e\"],[0.4444444444444444,\"#bd3786\"],[0.5555555555555556,\"#d8576b\"],[0.6666666666666666,\"#ed7953\"],[0.7777777777777778,\"#fb9f3a\"],[0.8888888888888888,\"#fdca26\"],[1.0,\"#f0f921\"]]}],\"choropleth\":[{\"type\":\"choropleth\",\"colorbar\":{\"outlinewidth\":0,\"ticks\":\"\"}}],\"histogram2d\":[{\"type\":\"histogram2d\",\"colorbar\":{\"outlinewidth\":0,\"ticks\":\"\"},\"colorscale\":[[0.0,\"#0d0887\"],[0.1111111111111111,\"#46039f\"],[0.2222222222222222,\"#7201a8\"],[0.3333333333333333,\"#9c179e\"],[0.4444444444444444,\"#bd3786\"],[0.5555555555555556,\"#d8576b\"],[0.6666666666666666,\"#ed7953\"],[0.7777777777777778,\"#fb9f3a\"],[0.8888888888888888,\"#fdca26\"],[1.0,\"#f0f921\"]]}],\"heatmap\":[{\"type\":\"heatmap\",\"colorbar\":{\"outlinewidth\":0,\"ticks\":\"\"},\"colorscale\":[[0.0,\"#0d0887\"],[0.1111111111111111,\"#46039f\"],[0.2222222222222222,\"#7201a8\"],[0.3333333333333333,\"#9c179e\"],[0.4444444444444444,\"#bd3786\"],[0.5555555555555556,\"#d8576b\"],[0.6666666666666666,\"#ed7953\"],[0.7777777777777778,\"#fb9f3a\"],[0.8888888888888888,\"#fdca26\"],[1.0,\"#f0f921\"]]}],\"heatmapgl\":[{\"type\":\"heatmapgl\",\"colorbar\":{\"outlinewidth\":0,\"ticks\":\"\"},\"colorscale\":[[0.0,\"#0d0887\"],[0.1111111111111111,\"#46039f\"],[0.2222222222222222,\"#7201a8\"],[0.3333333333333333,\"#9c179e\"],[0.4444444444444444,\"#bd3786\"],[0.5555555555555556,\"#d8576b\"],[0.6666666666666666,\"#ed7953\"],[0.7777777777777778,\"#fb9f3a\"],[0.8888888888888888,\"#fdca26\"],[1.0,\"#f0f921\"]]}],\"contourcarpet\":[{\"type\":\"contourcarpet\",\"colorbar\":{\"outlinewidth\":0,\"ticks\":\"\"}}],\"contour\":[{\"type\":\"contour\",\"colorbar\":{\"outlinewidth\":0,\"ticks\":\"\"},\"colorscale\":[[0.0,\"#0d0887\"],[0.1111111111111111,\"#46039f\"],[0.2222222222222222,\"#7201a8\"],[0.3333333333333333,\"#9c179e\"],[0.4444444444444444,\"#bd3786\"],[0.5555555555555556,\"#d8576b\"],[0.6666666666666666,\"#ed7953\"],[0.7777777777777778,\"#fb9f3a\"],[0.8888888888888888,\"#fdca26\"],[1.0,\"#f0f921\"]]}],\"surface\":[{\"type\":\"surface\",\"colorbar\":{\"outlinewidth\":0,\"ticks\":\"\"},\"colorscale\":[[0.0,\"#0d0887\"],[0.1111111111111111,\"#46039f\"],[0.2222222222222222,\"#7201a8\"],[0.3333333333333333,\"#9c179e\"],[0.4444444444444444,\"#bd3786\"],[0.5555555555555556,\"#d8576b\"],[0.6666666666666666,\"#ed7953\"],[0.7777777777777778,\"#fb9f3a\"],[0.8888888888888888,\"#fdca26\"],[1.0,\"#f0f921\"]]}],\"mesh3d\":[{\"type\":\"mesh3d\",\"colorbar\":{\"outlinewidth\":0,\"ticks\":\"\"}}],\"scatter\":[{\"fillpattern\":{\"fillmode\":\"overlay\",\"size\":10,\"solidity\":0.2},\"type\":\"scatter\"}],\"parcoords\":[{\"type\":\"parcoords\",\"line\":{\"colorbar\":{\"outlinewidth\":0,\"ticks\":\"\"}}}],\"scatterpolargl\":[{\"type\":\"scatterpolargl\",\"marker\":{\"colorbar\":{\"outlinewidth\":0,\"ticks\":\"\"}}}],\"bar\":[{\"error_x\":{\"color\":\"#2a3f5f\"},\"error_y\":{\"color\":\"#2a3f5f\"},\"marker\":{\"line\":{\"color\":\"#E5ECF6\",\"width\":0.5},\"pattern\":{\"fillmode\":\"overlay\",\"size\":10,\"solidity\":0.2}},\"type\":\"bar\"}],\"scattergeo\":[{\"type\":\"scattergeo\",\"marker\":{\"colorbar\":{\"outlinewidth\":0,\"ticks\":\"\"}}}],\"scatterpolar\":[{\"type\":\"scatterpolar\",\"marker\":{\"colorbar\":{\"outlinewidth\":0,\"ticks\":\"\"}}}],\"histogram\":[{\"marker\":{\"pattern\":{\"fillmode\":\"overlay\",\"size\":10,\"solidity\":0.2}},\"type\":\"histogram\"}],\"scattergl\":[{\"type\":\"scattergl\",\"marker\":{\"colorbar\":{\"outlinewidth\":0,\"ticks\":\"\"}}}],\"scatter3d\":[{\"type\":\"scatter3d\",\"line\":{\"colorbar\":{\"outlinewidth\":0,\"ticks\":\"\"}},\"marker\":{\"colorbar\":{\"outlinewidth\":0,\"ticks\":\"\"}}}],\"scattermapbox\":[{\"type\":\"scattermapbox\",\"marker\":{\"colorbar\":{\"outlinewidth\":0,\"ticks\":\"\"}}}],\"scatterternary\":[{\"type\":\"scatterternary\",\"marker\":{\"colorbar\":{\"outlinewidth\":0,\"ticks\":\"\"}}}],\"scattercarpet\":[{\"type\":\"scattercarpet\",\"marker\":{\"colorbar\":{\"outlinewidth\":0,\"ticks\":\"\"}}}],\"carpet\":[{\"aaxis\":{\"endlinecolor\":\"#2a3f5f\",\"gridcolor\":\"white\",\"linecolor\":\"white\",\"minorgridcolor\":\"white\",\"startlinecolor\":\"#2a3f5f\"},\"baxis\":{\"endlinecolor\":\"#2a3f5f\",\"gridcolor\":\"white\",\"linecolor\":\"white\",\"minorgridcolor\":\"white\",\"startlinecolor\":\"#2a3f5f\"},\"type\":\"carpet\"}],\"table\":[{\"cells\":{\"fill\":{\"color\":\"#EBF0F8\"},\"line\":{\"color\":\"white\"}},\"header\":{\"fill\":{\"color\":\"#C8D4E3\"},\"line\":{\"color\":\"white\"}},\"type\":\"table\"}],\"barpolar\":[{\"marker\":{\"line\":{\"color\":\"#E5ECF6\",\"width\":0.5},\"pattern\":{\"fillmode\":\"overlay\",\"size\":10,\"solidity\":0.2}},\"type\":\"barpolar\"}],\"pie\":[{\"automargin\":true,\"type\":\"pie\"}]},\"layout\":{\"autotypenumbers\":\"strict\",\"colorway\":[\"#636efa\",\"#EF553B\",\"#00cc96\",\"#ab63fa\",\"#FFA15A\",\"#19d3f3\",\"#FF6692\",\"#B6E880\",\"#FF97FF\",\"#FECB52\"],\"font\":{\"color\":\"#2a3f5f\"},\"hovermode\":\"closest\",\"hoverlabel\":{\"align\":\"left\"},\"paper_bgcolor\":\"white\",\"plot_bgcolor\":\"#E5ECF6\",\"polar\":{\"bgcolor\":\"#E5ECF6\",\"angularaxis\":{\"gridcolor\":\"white\",\"linecolor\":\"white\",\"ticks\":\"\"},\"radialaxis\":{\"gridcolor\":\"white\",\"linecolor\":\"white\",\"ticks\":\"\"}},\"ternary\":{\"bgcolor\":\"#E5ECF6\",\"aaxis\":{\"gridcolor\":\"white\",\"linecolor\":\"white\",\"ticks\":\"\"},\"baxis\":{\"gridcolor\":\"white\",\"linecolor\":\"white\",\"ticks\":\"\"},\"caxis\":{\"gridcolor\":\"white\",\"linecolor\":\"white\",\"ticks\":\"\"}},\"coloraxis\":{\"colorbar\":{\"outlinewidth\":0,\"ticks\":\"\"}},\"colorscale\":{\"sequential\":[[0.0,\"#0d0887\"],[0.1111111111111111,\"#46039f\"],[0.2222222222222222,\"#7201a8\"],[0.3333333333333333,\"#9c179e\"],[0.4444444444444444,\"#bd3786\"],[0.5555555555555556,\"#d8576b\"],[0.6666666666666666,\"#ed7953\"],[0.7777777777777778,\"#fb9f3a\"],[0.8888888888888888,\"#fdca26\"],[1.0,\"#f0f921\"]],\"sequentialminus\":[[0.0,\"#0d0887\"],[0.1111111111111111,\"#46039f\"],[0.2222222222222222,\"#7201a8\"],[0.3333333333333333,\"#9c179e\"],[0.4444444444444444,\"#bd3786\"],[0.5555555555555556,\"#d8576b\"],[0.6666666666666666,\"#ed7953\"],[0.7777777777777778,\"#fb9f3a\"],[0.8888888888888888,\"#fdca26\"],[1.0,\"#f0f921\"]],\"diverging\":[[0,\"#8e0152\"],[0.1,\"#c51b7d\"],[0.2,\"#de77ae\"],[0.3,\"#f1b6da\"],[0.4,\"#fde0ef\"],[0.5,\"#f7f7f7\"],[0.6,\"#e6f5d0\"],[0.7,\"#b8e186\"],[0.8,\"#7fbc41\"],[0.9,\"#4d9221\"],[1,\"#276419\"]]},\"xaxis\":{\"gridcolor\":\"white\",\"linecolor\":\"white\",\"ticks\":\"\",\"title\":{\"standoff\":15},\"zerolinecolor\":\"white\",\"automargin\":true,\"zerolinewidth\":2},\"yaxis\":{\"gridcolor\":\"white\",\"linecolor\":\"white\",\"ticks\":\"\",\"title\":{\"standoff\":15},\"zerolinecolor\":\"white\",\"automargin\":true,\"zerolinewidth\":2},\"scene\":{\"xaxis\":{\"backgroundcolor\":\"#E5ECF6\",\"gridcolor\":\"white\",\"linecolor\":\"white\",\"showbackground\":true,\"ticks\":\"\",\"zerolinecolor\":\"white\",\"gridwidth\":2},\"yaxis\":{\"backgroundcolor\":\"#E5ECF6\",\"gridcolor\":\"white\",\"linecolor\":\"white\",\"showbackground\":true,\"ticks\":\"\",\"zerolinecolor\":\"white\",\"gridwidth\":2},\"zaxis\":{\"backgroundcolor\":\"#E5ECF6\",\"gridcolor\":\"white\",\"linecolor\":\"white\",\"showbackground\":true,\"ticks\":\"\",\"zerolinecolor\":\"white\",\"gridwidth\":2}},\"shapedefaults\":{\"line\":{\"color\":\"#2a3f5f\"}},\"annotationdefaults\":{\"arrowcolor\":\"#2a3f5f\",\"arrowhead\":0,\"arrowwidth\":1},\"geo\":{\"bgcolor\":\"white\",\"landcolor\":\"#E5ECF6\",\"subunitcolor\":\"white\",\"showland\":true,\"showlakes\":true,\"lakecolor\":\"white\"},\"title\":{\"x\":0.05},\"mapbox\":{\"style\":\"light\"}}},\"legend\":{\"tracegroupgap\":0},\"title\":{\"text\":\"Distribución de noticias falsas y verdaderas (57063 noticias)\"}},                        {\"responsive\": true}                    ).then(function(){\n",
              "                            \n",
              "var gd = document.getElementById('8f14f584-4fff-403d-9a92-416a0e1b1a78');\n",
              "var x = new MutationObserver(function (mutations, observer) {{\n",
              "        var display = window.getComputedStyle(gd).display;\n",
              "        if (!display || display === 'none') {{\n",
              "            console.log([gd, 'removed!']);\n",
              "            Plotly.purge(gd);\n",
              "            observer.disconnect();\n",
              "        }}\n",
              "}});\n",
              "\n",
              "// Listen for the removal of the full notebook cells\n",
              "var notebookContainer = gd.closest('#notebook-container');\n",
              "if (notebookContainer) {{\n",
              "    x.observe(notebookContainer, {childList: true});\n",
              "}}\n",
              "\n",
              "// Listen for the clearing of the current output cell\n",
              "var outputEl = gd.closest('.output');\n",
              "if (outputEl) {{\n",
              "    x.observe(outputEl, {childList: true});\n",
              "}}\n",
              "\n",
              "                        })                };                            </script>        </div>\n",
              "</body>\n",
              "</html>"
            ]
          },
          "metadata": {},
          "output_type": "display_data"
        }
      ],
      "source": [
        "conteo_clases = df4[\"Label\"].value_counts()\n",
        "\n",
        "mapeo_etiquetas = {0: \"Noticias Falsas\", 1: \"Noticias Verdaderas\"}\n",
        "fig = px.pie(names=conteo_clases.index.map(mapeo_etiquetas), values=conteo_clases.values,\n",
        "             title=f'Distribución de noticias falsas y verdaderas ({df.shape[0]} noticias)')\n",
        "\n",
        "fig"
      ]
    },
    {
      "cell_type": "markdown",
      "metadata": {
        "id": "bhkvbheAgsxW"
      },
      "source": [
        "**Dado que la distribución entre noticias falsas y verdaderas es relativamente equilibrada, podemos trabajar con los datos sin necesidad de ajustar el balance de clases.**\n"
      ]
    },
    {
      "cell_type": "markdown",
      "metadata": {
        "id": "2icqVWLsODQe"
      },
      "source": [
        "# 3. Preparación y preprocesamiento de los datos"
      ]
    },
    {
      "cell_type": "markdown",
      "metadata": {
        "id": "aMub8UpZ_AHc"
      },
      "source": [
        "## 3.1 Lematización"
      ]
    },
    {
      "cell_type": "markdown",
      "metadata": {
        "id": "ptmnjeJCOLj5"
      },
      "source": [
        "- En este apartado vamos a implementar un código que procesa y limpia el texto de las columnas \"Título\" y \"Descripción\" para mejorar la detección de patrones. Primero, convierte el texto a minúsculas, tokeniza las palabras y elimina las stopwords en español. Luego, aplica lematización para reducir las palabras a su forma base, eliminando signos de puntuación y normalizando caracteres al remover tildes."
      ]
    },
    {
      "cell_type": "code",
      "execution_count": null,
      "metadata": {
        "colab": {
          "base_uri": "https://localhost:8080/",
          "height": 292
        },
        "id": "mlL1hq1qW_8E",
        "outputId": "8835c248-786c-40d8-905b-4dd70ab262a3"
      },
      "outputs": [
        {
          "data": {
            "application/vnd.google.colaboratory.intrinsic+json": {
              "summary": "{\n  \"name\": \"display(df4\",\n  \"rows\": 5,\n  \"fields\": [\n    {\n      \"column\": \"Label\",\n      \"properties\": {\n        \"dtype\": \"number\",\n        \"std\": 0,\n        \"min\": 0,\n        \"max\": 1,\n        \"num_unique_values\": 2,\n        \"samples\": [\n          0,\n          1\n        ],\n        \"semantic_type\": \"\",\n        \"description\": \"\"\n      }\n    },\n    {\n      \"column\": \"Titulo\",\n      \"properties\": {\n        \"dtype\": \"string\",\n        \"num_unique_values\": 5,\n        \"samples\": [\n          \"revelan gobierno negocio liberaci\\u00f3n mireles cambio otorgarle perd\\u00f3n javier duarte\",\n          \"puigdemont : 'no ninguna tragedia repetici\\u00f3n elecciones '\"\n        ],\n        \"semantic_type\": \"\",\n        \"description\": \"\"\n      }\n    },\n    {\n      \"column\": \"Descripcion\",\n      \"properties\": {\n        \"dtype\": \"string\",\n        \"num_unique_values\": 5,\n        \"samples\": [\n          \"revelan gobierno negocio liberaci\\u00f3n mireles cambio otorgarle perd\\u00f3n javier duarte m\\u00e9xico.- gran pol\\u00e9mica asombro causando redes sociales noticia lanzada revista pol\\u00edtica asegura liberaci\\u00f3n doctor jos\\u00e9 manuel mireles valverde , * number * encarcelado poseer armamento exclusivo gobierno crear grupo autodefensa , realidad trata estrategia creada gobierno otorgarle perd\\u00f3n javier duarte , idea dejar libertad ex gobernador veracruz argumentando si mireles pudo salir prisi\\u00f3n duarte derecho recuperar libertad cualquier ciudadano inocente . periodistas aseguran propio presidente rep\\u00fablica , enrique pe\\u00f1a nieto , orden\\u00f3 mireles recuperara libertad `` estrategia otorgarle perd\\u00f3n javier `` , se\\u00f1alando pueblo comience reclamar declararon inocente ex gobernador veracruz , pondr\\u00e1 ejemplo liberaci\\u00f3n jos\\u00e9 manuel `` apaciguar gente `` : `` caso mireles puesto ejemplo mayores injusticias actualidad . gente siempre pareci\\u00f3 inconcebible alguien cre\\u00f3 grupo autodefensa protegerse crimen organizado sido encarcelado si peligroso delincuente , adem\\u00e1s nadie crey\\u00f3 versi\\u00f3n traficaba droga pose\\u00eda armamento militar , asegurando solo argumentos ej\\u00e9rcito poder encarcelarlo . epn mucha presi\\u00f3n captura javier conoce secretos turbios pri , sabe cualquier momento podr\\u00eda revelarlos si gobierno hace dejarlo libertad . enrique haciendo posible liberarlo pueblo amenace hacer revoluci\\u00f3n . idea dejar pasar par semanas personas olviden caso duarte , liberarlo , comiencen quejarse poner ejemplo as\\u00ed liberaron mireles , javier gan\\u00f3 libertad tampoco comprobaron delitos `` , relataron . investigadores mencionan incluso valverde sabe estrategia , embargo decidi\\u00f3 callar poder salir c\\u00e1rcel : `` doctor declarado guarda rencor nadie muestra feliz liberado , hace semanas comenzaron darle trato preferencial penal finalmente revelaron verdaderos planes . sabemos si mireles inocente , sabemos cualquier persona despu\\u00e9s * number * a\\u00f1os encerrado ( recto ) aceptar\\u00eda ser liberado cambio ser usado cortina humo . c\\u00e1rcel vive bien , hombre honesto dar\\u00eda recuperar libertad . mireles advertido si revelaba volver\\u00eda ser encarcelado reputaci\\u00f3n quedar\\u00eda suelos prestarse enga\\u00f1o gobierno , final orillado aceptar trato . cierto unas semanas duarte extraditado m\\u00e9xico , menos * number * meses juez ordenar\\u00e1 liberaci\\u00f3n comenzar\\u00e1 plan gobierno usar caso mireles justificar declarado inocente `` , puntualizaron .\",\n          \"entrevista punt avui , l\\u00edder jxcat desdramatizado posible escenario , tras trabas judiciales investidura reticencias cup investir teo garc\\u00eda egea , catalunya acabe abocada elecciones .\"\n        ],\n        \"semantic_type\": \"\",\n        \"description\": \"\"\n      }\n    },\n    {\n      \"column\": \"Fecha\",\n      \"properties\": {\n        \"dtype\": \"date\",\n        \"min\": \"2018-03-09 00:00:00\",\n        \"max\": \"2023-10-01 00:00:00\",\n        \"num_unique_values\": 5,\n        \"samples\": [\n          \"2023-10-01 00:00:00\",\n          \"2018-03-09 00:00:00\"\n        ],\n        \"semantic_type\": \"\",\n        \"description\": \"\"\n      }\n    }\n  ]\n}",
              "type": "dataframe"
            },
            "text/html": [
              "\n",
              "  <div id=\"df-eb0e46de-d822-413b-adf1-fca796549ba5\" class=\"colab-df-container\">\n",
              "    <div>\n",
              "<style scoped>\n",
              "    .dataframe tbody tr th:only-of-type {\n",
              "        vertical-align: middle;\n",
              "    }\n",
              "\n",
              "    .dataframe tbody tr th {\n",
              "        vertical-align: top;\n",
              "    }\n",
              "\n",
              "    .dataframe thead th {\n",
              "        text-align: right;\n",
              "    }\n",
              "</style>\n",
              "<table border=\"1\" class=\"dataframe\">\n",
              "  <thead>\n",
              "    <tr style=\"text-align: right;\">\n",
              "      <th></th>\n",
              "      <th>Label</th>\n",
              "      <th>Titulo</th>\n",
              "      <th>Descripcion</th>\n",
              "      <th>Fecha</th>\n",
              "    </tr>\n",
              "  </thead>\n",
              "  <tbody>\n",
              "    <tr>\n",
              "      <th>0</th>\n",
              "      <td>1</td>\n",
              "      <td>'the guardian ' va sánchez : 'europa necesita ...</td>\n",
              "      <td>diario británico publicó pasado jueves editori...</td>\n",
              "      <td>2023-06-02</td>\n",
              "    </tr>\n",
              "    <tr>\n",
              "      <th>1</th>\n",
              "      <td>0</td>\n",
              "      <td>revelan gobierno negocio liberación mireles ca...</td>\n",
              "      <td>revelan gobierno negocio liberación mireles ca...</td>\n",
              "      <td>2023-10-01</td>\n",
              "    </tr>\n",
              "    <tr>\n",
              "      <th>2</th>\n",
              "      <td>1</td>\n",
              "      <td>'ahora nunca ' joan fuster estatuto valenciano...</td>\n",
              "      <td>valencianismo convoca castelló fiesta grande c...</td>\n",
              "      <td>2022-04-25</td>\n",
              "    </tr>\n",
              "    <tr>\n",
              "      <th>3</th>\n",
              "      <td>1</td>\n",
              "      <td>iglesias alienta yolanda díaz , erc eh bildu n...</td>\n",
              "      <td>política , igual negociar empresarios , negoci...</td>\n",
              "      <td>2022-01-03</td>\n",
              "    </tr>\n",
              "    <tr>\n",
              "      <th>4</th>\n",
              "      <td>0</td>\n",
              "      <td>puigdemont : 'no ninguna tragedia repetición e...</td>\n",
              "      <td>entrevista punt avui , líder jxcat desdramatiz...</td>\n",
              "      <td>2018-03-09</td>\n",
              "    </tr>\n",
              "  </tbody>\n",
              "</table>\n",
              "</div>\n",
              "    <div class=\"colab-df-buttons\">\n",
              "\n",
              "  <div class=\"colab-df-container\">\n",
              "    <button class=\"colab-df-convert\" onclick=\"convertToInteractive('df-eb0e46de-d822-413b-adf1-fca796549ba5')\"\n",
              "            title=\"Convert this dataframe to an interactive table.\"\n",
              "            style=\"display:none;\">\n",
              "\n",
              "  <svg xmlns=\"http://www.w3.org/2000/svg\" height=\"24px\" viewBox=\"0 -960 960 960\">\n",
              "    <path d=\"M120-120v-720h720v720H120Zm60-500h600v-160H180v160Zm220 220h160v-160H400v160Zm0 220h160v-160H400v160ZM180-400h160v-160H180v160Zm440 0h160v-160H620v160ZM180-180h160v-160H180v160Zm440 0h160v-160H620v160Z\"/>\n",
              "  </svg>\n",
              "    </button>\n",
              "\n",
              "  <style>\n",
              "    .colab-df-container {\n",
              "      display:flex;\n",
              "      gap: 12px;\n",
              "    }\n",
              "\n",
              "    .colab-df-convert {\n",
              "      background-color: #E8F0FE;\n",
              "      border: none;\n",
              "      border-radius: 50%;\n",
              "      cursor: pointer;\n",
              "      display: none;\n",
              "      fill: #1967D2;\n",
              "      height: 32px;\n",
              "      padding: 0 0 0 0;\n",
              "      width: 32px;\n",
              "    }\n",
              "\n",
              "    .colab-df-convert:hover {\n",
              "      background-color: #E2EBFA;\n",
              "      box-shadow: 0px 1px 2px rgba(60, 64, 67, 0.3), 0px 1px 3px 1px rgba(60, 64, 67, 0.15);\n",
              "      fill: #174EA6;\n",
              "    }\n",
              "\n",
              "    .colab-df-buttons div {\n",
              "      margin-bottom: 4px;\n",
              "    }\n",
              "\n",
              "    [theme=dark] .colab-df-convert {\n",
              "      background-color: #3B4455;\n",
              "      fill: #D2E3FC;\n",
              "    }\n",
              "\n",
              "    [theme=dark] .colab-df-convert:hover {\n",
              "      background-color: #434B5C;\n",
              "      box-shadow: 0px 1px 3px 1px rgba(0, 0, 0, 0.15);\n",
              "      filter: drop-shadow(0px 1px 2px rgba(0, 0, 0, 0.3));\n",
              "      fill: #FFFFFF;\n",
              "    }\n",
              "  </style>\n",
              "\n",
              "    <script>\n",
              "      const buttonEl =\n",
              "        document.querySelector('#df-eb0e46de-d822-413b-adf1-fca796549ba5 button.colab-df-convert');\n",
              "      buttonEl.style.display =\n",
              "        google.colab.kernel.accessAllowed ? 'block' : 'none';\n",
              "\n",
              "      async function convertToInteractive(key) {\n",
              "        const element = document.querySelector('#df-eb0e46de-d822-413b-adf1-fca796549ba5');\n",
              "        const dataTable =\n",
              "          await google.colab.kernel.invokeFunction('convertToInteractive',\n",
              "                                                    [key], {});\n",
              "        if (!dataTable) return;\n",
              "\n",
              "        const docLinkHtml = 'Like what you see? Visit the ' +\n",
              "          '<a target=\"_blank\" href=https://colab.research.google.com/notebooks/data_table.ipynb>data table notebook</a>'\n",
              "          + ' to learn more about interactive tables.';\n",
              "        element.innerHTML = '';\n",
              "        dataTable['output_type'] = 'display_data';\n",
              "        await google.colab.output.renderOutput(dataTable, element);\n",
              "        const docLink = document.createElement('div');\n",
              "        docLink.innerHTML = docLinkHtml;\n",
              "        element.appendChild(docLink);\n",
              "      }\n",
              "    </script>\n",
              "  </div>\n",
              "\n",
              "\n",
              "<div id=\"df-e50ed1fa-ed4d-4a62-be43-286120eb2421\">\n",
              "  <button class=\"colab-df-quickchart\" onclick=\"quickchart('df-e50ed1fa-ed4d-4a62-be43-286120eb2421')\"\n",
              "            title=\"Suggest charts\"\n",
              "            style=\"display:none;\">\n",
              "\n",
              "<svg xmlns=\"http://www.w3.org/2000/svg\" height=\"24px\"viewBox=\"0 0 24 24\"\n",
              "     width=\"24px\">\n",
              "    <g>\n",
              "        <path d=\"M19 3H5c-1.1 0-2 .9-2 2v14c0 1.1.9 2 2 2h14c1.1 0 2-.9 2-2V5c0-1.1-.9-2-2-2zM9 17H7v-7h2v7zm4 0h-2V7h2v10zm4 0h-2v-4h2v4z\"/>\n",
              "    </g>\n",
              "</svg>\n",
              "  </button>\n",
              "\n",
              "<style>\n",
              "  .colab-df-quickchart {\n",
              "      --bg-color: #E8F0FE;\n",
              "      --fill-color: #1967D2;\n",
              "      --hover-bg-color: #E2EBFA;\n",
              "      --hover-fill-color: #174EA6;\n",
              "      --disabled-fill-color: #AAA;\n",
              "      --disabled-bg-color: #DDD;\n",
              "  }\n",
              "\n",
              "  [theme=dark] .colab-df-quickchart {\n",
              "      --bg-color: #3B4455;\n",
              "      --fill-color: #D2E3FC;\n",
              "      --hover-bg-color: #434B5C;\n",
              "      --hover-fill-color: #FFFFFF;\n",
              "      --disabled-bg-color: #3B4455;\n",
              "      --disabled-fill-color: #666;\n",
              "  }\n",
              "\n",
              "  .colab-df-quickchart {\n",
              "    background-color: var(--bg-color);\n",
              "    border: none;\n",
              "    border-radius: 50%;\n",
              "    cursor: pointer;\n",
              "    display: none;\n",
              "    fill: var(--fill-color);\n",
              "    height: 32px;\n",
              "    padding: 0;\n",
              "    width: 32px;\n",
              "  }\n",
              "\n",
              "  .colab-df-quickchart:hover {\n",
              "    background-color: var(--hover-bg-color);\n",
              "    box-shadow: 0 1px 2px rgba(60, 64, 67, 0.3), 0 1px 3px 1px rgba(60, 64, 67, 0.15);\n",
              "    fill: var(--button-hover-fill-color);\n",
              "  }\n",
              "\n",
              "  .colab-df-quickchart-complete:disabled,\n",
              "  .colab-df-quickchart-complete:disabled:hover {\n",
              "    background-color: var(--disabled-bg-color);\n",
              "    fill: var(--disabled-fill-color);\n",
              "    box-shadow: none;\n",
              "  }\n",
              "\n",
              "  .colab-df-spinner {\n",
              "    border: 2px solid var(--fill-color);\n",
              "    border-color: transparent;\n",
              "    border-bottom-color: var(--fill-color);\n",
              "    animation:\n",
              "      spin 1s steps(1) infinite;\n",
              "  }\n",
              "\n",
              "  @keyframes spin {\n",
              "    0% {\n",
              "      border-color: transparent;\n",
              "      border-bottom-color: var(--fill-color);\n",
              "      border-left-color: var(--fill-color);\n",
              "    }\n",
              "    20% {\n",
              "      border-color: transparent;\n",
              "      border-left-color: var(--fill-color);\n",
              "      border-top-color: var(--fill-color);\n",
              "    }\n",
              "    30% {\n",
              "      border-color: transparent;\n",
              "      border-left-color: var(--fill-color);\n",
              "      border-top-color: var(--fill-color);\n",
              "      border-right-color: var(--fill-color);\n",
              "    }\n",
              "    40% {\n",
              "      border-color: transparent;\n",
              "      border-right-color: var(--fill-color);\n",
              "      border-top-color: var(--fill-color);\n",
              "    }\n",
              "    60% {\n",
              "      border-color: transparent;\n",
              "      border-right-color: var(--fill-color);\n",
              "    }\n",
              "    80% {\n",
              "      border-color: transparent;\n",
              "      border-right-color: var(--fill-color);\n",
              "      border-bottom-color: var(--fill-color);\n",
              "    }\n",
              "    90% {\n",
              "      border-color: transparent;\n",
              "      border-bottom-color: var(--fill-color);\n",
              "    }\n",
              "  }\n",
              "</style>\n",
              "\n",
              "  <script>\n",
              "    async function quickchart(key) {\n",
              "      const quickchartButtonEl =\n",
              "        document.querySelector('#' + key + ' button');\n",
              "      quickchartButtonEl.disabled = true;  // To prevent multiple clicks.\n",
              "      quickchartButtonEl.classList.add('colab-df-spinner');\n",
              "      try {\n",
              "        const charts = await google.colab.kernel.invokeFunction(\n",
              "            'suggestCharts', [key], {});\n",
              "      } catch (error) {\n",
              "        console.error('Error during call to suggestCharts:', error);\n",
              "      }\n",
              "      quickchartButtonEl.classList.remove('colab-df-spinner');\n",
              "      quickchartButtonEl.classList.add('colab-df-quickchart-complete');\n",
              "    }\n",
              "    (() => {\n",
              "      let quickchartButtonEl =\n",
              "        document.querySelector('#df-e50ed1fa-ed4d-4a62-be43-286120eb2421 button');\n",
              "      quickchartButtonEl.style.display =\n",
              "        google.colab.kernel.accessAllowed ? 'block' : 'none';\n",
              "    })();\n",
              "  </script>\n",
              "</div>\n",
              "\n",
              "    </div>\n",
              "  </div>\n"
            ],
            "text/plain": [
              "   Label                                             Titulo  \\\n",
              "0      1  'the guardian ' va sánchez : 'europa necesita ...   \n",
              "1      0  revelan gobierno negocio liberación mireles ca...   \n",
              "2      1  'ahora nunca ' joan fuster estatuto valenciano...   \n",
              "3      1  iglesias alienta yolanda díaz , erc eh bildu n...   \n",
              "4      0  puigdemont : 'no ninguna tragedia repetición e...   \n",
              "\n",
              "                                         Descripcion      Fecha  \n",
              "0  diario británico publicó pasado jueves editori... 2023-06-02  \n",
              "1  revelan gobierno negocio liberación mireles ca... 2023-10-01  \n",
              "2  valencianismo convoca castelló fiesta grande c... 2022-04-25  \n",
              "3  política , igual negociar empresarios , negoci... 2022-01-03  \n",
              "4  entrevista punt avui , líder jxcat desdramatiz... 2018-03-09  "
            ]
          },
          "metadata": {},
          "output_type": "display_data"
        }
      ],
      "source": [
        "def limpiar_texto(texto):\n",
        "    texto = texto.lower()\n",
        "    tokens = word_tokenize(texto, language='spanish')\n",
        "\n",
        "    stop_words = set(stopwords.words('spanish'))\n",
        "    palabras_filtradas = [palabra for palabra in tokens if palabra not in stop_words]\n",
        "\n",
        "    texto_limpio = ' '.join(palabras_filtradas)\n",
        "    return texto_limpio\n",
        "\n",
        "\n",
        "df4['Titulo'] = df4[\"Titulo\"].apply(limpiar_texto)\n",
        "df4['Descripcion'] = df4[\"Descripcion\"].apply(limpiar_texto)\n",
        "\n",
        "display(df4.head(5))"
      ]
    },
    {
      "cell_type": "markdown",
      "metadata": {
        "id": "K3GYLtCC_sb4"
      },
      "source": [
        "- Despúes de lo anterior, vamos a implementar la lematización de texto, con eso mejoramos la normalización del lenguaje en el análisis de datos. Utilizamos spaCy para procesar en lotes y extraer la forma base de cada palabra, luego eliminamos signos de puntuación y caracteres acentuados, ya que los requeriamos para un correcto funcionamiento de spaCy."
      ]
    },
    {
      "cell_type": "code",
      "execution_count": null,
      "metadata": {
        "colab": {
          "base_uri": "https://localhost:8080/",
          "height": 292
        },
        "id": "zrxf0aE7VdaM",
        "outputId": "15a18c5c-62e6-4951-c647-83bdb9026d36"
      },
      "outputs": [
        {
          "data": {
            "application/vnd.google.colaboratory.intrinsic+json": {
              "summary": "{\n  \"name\": \"display(df5\",\n  \"rows\": 5,\n  \"fields\": [\n    {\n      \"column\": \"Label\",\n      \"properties\": {\n        \"dtype\": \"number\",\n        \"std\": 0,\n        \"min\": 0,\n        \"max\": 1,\n        \"num_unique_values\": 2,\n        \"samples\": [\n          0,\n          1\n        ],\n        \"semantic_type\": \"\",\n        \"description\": \"\"\n      }\n    },\n    {\n      \"column\": \"Titulo\",\n      \"properties\": {\n        \"dtype\": \"string\",\n        \"num_unique_values\": 5,\n        \"samples\": [\n          \"revelar gobierno negocio liberacion mirel cambio otorgar el perdon javier duarte\",\n          \"puigdemont no ninguno tragedia repeticion eleccion\"\n        ],\n        \"semantic_type\": \"\",\n        \"description\": \"\"\n      }\n    },\n    {\n      \"column\": \"Descripcion\",\n      \"properties\": {\n        \"dtype\": \"string\",\n        \"num_unique_values\": 5,\n        \"samples\": [\n          \"revelar gobierno negocio liberacion mirel cambio otorgar el perdon javier duarte mexico.- gran polemica asombro causar red social noticia lanzado revista politico asegurar liberacion doctor jose manuel mirel valverde number encarcelar poseer armamento exclusivo gobierno crear grupo autodefenso realidad tratar estrategia creado gobierno otorgar el perdon javier duarte idea dejar libertad ex gobernador veracruz argumentar si mirel poder salir prision duarte derecho recuperar libertad cualquiera ciudadano inocente periodista asegurar propio presidente republica enrique pena nieto ordenar mirel recuperar libertad ` ` estrategia otorgar el perdon javier ` ` senalar pueblo comience reclamar declarar inocente ex gobernador veracruz poner ejemplo liberacion jose manuel ` ` apaciguar gente ` ` ` ` caso mirel puesto ejemplo mayor injusticia actualidad gente siempre parecer inconcebible alguien crear grupo autodefensar proteger el crimar organizado ser encarcelar si peligroso delincuente ademas nadie creer version traficar droga poseer armamento militar asegurar solo argumento ejercito poder encarcelar el epn mucho presion capturo javier conocer secreto turbio pri saber cualquiera momento poder revelar el si gobierno hacer dejar el libertad enrique hacer posible liberar el pueblo amenacir hacer revolucion idea dejar pasar par semana persona olvidir caso duarte liberar el comiencir quejar el poner ejemplo asi liberar mirel javier ganar libertad tampoco comprobar delito ` ` relatar investigador mencionar incluso valverde saber estrategia embargo decidir callar poder salir carcel ` ` doctor declarado guarda rencor nadie mostrar feliz liberado hacer semana comenzar dar el trato preferencial penal finalmente revelar verdadero plan saber si mirel inocente saber cualquiera persona despues number ano encerrado recto aceptar ser liberar cambio ser usar cortina humo carcel vivir bien hombre honesto dar recuperar libertad mirel advertido si revelar volver ser encarcelar reputacion quedar sue el prestar el engano gobierno final orillado aceptar trato cierto uno semana duarte extraditado mexico menos number mes juez ordenar liberacion comenzar plan gobierno usar caso mirel justificar declarado inocente ` ` puntualizar\",\n          \"entrevista punt avui lider jxcat desdramatizado posible escenario tras traba judicial investidurar reticencia cup investir teo garcia egea catalunya acabar abocado eleccion\"\n        ],\n        \"semantic_type\": \"\",\n        \"description\": \"\"\n      }\n    },\n    {\n      \"column\": \"Fecha\",\n      \"properties\": {\n        \"dtype\": \"date\",\n        \"min\": \"2018-03-09 00:00:00\",\n        \"max\": \"2023-10-01 00:00:00\",\n        \"num_unique_values\": 5,\n        \"samples\": [\n          \"2023-10-01 00:00:00\",\n          \"2018-03-09 00:00:00\"\n        ],\n        \"semantic_type\": \"\",\n        \"description\": \"\"\n      }\n    }\n  ]\n}",
              "type": "dataframe"
            },
            "text/html": [
              "\n",
              "  <div id=\"df-7753e900-a699-4b6f-a53b-00a684504327\" class=\"colab-df-container\">\n",
              "    <div>\n",
              "<style scoped>\n",
              "    .dataframe tbody tr th:only-of-type {\n",
              "        vertical-align: middle;\n",
              "    }\n",
              "\n",
              "    .dataframe tbody tr th {\n",
              "        vertical-align: top;\n",
              "    }\n",
              "\n",
              "    .dataframe thead th {\n",
              "        text-align: right;\n",
              "    }\n",
              "</style>\n",
              "<table border=\"1\" class=\"dataframe\">\n",
              "  <thead>\n",
              "    <tr style=\"text-align: right;\">\n",
              "      <th></th>\n",
              "      <th>Label</th>\n",
              "      <th>Titulo</th>\n",
              "      <th>Descripcion</th>\n",
              "      <th>Fecha</th>\n",
              "    </tr>\n",
              "  </thead>\n",
              "  <tbody>\n",
              "    <tr>\n",
              "      <th>0</th>\n",
              "      <td>1</td>\n",
              "      <td>the guardiar ir sanchez europa necesitar apues...</td>\n",
              "      <td>diario britanico publicar pasado jueves editor...</td>\n",
              "      <td>2023-06-02</td>\n",
              "    </tr>\n",
              "    <tr>\n",
              "      <th>1</th>\n",
              "      <td>0</td>\n",
              "      <td>revelar gobierno negocio liberacion mirel camb...</td>\n",
              "      <td>revelar gobierno negocio liberacion mirel camb...</td>\n",
              "      <td>2023-10-01</td>\n",
              "    </tr>\n",
              "    <tr>\n",
              "      <th>2</th>\n",
              "      <td>1</td>\n",
              "      <td>ahora nunca joan fuster estatuto valenciano cu...</td>\n",
              "      <td>valencianismo convocar castellar fiesta grande...</td>\n",
              "      <td>2022-04-25</td>\n",
              "    </tr>\n",
              "    <tr>\n",
              "      <th>3</th>\n",
              "      <td>1</td>\n",
              "      <td>iglesia alentar yolanda diaz erc eh bildu nego...</td>\n",
              "      <td>politico igual negociar empresario negociar gr...</td>\n",
              "      <td>2022-01-03</td>\n",
              "    </tr>\n",
              "    <tr>\n",
              "      <th>4</th>\n",
              "      <td>0</td>\n",
              "      <td>puigdemont no ninguno tragedia repeticion elec...</td>\n",
              "      <td>entrevista punt avui lider jxcat desdramatizad...</td>\n",
              "      <td>2018-03-09</td>\n",
              "    </tr>\n",
              "  </tbody>\n",
              "</table>\n",
              "</div>\n",
              "    <div class=\"colab-df-buttons\">\n",
              "\n",
              "  <div class=\"colab-df-container\">\n",
              "    <button class=\"colab-df-convert\" onclick=\"convertToInteractive('df-7753e900-a699-4b6f-a53b-00a684504327')\"\n",
              "            title=\"Convert this dataframe to an interactive table.\"\n",
              "            style=\"display:none;\">\n",
              "\n",
              "  <svg xmlns=\"http://www.w3.org/2000/svg\" height=\"24px\" viewBox=\"0 -960 960 960\">\n",
              "    <path d=\"M120-120v-720h720v720H120Zm60-500h600v-160H180v160Zm220 220h160v-160H400v160Zm0 220h160v-160H400v160ZM180-400h160v-160H180v160Zm440 0h160v-160H620v160ZM180-180h160v-160H180v160Zm440 0h160v-160H620v160Z\"/>\n",
              "  </svg>\n",
              "    </button>\n",
              "\n",
              "  <style>\n",
              "    .colab-df-container {\n",
              "      display:flex;\n",
              "      gap: 12px;\n",
              "    }\n",
              "\n",
              "    .colab-df-convert {\n",
              "      background-color: #E8F0FE;\n",
              "      border: none;\n",
              "      border-radius: 50%;\n",
              "      cursor: pointer;\n",
              "      display: none;\n",
              "      fill: #1967D2;\n",
              "      height: 32px;\n",
              "      padding: 0 0 0 0;\n",
              "      width: 32px;\n",
              "    }\n",
              "\n",
              "    .colab-df-convert:hover {\n",
              "      background-color: #E2EBFA;\n",
              "      box-shadow: 0px 1px 2px rgba(60, 64, 67, 0.3), 0px 1px 3px 1px rgba(60, 64, 67, 0.15);\n",
              "      fill: #174EA6;\n",
              "    }\n",
              "\n",
              "    .colab-df-buttons div {\n",
              "      margin-bottom: 4px;\n",
              "    }\n",
              "\n",
              "    [theme=dark] .colab-df-convert {\n",
              "      background-color: #3B4455;\n",
              "      fill: #D2E3FC;\n",
              "    }\n",
              "\n",
              "    [theme=dark] .colab-df-convert:hover {\n",
              "      background-color: #434B5C;\n",
              "      box-shadow: 0px 1px 3px 1px rgba(0, 0, 0, 0.15);\n",
              "      filter: drop-shadow(0px 1px 2px rgba(0, 0, 0, 0.3));\n",
              "      fill: #FFFFFF;\n",
              "    }\n",
              "  </style>\n",
              "\n",
              "    <script>\n",
              "      const buttonEl =\n",
              "        document.querySelector('#df-7753e900-a699-4b6f-a53b-00a684504327 button.colab-df-convert');\n",
              "      buttonEl.style.display =\n",
              "        google.colab.kernel.accessAllowed ? 'block' : 'none';\n",
              "\n",
              "      async function convertToInteractive(key) {\n",
              "        const element = document.querySelector('#df-7753e900-a699-4b6f-a53b-00a684504327');\n",
              "        const dataTable =\n",
              "          await google.colab.kernel.invokeFunction('convertToInteractive',\n",
              "                                                    [key], {});\n",
              "        if (!dataTable) return;\n",
              "\n",
              "        const docLinkHtml = 'Like what you see? Visit the ' +\n",
              "          '<a target=\"_blank\" href=https://colab.research.google.com/notebooks/data_table.ipynb>data table notebook</a>'\n",
              "          + ' to learn more about interactive tables.';\n",
              "        element.innerHTML = '';\n",
              "        dataTable['output_type'] = 'display_data';\n",
              "        await google.colab.output.renderOutput(dataTable, element);\n",
              "        const docLink = document.createElement('div');\n",
              "        docLink.innerHTML = docLinkHtml;\n",
              "        element.appendChild(docLink);\n",
              "      }\n",
              "    </script>\n",
              "  </div>\n",
              "\n",
              "\n",
              "<div id=\"df-263d5737-bae9-47b2-bbe8-a5d25aba2c94\">\n",
              "  <button class=\"colab-df-quickchart\" onclick=\"quickchart('df-263d5737-bae9-47b2-bbe8-a5d25aba2c94')\"\n",
              "            title=\"Suggest charts\"\n",
              "            style=\"display:none;\">\n",
              "\n",
              "<svg xmlns=\"http://www.w3.org/2000/svg\" height=\"24px\"viewBox=\"0 0 24 24\"\n",
              "     width=\"24px\">\n",
              "    <g>\n",
              "        <path d=\"M19 3H5c-1.1 0-2 .9-2 2v14c0 1.1.9 2 2 2h14c1.1 0 2-.9 2-2V5c0-1.1-.9-2-2-2zM9 17H7v-7h2v7zm4 0h-2V7h2v10zm4 0h-2v-4h2v4z\"/>\n",
              "    </g>\n",
              "</svg>\n",
              "  </button>\n",
              "\n",
              "<style>\n",
              "  .colab-df-quickchart {\n",
              "      --bg-color: #E8F0FE;\n",
              "      --fill-color: #1967D2;\n",
              "      --hover-bg-color: #E2EBFA;\n",
              "      --hover-fill-color: #174EA6;\n",
              "      --disabled-fill-color: #AAA;\n",
              "      --disabled-bg-color: #DDD;\n",
              "  }\n",
              "\n",
              "  [theme=dark] .colab-df-quickchart {\n",
              "      --bg-color: #3B4455;\n",
              "      --fill-color: #D2E3FC;\n",
              "      --hover-bg-color: #434B5C;\n",
              "      --hover-fill-color: #FFFFFF;\n",
              "      --disabled-bg-color: #3B4455;\n",
              "      --disabled-fill-color: #666;\n",
              "  }\n",
              "\n",
              "  .colab-df-quickchart {\n",
              "    background-color: var(--bg-color);\n",
              "    border: none;\n",
              "    border-radius: 50%;\n",
              "    cursor: pointer;\n",
              "    display: none;\n",
              "    fill: var(--fill-color);\n",
              "    height: 32px;\n",
              "    padding: 0;\n",
              "    width: 32px;\n",
              "  }\n",
              "\n",
              "  .colab-df-quickchart:hover {\n",
              "    background-color: var(--hover-bg-color);\n",
              "    box-shadow: 0 1px 2px rgba(60, 64, 67, 0.3), 0 1px 3px 1px rgba(60, 64, 67, 0.15);\n",
              "    fill: var(--button-hover-fill-color);\n",
              "  }\n",
              "\n",
              "  .colab-df-quickchart-complete:disabled,\n",
              "  .colab-df-quickchart-complete:disabled:hover {\n",
              "    background-color: var(--disabled-bg-color);\n",
              "    fill: var(--disabled-fill-color);\n",
              "    box-shadow: none;\n",
              "  }\n",
              "\n",
              "  .colab-df-spinner {\n",
              "    border: 2px solid var(--fill-color);\n",
              "    border-color: transparent;\n",
              "    border-bottom-color: var(--fill-color);\n",
              "    animation:\n",
              "      spin 1s steps(1) infinite;\n",
              "  }\n",
              "\n",
              "  @keyframes spin {\n",
              "    0% {\n",
              "      border-color: transparent;\n",
              "      border-bottom-color: var(--fill-color);\n",
              "      border-left-color: var(--fill-color);\n",
              "    }\n",
              "    20% {\n",
              "      border-color: transparent;\n",
              "      border-left-color: var(--fill-color);\n",
              "      border-top-color: var(--fill-color);\n",
              "    }\n",
              "    30% {\n",
              "      border-color: transparent;\n",
              "      border-left-color: var(--fill-color);\n",
              "      border-top-color: var(--fill-color);\n",
              "      border-right-color: var(--fill-color);\n",
              "    }\n",
              "    40% {\n",
              "      border-color: transparent;\n",
              "      border-right-color: var(--fill-color);\n",
              "      border-top-color: var(--fill-color);\n",
              "    }\n",
              "    60% {\n",
              "      border-color: transparent;\n",
              "      border-right-color: var(--fill-color);\n",
              "    }\n",
              "    80% {\n",
              "      border-color: transparent;\n",
              "      border-right-color: var(--fill-color);\n",
              "      border-bottom-color: var(--fill-color);\n",
              "    }\n",
              "    90% {\n",
              "      border-color: transparent;\n",
              "      border-bottom-color: var(--fill-color);\n",
              "    }\n",
              "  }\n",
              "</style>\n",
              "\n",
              "  <script>\n",
              "    async function quickchart(key) {\n",
              "      const quickchartButtonEl =\n",
              "        document.querySelector('#' + key + ' button');\n",
              "      quickchartButtonEl.disabled = true;  // To prevent multiple clicks.\n",
              "      quickchartButtonEl.classList.add('colab-df-spinner');\n",
              "      try {\n",
              "        const charts = await google.colab.kernel.invokeFunction(\n",
              "            'suggestCharts', [key], {});\n",
              "      } catch (error) {\n",
              "        console.error('Error during call to suggestCharts:', error);\n",
              "      }\n",
              "      quickchartButtonEl.classList.remove('colab-df-spinner');\n",
              "      quickchartButtonEl.classList.add('colab-df-quickchart-complete');\n",
              "    }\n",
              "    (() => {\n",
              "      let quickchartButtonEl =\n",
              "        document.querySelector('#df-263d5737-bae9-47b2-bbe8-a5d25aba2c94 button');\n",
              "      quickchartButtonEl.style.display =\n",
              "        google.colab.kernel.accessAllowed ? 'block' : 'none';\n",
              "    })();\n",
              "  </script>\n",
              "</div>\n",
              "\n",
              "    </div>\n",
              "  </div>\n"
            ],
            "text/plain": [
              "   Label                                             Titulo  \\\n",
              "0      1  the guardiar ir sanchez europa necesitar apues...   \n",
              "1      0  revelar gobierno negocio liberacion mirel camb...   \n",
              "2      1  ahora nunca joan fuster estatuto valenciano cu...   \n",
              "3      1  iglesia alentar yolanda diaz erc eh bildu nego...   \n",
              "4      0  puigdemont no ninguno tragedia repeticion elec...   \n",
              "\n",
              "                                         Descripcion      Fecha  \n",
              "0  diario britanico publicar pasado jueves editor... 2023-06-02  \n",
              "1  revelar gobierno negocio liberacion mirel camb... 2023-10-01  \n",
              "2  valencianismo convocar castellar fiesta grande... 2022-04-25  \n",
              "3  politico igual negociar empresario negociar gr... 2022-01-03  \n",
              "4  entrevista punt avui lider jxcat desdramatizad... 2018-03-09  "
            ]
          },
          "metadata": {},
          "output_type": "display_data"
        }
      ],
      "source": [
        "def lematizar(texts):\n",
        "    docs = nlp.pipe(texts, batch_size=500)\n",
        "    textos_lematizados = [\" \".join([token.lemma_ for token in doc if not token.is_punct])\n",
        "                         for doc in docs]\n",
        "    return [unicodedata.normalize('NFKD', texto).encode('ascii', 'ignore').decode('utf-8')\n",
        "            for texto in textos_lematizados]\n",
        "\n",
        "df5 = df4.copy()\n",
        "df5['Titulo'] = lematizar(df5['Titulo'])\n",
        "df5['Descripcion'] = lematizar(df5['Descripcion'])\n",
        "\n",
        "display(df5.head(5))"
      ]
    },
    {
      "cell_type": "markdown",
      "metadata": {
        "id": "olLqI8D5-5wa"
      },
      "source": [
        "## 3.2 Vectorización"
      ]
    },
    {
      "cell_type": "code",
      "execution_count": null,
      "metadata": {
        "colab": {
          "base_uri": "https://localhost:8080/"
        },
        "id": "z7Q_p1YIOUot",
        "outputId": "012bcf20-bf7d-43ab-e7c6-60d7ebfb2c66"
      },
      "outputs": [
        {
          "name": "stdout",
          "output_type": "stream",
          "text": [
            "   abajo  abalo  abalos  abandona  abandonado  abandonar  abandono  abascal  \\\n",
            "0    0.0    0.0     0.0       0.0         0.0        0.0       0.0      0.0   \n",
            "1    0.0    0.0     0.0       0.0         0.0        0.0       0.0      0.0   \n",
            "2    0.0    0.0     0.0       0.0         0.0        0.0       0.0      0.0   \n",
            "3    0.0    0.0     0.0       0.0         0.0        0.0       0.0      0.0   \n",
            "4    0.0    0.0     0.0       0.0         0.0        0.0       0.0      0.0   \n",
            "\n",
            "   abc  abdicacion  abertzale  abiertamente  ...  zamoro  zapatero  zaplan  \\\n",
            "0  0.0         0.0        0.0           0.0  ...     0.0       0.0     0.0   \n",
            "1  0.0         0.0        0.0           0.0  ...     0.0       0.0     0.0   \n",
            "2  0.0         0.0        0.0           0.0  ...     0.0       0.0     0.0   \n",
            "3  0.0         0.0        0.0           0.0  ...     0.0       0.0     0.0   \n",
            "4  0.0         0.0        0.0           0.0  ...     0.0       0.0     0.0   \n",
            "\n",
            "   zaplana  zaragoza  zaragozar  zarzalejos  zarzuela  zendal  zerolo  zoido  \\\n",
            "0      0.0       0.0        0.0         0.0       0.0     0.0     0.0    0.0   \n",
            "1      0.0       0.0        0.0         0.0       0.0     0.0     0.0    0.0   \n",
            "2      0.0       0.0        0.0         0.0       0.0     0.0     0.0    0.0   \n",
            "3      0.0       0.0        0.0         0.0       0.0     0.0     0.0    0.0   \n",
            "4      0.0       0.0        0.0         0.0       0.0     0.0     0.0    0.0   \n",
            "\n",
            "   zona  \n",
            "0   0.0  \n",
            "1   0.0  \n",
            "2   0.0  \n",
            "3   0.0  \n",
            "4   0.0  \n",
            "\n",
            "[5 rows x 5000 columns]\n"
          ]
        }
      ],
      "source": [
        "from sklearn.feature_extraction.text import TfidfVectorizer\n",
        "\n",
        "vectorizer = TfidfVectorizer(token_pattern=r\"(?u)\\b[a-zA-ZáéíóúüñÁÉÍÓÚÜÑ]{2,}\\b\", max_features=5000)\n",
        "X_tfidf = vectorizer.fit_transform(df5[\"Titulo\"] + \" \" + df5[\"Descripcion\"])\n",
        "\n",
        "# Convertir a DataFrame\n",
        "tfidf_df = pd.DataFrame(X_tfidf.toarray(), columns=vectorizer.get_feature_names_out())\n",
        "print(tfidf_df.head())"
      ]
    },
    {
      "cell_type": "markdown",
      "metadata": {
        "id": "s6ngH5wROLj_"
      },
      "source": [
        "## 4. Reportes Automáticos para realizar el entendimiento de los datos\n",
        "\n",
        "Para los reportes automáticos, se puede usar al herramienta de pandas profiling.\n",
        "\n",
        "\n",
        "Para cada columna, genera las siguientes estadísticas, si son relevantes para el tipo de columna, se presentan en un informe HTML interactivo:\n",
        "\n",
        "1. Inferencia de tipo: detecta los tipos de columnas en un dataframe.\n",
        "2. Esenciales: tipo, valores únicos, valores faltantes.\n",
        "3. Estadísticas de cuantiles como valor mínimo, Q1, mediana, Q3, máximo, rango, rango intercuartílico. Esta opción es bastante útil para identificar datos atípicos.\n",
        "4. Estadísticas descriptivas como media, moda, desviación estándar, suma, desviación absoluta mediana, coeficiente de variación, curtosis, asimetría.\n",
        "5. Valores más frecuentes.\n",
        "6. Histogramas.\n",
        "7. Correlaciones destacando variables altamente correlacionadas, matrices de Spearman, Pearson y Kendall. Esto permite descubrir relaciones entre atributos.\n",
        "8. Matriz de valores faltantes, recuento, mapa de calor y dendrograma de valores faltantes\n",
        "\n",
        "Tomado de la librería oficial de pandas_profiling en [github](https://github.com/pandas-profiling/pandas-profiling)\n",
        "\n",
        "Lo más importante al utilizar esta librería es recordar que lo fundamental son los análisis que hagamos sobre estos reportes."
      ]
    },
    {
      "cell_type": "code",
      "execution_count": null,
      "metadata": {
        "id": "sOJpZTlEOLj_"
      },
      "outputs": [],
      "source": [
        "import pandas_profiling\n",
        "\n",
        "profiling =pandas_profiling.ProfileReport(df5)\n",
        "profiling"
      ]
    },
    {
      "cell_type": "code",
      "execution_count": null,
      "metadata": {
        "id": "NJl64nRNOLj_"
      },
      "outputs": [],
      "source": [
        "profiling.to_file(\"Proyecto1_db_profile.html\")"
      ]
    },
    {
      "cell_type": "markdown",
      "metadata": {
        "id": "4PRtm9l13GDA"
      },
      "source": [
        "# 4. Modelamiento"
      ]
    },
    {
      "cell_type": "markdown",
      "metadata": {
        "id": "alMPLUTsOIcR"
      },
      "source": [
        "## 4.1 Modelo basado en reglas (RIPPER)"
      ]
    },
    {
      "cell_type": "markdown",
      "metadata": {
        "id": "CJ24p4dz3GDA"
      },
      "source": [
        "Para clasificar noticias falsas utilizando un modelo basado en reglas, se escogio el algoritmo RIPPER (Repeated Incremental Pruning to Produce Error Reduction), ya que es una opción eficiente y escalable para conjuntos de datos grandes, como el de 60,000 registros.\n",
        "\n",
        "Algunas de sus principales ventajas son:  \n",
        "\n",
        "- **Simplicidad y explicabilidad**: Genera reglas fácilmente interpretables, lo que permite comprender mejor los patrones asociados a las noticias falsas.  \n",
        "- **Eficiencia en grandes volúmenes de datos**: Está diseñado para procesar grandes cantidades de información sin riesgo de sobreajuste.  \n",
        "- **Manejo de datos desbalanceados**: Puede ajustar la cobertura de las reglas para reducir el sesgo hacia la clase mayoritaria, mejorando así la precisión en la clasificación."
      ]
    },
    {
      "cell_type": "markdown",
      "metadata": {
        "id": "YxyiG2tB3GDA"
      },
      "source": [
        "### Imports"
      ]
    },
    {
      "cell_type": "code",
      "execution_count": null,
      "metadata": {
        "id": "ldYxMON93GDA"
      },
      "outputs": [],
      "source": [
        "import pandas as pd\n",
        "import numpy as np\n",
        "from sklearn.model_selection import train_test_split\n",
        "from sklearn.decomposition import PCA\n",
        "from sklearn.metrics import classification_report, confusion_matrix\n",
        "import seaborn as sns\n",
        "import matplotlib.pyplot as plt\n",
        "\n",
        "%pip install wittgenstein\n",
        "import wittgenstein as lw"
      ]
    },
    {
      "cell_type": "markdown",
      "metadata": {
        "id": "AmHOJzmo3GDB"
      },
      "source": [
        "### Modelo"
      ]
    },
    {
      "cell_type": "code",
      "execution_count": null,
      "metadata": {
        "collapsed": true,
        "id": "DM4WvfQb4R-_"
      },
      "outputs": [],
      "source": [
        "\n",
        "pca = PCA(n_components=100, random_state=42)\n",
        "X_reduced = pca.fit_transform(tfidf_df)\n",
        "\n",
        "X_train, X_test, y_train, y_test = train_test_split(\n",
        "    X_reduced, df5['Label'], test_size=0.2, random_state=42)\n",
        "\n",
        "X_train_sample = X_train\n",
        "y_train_sample = y_train\n",
        "\n",
        "print(y_train_sample.value_counts())\n",
        "pos_class = 1 if y_train_sample.value_counts().idxmax() == 1 else 0\n",
        "\n",
        "# Entrenar modelo RIPPER\n",
        "ripper_classifier = lw.RIPPER()\n",
        "ripper_classifier.fit(X_train_sample, y_train_sample, pos_class=pos_class)\n",
        "\n",
        "# Hacer predicciones\n",
        "y_pred = ripper_classifier.predict(X_test)"
      ]
    },
    {
      "cell_type": "code",
      "execution_count": null,
      "metadata": {
        "id": "RS-8BT3trjWu"
      },
      "outputs": [],
      "source": [
        "# Matriz de confusión\n",
        "cm = confusion_matrix(y_test, y_pred)\n",
        "plt.figure(figsize=(8, 6))\n",
        "sns.heatmap(cm, annot=True, fmt='d', cmap='Blues',\n",
        "            xticklabels=['Predicted 0', 'Predicted 1'],\n",
        "            yticklabels=['Actual 0', 'Actual 1'])\n",
        "plt.title('Confusion Matrix')\n",
        "plt.xlabel('Predicted Label')\n",
        "plt.ylabel('True Label')\n",
        "plt.show()"
      ]
    },
    {
      "cell_type": "code",
      "execution_count": null,
      "metadata": {
        "id": "ofhgvZrcrcS-"
      },
      "outputs": [],
      "source": [
        "# Evaluar modelo\n",
        "print(classification_report(y_test, y_pred))"
      ]
    },
    {
      "cell_type": "markdown",
      "metadata": {
        "id": "ixiNSgqUJa6w"
      },
      "source": [
        "## 4.2 Modelo Basado en Arboles de Decisión (XGBoost)"
      ]
    },
    {
      "cell_type": "code",
      "execution_count": null,
      "metadata": {
        "id": "OjHdH1adJcIv"
      },
      "outputs": [],
      "source": [
        "%pip install xgboost\n",
        "import xgboost as xgb\n",
        "from sklearn.model_selection import train_test_split\n",
        "from sklearn.metrics import accuracy_score, classification_report, confusion_matrix\n",
        "import matplotlib.pyplot as plt\n",
        "import seaborn as sns\n",
        "\n",
        "# Dividir el conjunto de datos en entrenamiento y prueba\n",
        "X_train, X_test, y_train, y_test = train_test_split(\n",
        "    tfidf_df, df5['Label'], test_size=0.2, random_state=42)\n",
        "\n",
        "# Crear el modelo XGBoost\n",
        "xgb_model = xgb.XGBClassifier(\n",
        "    n_estimators=100,\n",
        "    learning_rate=0.1,\n",
        "    max_depth=6,\n",
        "    random_state=42\n",
        ")\n",
        "\n",
        "\n",
        "# Entrenar el modelo\n",
        "xgb_model.fit(X_train, y_train)\n",
        "\n",
        "# Hacer predicciones\n",
        "y_pred = xgb_model.predict(X_test)\n",
        "\n",
        "\n",
        "# Matriz de confusión\n",
        "cm = confusion_matrix(y_test, y_pred)\n",
        "plt.figure(figsize=(8, 6))\n",
        "sns.heatmap(cm, annot=True, fmt='d', cmap='Blues',\n",
        "            xticklabels=['Predicted 0', 'Predicted 1'],\n",
        "            yticklabels=['Actual 0', 'Actual 1'])\n",
        "\n",
        "\n",
        "# Evaluar el modelo\n",
        "print(classification_report(y_test, y_pred))"
      ]
    },
    {
      "cell_type": "markdown",
      "metadata": {
        "id": "7Ng4jFzXJg_3"
      },
      "source": [
        "## 4.3 Regresión logística - Andres Felipe Garcia"
      ]
    },
    {
      "cell_type": "markdown",
      "metadata": {
        "id": "xQl8o5IlJuYo"
      },
      "source": [
        "### 4.3.1 Descripción"
      ]
    },
    {
      "cell_type": "markdown",
      "metadata": {
        "id": "4ICGKBy8M1sh"
      },
      "source": [
        "Elegimos Regresión Logística para la clasificación de noticias porque es un modelo lineal eficiente y adecuado para tareas de clasificación binaria o multiclase, especialmente cuando el conjunto de datos es grande y tiene representaciones de texto vectorizadas como TF-IDF.\n",
        "\n",
        "Este algoritmo estima la probabilidad de que una noticia pertenezca a una categoría específica aplicando la función sigmoide a una combinación lineal de características. Su principal ventaja es la interpretabilidad y su capacidad para manejar conjuntos de datos de alta dimensión sin requerir grandes recursos computacionales.\n",
        "\n",
        "Además, en combinación con regularización L1 y L2, la regresión logística puede manejar problemas de sobreajuste al reducir la influencia de características irrelevantes. Su compatibilidad con técnicas de validación cruzada y búsqueda de hiperparámetros permite optimizar su rendimiento en la clasificación de noticias."
      ]
    },
    {
      "cell_type": "markdown",
      "metadata": {
        "id": "NVKJdPbIJ4HR"
      },
      "source": [
        "### 4.3.2 Modelo"
      ]
    },
    {
      "cell_type": "code",
      "execution_count": null,
      "metadata": {
        "id": "o8tsDTMdKz7I"
      },
      "outputs": [],
      "source": [
        "from sklearn import preprocessing\n",
        "from sklearn.model_selection import train_test_split\n",
        "from sklearn.linear_model import LogisticRegression\n",
        "from sklearn.metrics import classification_report\n",
        "from sklearn.model_selection import GridSearchCV"
      ]
    },
    {
      "cell_type": "code",
      "execution_count": null,
      "metadata": {
        "colab": {
          "base_uri": "https://localhost:8080/"
        },
        "id": "WJXYt_qAKIbP",
        "outputId": "c16f9c75-7409-4540-95e7-609ec8ad16d2"
      },
      "outputs": [
        {
          "name": "stdout",
          "output_type": "stream",
          "text": [
            "              precision    recall  f1-score   support\n",
            "\n",
            "           0       0.94      0.81      0.87      4137\n",
            "           1       0.88      0.97      0.92      6184\n",
            "\n",
            "    accuracy                           0.90     10321\n",
            "   macro avg       0.91      0.89      0.90     10321\n",
            "weighted avg       0.91      0.90      0.90     10321\n",
            "\n"
          ]
        }
      ],
      "source": [
        "X = tfidf_df\n",
        "y = df5['Label']\n",
        "\n",
        "X_train, X_test, y_train, y_test = train_test_split(X, y, test_size=0.2, random_state=42)\n",
        "\n",
        "# Modelo\n",
        "model_R = LogisticRegression()\n",
        "model_R.fit(X_train, y_train)\n",
        "predictions_R = model_R.predict(X_test)\n",
        "\n",
        "# Evaluación del modelo\n",
        "cr1 = classification_report(y_test, predictions_R)\n",
        "print(cr1)\n"
      ]
    },
    {
      "cell_type": "markdown",
      "metadata": {
        "id": "mwll-jL1J8i2"
      },
      "source": [
        "### 4.3.3 Validación cruzada"
      ]
    },
    {
      "cell_type": "markdown",
      "metadata": {
        "id": "uaflym64LQlP"
      },
      "source": [
        "- En este apartado, se implementa un modelo de regresión logística utilizando búsqueda en malla (GridSearchCV) para optimizar sus hiperparámetros. Se define una cuadrícula con distintos valores de la penalización\n",
        "𝐶\n",
        "C y tipos de regularización (\n",
        "𝐿\n",
        "1\n",
        "L1 y\n",
        "𝐿\n",
        "2\n",
        "L2), permitiendo encontrar la mejor combinación mediante validación cruzada con cinco particiones. El modelo utiliza el solver \"liblinear\" para garantizar compatibilidad con ambas penalizaciones y se entrena con un máximo de 1000 iteraciones. Finalmente, se muestran los mejores hiperparámetros y la precisión obtenida."
      ]
    },
    {
      "cell_type": "code",
      "execution_count": null,
      "metadata": {
        "colab": {
          "base_uri": "https://localhost:8080/"
        },
        "id": "RZupfdFcKI6A",
        "outputId": "65bbb043-0a19-42a1-ae93-7855996380d2"
      },
      "outputs": [
        {
          "name": "stdout",
          "output_type": "stream",
          "text": [
            "Fitting 5 folds for each of 10 candidates, totalling 50 fits\n",
            "Mejores parámetros: {'C': 1.0, 'penalty': 'l1'}\n",
            "Mejor precisión: 0.9132814957100059\n"
          ]
        }
      ],
      "source": [
        "grid = {\"C\": np.logspace(-3, 3, 5), \"penalty\": [\"l1\", \"l2\"]}\n",
        "model = LogisticRegression(solver=\"liblinear\", max_iter=1000)\n",
        "grid_search_lr = GridSearchCV(model, grid, scoring=\"accuracy\", cv=5, verbose=1)\n",
        "grid_search_lr.fit(X_train, y_train)\n",
        "\n",
        "print(\"Mejores parámetros:\", grid_search_lr.best_params_)\n",
        "print(\"Mejor precisión:\", grid_search_lr.best_score_)"
      ]
    },
    {
      "cell_type": "markdown",
      "metadata": {
        "id": "yxugk0czLZCo"
      },
      "source": [
        "- En este apartado, se reentrena el modelo de regresión logística utilizando los mejores hiperparámetros encontrados en la búsqueda en malla. Luego, se evalúa su desempeño con el conjunto de prueba y se generan predicciones. Finalmente, se imprime el reporte de clasificación, que proporciona métricas clave como precisión, recall y F1-score para analizar el rendimiento del modelo."
      ]
    },
    {
      "cell_type": "code",
      "execution_count": null,
      "metadata": {
        "colab": {
          "base_uri": "https://localhost:8080/"
        },
        "id": "RBi5T2k6LrGm",
        "outputId": "33f5b48c-22f9-487e-f8cf-4611e57dc7cb"
      },
      "outputs": [
        {
          "name": "stdout",
          "output_type": "stream",
          "text": [
            "              precision    recall  f1-score   support\n",
            "\n",
            "           0       0.94      0.84      0.89      4137\n",
            "           1       0.90      0.96      0.93      6184\n",
            "\n",
            "    accuracy                           0.91     10321\n",
            "   macro avg       0.92      0.90      0.91     10321\n",
            "weighted avg       0.92      0.91      0.91     10321\n",
            "\n"
          ]
        }
      ],
      "source": [
        "from sklearn.metrics import classification_report\n",
        "\n",
        "best_params = grid_search_lr.best_params_\n",
        "best_model = LogisticRegression(C=best_params[\"C\"], penalty=best_params[\"penalty\"], solver=\"liblinear\", max_iter=1000)\n",
        "best_model.fit(X_train, y_train)\n",
        "\n",
        "predictions_best = best_model.predict(X_test)\n",
        "\n",
        "print(classification_report(y_test, predictions_best))\n"
      ]
    },
    {
      "cell_type": "markdown",
      "metadata": {
        "id": "UGmORfJZKB-A"
      },
      "source": [
        "### 4.3.4 Matriz de confusión"
      ]
    },
    {
      "cell_type": "code",
      "execution_count": null,
      "metadata": {
        "colab": {
          "base_uri": "https://localhost:8080/",
          "height": 410
        },
        "id": "2KmxaLITJnqn",
        "outputId": "d03ea4d2-a4a9-46ee-92de-d56703739288"
      },
      "outputs": [
        {
          "data": {
            "image/png": "[encoded data removed]",
            "text/plain": [
              "<Figure size 600x400 with 2 Axes>"
            ]
          },
          "metadata": {},
          "output_type": "display_data"
        }
      ],
      "source": [
        "from sklearn.metrics import confusion_matrix\n",
        "\n",
        "cm = confusion_matrix(y_test, predictions_best)\n",
        "\n",
        "# Visualizar la matriz de confusión\n",
        "plt.figure(figsize=(6, 4))\n",
        "sns.heatmap(cm, annot=True, fmt=\"d\", cmap=\"Blues\", xticklabels=np.unique(y_test), yticklabels=np.unique(y_test))\n",
        "plt.xlabel(\"Predicciones\")\n",
        "plt.ylabel(\"Valores Reales\")\n",
        "plt.title(\"Matriz de Confusión\")\n",
        "plt.show()\n"
      ]
    },
    {
      "cell_type": "markdown",
      "metadata": {
        "id": "TnSG7QiYQPz4"
      },
      "source": [
        "# 5. Escoger un modelo con base en el desempeño y etiquetar"
      ]
    },
    {
      "cell_type": "markdown",
      "metadata": {
        "id": "6Xux6WSpQav5"
      },
      "source": [
        "Después de realizar la validación cruzada, el modelo de Regresión Logística obtuvo un F1-score de 0.91, lo que indica un buen equilibrio entre precisión y exhaustividad en la clasificación de noticias.\n",
        "\n",
        "Comparado con los modelos RIPPER (modelo basado en reglas) y XGBoost (árboles de decisión), la elección del modelo se basó en el desempeño medido con esta métrica. La regresión logística demostró ser eficiente, interpretable y con un rendimiento sobresaliente, por lo que fue seleccionada como el mejor modelo para la tarea."
      ]
    },
    {
      "cell_type": "code",
      "execution_count": null,
      "metadata": {
        "id": "x7iVZNxZQVGy"
      },
      "outputs": [],
      "source": [
        "# Suponiendo que ya tienes el DataFrame df y las predicciones del modelo\n",
        "df5[\"Label\"] = best_model.predict(X_tfidf)\n",
        "\n",
        "# Guardar el DataFrame con la nueva columna en un CSV\n",
        "df.to_csv(\"df_etiquetado.csv\", index=False, encoding=\"utf-8\")\n",
        "\n",
        "print(\"Archivo guardado como df_etiquetado.csv\")"
      ]
    }
  ],
  "metadata": {
    "colab": {
      "collapsed_sections": [
        "UtfQojAF3PEB",
        "s6ngH5wROLj_",
        "alMPLUTsOIcR",
        "ixiNSgqUJa6w"
      ],
      "provenance": []
    },
    "kernelspec": {
      "display_name": "Python 3",
      "language": "python",
      "name": "python3"
    },
    "language_info": {
      "codemirror_mode": {
        "name": "ipython",
        "version": 3
      },
      "file_extension": ".py",
      "mimetype": "text/x-python",
      "name": "python",
      "nbconvert_exporter": "python",
      "pygments_lexer": "ipython3",
      "version": "3.11.9"
    }
  },
  "nbformat": 4,
  "nbformat_minor": 0
}
